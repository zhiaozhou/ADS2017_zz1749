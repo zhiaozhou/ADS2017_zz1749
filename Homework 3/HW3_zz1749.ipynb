{
 "cells": [
  {
   "cell_type": "markdown",
   "metadata": {},
   "source": [
    "# ADS, fall 2017. Homework 3"
   ]
  },
  {
   "cell_type": "code",
   "execution_count": 147,
   "metadata": {},
   "outputs": [
    {
     "name": "stdout",
     "output_type": "stream",
     "text": [
      "Populating the interactive namespace from numpy and matplotlib\n"
     ]
    }
   ],
   "source": [
    "import pandas as pd\n",
    "import numpy as np\n",
    "import matplotlib.pyplot as plt\n",
    "%pylab inline\n",
    "import statsmodels.formula.api as smf\n",
    "import scipy.stats\n",
    "from sklearn.model_selection import train_test_split\n",
    "from scipy.stats import t\n",
    "from sklearn.decomposition import PCA\n",
    "from collections import OrderedDict"
   ]
  },
  {
   "cell_type": "markdown",
   "metadata": {},
   "source": [
    "### Q1 (10 points). P-values and hypothesis testing\n",
    "Suppose that a multiple regression with 10 regressors gave the following p-values for each of them (the value below are NOT in percents yet):\n",
    "\n",
    "0.02, 0.1, 3e-15, 0.5, 0.04, 0.001, 0.06, 0.03, 0.045, 5e-3.\n",
    "\n",
    "For how many regressors you would reject the null-hypothesis that their corresponding regression coefficient is zero? Please explain."
   ]
  },
  {
   "cell_type": "markdown",
   "metadata": {},
   "source": [
    "### H0 is the coefficient is zero and the significance value is set to be 95%\n",
    "### Therefore, any regressor with their p-value smaller than 0.05 would be rejected which is 0.02, 3e-15, 0.04, 0.001, 0.03, 0.045, 5e-3\n",
    "### So there are 7 regressors that I would reject the H0"
   ]
  },
  {
   "cell_type": "markdown",
   "metadata": {},
   "source": [
    "### Q2 (15 points). Confidence intervals\n",
    "Assume we perform a regression and get an estimate 100 for the slope coefficient for the regressor of interest. Select all statements that can not be true for its confidence intervals:\n",
    "\n",
    "a. 99%-conficence interval is [99.99,100.01]\n",
    "\n",
    "b. 95%-confidence interval is [-300, 300]\n",
    "\n",
    "c. 98%-confidence interval is [95, 105], while 90%-confidence interval is [90, 110].\n",
    "\n",
    "d. 99%-confidence interval is [99,100]\n",
    "\n",
    "Explain your choices"
   ]
  },
  {
   "cell_type": "markdown",
   "metadata": {},
   "source": [
    "# b,c,d"
   ]
  },
  {
   "cell_type": "markdown",
   "metadata": {},
   "source": [
    "## for b, the sum of the left and right side of the confidence interval should be two times the estimate which is 200\n",
    "## for c, if the significance level gets bigger, the confidence interval should be wider instead of being narrower\n",
    "## for d, the right side of the confidence interval should be bigger than the estimate instead of equaling"
   ]
  },
  {
   "cell_type": "markdown",
   "metadata": {},
   "source": [
    "### Q3 (15 points). \n",
    "\n",
    "A linear regression model is fit over a dataset with 181 observations and 'n' features. The estimate for the regression coefficient for one of the features is 911.0964 while its standard error is 344.185.\n",
    "\n",
    "What will be the \n",
    "a) 95, 99 and 90% confidence intervals? \n",
    "b) p-values?"
   ]
  },
  {
   "cell_type": "markdown",
   "metadata": {},
   "source": [
    "### (1) If we are going to use t-distribution"
   ]
  },
  {
   "cell_type": "code",
   "execution_count": 148,
   "metadata": {
    "collapsed": true
   },
   "outputs": [],
   "source": [
    "se = 344.185\n",
    "w = 911.0964\n",
    "N = 181"
   ]
  },
  {
   "cell_type": "markdown",
   "metadata": {},
   "source": [
    "a)\n",
    "For significance level of 95%:\n",
    "$$\n",
    "[911.0964-t_{0.05/2,\\;df = 181-n}*344.185,\\;911.0964+t_{0.05/2,\\;df = 181-n}*344.185]\n",
    "$$"
   ]
  },
  {
   "cell_type": "markdown",
   "metadata": {},
   "source": [
    "For significance level of 99%:\n",
    "$$\n",
    "[911.0964-t_{0.01/2,\\;df = 181-n}*344.185,\\;911.0964+t_{0.01/2,\\;df = 181-n}*344.185]\n",
    "$$"
   ]
  },
  {
   "cell_type": "markdown",
   "metadata": {},
   "source": [
    "For significance level of 80%:\n",
    "$$\n",
    "[911.0964-t_{0.20/2,\\;df = 181-n}*344.185,\\;911.0964+\\;t_{0.20/2,\\;df = 181-n}*344.185]\n",
    "$$"
   ]
  },
  {
   "cell_type": "markdown",
   "metadata": {},
   "source": [
    "b) p-values: "
   ]
  },
  {
   "cell_type": "markdown",
   "metadata": {},
   "source": [
    "To calculate the p-value, we have the formula as below\n",
    "$$\n",
    "P(|z_j|\\leq t_{\\alpha/2})=1-\\alpha\n",
    "$$\n",
    "where z equas to \n",
    "$$\n",
    "\\frac{w_j-\\hat{w_j}}{\\hat{\\sigma} \\sqrt{h_j}}\n",
    "$$\n",
    "So in this case z is \n",
    "$$\n",
    "|\\frac{0-911.0964}{344.185}| = 2.647112454058137\n",
    "$$\n",
    "then we could use scipy.stats.t.pdf to calculate our p-value which would be:"
   ]
  },
  {
   "cell_type": "markdown",
   "metadata": {},
   "source": [
    "$$\n",
    "2* (1-scipy.stats.t.cdf(2.647112454058137, 181-n))\n",
    "$$"
   ]
  },
  {
   "cell_type": "markdown",
   "metadata": {},
   "source": [
    "for example, if here we have 10 features, then our p-value would be:"
   ]
  },
  {
   "cell_type": "code",
   "execution_count": 149,
   "metadata": {},
   "outputs": [
    {
     "data": {
      "text/plain": [
       "0.0088767571596231054"
      ]
     },
     "execution_count": 149,
     "metadata": {},
     "output_type": "execute_result"
    }
   ],
   "source": [
    "2*(1-scipy.stats.t.cdf(2.647112454058137,171))"
   ]
  },
  {
   "cell_type": "markdown",
   "metadata": {},
   "source": [
    "### (2)"
   ]
  },
  {
   "cell_type": "code",
   "execution_count": 150,
   "metadata": {},
   "outputs": [
    {
     "name": "stdout",
     "output_type": "stream",
     "text": [
      "for significance level 95.0% : the confidence interval is : (236.50619598108153, 1585.6866040189184) and p-value is 0.00811823517027\n",
      "for significance level 99.0% : the confidence interval is : (24.534591158021726, 1797.6582088419782) and p-value is 0.00811823517027\n",
      "for significance level 90.0% : the confidence interval is : (344.96245440770736, 1477.2303455922925) and p-value is 0.00811823517027\n"
     ]
    }
   ],
   "source": [
    "for i in [0.95,0.99,0.90]: \n",
    "    print('for significance level {}% : the confidence interval is : {} and p-value is {}'.format(i*100,scipy.stats.norm.interval(i,911.0964,344.185),\n",
    "                                                                                                  2*(1-scipy.stats.norm.cdf(2.647112454058137))))"
   ]
  },
  {
   "cell_type": "markdown",
   "metadata": {},
   "source": [
    "### Q4.(ACS Data Set, 30pts)\n",
    "\n",
    "We'll be using the ACS dataset provided below.\n",
    "\n",
    "Survey:           ACS 2015 (5-Year Estimates)\n",
    "Dataset:          Social Explorer Tables:  ACS 2015 (5-Year Estimates)\n",
    "\n",
    "**VARIABLE DESCRIPTIONS:** (Data was collected in 2015)\n",
    "\n",
    "Tables:\n",
    "\n",
    "      1. Population Density (per Sq. Mile)\n",
    "         Universe:  Total Population\n",
    "         Name:      T2\n",
    "         Variables:\n",
    "            T002_001:   Total Population\n",
    "            T002_002:   Population Density (Per Sq. Mile)\n",
    "            T002_003:   Area (Land)\n",
    "\n",
    "\n",
    "      2. Average Household Size\n",
    "         Universe:  Occupied Households\n",
    "         Name:      T21\n",
    "         Variables:\n",
    "            T021_001:   Average Household Size\n",
    "\n",
    "\n",
    "\n",
    "      3. Median Household Income (In <DollarYear> Inflation Adjusted Dollars)\n",
    "         Universe:  Households\n",
    "         Name:      T57\n",
    "         Variables:\n",
    "            T057_001:   Median Household Income (In 2015 Inflation Adjusted Dollars)\n",
    "\n",
    "\n",
    "      4. Per Capita Income (In <DollarYear> Inflation Adjusted Dollars)\n",
    "         Universe:  Total Population\n",
    "         Name:      T83\n",
    "         Variables:\n",
    "            T083_001:   Per Capita Income (In 2015 Inflation Adjusted Dollars)\n",
    "\n",
    " \n",
    "      5. Median Gross Rent\n",
    "          Universe:  Renter-occupied housing units paying cash rent\n",
    "          Name:      T104\n",
    "          Variables:\n",
    "             T104_001:   Median Gross Rent\n",
    "\n",
    "\n",
    "      6. Ratio of Income in 2015 to Poverty Level\n",
    "          Universe:  Population for whom poverty status Is determined\n",
    "          Name:      T117\n",
    "          Variables:\n",
    "             T117_001:   Population for Whom Poverty Status Is Determined:\n",
    "\n",
    "      7. Average Commute to Work (in Min)\n",
    "          Universe:  Average Commute to Work (in min)\n",
    "          Name:      T147\n",
    "          Variables:\n",
    "             T147_001:   Average Commute to Work (in Min)\n",
    "\n",
    "\n",
    "Run the regression modeling the median household income through all the features above and analyse its statistics. Based on the results, suppose X(s) is the predicted median household income for the household of the size s and if deltaX=X(s+1)-X(s) then calculate:\n",
    "* (a) What's the expected price E(X)?\n",
    "* (b) What's the probability that X > \\$15000?  \n",
    "* (c) What's the two-sided 80% confidence interval of X?\n",
    "* (d) What's the one-sided 98% confidence interval of X? Calculate the upper interval $[X_0, +\\infty)$,"
   ]
  },
  {
   "cell_type": "code",
   "execution_count": 151,
   "metadata": {},
   "outputs": [
    {
     "data": {
      "text/html": [
       "<div>\n",
       "<style>\n",
       "    .dataframe thead tr:only-child th {\n",
       "        text-align: right;\n",
       "    }\n",
       "\n",
       "    .dataframe thead th {\n",
       "        text-align: left;\n",
       "    }\n",
       "\n",
       "    .dataframe tbody tr th {\n",
       "        vertical-align: top;\n",
       "    }\n",
       "</style>\n",
       "<table border=\"1\" class=\"dataframe\">\n",
       "  <thead>\n",
       "    <tr style=\"text-align: right;\">\n",
       "      <th></th>\n",
       "      <th>Unnamed: 0</th>\n",
       "      <th>Geo_FIPS</th>\n",
       "      <th>Geo_GEOID</th>\n",
       "      <th>Population_Density</th>\n",
       "      <th>Average_Household_Size</th>\n",
       "      <th>Median_Household_Income</th>\n",
       "      <th>Per_Capita_Income</th>\n",
       "      <th>Median_Value</th>\n",
       "      <th>Poverty_Status</th>\n",
       "      <th>Average_Commute_to_Work</th>\n",
       "    </tr>\n",
       "  </thead>\n",
       "  <tbody>\n",
       "    <tr>\n",
       "      <th>0</th>\n",
       "      <td>2</td>\n",
       "      <td>36061000202</td>\n",
       "      <td>14000US36061000202</td>\n",
       "      <td>67374.02</td>\n",
       "      <td>2.15</td>\n",
       "      <td>29684.0</td>\n",
       "      <td>27355.0</td>\n",
       "      <td>533600.0</td>\n",
       "      <td>7768</td>\n",
       "      <td>31.0</td>\n",
       "    </tr>\n",
       "    <tr>\n",
       "      <th>1</th>\n",
       "      <td>4</td>\n",
       "      <td>36061000600</td>\n",
       "      <td>14000US36061000600</td>\n",
       "      <td>128089.30</td>\n",
       "      <td>2.92</td>\n",
       "      <td>19863.0</td>\n",
       "      <td>12802.0</td>\n",
       "      <td>521200.0</td>\n",
       "      <td>12378</td>\n",
       "      <td>30.0</td>\n",
       "    </tr>\n",
       "    <tr>\n",
       "      <th>2</th>\n",
       "      <td>5</td>\n",
       "      <td>36061000700</td>\n",
       "      <td>14000US36061000700</td>\n",
       "      <td>89695.05</td>\n",
       "      <td>1.92</td>\n",
       "      <td>117841.0</td>\n",
       "      <td>89303.0</td>\n",
       "      <td>1035900.0</td>\n",
       "      <td>8794</td>\n",
       "      <td>25.0</td>\n",
       "    </tr>\n",
       "    <tr>\n",
       "      <th>3</th>\n",
       "      <td>6</td>\n",
       "      <td>36061000800</td>\n",
       "      <td>14000US36061000800</td>\n",
       "      <td>112643.90</td>\n",
       "      <td>2.63</td>\n",
       "      <td>27137.0</td>\n",
       "      <td>17426.0</td>\n",
       "      <td>588100.0</td>\n",
       "      <td>9465</td>\n",
       "      <td>33.0</td>\n",
       "    </tr>\n",
       "    <tr>\n",
       "      <th>4</th>\n",
       "      <td>7</td>\n",
       "      <td>36061000900</td>\n",
       "      <td>14000US36061000900</td>\n",
       "      <td>12507.00</td>\n",
       "      <td>2.14</td>\n",
       "      <td>147500.0</td>\n",
       "      <td>111599.0</td>\n",
       "      <td>1000000.0</td>\n",
       "      <td>1626</td>\n",
       "      <td>26.0</td>\n",
       "    </tr>\n",
       "  </tbody>\n",
       "</table>\n",
       "</div>"
      ],
      "text/plain": [
       "   Unnamed: 0     Geo_FIPS           Geo_GEOID  Population_Density  \\\n",
       "0           2  36061000202  14000US36061000202            67374.02   \n",
       "1           4  36061000600  14000US36061000600           128089.30   \n",
       "2           5  36061000700  14000US36061000700            89695.05   \n",
       "3           6  36061000800  14000US36061000800           112643.90   \n",
       "4           7  36061000900  14000US36061000900            12507.00   \n",
       "\n",
       "   Average_Household_Size  Median_Household_Income  Per_Capita_Income  \\\n",
       "0                    2.15                  29684.0            27355.0   \n",
       "1                    2.92                  19863.0            12802.0   \n",
       "2                    1.92                 117841.0            89303.0   \n",
       "3                    2.63                  27137.0            17426.0   \n",
       "4                    2.14                 147500.0           111599.0   \n",
       "\n",
       "   Median_Value  Poverty_Status  Average_Commute_to_Work  \n",
       "0      533600.0            7768                     31.0  \n",
       "1      521200.0           12378                     30.0  \n",
       "2     1035900.0            8794                     25.0  \n",
       "3      588100.0            9465                     33.0  \n",
       "4     1000000.0            1626                     26.0  "
      ]
     },
     "execution_count": 151,
     "metadata": {},
     "output_type": "execute_result"
    }
   ],
   "source": [
    "df = pd.read_csv('file4.csv')\n",
    "df.head()"
   ]
  },
  {
   "cell_type": "code",
   "execution_count": 152,
   "metadata": {},
   "outputs": [
    {
     "data": {
      "text/plain": [
       "Index([u'Unnamed: 0', u'Geo_FIPS', u'Geo_GEOID', u'Population_Density',\n",
       "       u'Average_Household_Size', u'Median_Household_Income',\n",
       "       u'Per_Capita_Income', u'Median_Value', u'Poverty_Status',\n",
       "       u'Average_Commute_to_Work'],\n",
       "      dtype='object')"
      ]
     },
     "execution_count": 152,
     "metadata": {},
     "output_type": "execute_result"
    }
   ],
   "source": [
    "df.columns"
   ]
  },
  {
   "cell_type": "code",
   "execution_count": 153,
   "metadata": {},
   "outputs": [
    {
     "data": {
      "text/html": [
       "<table class=\"simpletable\">\n",
       "<caption>OLS Regression Results</caption>\n",
       "<tr>\n",
       "  <th>Dep. Variable:</th>    <td>Median_Household_Income</td> <th>  R-squared:         </th> <td>   0.832</td>\n",
       "</tr>\n",
       "<tr>\n",
       "  <th>Model:</th>                      <td>OLS</td>           <th>  Adj. R-squared:    </th> <td>   0.827</td>\n",
       "</tr>\n",
       "<tr>\n",
       "  <th>Method:</th>                <td>Least Squares</td>      <th>  F-statistic:       </th> <td>   182.6</td>\n",
       "</tr>\n",
       "<tr>\n",
       "  <th>Date:</th>                <td>Fri, 03 Nov 2017</td>     <th>  Prob (F-statistic):</th> <td>6.22e-83</td>\n",
       "</tr>\n",
       "<tr>\n",
       "  <th>Time:</th>                    <td>21:31:36</td>         <th>  Log-Likelihood:    </th> <td> -2585.8</td>\n",
       "</tr>\n",
       "<tr>\n",
       "  <th>No. Observations:</th>         <td>   229</td>          <th>  AIC:               </th> <td>   5186.</td>\n",
       "</tr>\n",
       "<tr>\n",
       "  <th>Df Residuals:</th>             <td>   222</td>          <th>  BIC:               </th> <td>   5210.</td>\n",
       "</tr>\n",
       "<tr>\n",
       "  <th>Df Model:</th>                 <td>     6</td>          <th>                     </th>     <td> </td>   \n",
       "</tr>\n",
       "<tr>\n",
       "  <th>Covariance Type:</th>         <td>nonrobust</td>        <th>                     </th>     <td> </td>   \n",
       "</tr>\n",
       "</table>\n",
       "<table class=\"simpletable\">\n",
       "<tr>\n",
       "             <td></td>                <th>coef</th>     <th>std err</th>      <th>t</th>      <th>P>|t|</th>  <th>[0.025</th>    <th>0.975]</th>  \n",
       "</tr>\n",
       "<tr>\n",
       "  <th>Intercept</th>               <td> 1.535e+04</td> <td> 1.24e+04</td> <td>    1.234</td> <td> 0.219</td> <td>-9165.448</td> <td> 3.99e+04</td>\n",
       "</tr>\n",
       "<tr>\n",
       "  <th>Population_Density</th>      <td>    0.0318</td> <td>    0.041</td> <td>    0.768</td> <td> 0.443</td> <td>   -0.050</td> <td>    0.113</td>\n",
       "</tr>\n",
       "<tr>\n",
       "  <th>Average_Household_Size</th>  <td> 1.121e+04</td> <td> 4621.474</td> <td>    2.426</td> <td> 0.016</td> <td> 2104.409</td> <td> 2.03e+04</td>\n",
       "</tr>\n",
       "<tr>\n",
       "  <th>Per_Capita_Income</th>       <td>    0.9073</td> <td>    0.049</td> <td>   18.392</td> <td> 0.000</td> <td>    0.810</td> <td>    1.005</td>\n",
       "</tr>\n",
       "<tr>\n",
       "  <th>Median_Value</th>            <td>    0.0043</td> <td>    0.004</td> <td>    1.085</td> <td> 0.279</td> <td>   -0.004</td> <td>    0.012</td>\n",
       "</tr>\n",
       "<tr>\n",
       "  <th>Poverty_Status</th>          <td>   -0.8155</td> <td>    0.603</td> <td>   -1.353</td> <td> 0.177</td> <td>   -2.003</td> <td>    0.372</td>\n",
       "</tr>\n",
       "<tr>\n",
       "  <th>Average_Commute_to_Work</th> <td> -612.3823</td> <td>  324.227</td> <td>   -1.889</td> <td> 0.060</td> <td>-1251.338</td> <td>   26.574</td>\n",
       "</tr>\n",
       "</table>\n",
       "<table class=\"simpletable\">\n",
       "<tr>\n",
       "  <th>Omnibus:</th>       <td>34.484</td> <th>  Durbin-Watson:     </th> <td>   2.067</td>\n",
       "</tr>\n",
       "<tr>\n",
       "  <th>Prob(Omnibus):</th> <td> 0.000</td> <th>  Jarque-Bera (JB):  </th> <td>  84.301</td>\n",
       "</tr>\n",
       "<tr>\n",
       "  <th>Skew:</th>          <td> 0.678</td> <th>  Prob(JB):          </th> <td>4.95e-19</td>\n",
       "</tr>\n",
       "<tr>\n",
       "  <th>Kurtosis:</th>      <td> 5.645</td> <th>  Cond. No.          </th> <td>9.98e+06</td>\n",
       "</tr>\n",
       "</table>"
      ],
      "text/plain": [
       "<class 'statsmodels.iolib.summary.Summary'>\n",
       "\"\"\"\n",
       "                               OLS Regression Results                              \n",
       "===================================================================================\n",
       "Dep. Variable:     Median_Household_Income   R-squared:                       0.832\n",
       "Model:                                 OLS   Adj. R-squared:                  0.827\n",
       "Method:                      Least Squares   F-statistic:                     182.6\n",
       "Date:                     Fri, 03 Nov 2017   Prob (F-statistic):           6.22e-83\n",
       "Time:                             21:31:36   Log-Likelihood:                -2585.8\n",
       "No. Observations:                      229   AIC:                             5186.\n",
       "Df Residuals:                          222   BIC:                             5210.\n",
       "Df Model:                                6                                         \n",
       "Covariance Type:                 nonrobust                                         \n",
       "===========================================================================================\n",
       "                              coef    std err          t      P>|t|      [0.025      0.975]\n",
       "-------------------------------------------------------------------------------------------\n",
       "Intercept                1.535e+04   1.24e+04      1.234      0.219   -9165.448    3.99e+04\n",
       "Population_Density          0.0318      0.041      0.768      0.443      -0.050       0.113\n",
       "Average_Household_Size   1.121e+04   4621.474      2.426      0.016    2104.409    2.03e+04\n",
       "Per_Capita_Income           0.9073      0.049     18.392      0.000       0.810       1.005\n",
       "Median_Value                0.0043      0.004      1.085      0.279      -0.004       0.012\n",
       "Poverty_Status             -0.8155      0.603     -1.353      0.177      -2.003       0.372\n",
       "Average_Commute_to_Work  -612.3823    324.227     -1.889      0.060   -1251.338      26.574\n",
       "==============================================================================\n",
       "Omnibus:                       34.484   Durbin-Watson:                   2.067\n",
       "Prob(Omnibus):                  0.000   Jarque-Bera (JB):               84.301\n",
       "Skew:                           0.678   Prob(JB):                     4.95e-19\n",
       "Kurtosis:                       5.645   Cond. No.                     9.98e+06\n",
       "==============================================================================\n",
       "\n",
       "Warnings:\n",
       "[1] Standard Errors assume that the covariance matrix of the errors is correctly specified.\n",
       "[2] The condition number is large, 9.98e+06. This might indicate that there are\n",
       "strong multicollinearity or other numerical problems.\n",
       "\"\"\""
      ]
     },
     "execution_count": 153,
     "metadata": {},
     "output_type": "execute_result"
    }
   ],
   "source": [
    "lm1 = smf.ols(formula = 'Median_Household_Income~Population_Density+Average_Household_Size+\\\n",
    "              Per_Capita_Income+Median_Value+Poverty_Status+Average_Commute_to_Work',data=df).fit()\n",
    "lm1.summary()"
   ]
  },
  {
   "cell_type": "markdown",
   "metadata": {},
   "source": [
    "### (a)"
   ]
  },
  {
   "cell_type": "code",
   "execution_count": 154,
   "metadata": {},
   "outputs": [
    {
     "data": {
      "text/plain": [
       "11211.981640086977"
      ]
     },
     "execution_count": 154,
     "metadata": {},
     "output_type": "execute_result"
    }
   ],
   "source": [
    "lm1.params['Average_Household_Size']"
   ]
  },
  {
   "cell_type": "markdown",
   "metadata": {},
   "source": [
    "### So the expected price E(x) would be 11211.9816"
   ]
  },
  {
   "cell_type": "markdown",
   "metadata": {},
   "source": [
    "### (b)"
   ]
  },
  {
   "cell_type": "markdown",
   "metadata": {},
   "source": [
    "### (w - wj)/SE applies to the t distribution"
   ]
  },
  {
   "cell_type": "code",
   "execution_count": 155,
   "metadata": {
    "collapsed": true
   },
   "outputs": [],
   "source": [
    "wj = lm1.params['Average_Household_Size']\n",
    "SE = lm1.bse['Average_Household_Size']\n",
    "N = len(df.index)\n",
    "n = 7"
   ]
  },
  {
   "cell_type": "code",
   "execution_count": 156,
   "metadata": {},
   "outputs": [
    {
     "data": {
      "text/plain": [
       "0.81965591305786478"
      ]
     },
     "execution_count": 156,
     "metadata": {},
     "output_type": "execute_result"
    }
   ],
   "source": [
    "t = (15000-wj)/SE\n",
    "t"
   ]
  },
  {
   "cell_type": "code",
   "execution_count": 157,
   "metadata": {},
   "outputs": [
    {
     "data": {
      "text/plain": [
       "20.66457008983479"
      ]
     },
     "execution_count": 157,
     "metadata": {},
     "output_type": "execute_result"
    }
   ],
   "source": [
    "(1-scipy.stats.t.cdf(t,N-n))*100"
   ]
  },
  {
   "cell_type": "code",
   "execution_count": 158,
   "metadata": {},
   "outputs": [
    {
     "data": {
      "text/plain": [
       "18.164570089834786"
      ]
     },
     "execution_count": 158,
     "metadata": {},
     "output_type": "execute_result"
    }
   ],
   "source": [
    "# But if the we make it make sense under the alternative hypothesis, it would be:\n",
    "(0.975-scipy.stats.t.cdf(t,N-n))*100"
   ]
  },
  {
   "cell_type": "markdown",
   "metadata": {},
   "source": [
    "### So the probability that X> 15000 is 20.6636% but if we consider the confidence interval, it should be 18.1636%"
   ]
  },
  {
   "cell_type": "markdown",
   "metadata": {},
   "source": [
    "### (c)"
   ]
  },
  {
   "cell_type": "code",
   "execution_count": 159,
   "metadata": {},
   "outputs": [
    {
     "data": {
      "text/plain": [
       "(5271.6472265879529, 17152.316053586001)"
      ]
     },
     "execution_count": 159,
     "metadata": {},
     "output_type": "execute_result"
    }
   ],
   "source": [
    "scipy.stats.t.interval(0.80, lm1.df_resid,    \n",
    "           loc = wj, \n",
    "           scale = SE)  "
   ]
  },
  {
   "cell_type": "markdown",
   "metadata": {},
   "source": [
    "### The two-sided 80% confidence interval of X is (5271.6472265879529, 17152.316053586001)"
   ]
  },
  {
   "cell_type": "markdown",
   "metadata": {},
   "source": [
    "### (d)"
   ]
  },
  {
   "cell_type": "code",
   "execution_count": 160,
   "metadata": {},
   "outputs": [
    {
     "name": "stdout",
     "output_type": "stream",
     "text": [
      "The one-sided 98% confidence interval of X is [1664.54240465, +∞]\n"
     ]
    }
   ],
   "source": [
    "q = 0.98\n",
    "upperBound = scipy.stats.t.isf(q, lm1.df_resid) * SE + wj\n",
    "print(u'The one-sided 98% confidence interval of X is [{}, +\\u221e]'.format(upperBound))"
   ]
  },
  {
   "cell_type": "markdown",
   "metadata": {},
   "source": [
    "### Q5 (30 points). Data visualization using PCA\n",
    "We'll be using the breast cancer dataset from sklearn for this problem.\n",
    "\n",
    "a) For the given labeled data perform PCA and visualize (using bar-plot) the fraction of variance explained by each principle components.\n",
    "\n",
    "b) Visualize the observations along the first two principle components with colors depending on the label."
   ]
  },
  {
   "cell_type": "code",
   "execution_count": 161,
   "metadata": {
    "collapsed": true
   },
   "outputs": [],
   "source": [
    "from sklearn.datasets import load_breast_cancer\n",
    "X, y = load_breast_cancer(return_X_y=True)"
   ]
  },
  {
   "cell_type": "code",
   "execution_count": 162,
   "metadata": {},
   "outputs": [
    {
     "name": "stdout",
     "output_type": "stream",
     "text": [
      "(569L, 30L) 569\n"
     ]
    }
   ],
   "source": [
    "print X.shape, len(y)"
   ]
  },
  {
   "cell_type": "code",
   "execution_count": 163,
   "metadata": {},
   "outputs": [
    {
     "name": "stdout",
     "output_type": "stream",
     "text": [
      "total variance:451102.361958\n",
      "variance explained via the first and second components:[ 0.98204467  0.01617649]\n",
      "\n"
     ]
    }
   ],
   "source": [
    "n = 2\n",
    "print(\"total variance:{}\".format(np.sum(np.var(X,0))))\n",
    "pca = PCA(n)\n",
    "Xproj = pca.fit(X).transform(X)\n",
    "eigenvalues = pca.explained_variance_\n",
    "eigenvalues_fraction = pca.explained_variance_ratio_\n",
    "print(\"variance explained via the first and second components:{}\\n\".format(pca.explained_variance_ratio_))"
   ]
  },
  {
   "cell_type": "markdown",
   "metadata": {},
   "source": [
    "### (a)"
   ]
  },
  {
   "cell_type": "code",
   "execution_count": 164,
   "metadata": {},
   "outputs": [
    {
     "name": "stdout",
     "output_type": "stream",
     "text": [
      "[ 0.98204467  0.01617649]\n"
     ]
    },
    {
     "data": {
      "image/png": "[encoded data removed]",
      "text/plain": [
       "<matplotlib.figure.Figure at 0x148fa710>"
      ]
     },
     "metadata": {},
     "output_type": "display_data"
    }
   ],
   "source": [
    "print pca.explained_variance_ratio_\n",
    "plt.bar(np.arange(n), eigenvalues_fraction);\n",
    "plt.xlabel(\"Dimensionality\")\n",
    "plt.ylabel(\"Variance fraction\")\n",
    "plt.show()"
   ]
  },
  {
   "cell_type": "markdown",
   "metadata": {},
   "source": [
    "### (b)"
   ]
  },
  {
   "cell_type": "code",
   "execution_count": 165,
   "metadata": {},
   "outputs": [
    {
     "data": {
      "text/plain": [
       "(569L, 30L)"
      ]
     },
     "execution_count": 165,
     "metadata": {},
     "output_type": "execute_result"
    }
   ],
   "source": [
    "X.shape"
   ]
  },
  {
   "cell_type": "code",
   "execution_count": 166,
   "metadata": {},
   "outputs": [
    {
     "data": {
      "text/plain": [
       "(569L, 2L)"
      ]
     },
     "execution_count": 166,
     "metadata": {},
     "output_type": "execute_result"
    }
   ],
   "source": [
    "Xproj.shape"
   ]
  },
  {
   "cell_type": "code",
   "execution_count": 167,
   "metadata": {},
   "outputs": [
    {
     "data": {
      "text/plain": [
       "(569L,)"
      ]
     },
     "execution_count": 167,
     "metadata": {},
     "output_type": "execute_result"
    }
   ],
   "source": [
    "X[:,0].shape"
   ]
  },
  {
   "cell_type": "code",
   "execution_count": 168,
   "metadata": {},
   "outputs": [
    {
     "data": {
      "text/plain": [
       "(569L,)"
      ]
     },
     "execution_count": 168,
     "metadata": {},
     "output_type": "execute_result"
    }
   ],
   "source": [
    "y.shape"
   ]
  },
  {
   "cell_type": "code",
   "execution_count": 169,
   "metadata": {},
   "outputs": [
    {
     "data": {
      "text/plain": [
       "0"
      ]
     },
     "execution_count": 169,
     "metadata": {},
     "output_type": "execute_result"
    }
   ],
   "source": [
    "y[0]"
   ]
  },
  {
   "cell_type": "code",
   "execution_count": 170,
   "metadata": {},
   "outputs": [],
   "source": [
    "c = lambda i: 'red'if y[i]==0 else 'green'"
   ]
  },
  {
   "cell_type": "code",
   "execution_count": 171,
   "metadata": {},
   "outputs": [
    {
     "data": {
      "image/png": "[encoded data removed]",
      "text/plain": [
       "<matplotlib.figure.Figure at 0x180f40f0>"
      ]
     },
     "metadata": {},
     "output_type": "display_data"
    }
   ],
   "source": [
    "plt.figure(figsize=[10,10])\n",
    "for i in range(569):\n",
    "    plt.plot(Xproj[i,0], Xproj[i,1], 'o', alpha=0.5,color= c(i) ,label='y = {}'.format(y[i]))\n",
    "    plt.xlabel('d1')\n",
    "    plt.ylabel('d2')\n",
    "    plt.title('Visualization of the data using PCA (two dimensions). Color the points by label')\n",
    "    handles, labels = plt.gca().get_legend_handles_labels()\n",
    "    by_label = OrderedDict(zip(labels, handles))\n",
    "    plt.legend(by_label.values(), by_label.keys())"
   ]
  }
 ],
 "metadata": {
  "kernelspec": {
   "display_name": "Python 2",
   "language": "python",
   "name": "python2"
  },
  "language_info": {
   "codemirror_mode": {
    "name": "ipython",
    "version": 2
   },
   "file_extension": ".py",
   "mimetype": "text/x-python",
   "name": "python",
   "nbconvert_exporter": "python",
   "pygments_lexer": "ipython2",
   "version": "2.7.13"
  }
 },
 "nbformat": 4,
 "nbformat_minor": 1
}
