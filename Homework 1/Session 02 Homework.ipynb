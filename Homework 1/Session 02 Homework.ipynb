{
 "cells": [
  {
   "cell_type": "markdown",
   "metadata": {},
   "source": [
    "# ADS 2017. Homework 1"
   ]
  },
  {
   "cell_type": "markdown",
   "metadata": {},
   "source": [
    "# Author: Zhiao Zhou, ADS 2017"
   ]
  },
  {
   "cell_type": "markdown",
   "metadata": {},
   "source": [
    "### Question (1): (10pt)\n",
    "\n",
    "Suppose that the independent variable $x$ has n observations: $(x_1,x_2,...x_n)$ and the dependent variable $y$ has corresponding observations: $(y_1, y_2,...,y_n)$. If the correlation between these two sequences $corr(x,y)=0.02$, which of the following statements are true? Please select all the right answers.\n",
    "\n",
    "(a) There should be no strong relation between $x$ and $y$.\n",
    "\n",
    "(b) If we build a linear regression between $y$ and $x$ as $y=wx$, we could conclude that the OLS estimation for $w$ should be around 0.02.\n",
    "\n",
    "(c) There could be some strong linear relationship between $x$ and $y$.\n",
    "\n",
    "(d) Certain relation between $x$ and $y$ could still exist, but it should be non-linear."
   ]
  },
  {
   "cell_type": "markdown",
   "metadata": {},
   "source": [
    "## (d)"
   ]
  },
  {
   "cell_type": "markdown",
   "metadata": {},
   "source": [
    "### Question (2): (10pt)\n",
    "\n"
   ]
  },
  {
   "cell_type": "markdown",
   "metadata": {},
   "source": [
    "Consider a model\n",
    "\n",
    "$y=x^{b}$ where $b>0$. \n",
    "\n",
    "Now, suppose x triples (originally $x>0$). How would y change with respect to this change of x? Let us denote new $y$ as $y'$. Please select all the right answers from below. \n",
    "\n",
    "(a) $y'<3y$ if b is less than one.\n",
    "\n",
    "(b) $y'=3y$ in any case.\n",
    "\n",
    "(c) $y'$ increases by $(2^b-1)*100\\%$.\n",
    "\n",
    "(d) $y'>3y$ if b is bigger than one."
   ]
  },
  {
   "cell_type": "markdown",
   "metadata": {},
   "source": [
    "## (a)(d)"
   ]
  },
  {
   "cell_type": "code",
   "execution_count": 121,
   "metadata": {
    "collapsed": true
   },
   "outputs": [],
   "source": [
    "import pandas as pd\n",
    "import numpy as np\n",
    "import statsmodels.formula.api as smf\n",
    "import matplotlib.pylab as plt\n",
    "%matplotlib inline"
   ]
  },
  {
   "cell_type": "markdown",
   "metadata": {},
   "source": [
    "### Question (3): (30 pt)\n"
   ]
  },
  {
   "cell_type": "code",
   "execution_count": 122,
   "metadata": {
    "collapsed": true
   },
   "outputs": [],
   "source": [
    "x=[0, 1, 2, 3, 4, 5, 6, 7, 8, 9, 10, 11, 12, 13, 14, 15, 16, 17, 18, 19]"
   ]
  },
  {
   "cell_type": "code",
   "execution_count": 123,
   "metadata": {
    "collapsed": true
   },
   "outputs": [],
   "source": [
    "y=[14.0, 12.0, 18.0, -4.0, 14.0, 35.0, 45.0, 30.0, 50.0, 54.0, 58.0, \n",
    "   55.0, 57.0, 62.0, 61.0, 83.0, 85.0, 106.0, 105.0, 104.0]"
   ]
  },
  {
   "cell_type": "markdown",
   "metadata": {},
   "source": [
    "#### (a) Calculate corr(x,y) without using a build-in function for the correlation coefficient."
   ]
  },
  {
   "cell_type": "code",
   "execution_count": 124,
   "metadata": {
    "collapsed": false,
    "scrolled": true
   },
   "outputs": [],
   "source": [
    "xy = [a*b for a,b in zip(x,y)]\n",
    "xsqr = [a*a for a in x]\n",
    "ysqr = [b*b for b in y]"
   ]
  },
  {
   "cell_type": "code",
   "execution_count": 125,
   "metadata": {
    "collapsed": false
   },
   "outputs": [
    {
     "name": "stdout",
     "output_type": "stream",
     "text": [
      "0.956301005112\n"
     ]
    }
   ],
   "source": [
    "corr_xy = (np.mean(xy)-np.mean(x)*np.mean(y))/(((np.mean(xsqr)-(np.mean(x))**2)**0.5)*((np.mean(ysqr)-(np.mean(y))**2)**0.5))\n",
    "print(corr_xy)"
   ]
  },
  {
   "cell_type": "markdown",
   "metadata": {},
   "source": [
    "#### (b) Estimate linear model $y=w_1*x+w_0$ using OLS formulas and without using build-in functions for the linear regression. What is  $w_1$ and $w_0$? What is $R^2$?"
   ]
  },
  {
   "cell_type": "code",
   "execution_count": 126,
   "metadata": {
    "collapsed": true
   },
   "outputs": [],
   "source": [
    "data = pd.DataFrame({\"x\":x,\"y\":y})"
   ]
  },
  {
   "cell_type": "code",
   "execution_count": 127,
   "metadata": {
    "collapsed": false
   },
   "outputs": [
    {
     "data": {
      "text/html": [
       "<div>\n",
       "<table border=\"1\" class=\"dataframe\">\n",
       "  <thead>\n",
       "    <tr style=\"text-align: right;\">\n",
       "      <th></th>\n",
       "      <th>x</th>\n",
       "      <th>y</th>\n",
       "      <th>x_sqr</th>\n",
       "      <th>xy</th>\n",
       "    </tr>\n",
       "  </thead>\n",
       "  <tbody>\n",
       "    <tr>\n",
       "      <th>0</th>\n",
       "      <td>0</td>\n",
       "      <td>14.0</td>\n",
       "      <td>0</td>\n",
       "      <td>0.0</td>\n",
       "    </tr>\n",
       "    <tr>\n",
       "      <th>1</th>\n",
       "      <td>1</td>\n",
       "      <td>12.0</td>\n",
       "      <td>1</td>\n",
       "      <td>12.0</td>\n",
       "    </tr>\n",
       "    <tr>\n",
       "      <th>2</th>\n",
       "      <td>2</td>\n",
       "      <td>18.0</td>\n",
       "      <td>4</td>\n",
       "      <td>36.0</td>\n",
       "    </tr>\n",
       "    <tr>\n",
       "      <th>3</th>\n",
       "      <td>3</td>\n",
       "      <td>-4.0</td>\n",
       "      <td>9</td>\n",
       "      <td>-12.0</td>\n",
       "    </tr>\n",
       "    <tr>\n",
       "      <th>4</th>\n",
       "      <td>4</td>\n",
       "      <td>14.0</td>\n",
       "      <td>16</td>\n",
       "      <td>56.0</td>\n",
       "    </tr>\n",
       "  </tbody>\n",
       "</table>\n",
       "</div>"
      ],
      "text/plain": [
       "   x     y  x_sqr    xy\n",
       "0  0  14.0      0   0.0\n",
       "1  1  12.0      1  12.0\n",
       "2  2  18.0      4  36.0\n",
       "3  3  -4.0      9 -12.0\n",
       "4  4  14.0     16  56.0"
      ]
     },
     "execution_count": 127,
     "metadata": {},
     "output_type": "execute_result"
    }
   ],
   "source": [
    "data[\"x_sqr\"]=data.x*data.x\n",
    "data[\"xy\"]=data.x*data.y\n",
    "data.head()"
   ]
  },
  {
   "cell_type": "code",
   "execution_count": 128,
   "metadata": {
    "collapsed": false
   },
   "outputs": [
    {
     "name": "stdout",
     "output_type": "stream",
     "text": [
      "w1 is : 5.28872180451\n",
      "w0 is : 1.95714285714\n"
     ]
    }
   ],
   "source": [
    "w1=(data.xy.sum()-data.y.sum()*data.x.sum()/len(data))/(data.x_sqr.sum()-data.x.sum()*data.x.sum()/len(data))\n",
    "print(\"w1 is : {}\".format(w1))\n",
    "w0=(data.y-data.x*w1).mean()\n",
    "print(\"w0 is : {}\".format(w0))"
   ]
  },
  {
   "cell_type": "code",
   "execution_count": 129,
   "metadata": {
    "collapsed": false
   },
   "outputs": [
    {
     "data": {
      "text/html": [
       "<div>\n",
       "<table border=\"1\" class=\"dataframe\">\n",
       "  <thead>\n",
       "    <tr style=\"text-align: right;\">\n",
       "      <th></th>\n",
       "      <th>x</th>\n",
       "      <th>y</th>\n",
       "      <th>x_sqr</th>\n",
       "      <th>xy</th>\n",
       "      <th>pred</th>\n",
       "      <th>err</th>\n",
       "    </tr>\n",
       "  </thead>\n",
       "  <tbody>\n",
       "    <tr>\n",
       "      <th>0</th>\n",
       "      <td>0</td>\n",
       "      <td>14.0</td>\n",
       "      <td>0</td>\n",
       "      <td>0.0</td>\n",
       "      <td>1.957143</td>\n",
       "      <td>12.042857</td>\n",
       "    </tr>\n",
       "    <tr>\n",
       "      <th>1</th>\n",
       "      <td>1</td>\n",
       "      <td>12.0</td>\n",
       "      <td>1</td>\n",
       "      <td>12.0</td>\n",
       "      <td>7.245865</td>\n",
       "      <td>4.754135</td>\n",
       "    </tr>\n",
       "    <tr>\n",
       "      <th>2</th>\n",
       "      <td>2</td>\n",
       "      <td>18.0</td>\n",
       "      <td>4</td>\n",
       "      <td>36.0</td>\n",
       "      <td>12.534586</td>\n",
       "      <td>5.465414</td>\n",
       "    </tr>\n",
       "    <tr>\n",
       "      <th>3</th>\n",
       "      <td>3</td>\n",
       "      <td>-4.0</td>\n",
       "      <td>9</td>\n",
       "      <td>-12.0</td>\n",
       "      <td>17.823308</td>\n",
       "      <td>-21.823308</td>\n",
       "    </tr>\n",
       "    <tr>\n",
       "      <th>4</th>\n",
       "      <td>4</td>\n",
       "      <td>14.0</td>\n",
       "      <td>16</td>\n",
       "      <td>56.0</td>\n",
       "      <td>23.112030</td>\n",
       "      <td>-9.112030</td>\n",
       "    </tr>\n",
       "  </tbody>\n",
       "</table>\n",
       "</div>"
      ],
      "text/plain": [
       "   x     y  x_sqr    xy       pred        err\n",
       "0  0  14.0      0   0.0   1.957143  12.042857\n",
       "1  1  12.0      1  12.0   7.245865   4.754135\n",
       "2  2  18.0      4  36.0  12.534586   5.465414\n",
       "3  3  -4.0      9 -12.0  17.823308 -21.823308\n",
       "4  4  14.0     16  56.0  23.112030  -9.112030"
      ]
     },
     "execution_count": 129,
     "metadata": {},
     "output_type": "execute_result"
    }
   ],
   "source": [
    "data[\"pred\"]=w1*data.x+w0\n",
    "data[\"err\"]=data.y-data.pred\n",
    "data.head()"
   ]
  },
  {
   "cell_type": "code",
   "execution_count": 130,
   "metadata": {
    "collapsed": false
   },
   "outputs": [
    {
     "name": "stdout",
     "output_type": "stream",
     "text": [
      "R2 is : 0.914511612377\n"
     ]
    }
   ],
   "source": [
    "R_2=1-(data.err**2).sum()/((data.y-data.y.mean())**2).sum()\n",
    "print(\"R2 is : {}\".format(R_2))"
   ]
  },
  {
   "cell_type": "markdown",
   "metadata": {},
   "source": [
    "#### (c) Use regression function to double check your answer making sure that your calculation is correct. "
   ]
  },
  {
   "cell_type": "code",
   "execution_count": 131,
   "metadata": {
    "collapsed": false
   },
   "outputs": [],
   "source": [
    "lg = smf.ols(formula='y~x',data=data).fit()"
   ]
  },
  {
   "cell_type": "code",
   "execution_count": 132,
   "metadata": {
    "collapsed": false
   },
   "outputs": [
    {
     "data": {
      "text/plain": [
       "Intercept    1.957143\n",
       "x            5.288722\n",
       "dtype: float64"
      ]
     },
     "execution_count": 132,
     "metadata": {},
     "output_type": "execute_result"
    }
   ],
   "source": [
    "lg.params"
   ]
  },
  {
   "cell_type": "code",
   "execution_count": 133,
   "metadata": {
    "collapsed": false
   },
   "outputs": [
    {
     "data": {
      "text/html": [
       "<table class=\"simpletable\">\n",
       "<caption>OLS Regression Results</caption>\n",
       "<tr>\n",
       "  <th>Dep. Variable:</th>            <td>y</td>        <th>  R-squared:         </th> <td>   0.915</td>\n",
       "</tr>\n",
       "<tr>\n",
       "  <th>Model:</th>                   <td>OLS</td>       <th>  Adj. R-squared:    </th> <td>   0.910</td>\n",
       "</tr>\n",
       "<tr>\n",
       "  <th>Method:</th>             <td>Least Squares</td>  <th>  F-statistic:       </th> <td>   192.6</td>\n",
       "</tr>\n",
       "<tr>\n",
       "  <th>Date:</th>             <td>Wed, 27 Sep 2017</td> <th>  Prob (F-statistic):</th> <td>4.71e-11</td>\n",
       "</tr>\n",
       "<tr>\n",
       "  <th>Time:</th>                 <td>00:47:47</td>     <th>  Log-Likelihood:    </th> <td> -73.031</td>\n",
       "</tr>\n",
       "<tr>\n",
       "  <th>No. Observations:</th>      <td>    20</td>      <th>  AIC:               </th> <td>   150.1</td>\n",
       "</tr>\n",
       "<tr>\n",
       "  <th>Df Residuals:</th>          <td>    18</td>      <th>  BIC:               </th> <td>   152.1</td>\n",
       "</tr>\n",
       "<tr>\n",
       "  <th>Df Model:</th>              <td>     1</td>      <th>                     </th>     <td> </td>   \n",
       "</tr>\n",
       "<tr>\n",
       "  <th>Covariance Type:</th>      <td>nonrobust</td>    <th>                     </th>     <td> </td>   \n",
       "</tr>\n",
       "</table>\n",
       "<table class=\"simpletable\">\n",
       "<tr>\n",
       "      <td></td>         <th>coef</th>     <th>std err</th>      <th>t</th>      <th>P>|t|</th> <th>[95.0% Conf. Int.]</th> \n",
       "</tr>\n",
       "<tr>\n",
       "  <th>Intercept</th> <td>    1.9571</td> <td>    4.236</td> <td>    0.462</td> <td> 0.650</td> <td>   -6.941    10.856</td>\n",
       "</tr>\n",
       "<tr>\n",
       "  <th>x</th>         <td>    5.2887</td> <td>    0.381</td> <td>   13.876</td> <td> 0.000</td> <td>    4.488     6.089</td>\n",
       "</tr>\n",
       "</table>\n",
       "<table class=\"simpletable\">\n",
       "<tr>\n",
       "  <th>Omnibus:</th>       <td> 1.554</td> <th>  Durbin-Watson:     </th> <td>   1.493</td>\n",
       "</tr>\n",
       "<tr>\n",
       "  <th>Prob(Omnibus):</th> <td> 0.460</td> <th>  Jarque-Bera (JB):  </th> <td>   1.245</td>\n",
       "</tr>\n",
       "<tr>\n",
       "  <th>Skew:</th>          <td>-0.572</td> <th>  Prob(JB):          </th> <td>   0.537</td>\n",
       "</tr>\n",
       "<tr>\n",
       "  <th>Kurtosis:</th>      <td> 2.569</td> <th>  Cond. No.          </th> <td>    21.5</td>\n",
       "</tr>\n",
       "</table>"
      ],
      "text/plain": [
       "<class 'statsmodels.iolib.summary.Summary'>\n",
       "\"\"\"\n",
       "                            OLS Regression Results                            \n",
       "==============================================================================\n",
       "Dep. Variable:                      y   R-squared:                       0.915\n",
       "Model:                            OLS   Adj. R-squared:                  0.910\n",
       "Method:                 Least Squares   F-statistic:                     192.6\n",
       "Date:                Wed, 27 Sep 2017   Prob (F-statistic):           4.71e-11\n",
       "Time:                        00:47:47   Log-Likelihood:                -73.031\n",
       "No. Observations:                  20   AIC:                             150.1\n",
       "Df Residuals:                      18   BIC:                             152.1\n",
       "Df Model:                           1                                         \n",
       "Covariance Type:            nonrobust                                         \n",
       "==============================================================================\n",
       "                 coef    std err          t      P>|t|      [95.0% Conf. Int.]\n",
       "------------------------------------------------------------------------------\n",
       "Intercept      1.9571      4.236      0.462      0.650        -6.941    10.856\n",
       "x              5.2887      0.381     13.876      0.000         4.488     6.089\n",
       "==============================================================================\n",
       "Omnibus:                        1.554   Durbin-Watson:                   1.493\n",
       "Prob(Omnibus):                  0.460   Jarque-Bera (JB):                1.245\n",
       "Skew:                          -0.572   Prob(JB):                        0.537\n",
       "Kurtosis:                       2.569   Cond. No.                         21.5\n",
       "==============================================================================\n",
       "\n",
       "Warnings:\n",
       "[1] Standard Errors assume that the covariance matrix of the errors is correctly specified.\n",
       "\"\"\""
      ]
     },
     "execution_count": 133,
     "metadata": {},
     "output_type": "execute_result"
    }
   ],
   "source": [
    "lg.summary()"
   ]
  },
  {
   "cell_type": "code",
   "execution_count": 134,
   "metadata": {
    "collapsed": false
   },
   "outputs": [
    {
     "name": "stdout",
     "output_type": "stream",
     "text": [
      "w1 is 5.28872180451, w0 is 1.95714285714, R2 is 0.914511612377\n"
     ]
    }
   ],
   "source": [
    "print(\"w1 is {}, w0 is {}, R2 is {}\".format(lg.params[1],lg.params[0],lg.rsquared))"
   ]
  },
  {
   "cell_type": "markdown",
   "metadata": {},
   "source": [
    "### Question (4): (30pt) "
   ]
  },
  {
   "cell_type": "markdown",
   "metadata": {},
   "source": [
    "For the data below estimate a model: AssessTot = w* LotArea (with and without intercept)\n",
    "\n",
    "LotArea: Total area of the tax lot\n",
    "\n",
    "AssessTot: The actual assessed total value of Final Year 2015"
   ]
  },
  {
   "cell_type": "code",
   "execution_count": 135,
   "metadata": {
    "collapsed": true
   },
   "outputs": [],
   "source": [
    "data_4=pd.read_csv(\"Housing_Pluto_Session2.csv\")"
   ]
  },
  {
   "cell_type": "code",
   "execution_count": 136,
   "metadata": {
    "collapsed": false
   },
   "outputs": [
    {
     "data": {
      "text/html": [
       "<div>\n",
       "<table border=\"1\" class=\"dataframe\">\n",
       "  <thead>\n",
       "    <tr style=\"text-align: right;\">\n",
       "      <th></th>\n",
       "      <th>ZipCode</th>\n",
       "      <th>LotArea</th>\n",
       "      <th>AssessTot</th>\n",
       "    </tr>\n",
       "  </thead>\n",
       "  <tbody>\n",
       "    <tr>\n",
       "      <th>0</th>\n",
       "      <td>11201.0</td>\n",
       "      <td>126975</td>\n",
       "      <td>3922200</td>\n",
       "    </tr>\n",
       "    <tr>\n",
       "      <th>1</th>\n",
       "      <td>11201.0</td>\n",
       "      <td>52600</td>\n",
       "      <td>1359900</td>\n",
       "    </tr>\n",
       "    <tr>\n",
       "      <th>2</th>\n",
       "      <td>11201.0</td>\n",
       "      <td>17700</td>\n",
       "      <td>656100</td>\n",
       "    </tr>\n",
       "    <tr>\n",
       "      <th>3</th>\n",
       "      <td>NaN</td>\n",
       "      <td>31200</td>\n",
       "      <td>18326711</td>\n",
       "    </tr>\n",
       "    <tr>\n",
       "      <th>4</th>\n",
       "      <td>11201.0</td>\n",
       "      <td>16307</td>\n",
       "      <td>0</td>\n",
       "    </tr>\n",
       "  </tbody>\n",
       "</table>\n",
       "</div>"
      ],
      "text/plain": [
       "   ZipCode  LotArea  AssessTot\n",
       "0  11201.0   126975    3922200\n",
       "1  11201.0    52600    1359900\n",
       "2  11201.0    17700     656100\n",
       "3      NaN    31200   18326711\n",
       "4  11201.0    16307          0"
      ]
     },
     "execution_count": 136,
     "metadata": {},
     "output_type": "execute_result"
    }
   ],
   "source": [
    "data_4.head()"
   ]
  },
  {
   "cell_type": "markdown",
   "metadata": {},
   "source": [
    "#### (a). As we see, this data set is not clean.  Drop all the rows which contain \"NaN\" and 0 terms."
   ]
  },
  {
   "cell_type": "code",
   "execution_count": 137,
   "metadata": {
    "collapsed": false,
    "scrolled": true
   },
   "outputs": [
    {
     "data": {
      "text/html": [
       "<div>\n",
       "<table border=\"1\" class=\"dataframe\">\n",
       "  <thead>\n",
       "    <tr style=\"text-align: right;\">\n",
       "      <th></th>\n",
       "      <th>ZipCode</th>\n",
       "      <th>LotArea</th>\n",
       "      <th>AssessTot</th>\n",
       "    </tr>\n",
       "  </thead>\n",
       "  <tbody>\n",
       "    <tr>\n",
       "      <th>0</th>\n",
       "      <td>11201.0</td>\n",
       "      <td>126975</td>\n",
       "      <td>3922200</td>\n",
       "    </tr>\n",
       "    <tr>\n",
       "      <th>1</th>\n",
       "      <td>11201.0</td>\n",
       "      <td>52600</td>\n",
       "      <td>1359900</td>\n",
       "    </tr>\n",
       "    <tr>\n",
       "      <th>2</th>\n",
       "      <td>11201.0</td>\n",
       "      <td>17700</td>\n",
       "      <td>656100</td>\n",
       "    </tr>\n",
       "    <tr>\n",
       "      <th>4</th>\n",
       "      <td>11201.0</td>\n",
       "      <td>16307</td>\n",
       "      <td>0</td>\n",
       "    </tr>\n",
       "    <tr>\n",
       "      <th>5</th>\n",
       "      <td>11201.0</td>\n",
       "      <td>8120</td>\n",
       "      <td>5976000</td>\n",
       "    </tr>\n",
       "  </tbody>\n",
       "</table>\n",
       "</div>"
      ],
      "text/plain": [
       "   ZipCode  LotArea  AssessTot\n",
       "0  11201.0   126975    3922200\n",
       "1  11201.0    52600    1359900\n",
       "2  11201.0    17700     656100\n",
       "4  11201.0    16307          0\n",
       "5  11201.0     8120    5976000"
      ]
     },
     "execution_count": 137,
     "metadata": {},
     "output_type": "execute_result"
    }
   ],
   "source": [
    "data_4 = data_4.dropna(axis=0,how=\"any\")\n",
    "data_4.head()"
   ]
  },
  {
   "cell_type": "code",
   "execution_count": 160,
   "metadata": {
    "collapsed": false
   },
   "outputs": [
    {
     "data": {
      "text/html": [
       "<div>\n",
       "<table border=\"1\" class=\"dataframe\">\n",
       "  <thead>\n",
       "    <tr style=\"text-align: right;\">\n",
       "      <th></th>\n",
       "      <th>ZipCode</th>\n",
       "      <th>LotArea</th>\n",
       "      <th>AssessTot</th>\n",
       "      <th>pred</th>\n",
       "      <th>pred_without_intercept</th>\n",
       "      <th>log_AssessTot</th>\n",
       "      <th>log_LotArea</th>\n",
       "      <th>log_pred</th>\n",
       "    </tr>\n",
       "  </thead>\n",
       "  <tbody>\n",
       "    <tr>\n",
       "      <th>0</th>\n",
       "      <td>11201.0</td>\n",
       "      <td>126975</td>\n",
       "      <td>3922200</td>\n",
       "      <td>2.763698e+06</td>\n",
       "      <td>2.688568e+06</td>\n",
       "      <td>15.182163</td>\n",
       "      <td>11.751745</td>\n",
       "      <td>15.779543</td>\n",
       "    </tr>\n",
       "    <tr>\n",
       "      <th>1</th>\n",
       "      <td>11201.0</td>\n",
       "      <td>52600</td>\n",
       "      <td>1359900</td>\n",
       "      <td>1.189900e+06</td>\n",
       "      <td>1.113752e+06</td>\n",
       "      <td>14.122922</td>\n",
       "      <td>10.870471</td>\n",
       "      <td>14.611879</td>\n",
       "    </tr>\n",
       "    <tr>\n",
       "      <th>2</th>\n",
       "      <td>11201.0</td>\n",
       "      <td>17700</td>\n",
       "      <td>656100</td>\n",
       "      <td>4.514058e+05</td>\n",
       "      <td>3.747797e+05</td>\n",
       "      <td>13.394068</td>\n",
       "      <td>9.781320</td>\n",
       "      <td>13.168782</td>\n",
       "    </tr>\n",
       "    <tr>\n",
       "      <th>5</th>\n",
       "      <td>11201.0</td>\n",
       "      <td>8120</td>\n",
       "      <td>5976000</td>\n",
       "      <td>2.486901e+05</td>\n",
       "      <td>1.719328e+05</td>\n",
       "      <td>15.603262</td>\n",
       "      <td>9.002085</td>\n",
       "      <td>12.136317</td>\n",
       "    </tr>\n",
       "    <tr>\n",
       "      <th>6</th>\n",
       "      <td>11201.0</td>\n",
       "      <td>1297</td>\n",
       "      <td>56954</td>\n",
       "      <td>1.043133e+05</td>\n",
       "      <td>2.746267e+04</td>\n",
       "      <td>10.949999</td>\n",
       "      <td>7.167809</td>\n",
       "      <td>9.705950</td>\n",
       "    </tr>\n",
       "  </tbody>\n",
       "</table>\n",
       "</div>"
      ],
      "text/plain": [
       "   ZipCode  LotArea  AssessTot          pred  pred_without_intercept  \\\n",
       "0  11201.0   126975    3922200  2.763698e+06            2.688568e+06   \n",
       "1  11201.0    52600    1359900  1.189900e+06            1.113752e+06   \n",
       "2  11201.0    17700     656100  4.514058e+05            3.747797e+05   \n",
       "5  11201.0     8120    5976000  2.486901e+05            1.719328e+05   \n",
       "6  11201.0     1297      56954  1.043133e+05            2.746267e+04   \n",
       "\n",
       "   log_AssessTot  log_LotArea   log_pred  \n",
       "0      15.182163    11.751745  15.779543  \n",
       "1      14.122922    10.870471  14.611879  \n",
       "2      13.394068     9.781320  13.168782  \n",
       "5      15.603262     9.002085  12.136317  \n",
       "6      10.949999     7.167809   9.705950  "
      ]
     },
     "execution_count": 160,
     "metadata": {},
     "output_type": "execute_result"
    }
   ],
   "source": [
    "data_4 = data_4[(data_4 != 0).all(axis = 1)]\n",
    "data_4.head()"
   ]
  },
  {
   "cell_type": "markdown",
   "metadata": {},
   "source": [
    "#### (b). Visualize the data set."
   ]
  },
  {
   "cell_type": "code",
   "execution_count": 139,
   "metadata": {
    "collapsed": false
   },
   "outputs": [
    {
     "data": {
      "image/png": "[encoded data removed]",
      "text/plain": [
       "<matplotlib.figure.Figure at 0x7fe8c8eb9e10>"
      ]
     },
     "metadata": {},
     "output_type": "display_data"
    }
   ],
   "source": [
    "plt.scatter(data_4.LotArea,data_4.AssessTot,c='r')\n",
    "plt.xlabel(\"LotArea\")\n",
    "plt.ylabel(\"AssessTot\")\n",
    "plt.legend()\n",
    "plt.show()"
   ]
  },
  {
   "cell_type": "markdown",
   "metadata": {},
   "source": [
    "#### (c).  Build a model : AssessTot=$w_1$*LotArea + $w_2$. Get $w_1$, $w_2$ and $R^2$.  Plot your results together with observations. "
   ]
  },
  {
   "cell_type": "code",
   "execution_count": 140,
   "metadata": {
    "collapsed": true
   },
   "outputs": [],
   "source": [
    "lg2 = smf.ols(formula=\"AssessTot~LotArea\",data=data_4).fit()"
   ]
  },
  {
   "cell_type": "code",
   "execution_count": 141,
   "metadata": {
    "collapsed": false
   },
   "outputs": [
    {
     "data": {
      "text/plain": [
       "Intercept    76868.391376\n",
       "LotArea         21.160305\n",
       "dtype: float64"
      ]
     },
     "execution_count": 141,
     "metadata": {},
     "output_type": "execute_result"
    }
   ],
   "source": [
    "lg2.params"
   ]
  },
  {
   "cell_type": "code",
   "execution_count": 142,
   "metadata": {
    "collapsed": false
   },
   "outputs": [
    {
     "data": {
      "text/html": [
       "<table class=\"simpletable\">\n",
       "<caption>OLS Regression Results</caption>\n",
       "<tr>\n",
       "  <th>Dep. Variable:</th>        <td>AssessTot</td>    <th>  R-squared:         </th>  <td>   0.384</td>  \n",
       "</tr>\n",
       "<tr>\n",
       "  <th>Model:</th>                   <td>OLS</td>       <th>  Adj. R-squared:    </th>  <td>   0.384</td>  \n",
       "</tr>\n",
       "<tr>\n",
       "  <th>Method:</th>             <td>Least Squares</td>  <th>  F-statistic:       </th>  <td>1.724e+05</td> \n",
       "</tr>\n",
       "<tr>\n",
       "  <th>Date:</th>             <td>Wed, 27 Sep 2017</td> <th>  Prob (F-statistic):</th>   <td>  0.00</td>   \n",
       "</tr>\n",
       "<tr>\n",
       "  <th>Time:</th>                 <td>00:47:50</td>     <th>  Log-Likelihood:    </th> <td>-4.6214e+06</td>\n",
       "</tr>\n",
       "<tr>\n",
       "  <th>No. Observations:</th>      <td>275942</td>      <th>  AIC:               </th>  <td>9.243e+06</td> \n",
       "</tr>\n",
       "<tr>\n",
       "  <th>Df Residuals:</th>          <td>275940</td>      <th>  BIC:               </th>  <td>9.243e+06</td> \n",
       "</tr>\n",
       "<tr>\n",
       "  <th>Df Model:</th>              <td>     1</td>      <th>                     </th>      <td> </td>     \n",
       "</tr>\n",
       "<tr>\n",
       "  <th>Covariance Type:</th>      <td>nonrobust</td>    <th>                     </th>      <td> </td>     \n",
       "</tr>\n",
       "</table>\n",
       "<table class=\"simpletable\">\n",
       "<tr>\n",
       "      <td></td>         <th>coef</th>     <th>std err</th>      <th>t</th>      <th>P>|t|</th> <th>[95.0% Conf. Int.]</th> \n",
       "</tr>\n",
       "<tr>\n",
       "  <th>Intercept</th> <td> 7.687e+04</td> <td> 8649.652</td> <td>    8.887</td> <td> 0.000</td> <td> 5.99e+04  9.38e+04</td>\n",
       "</tr>\n",
       "<tr>\n",
       "  <th>LotArea</th>   <td>   21.1603</td> <td>    0.051</td> <td>  415.161</td> <td> 0.000</td> <td>   21.060    21.260</td>\n",
       "</tr>\n",
       "</table>\n",
       "<table class=\"simpletable\">\n",
       "<tr>\n",
       "  <th>Omnibus:</th>       <td>1261795.752</td> <th>  Durbin-Watson:     </th>      <td>   2.280</td>     \n",
       "</tr>\n",
       "<tr>\n",
       "  <th>Prob(Omnibus):</th>   <td> 0.000</td>    <th>  Jarque-Bera (JB):  </th> <td>60345262637933.125</td>\n",
       "</tr>\n",
       "<tr>\n",
       "  <th>Skew:</th>            <td>157.435</td>   <th>  Prob(JB):          </th>      <td>    0.00</td>     \n",
       "</tr>\n",
       "<tr>\n",
       "  <th>Kurtosis:</th>       <td>72448.966</td>  <th>  Cond. No.          </th>      <td>1.70e+05</td>     \n",
       "</tr>\n",
       "</table>"
      ],
      "text/plain": [
       "<class 'statsmodels.iolib.summary.Summary'>\n",
       "\"\"\"\n",
       "                            OLS Regression Results                            \n",
       "==============================================================================\n",
       "Dep. Variable:              AssessTot   R-squared:                       0.384\n",
       "Model:                            OLS   Adj. R-squared:                  0.384\n",
       "Method:                 Least Squares   F-statistic:                 1.724e+05\n",
       "Date:                Wed, 27 Sep 2017   Prob (F-statistic):               0.00\n",
       "Time:                        00:47:50   Log-Likelihood:            -4.6214e+06\n",
       "No. Observations:              275942   AIC:                         9.243e+06\n",
       "Df Residuals:                  275940   BIC:                         9.243e+06\n",
       "Df Model:                           1                                         \n",
       "Covariance Type:            nonrobust                                         \n",
       "==============================================================================\n",
       "                 coef    std err          t      P>|t|      [95.0% Conf. Int.]\n",
       "------------------------------------------------------------------------------\n",
       "Intercept   7.687e+04   8649.652      8.887      0.000      5.99e+04  9.38e+04\n",
       "LotArea       21.1603      0.051    415.161      0.000        21.060    21.260\n",
       "==============================================================================\n",
       "Omnibus:                  1261795.752   Durbin-Watson:                   2.280\n",
       "Prob(Omnibus):                  0.000   Jarque-Bera (JB):   60345262637933.125\n",
       "Skew:                         157.435   Prob(JB):                         0.00\n",
       "Kurtosis:                   72448.966   Cond. No.                     1.70e+05\n",
       "==============================================================================\n",
       "\n",
       "Warnings:\n",
       "[1] Standard Errors assume that the covariance matrix of the errors is correctly specified.\n",
       "[2] The condition number is large, 1.7e+05. This might indicate that there are\n",
       "strong multicollinearity or other numerical problems.\n",
       "\"\"\""
      ]
     },
     "execution_count": 142,
     "metadata": {},
     "output_type": "execute_result"
    }
   ],
   "source": [
    "lg2.summary()"
   ]
  },
  {
   "cell_type": "code",
   "execution_count": 143,
   "metadata": {
    "collapsed": false
   },
   "outputs": [
    {
     "name": "stdout",
     "output_type": "stream",
     "text": [
      "w1 is 21.1603050366, w0 is 76868.3913758, R2 is 0.38447323434\n"
     ]
    }
   ],
   "source": [
    "print(\"w1 is {}, w0 is {}, R2 is {}\".format(lg2.params[1],lg2.params[0],lg2.rsquared))"
   ]
  },
  {
   "cell_type": "code",
   "execution_count": 144,
   "metadata": {
    "collapsed": true
   },
   "outputs": [],
   "source": [
    "data_4[\"pred\"] = data_4.LotArea*lg2.params[1]+lg2.params[0]"
   ]
  },
  {
   "cell_type": "code",
   "execution_count": 145,
   "metadata": {
    "collapsed": false
   },
   "outputs": [
    {
     "data": {
      "image/png": "[encoded data removed]",
      "text/plain": [
       "<matplotlib.figure.Figure at 0x7fe8c8e1e050>"
      ]
     },
     "metadata": {},
     "output_type": "display_data"
    }
   ],
   "source": [
    "plt.scatter(data_4.LotArea,data_4.AssessTot,c='r')\n",
    "plt.plot(data_4.LotArea,data_4.pred,c='b')\n",
    "plt.xlabel(\"LotArea\")\n",
    "plt.ylabel(\"AssessTot\")\n",
    "plt.legend()\n",
    "plt.show()"
   ]
  },
  {
   "cell_type": "markdown",
   "metadata": {},
   "source": [
    "#### (d) Repeat (c) without intercept, i.e. with $w_2=0$."
   ]
  },
  {
   "cell_type": "code",
   "execution_count": 146,
   "metadata": {
    "collapsed": false
   },
   "outputs": [
    {
     "name": "stdout",
     "output_type": "stream",
     "text": [
      "w1 is 21.1739954474, R2 is 0.384928026064\n"
     ]
    }
   ],
   "source": [
    "lg3 = smf.ols(formula=\"AssessTot~LotArea-1\",data=data_4).fit()\n",
    "print(\"w1 is {}, R2 is {}\".format(lg3.params[0],lg3.rsquared))"
   ]
  },
  {
   "cell_type": "code",
   "execution_count": 147,
   "metadata": {
    "collapsed": true
   },
   "outputs": [],
   "source": [
    "data_4[\"pred_without_intercept\"] = data_4.LotArea*lg3.params[0]"
   ]
  },
  {
   "cell_type": "code",
   "execution_count": 148,
   "metadata": {
    "collapsed": false
   },
   "outputs": [
    {
     "data": {
      "image/png": "[encoded data removed]",
      "text/plain": [
       "<matplotlib.figure.Figure at 0x7fe8c8def890>"
      ]
     },
     "metadata": {},
     "output_type": "display_data"
    }
   ],
   "source": [
    "plt.scatter(data_4.LotArea,data_4.AssessTot,c='r')\n",
    "plt.plot(data_4.LotArea,data_4.pred_without_intercept,c='b')\n",
    "plt.xlabel(\"LotArea\")\n",
    "plt.ylabel(\"AssessTot\")\n",
    "plt.legend()\n",
    "plt.show()"
   ]
  },
  {
   "cell_type": "markdown",
   "metadata": {
    "collapsed": true
   },
   "source": [
    "### Question (5): (20pt)\n",
    "\n",
    "For the same data as above try the model: log_AssessTot=$w_1$*log_LotArea + $w_2$. Get $w_1$, $w_2$ and $R^2$.  And plot your results together with observations. Explain the result - what does the estimated \"$w_1$\" means to you?"
   ]
  },
  {
   "cell_type": "code",
   "execution_count": 149,
   "metadata": {
    "collapsed": false
   },
   "outputs": [
    {
     "data": {
      "text/html": [
       "<div>\n",
       "<table border=\"1\" class=\"dataframe\">\n",
       "  <thead>\n",
       "    <tr style=\"text-align: right;\">\n",
       "      <th></th>\n",
       "      <th>ZipCode</th>\n",
       "      <th>LotArea</th>\n",
       "      <th>AssessTot</th>\n",
       "      <th>pred</th>\n",
       "      <th>pred_without_intercept</th>\n",
       "      <th>log_AssessTot</th>\n",
       "      <th>log_LotArea</th>\n",
       "    </tr>\n",
       "  </thead>\n",
       "  <tbody>\n",
       "    <tr>\n",
       "      <th>0</th>\n",
       "      <td>11201.0</td>\n",
       "      <td>126975</td>\n",
       "      <td>3922200</td>\n",
       "      <td>2.763698e+06</td>\n",
       "      <td>2.688568e+06</td>\n",
       "      <td>15.182163</td>\n",
       "      <td>11.751745</td>\n",
       "    </tr>\n",
       "    <tr>\n",
       "      <th>1</th>\n",
       "      <td>11201.0</td>\n",
       "      <td>52600</td>\n",
       "      <td>1359900</td>\n",
       "      <td>1.189900e+06</td>\n",
       "      <td>1.113752e+06</td>\n",
       "      <td>14.122922</td>\n",
       "      <td>10.870471</td>\n",
       "    </tr>\n",
       "    <tr>\n",
       "      <th>2</th>\n",
       "      <td>11201.0</td>\n",
       "      <td>17700</td>\n",
       "      <td>656100</td>\n",
       "      <td>4.514058e+05</td>\n",
       "      <td>3.747797e+05</td>\n",
       "      <td>13.394068</td>\n",
       "      <td>9.781320</td>\n",
       "    </tr>\n",
       "    <tr>\n",
       "      <th>5</th>\n",
       "      <td>11201.0</td>\n",
       "      <td>8120</td>\n",
       "      <td>5976000</td>\n",
       "      <td>2.486901e+05</td>\n",
       "      <td>1.719328e+05</td>\n",
       "      <td>15.603262</td>\n",
       "      <td>9.002085</td>\n",
       "    </tr>\n",
       "    <tr>\n",
       "      <th>6</th>\n",
       "      <td>11201.0</td>\n",
       "      <td>1297</td>\n",
       "      <td>56954</td>\n",
       "      <td>1.043133e+05</td>\n",
       "      <td>2.746267e+04</td>\n",
       "      <td>10.949999</td>\n",
       "      <td>7.167809</td>\n",
       "    </tr>\n",
       "  </tbody>\n",
       "</table>\n",
       "</div>"
      ],
      "text/plain": [
       "   ZipCode  LotArea  AssessTot          pred  pred_without_intercept  \\\n",
       "0  11201.0   126975    3922200  2.763698e+06            2.688568e+06   \n",
       "1  11201.0    52600    1359900  1.189900e+06            1.113752e+06   \n",
       "2  11201.0    17700     656100  4.514058e+05            3.747797e+05   \n",
       "5  11201.0     8120    5976000  2.486901e+05            1.719328e+05   \n",
       "6  11201.0     1297      56954  1.043133e+05            2.746267e+04   \n",
       "\n",
       "   log_AssessTot  log_LotArea  \n",
       "0      15.182163    11.751745  \n",
       "1      14.122922    10.870471  \n",
       "2      13.394068     9.781320  \n",
       "5      15.603262     9.002085  \n",
       "6      10.949999     7.167809  "
      ]
     },
     "execution_count": 149,
     "metadata": {},
     "output_type": "execute_result"
    }
   ],
   "source": [
    "data_4[\"log_AssessTot\"]=np.log(data_4.AssessTot)\n",
    "data_4[\"log_LotArea\"]=np.log(data_4.LotArea)\n",
    "data_4.head()"
   ]
  },
  {
   "cell_type": "code",
   "execution_count": 150,
   "metadata": {
    "collapsed": false
   },
   "outputs": [],
   "source": [
    "lg4 = smf.ols(formula=\"log_AssessTot~log_LotArea\",data=data_4).fit()"
   ]
  },
  {
   "cell_type": "code",
   "execution_count": 151,
   "metadata": {
    "collapsed": false
   },
   "outputs": [
    {
     "data": {
      "text/plain": [
       "Intercept      0.208794\n",
       "log_LotArea    1.324973\n",
       "dtype: float64"
      ]
     },
     "execution_count": 151,
     "metadata": {},
     "output_type": "execute_result"
    }
   ],
   "source": [
    "lg4.params"
   ]
  },
  {
   "cell_type": "code",
   "execution_count": 152,
   "metadata": {
    "collapsed": false
   },
   "outputs": [
    {
     "data": {
      "text/html": [
       "<table class=\"simpletable\">\n",
       "<caption>OLS Regression Results</caption>\n",
       "<tr>\n",
       "  <th>Dep. Variable:</th>      <td>log_AssessTot</td>  <th>  R-squared:         </th>  <td>   0.491</td>  \n",
       "</tr>\n",
       "<tr>\n",
       "  <th>Model:</th>                   <td>OLS</td>       <th>  Adj. R-squared:    </th>  <td>   0.491</td>  \n",
       "</tr>\n",
       "<tr>\n",
       "  <th>Method:</th>             <td>Least Squares</td>  <th>  F-statistic:       </th>  <td>2.659e+05</td> \n",
       "</tr>\n",
       "<tr>\n",
       "  <th>Date:</th>             <td>Wed, 27 Sep 2017</td> <th>  Prob (F-statistic):</th>   <td>  0.00</td>   \n",
       "</tr>\n",
       "<tr>\n",
       "  <th>Time:</th>                 <td>00:47:58</td>     <th>  Log-Likelihood:    </th> <td>-3.4454e+05</td>\n",
       "</tr>\n",
       "<tr>\n",
       "  <th>No. Observations:</th>      <td>275942</td>      <th>  AIC:               </th>  <td>6.891e+05</td> \n",
       "</tr>\n",
       "<tr>\n",
       "  <th>Df Residuals:</th>          <td>275940</td>      <th>  BIC:               </th>  <td>6.891e+05</td> \n",
       "</tr>\n",
       "<tr>\n",
       "  <th>Df Model:</th>              <td>     1</td>      <th>                     </th>      <td> </td>     \n",
       "</tr>\n",
       "<tr>\n",
       "  <th>Covariance Type:</th>      <td>nonrobust</td>    <th>                     </th>      <td> </td>     \n",
       "</tr>\n",
       "</table>\n",
       "<table class=\"simpletable\">\n",
       "<tr>\n",
       "       <td></td>          <th>coef</th>     <th>std err</th>      <th>t</th>      <th>P>|t|</th> <th>[95.0% Conf. Int.]</th> \n",
       "</tr>\n",
       "<tr>\n",
       "  <th>Intercept</th>   <td>    0.2088</td> <td>    0.020</td> <td>   10.345</td> <td> 0.000</td> <td>    0.169     0.248</td>\n",
       "</tr>\n",
       "<tr>\n",
       "  <th>log_LotArea</th> <td>    1.3250</td> <td>    0.003</td> <td>  515.625</td> <td> 0.000</td> <td>    1.320     1.330</td>\n",
       "</tr>\n",
       "</table>\n",
       "<table class=\"simpletable\">\n",
       "<tr>\n",
       "  <th>Omnibus:</th>       <td>29138.667</td> <th>  Durbin-Watson:     </th>  <td>   0.917</td> \n",
       "</tr>\n",
       "<tr>\n",
       "  <th>Prob(Omnibus):</th>  <td> 0.000</td>   <th>  Jarque-Bera (JB):  </th> <td>197341.462</td>\n",
       "</tr>\n",
       "<tr>\n",
       "  <th>Skew:</th>           <td> 0.276</td>   <th>  Prob(JB):          </th>  <td>    0.00</td> \n",
       "</tr>\n",
       "<tr>\n",
       "  <th>Kurtosis:</th>       <td> 7.106</td>   <th>  Cond. No.          </th>  <td>    100.</td> \n",
       "</tr>\n",
       "</table>"
      ],
      "text/plain": [
       "<class 'statsmodels.iolib.summary.Summary'>\n",
       "\"\"\"\n",
       "                            OLS Regression Results                            \n",
       "==============================================================================\n",
       "Dep. Variable:          log_AssessTot   R-squared:                       0.491\n",
       "Model:                            OLS   Adj. R-squared:                  0.491\n",
       "Method:                 Least Squares   F-statistic:                 2.659e+05\n",
       "Date:                Wed, 27 Sep 2017   Prob (F-statistic):               0.00\n",
       "Time:                        00:47:58   Log-Likelihood:            -3.4454e+05\n",
       "No. Observations:              275942   AIC:                         6.891e+05\n",
       "Df Residuals:                  275940   BIC:                         6.891e+05\n",
       "Df Model:                           1                                         \n",
       "Covariance Type:            nonrobust                                         \n",
       "===============================================================================\n",
       "                  coef    std err          t      P>|t|      [95.0% Conf. Int.]\n",
       "-------------------------------------------------------------------------------\n",
       "Intercept       0.2088      0.020     10.345      0.000         0.169     0.248\n",
       "log_LotArea     1.3250      0.003    515.625      0.000         1.320     1.330\n",
       "==============================================================================\n",
       "Omnibus:                    29138.667   Durbin-Watson:                   0.917\n",
       "Prob(Omnibus):                  0.000   Jarque-Bera (JB):           197341.462\n",
       "Skew:                           0.276   Prob(JB):                         0.00\n",
       "Kurtosis:                       7.106   Cond. No.                         100.\n",
       "==============================================================================\n",
       "\n",
       "Warnings:\n",
       "[1] Standard Errors assume that the covariance matrix of the errors is correctly specified.\n",
       "\"\"\""
      ]
     },
     "execution_count": 152,
     "metadata": {},
     "output_type": "execute_result"
    }
   ],
   "source": [
    "lg4.summary()"
   ]
  },
  {
   "cell_type": "code",
   "execution_count": 153,
   "metadata": {
    "collapsed": false
   },
   "outputs": [
    {
     "name": "stdout",
     "output_type": "stream",
     "text": [
      "w1 is 1.32497333191, w0 is 0.20879395748, R2 is 0.490706561371\n"
     ]
    }
   ],
   "source": [
    "print(\"w1 is {}, w0 is {}, R2 is {}\".format(lg4.params[1],lg4.params[0],lg4.rsquared))"
   ]
  },
  {
   "cell_type": "code",
   "execution_count": 154,
   "metadata": {
    "collapsed": true
   },
   "outputs": [],
   "source": [
    "data_4[\"log_pred\"]=data_4.log_LotArea*lg4.params[1]+lg4.params[0]"
   ]
  },
  {
   "cell_type": "code",
   "execution_count": 155,
   "metadata": {
    "collapsed": false
   },
   "outputs": [
    {
     "data": {
      "image/png": "[encoded data removed]",
      "text/plain": [
       "<matplotlib.figure.Figure at 0x7fe8c91e5d90>"
      ]
     },
     "metadata": {},
     "output_type": "display_data"
    }
   ],
   "source": [
    "plt.scatter(data_4.log_LotArea,data_4.log_AssessTot,c='r')\n",
    "plt.plot(data_4.log_LotArea,data_4.log_pred,c='b')\n",
    "plt.xlabel(\"log_LotArea\")\n",
    "plt.ylabel(\"log_AssessTot\")\n",
    "plt.legend()\n",
    "plt.show()"
   ]
  },
  {
   "cell_type": "markdown",
   "metadata": {},
   "source": [
    "## We can see that without log, the assesstot data was extremely skewed towards left so this leads to a very small w1 compared to w0 which means that lotarea has little influence on assesstot. However, after logarithm the assesstot data was more  uniformly distributed over lotarea data so the w1 here is quite big compared to w0 which means that lotarea could have not small impact on assesstot."
   ]
  }
 ],
 "metadata": {
  "kernelspec": {
   "display_name": "PUI2016_Python2",
   "language": "python",
   "name": "pui2016_python2"
  },
  "language_info": {
   "codemirror_mode": {
    "name": "ipython",
    "version": 2
   },
   "file_extension": ".py",
   "mimetype": "text/x-python",
   "name": "python",
   "nbconvert_exporter": "python",
   "pygments_lexer": "ipython2",
   "version": "2.7.12"
  }
 },
 "nbformat": 4,
 "nbformat_minor": 0
}
