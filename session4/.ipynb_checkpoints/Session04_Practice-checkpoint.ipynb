{
 "cells": [
  {
   "cell_type": "markdown",
   "metadata": {
    "nbpresent": {
     "id": "0b38caa2-2b41-4c2f-bdd2-4ebecd00693c"
    }
   },
   "source": [
    "# Multi-variate linear regression\n",
    "\n",
    "## 1. Definition and parameter estimation\n",
    "\n",
    "As we remember linear model between single real-value regressor $x$ and output variable $y$ is expressed by \n",
    "$$\n",
    "y=w_1 x + w_0 +\\varepsilon.\n",
    "$$\n",
    "$w_1$-slope coefficient, $w_0$ - intercept, $\\varepsilon$ - random noise. In a more general case when $x$ is a real-valued $n \\times 1$-vector $x=(x_1,x_2,...,x_n)^T$, the model could be easily generalized as\n",
    "$$\n",
    "y=\\sum\\limits_j w_j x_j +\\varepsilon\n",
    "$$\n",
    "or in a vector form\n",
    "$$\n",
    "y=w^T x+\\varepsilon, \\hspace{5ex} (1)\n",
    "$$\n",
    "where $w=(w_1,w_2,...,w_n)$ is also a $n \\times 1$-vector. \n",
    "Notice that intercept is not specifically separated as it could be always introduced by adding a dummy variable $x^m\\equiv 1$.\n",
    "\n",
    "The probabilistic view on the model in the assumption that $\\varepsilon\\sim {\\cal N}(0,\\sigma^2)$ is\n",
    "$$\n",
    "p(y|x,w,\\sigma)={\\cal N}(y|w^T x,\\sigma^2).\n",
    "$$\n",
    "\n",
    "Given a training set $X=\\{(x_j^i), j=1..n, i=1..N\\}$, $Y=\\{(y^i), i=1..N\\}$ (further also denote columns of $X$ as $X_j=\\{(x_j^i), i=1..N\\}$), the least square optimization criteria for inferring a vector of coefficients $w$ can be written as\n",
    "\n",
    "$$\n",
    "RSS(w)= \\sum \\limits_i \\varepsilon_i^2= \\sum \\limits_i (y^i-w^T x^i)^2. \\hspace{5ex} (2)\n",
    "$$\n",
    "\n",
    "or in a matrix form:\n",
    "$$\n",
    "RSS(w)=(Y-X w)^T(Y-X w).\n",
    "$$\n",
    "Then finding an estimate\n",
    "$$\n",
    "\\hat{w}=argmin_w RSS(w)\n",
    "$$\n",
    "can be done by solving the system (in a matrix form)\n",
    "$$\n",
    "0=\\frac{\\partial RSS(\\hat{w})}{\\partial w}=2X^T (Y-X \\hat{w}).\n",
    "$$\n",
    "Using matrix formalism the solution could be expressed as\n",
    "$$\n",
    "\\hat{w}=\\left(X^T X\\right )^{-1}X^T Y. \\hspace{5ex} (3)\n",
    "$$\n",
    "This assumes that $X^T X$ is non-singular. Otherwise we have a case of multicollinearity."
   ]
  },
  {
   "cell_type": "markdown",
   "metadata": {
    "nbpresent": {
     "id": "973f2e0f-aca4-47f4-bc31-ded3265aea28"
    }
   },
   "source": [
    "## 2. Geometry of Least Squares\n",
    "\n",
    "According to (3), model estimates $\\hat{Y}$ corresponding to the given points in $X$ are\n",
    "$$\n",
    "\\hat{Y}=X \\hat{w}=X(X^T X)^{-1}X^T Y.\n",
    "$$\n",
    "This way matrix $H=X(X^T X)^{-1}X^T$ performs an ortogonal projection $HY$ of a given vector of observations $Y$ onto the linear space of all possible linear combinations of columns of $X$.\n",
    "\n",
    "## 3. Explanations of R-squared\n",
    "\n",
    "In the same way as for the bi-variate regression:\n",
    "$$\n",
    "R^2=1-\\frac{RSS}{\\sum\\limits_i (y_i-\\overline{y})^2}=\\frac{\\sum\\limits_i (\\hat{y}_i-\\overline{y})^2}{\\sum\\limits_i (y_i-\\overline{y})^2},\n",
    "$$\n",
    "where $\\overline{y}=\\sum\\limits_i y_i$ is the sample mean of observed values of responce variable. This way $R^2$ is often interpreted as a fraction of responce variable's variance explained by linear model. $R^2=1$ is equivalent to $RSS=0$, i.e. the model fits the observations exactly, i.e. responce variable depends linearly on the explaining variables. On the other hand, $R^2=0$ means that the model always predicts the sample mean $\\overline{y}$, i.e. explaining variables $x$ have no effect on responce variable $y$. \n",
    "\n",
    "Least-square criteria is equivalent to maximizing $R^2$."
   ]
  },
  {
   "cell_type": "markdown",
   "metadata": {
    "nbpresent": {
     "id": "e05e0218-41ee-4b6a-b8c8-f030accc7239"
    }
   },
   "source": [
    "## 4. Feature scaling\n",
    "\n",
    "Often in order to get some sense out of the values of $w_j$ one might want to normalize the features first, bringing them on the same scale. For example one can standardize, transforming independent variables into their standard scores (also called z-scores, normal scores):\n",
    "$$\n",
    "x_j^*=\\frac{x_j-\\overline{x}_j}{\\sigma_j}\n",
    "$$\n",
    "where $\\overline{x}_j=E[X_j]$ and $\\sigma_j=std[X_j]$ are the corresponding sample mean and standard deviation. This however does not apply to a constant dummy variable corresponding to the intercept term if present. One might omit this dummy variable in case if responce variable is also standardized (then it's mean is also zero and there is no need for an intercept). \n",
    "\n",
    "Then, the resulting coefficients $\\hat{w}_j$ could be interpreted as a relative (or absolute if the output variable is also standardized) strength of each regressor's impact on the responce variable $x_j$."
   ]
  },
  {
   "cell_type": "markdown",
   "metadata": {
    "nbpresent": {
     "id": "b19f7d84-9b9b-408f-a325-f149c98fc322"
    }
   },
   "source": [
    "## 5. Case of orthogonal regressors\n",
    "\n",
    "Consider a particular case of orthogonal regressors. I.e. suppose that for each pair of $j\\neq k$ the inner product equals to zero: $$<X_j,X_k> \\quad= \\quad X_j^T X_k = \\sum\\limits_i x_j^i x_k^i=0$$\n",
    "For the standardized regressors orthogonality is equivalent to being uncorrelated; more generally if at least one of the regressors $x_j$ is standardized (consequently $E[X_j]=0$) then:\n",
    "$$\n",
    "0=corr[X_j,X_k]=\\frac{Cov[X_j,X_k]}{std[X_j]std[X_k]}=\\frac{\\frac{<X_j,X_k>}{N}-E[X_j]E[X_k]}{std[X_j]std[X_k]}=\\frac{<X_j,X_k>}{N std[X_j]std[X_k]}.\n",
    "$$\n",
    "In that case it is possible to show that least square estimate for the multiple regression could be built from a set of univariate regressions of $y$ vs each of the regressors $x_j$ taken separately. Then\n",
    "$$\n",
    "\\hat{w_j}=\\frac{X_j^T Y}{X_j^T X_j}.\n",
    "$$\n",
    "If $X_j$ is also standardized, so that $E[X_j]=0$ and $Var[X_j]=1$, the above could be re-written as\n",
    "$$\n",
    "\\hat{w_j}=Cov[X_j,Y].\n",
    "$$\n",
    "Also this way \n",
    "$$\n",
    "Var[Y]=Var[\\varepsilon]+\\sum_j Var[w_j X_j]=\\sigma^2+\\sum_j w_j^2.\n",
    "$$\n",
    "This gives a very intuitive interpretation of the regression coefficients (or actually their squares) as a **decomposition of the explained part of response variable's variation $Var[Y]-\\sigma^2$**. \n",
    "\n",
    "However this works only for the basic least-square estimates $w=\\hat{w}$, $\\sigma=\\hat{\\sigma}$. While depending on the estimation technique used for $\\hat{w}$ and $\\hat{\\sigma}$ (like using unbiased estimates for example), this equation might only hold approximately.\n",
    "\n",
    "If $Y$ is also standardized then $\\hat{w_j}=corr[X_j,Y]$, i.e. coefficients of such a regression are simply the correlation coefficients of observed sample of responce variable vs each of the regressors. So basically the multivariate regression with ortognal standardized regressors and standardized responce variable could be expressed as\n",
    "$$\n",
    "y=\\sum\\limits_j corr[X_j,Y] x_j+\\varepsilon.\n",
    "$$\n",
    "This way the regression coefficients are simply the correlations between corresponding regressors and the responce variable's observations.\n",
    "\n",
    "Although the case of ortogonal (uncorrelated) regressors seems to be quite a special one, during the next session, we'll see that actually every regression could be transformed to such a case through a principle component decomposition.\n"
   ]
  },
  {
   "cell_type": "markdown",
   "metadata": {
    "nbpresent": {
     "id": "8a089b95-a607-44cf-94fe-f34d511c3944"
    }
   },
   "source": [
    "## 6. Non-linear polynimial regression \n",
    "\n",
    "Multi-variate linear regression could be also used in order to fit non-linear models, such as polynomial one for example. If one needs to fit a dependence of \n",
    "$$\n",
    "y=w_mx^m + w_{m-1} x^{m-1} + \\ldots + w_1 x + w_0+\\epsilon,\n",
    "$$\n",
    "one way of doing that it thourgh a multi-variate regression, selecting \n",
    "$$\n",
    "y\\sim 1,x,x^2,\\ldots,x^{m}\n",
    "$$ \n",
    "as $m+1$ features. Similarly a polinomial form of several variables could be fit, like \n",
    "$$\n",
    "y\\sim w_{2,0}x_1^2+w_{1,1}x_1 x_2+w_{2,0}x_2^2+w_{1,0}x_1+w_{0,1}x_2+w_{0,0}\n",
    "$$\n",
    "could be handled over a feature space including\n",
    "$$\n",
    "y\\sim 1,x_1,x_2,x_1^2,x_2^2.\n",
    "$$"
   ]
  },
  {
   "cell_type": "markdown",
   "metadata": {},
   "source": [
    "# Lab Session"
   ]
  },
  {
   "cell_type": "code",
   "execution_count": 1,
   "metadata": {
    "nbpresent": {
     "id": "7b1edb37-5628-4e65-9416-6b818990dfba"
    }
   },
   "outputs": [
    {
     "name": "stdout",
     "output_type": "stream",
     "text": [
      "Populating the interactive namespace from numpy and matplotlib\n"
     ]
    }
   ],
   "source": [
    "import numpy as np   # basic numeric module in python, for array and matrix computation\n",
    "import pandas as pd  # advanced numeric module, excels in data frame analysis\n",
    "import matplotlib.pyplot as plt  # for data visualization\n",
    "%pylab inline\n",
    "# so the plots are embedded in notebook rather than a stand alone window\n",
    "\n",
    "from mpl_toolkits.mplot3d import Axes3D  # for 3D plot\n",
    "import statsmodels.formula.api as smf    # for OLS regression\n",
    "\n",
    "#path = 'https://serv.cusp.nyu.edu/~cq299/ADS2016/Data/'\n",
    "path=''"
   ]
  },
  {
   "cell_type": "markdown",
   "metadata": {},
   "source": [
    "# Python hints"
   ]
  },
  {
   "cell_type": "markdown",
   "metadata": {
    "collapsed": true
   },
   "source": [
    "### Three different ways of selecting data from a data frame DF\n",
    "* DF.loc[row_label, col_label] $\\qquad$ Labels, names, boolean expression etc.\n",
    "    * Check the zipcode and area of the houses that worth more than 250k: **DF.loc[ DF.price > 250000, ['zipcode','area'] ]**\n",
    "* DF.iloc[row_index, col_index] $\\quad\\:\\:$ Integer positional access\n",
    "    * Select all last three columns between row 2 and row 5(inclusive): **DF.iloc[ 2:6 , -3: ]**\n",
    "* DF.ix[row_index] $\\qquad\\qquad\\quad\\:\\:$  Primary label-based, but integer works as well\n",
    "    * Works like the combination of loc and iloc    \n",
    "* One more thing to care about$\\quad\\:\\:$In expression **x:y** for data selection, the row/column of endpoint **y** would be\n",
    "    * Excluded if **y** is integer\n",
    "    * Included if **y** is label"
   ]
  },
  {
   "cell_type": "markdown",
   "metadata": {
    "nbpresent": {
     "id": "dbb28b4c-45a2-45df-ab07-a9d25d54d98a"
    }
   },
   "source": [
    "# Example 1, basics\n",
    "## Try to fit y given $y = w_0 + w_1 x_1 + w_2 x_2 + \\epsilon$"
   ]
  },
  {
   "cell_type": "code",
   "execution_count": 2,
   "metadata": {
    "nbpresent": {
     "id": "e2cbf161-5e2d-4df0-894b-9ad32652e7cb"
    }
   },
   "outputs": [
    {
     "data": {
      "text/html": [
       "<div>\n",
       "<table border=\"1\" class=\"dataframe\">\n",
       "  <thead>\n",
       "    <tr style=\"text-align: right;\">\n",
       "      <th></th>\n",
       "      <th>x1</th>\n",
       "      <th>x2</th>\n",
       "      <th>y</th>\n",
       "    </tr>\n",
       "  </thead>\n",
       "  <tbody>\n",
       "    <tr>\n",
       "      <th>0</th>\n",
       "      <td>1.964692</td>\n",
       "      <td>-2.138607</td>\n",
       "      <td>-5.605927</td>\n",
       "    </tr>\n",
       "    <tr>\n",
       "      <th>1</th>\n",
       "      <td>-2.731485</td>\n",
       "      <td>0.513148</td>\n",
       "      <td>-18.856722</td>\n",
       "    </tr>\n",
       "    <tr>\n",
       "      <th>2</th>\n",
       "      <td>2.194690</td>\n",
       "      <td>-0.768935</td>\n",
       "      <td>-6.063095</td>\n",
       "    </tr>\n",
       "  </tbody>\n",
       "</table>\n",
       "</div>"
      ],
      "text/plain": [
       "         x1        x2          y\n",
       "0  1.964692 -2.138607  -5.605927\n",
       "1 -2.731485  0.513148 -18.856722\n",
       "2  2.194690 -0.768935  -6.063095"
      ]
     },
     "execution_count": 2,
     "metadata": {},
     "output_type": "execute_result"
    }
   ],
   "source": [
    "data1 = pd.read_csv(path + 'Example1.csv')\n",
    "data1.head(3)"
   ]
  },
  {
   "cell_type": "markdown",
   "metadata": {
    "nbpresent": {
     "id": "acd6cb4a-a53c-4a57-9ea9-6d1130bd153d"
    }
   },
   "source": [
    "### (A) Matrix computation\n",
    "### $$\\hat{w}=\\left(X^T X\\right )^{-1}X^T Y. \\hspace{5ex} $$"
   ]
  },
  {
   "cell_type": "code",
   "execution_count": 3,
   "metadata": {
    "nbpresent": {
     "id": "ba711c05-6028-4fd7-9350-58f5b2c4e3d1"
    }
   },
   "outputs": [
    {
     "name": "stdout",
     "output_type": "stream",
     "text": [
      "[[-10.10498527]\n",
      " [  2.67679769]\n",
      " [ -0.70613511]]\n"
     ]
    }
   ],
   "source": [
    "#Q1. Create a new column x0 for intercept, set the values to 1\n",
    "data1['x0'] = 1\n",
    "\n",
    "#Q2. Create X and Y in matrix form then use matrix computation formula to calculate the coefficients\n",
    "X = np.matrix(data1.loc[:,['x0','x1','x2']])\n",
    "Y = np.matrix(data1.y).T\n",
    "w = (X.T * X).I * X.T * Y\n",
    "print(w)"
   ]
  },
  {
   "cell_type": "markdown",
   "metadata": {
    "nbpresent": {
     "id": "b986d918-47fa-4ac2-ba9f-ba9bcc430030"
    }
   },
   "source": [
    "### (B) *statsmodels* module"
   ]
  },
  {
   "cell_type": "code",
   "execution_count": 4,
   "metadata": {
    "nbpresent": {
     "id": "49de85ea-abf8-4e40-8abd-ac9219c1ff4f"
    }
   },
   "outputs": [
    {
     "name": "stdout",
     "output_type": "stream",
     "text": [
      "R2 = 0.776112\n",
      "Intercept   -10.104985\n",
      "x1            2.676798\n",
      "x2           -0.706135\n",
      "dtype: float64\n"
     ]
    }
   ],
   "source": [
    "#Q3. Use statsmodels to regress y over x1 and x2, provide the r-squared and coefficients\n",
    "lm1 = smf.ols(formula = 'y ~ x1 + x2', data = data1).fit()\n",
    "print('R2 = %f'%lm1.rsquared)\n",
    "print(lm1.params)"
   ]
  },
  {
   "cell_type": "code",
   "execution_count": 5,
   "metadata": {
    "nbpresent": {
     "id": "1651addc-d785-4d56-a7c0-86d5034c7da5"
    }
   },
   "outputs": [
    {
     "data": {
      "text/html": [
       "<div>\n",
       "<table border=\"1\" class=\"dataframe\">\n",
       "  <thead>\n",
       "    <tr style=\"text-align: right;\">\n",
       "      <th></th>\n",
       "      <th>Matrix_Computation</th>\n",
       "      <th>Regression</th>\n",
       "    </tr>\n",
       "  </thead>\n",
       "  <tbody>\n",
       "    <tr>\n",
       "      <th>Intercept</th>\n",
       "      <td>[-10.1049852733]</td>\n",
       "      <td>-10.104985</td>\n",
       "    </tr>\n",
       "    <tr>\n",
       "      <th>x1</th>\n",
       "      <td>[2.67679768576]</td>\n",
       "      <td>2.676798</td>\n",
       "    </tr>\n",
       "    <tr>\n",
       "      <th>x2</th>\n",
       "      <td>[-0.706135109154]</td>\n",
       "      <td>-0.706135</td>\n",
       "    </tr>\n",
       "  </tbody>\n",
       "</table>\n",
       "</div>"
      ],
      "text/plain": [
       "          Matrix_Computation  Regression\n",
       "Intercept   [-10.1049852733]  -10.104985\n",
       "x1           [2.67679768576]    2.676798\n",
       "x2         [-0.706135109154]   -0.706135"
      ]
     },
     "execution_count": 5,
     "metadata": {},
     "output_type": "execute_result"
    }
   ],
   "source": [
    "#Q4. Compare the coefficients obtained through different methods\n",
    "pd.DataFrame({'Matrix_Computation':w.tolist(), 'Regression':lm1.params})\n",
    "# First create a dict object, claiming the labels and respective data, then convert it to a data frame"
   ]
  },
  {
   "cell_type": "code",
   "execution_count": 6,
   "metadata": {
    "nbpresent": {
     "id": "3af83e19-3277-4c1b-8941-1f8a4c8040a0"
    }
   },
   "outputs": [
    {
     "data": {
      "text/html": [
       "<div>\n",
       "<table border=\"1\" class=\"dataframe\">\n",
       "  <thead>\n",
       "    <tr style=\"text-align: right;\">\n",
       "      <th></th>\n",
       "      <th>x1</th>\n",
       "      <th>x2</th>\n",
       "      <th>y</th>\n",
       "      <th>x0</th>\n",
       "    </tr>\n",
       "  </thead>\n",
       "  <tbody>\n",
       "    <tr>\n",
       "      <th>count</th>\n",
       "      <td>20.000000</td>\n",
       "      <td>20.000000</td>\n",
       "      <td>20.000000</td>\n",
       "      <td>20.0</td>\n",
       "    </tr>\n",
       "    <tr>\n",
       "      <th>mean</th>\n",
       "      <td>0.027218</td>\n",
       "      <td>-0.075481</td>\n",
       "      <td>-9.978829</td>\n",
       "      <td>1.0</td>\n",
       "    </tr>\n",
       "    <tr>\n",
       "      <th>std</th>\n",
       "      <td>2.397628</td>\n",
       "      <td>2.247203</td>\n",
       "      <td>7.251472</td>\n",
       "      <td>0.0</td>\n",
       "    </tr>\n",
       "    <tr>\n",
       "      <th>min</th>\n",
       "      <td>-4.078951</td>\n",
       "      <td>-4.403221</td>\n",
       "      <td>-24.968052</td>\n",
       "      <td>1.0</td>\n",
       "    </tr>\n",
       "    <tr>\n",
       "      <th>25%</th>\n",
       "      <td>-1.428640</td>\n",
       "      <td>-1.797155</td>\n",
       "      <td>-14.739759</td>\n",
       "      <td>1.0</td>\n",
       "    </tr>\n",
       "    <tr>\n",
       "      <th>50%</th>\n",
       "      <td>-0.652825</td>\n",
       "      <td>-0.022391</td>\n",
       "      <td>-9.617834</td>\n",
       "      <td>1.0</td>\n",
       "    </tr>\n",
       "    <tr>\n",
       "      <th>75%</th>\n",
       "      <td>2.022191</td>\n",
       "      <td>1.444395</td>\n",
       "      <td>-6.344681</td>\n",
       "      <td>1.0</td>\n",
       "    </tr>\n",
       "    <tr>\n",
       "      <th>max</th>\n",
       "      <td>4.807642</td>\n",
       "      <td>3.933892</td>\n",
       "      <td>7.571092</td>\n",
       "      <td>1.0</td>\n",
       "    </tr>\n",
       "  </tbody>\n",
       "</table>\n",
       "</div>"
      ],
      "text/plain": [
       "              x1         x2          y    x0\n",
       "count  20.000000  20.000000  20.000000  20.0\n",
       "mean    0.027218  -0.075481  -9.978829   1.0\n",
       "std     2.397628   2.247203   7.251472   0.0\n",
       "min    -4.078951  -4.403221 -24.968052   1.0\n",
       "25%    -1.428640  -1.797155 -14.739759   1.0\n",
       "50%    -0.652825  -0.022391  -9.617834   1.0\n",
       "75%     2.022191   1.444395  -6.344681   1.0\n",
       "max     4.807642   3.933892   7.571092   1.0"
      ]
     },
     "execution_count": 6,
     "metadata": {},
     "output_type": "execute_result"
    }
   ],
   "source": [
    "#Q5. Extra credit: Find the max/min of each variable and then plot the observation and prediction in 3D plot\n",
    "data1.describe()"
   ]
  },
  {
   "cell_type": "code",
   "execution_count": 7,
   "metadata": {
    "nbpresent": {
     "id": "a9aff49f-0983-4fa1-8121-142bb06e23d1"
    }
   },
   "outputs": [
    {
     "data": {
      "image/png": "[encoded data removed]",
      "text/plain": [
       "<matplotlib.figure.Figure at 0x10895f110>"
      ]
     },
     "metadata": {},
     "output_type": "display_data"
    }
   ],
   "source": [
    "fig = plt.figure(figsize = (12,10))  # Create a plot with customized figure size (width, height)\n",
    "ax = fig.gca(projection='3d')  # Extract the axis for further operations\n",
    "ax.scatter(data1.x1, data1.x2, data1.y, s = 100,  c = 'r')\n",
    "# Scatter plot, \"c\" stands for color, and \"s\" determines the marker size\n",
    "\n",
    "# Generate coordinates for hyperplane\n",
    "radius = 5\n",
    "x1, x2 = np.meshgrid(range(-radius,radius), range(-radius,radius))\n",
    "fit_y = lm1.params[0] + lm1.params[1] * x1 + lm1.params[2] * x2\n",
    "\n",
    "# alpha (between 0 and 1) controls the transparency with 0 being totally transparent\n",
    "ax.plot_surface(x1, x2, fit_y, color='c', alpha = 0.4)\n",
    "# Set labels and fontsize\n",
    "ax.set_xlabel('$x_1$', fontsize = 20)\n",
    "ax.set_ylabel('$x_2$', fontsize = 20)\n",
    "ax.set_zlabel('$y$', fontsize = 20)\n",
    "\n",
    "ax.view_init(azim = 60)   # Controls the viewing angle"
   ]
  },
  {
   "cell_type": "code",
   "execution_count": null,
   "metadata": {
    "collapsed": true,
    "nbpresent": {
     "id": "1c64f5be-7bf6-494f-91d7-b7bf64f87ef6"
    }
   },
   "outputs": [],
   "source": []
  },
  {
   "cell_type": "markdown",
   "metadata": {},
   "source": [
    "## Example 2. Citi bike trips - model travel time/speed"
   ]
  },
  {
   "cell_type": "code",
   "execution_count": 8,
   "metadata": {
    "collapsed": true
   },
   "outputs": [],
   "source": [
    "data2 = pd.read_csv('JC-201609-citibike-tripdata.csv')"
   ]
  },
  {
   "cell_type": "code",
   "execution_count": 9,
   "metadata": {},
   "outputs": [
    {
     "data": {
      "text/html": [
       "<div>\n",
       "<table border=\"1\" class=\"dataframe\">\n",
       "  <thead>\n",
       "    <tr style=\"text-align: right;\">\n",
       "      <th></th>\n",
       "      <th>Trip Duration</th>\n",
       "      <th>Start Time</th>\n",
       "      <th>Stop Time</th>\n",
       "      <th>Start Station ID</th>\n",
       "      <th>Start Station Name</th>\n",
       "      <th>Start Station Latitude</th>\n",
       "      <th>Start Station Longitude</th>\n",
       "      <th>End Station ID</th>\n",
       "      <th>End Station Name</th>\n",
       "      <th>End Station Latitude</th>\n",
       "      <th>End Station Longitude</th>\n",
       "      <th>Bike ID</th>\n",
       "      <th>User Type</th>\n",
       "      <th>Birth Year</th>\n",
       "      <th>Gender</th>\n",
       "    </tr>\n",
       "  </thead>\n",
       "  <tbody>\n",
       "    <tr>\n",
       "      <th>0</th>\n",
       "      <td>254</td>\n",
       "      <td>2016-09-01 00:06:09</td>\n",
       "      <td>2016-09-01 00:10:24</td>\n",
       "      <td>3273</td>\n",
       "      <td>Manila &amp; 1st</td>\n",
       "      <td>40.721651</td>\n",
       "      <td>-74.042884</td>\n",
       "      <td>3203</td>\n",
       "      <td>Hamilton Park</td>\n",
       "      <td>40.727596</td>\n",
       "      <td>-74.044247</td>\n",
       "      <td>26157</td>\n",
       "      <td>Subscriber</td>\n",
       "      <td>1989.0</td>\n",
       "      <td>2</td>\n",
       "    </tr>\n",
       "    <tr>\n",
       "      <th>1</th>\n",
       "      <td>119</td>\n",
       "      <td>2016-09-01 00:08:04</td>\n",
       "      <td>2016-09-01 00:10:04</td>\n",
       "      <td>3272</td>\n",
       "      <td>Jersey &amp; 3rd</td>\n",
       "      <td>40.723332</td>\n",
       "      <td>-74.045953</td>\n",
       "      <td>3278</td>\n",
       "      <td>Monmouth and 6th</td>\n",
       "      <td>40.725685</td>\n",
       "      <td>-74.048790</td>\n",
       "      <td>24493</td>\n",
       "      <td>Subscriber</td>\n",
       "      <td>1988.0</td>\n",
       "      <td>1</td>\n",
       "    </tr>\n",
       "    <tr>\n",
       "      <th>2</th>\n",
       "      <td>425</td>\n",
       "      <td>2016-09-01 00:14:14</td>\n",
       "      <td>2016-09-01 00:21:19</td>\n",
       "      <td>3206</td>\n",
       "      <td>Hilltop</td>\n",
       "      <td>40.731169</td>\n",
       "      <td>-74.057574</td>\n",
       "      <td>3207</td>\n",
       "      <td>Oakland Ave</td>\n",
       "      <td>40.737604</td>\n",
       "      <td>-74.052478</td>\n",
       "      <td>24464</td>\n",
       "      <td>Subscriber</td>\n",
       "      <td>1961.0</td>\n",
       "      <td>1</td>\n",
       "    </tr>\n",
       "    <tr>\n",
       "      <th>3</th>\n",
       "      <td>304</td>\n",
       "      <td>2016-09-01 00:15:15</td>\n",
       "      <td>2016-09-01 00:20:20</td>\n",
       "      <td>3220</td>\n",
       "      <td>5 Corners Library</td>\n",
       "      <td>40.734961</td>\n",
       "      <td>-74.059503</td>\n",
       "      <td>3212</td>\n",
       "      <td>Christ Hospital</td>\n",
       "      <td>40.734786</td>\n",
       "      <td>-74.050444</td>\n",
       "      <td>24698</td>\n",
       "      <td>Subscriber</td>\n",
       "      <td>1967.0</td>\n",
       "      <td>1</td>\n",
       "    </tr>\n",
       "    <tr>\n",
       "      <th>4</th>\n",
       "      <td>1775</td>\n",
       "      <td>2016-09-01 00:16:37</td>\n",
       "      <td>2016-09-01 00:46:13</td>\n",
       "      <td>3203</td>\n",
       "      <td>Hamilton Park</td>\n",
       "      <td>40.727596</td>\n",
       "      <td>-74.044247</td>\n",
       "      <td>3203</td>\n",
       "      <td>Hamilton Park</td>\n",
       "      <td>40.727596</td>\n",
       "      <td>-74.044247</td>\n",
       "      <td>24626</td>\n",
       "      <td>Subscriber</td>\n",
       "      <td>1984.0</td>\n",
       "      <td>1</td>\n",
       "    </tr>\n",
       "  </tbody>\n",
       "</table>\n",
       "</div>"
      ],
      "text/plain": [
       "   Trip Duration           Start Time            Stop Time  Start Station ID  \\\n",
       "0            254  2016-09-01 00:06:09  2016-09-01 00:10:24              3273   \n",
       "1            119  2016-09-01 00:08:04  2016-09-01 00:10:04              3272   \n",
       "2            425  2016-09-01 00:14:14  2016-09-01 00:21:19              3206   \n",
       "3            304  2016-09-01 00:15:15  2016-09-01 00:20:20              3220   \n",
       "4           1775  2016-09-01 00:16:37  2016-09-01 00:46:13              3203   \n",
       "\n",
       "  Start Station Name  Start Station Latitude  Start Station Longitude  \\\n",
       "0       Manila & 1st               40.721651               -74.042884   \n",
       "1       Jersey & 3rd               40.723332               -74.045953   \n",
       "2            Hilltop               40.731169               -74.057574   \n",
       "3  5 Corners Library               40.734961               -74.059503   \n",
       "4      Hamilton Park               40.727596               -74.044247   \n",
       "\n",
       "   End Station ID  End Station Name  End Station Latitude  \\\n",
       "0            3203     Hamilton Park             40.727596   \n",
       "1            3278  Monmouth and 6th             40.725685   \n",
       "2            3207       Oakland Ave             40.737604   \n",
       "3            3212   Christ Hospital             40.734786   \n",
       "4            3203     Hamilton Park             40.727596   \n",
       "\n",
       "   End Station Longitude  Bike ID   User Type  Birth Year  Gender  \n",
       "0             -74.044247    26157  Subscriber      1989.0       2  \n",
       "1             -74.048790    24493  Subscriber      1988.0       1  \n",
       "2             -74.052478    24464  Subscriber      1961.0       1  \n",
       "3             -74.050444    24698  Subscriber      1967.0       1  \n",
       "4             -74.044247    24626  Subscriber      1984.0       1  "
      ]
     },
     "execution_count": 9,
     "metadata": {},
     "output_type": "execute_result"
    }
   ],
   "source": [
    "data2.head()"
   ]
  },
  {
   "cell_type": "markdown",
   "metadata": {},
   "source": [
    "#### Q1. Add columns reflecting the day of the week, hour of the day, direct geo-distance between origin and destination and trip density in origin and destination"
   ]
  },
  {
   "cell_type": "code",
   "execution_count": 10,
   "metadata": {},
   "outputs": [],
   "source": [
    "data2['hour']=pd.DatetimeIndex(data2['Start Time']).hour"
   ]
  },
  {
   "cell_type": "code",
   "execution_count": 11,
   "metadata": {
    "collapsed": true
   },
   "outputs": [],
   "source": [
    "data2['weekday']=pd.DatetimeIndex(data2['Start Time']).weekday"
   ]
  },
  {
   "cell_type": "code",
   "execution_count": 12,
   "metadata": {},
   "outputs": [],
   "source": [
    "from geopy.distance import vincenty"
   ]
  },
  {
   "cell_type": "code",
   "execution_count": 13,
   "metadata": {},
   "outputs": [],
   "source": [
    "data2['dist']=data2.apply(axis=1,func=lambda x: vincenty((x['Start Station Latitude'],x['Start Station Longitude']),(x['End Station Latitude'],x['End Station Longitude'])).miles)"
   ]
  },
  {
   "cell_type": "code",
   "execution_count": 14,
   "metadata": {},
   "outputs": [],
   "source": [
    "outdens=data2.groupby(by='Start Station ID').size()"
   ]
  },
  {
   "cell_type": "code",
   "execution_count": 15,
   "metadata": {
    "collapsed": true
   },
   "outputs": [],
   "source": [
    "indens=data2.groupby(by='End Station ID').size()"
   ]
  },
  {
   "cell_type": "code",
   "execution_count": 16,
   "metadata": {
    "collapsed": true
   },
   "outputs": [],
   "source": [
    "totdens=outdens+indens"
   ]
  },
  {
   "cell_type": "code",
   "execution_count": 17,
   "metadata": {},
   "outputs": [],
   "source": [
    "data2['StartDens']=data2['Start Station ID'].apply(lambda x:totdens[x])"
   ]
  },
  {
   "cell_type": "code",
   "execution_count": 18,
   "metadata": {
    "collapsed": true
   },
   "outputs": [],
   "source": [
    "data2['EndDens']=data2['End Station ID'].apply(lambda x:totdens[x])"
   ]
  },
  {
   "cell_type": "markdown",
   "metadata": {},
   "source": [
    "#### Q2. Run a regression of trip time against distance. See if doing it on a subset of trips would make more sense"
   ]
  },
  {
   "cell_type": "code",
   "execution_count": 19,
   "metadata": {
    "collapsed": true
   },
   "outputs": [],
   "source": [
    "data2.rename(columns = { 'Trip Duration':'duration' }, inplace=True)"
   ]
  },
  {
   "cell_type": "code",
   "execution_count": 20,
   "metadata": {},
   "outputs": [
    {
     "data": {
      "text/html": [
       "<table class=\"simpletable\">\n",
       "<caption>OLS Regression Results</caption>\n",
       "<tr>\n",
       "  <th>Dep. Variable:</th>        <td>duration</td>     <th>  R-squared:         </th>  <td>   0.000</td>  \n",
       "</tr>\n",
       "<tr>\n",
       "  <th>Model:</th>                   <td>OLS</td>       <th>  Adj. R-squared:    </th>  <td>   0.000</td>  \n",
       "</tr>\n",
       "<tr>\n",
       "  <th>Method:</th>             <td>Least Squares</td>  <th>  F-statistic:       </th>  <td>   2.243</td>  \n",
       "</tr>\n",
       "<tr>\n",
       "  <th>Date:</th>             <td>Tue, 03 Oct 2017</td> <th>  Prob (F-statistic):</th>   <td> 0.134</td>   \n",
       "</tr>\n",
       "<tr>\n",
       "  <th>Time:</th>                 <td>12:34:57</td>     <th>  Log-Likelihood:    </th> <td>-3.6087e+05</td>\n",
       "</tr>\n",
       "<tr>\n",
       "  <th>No. Observations:</th>      <td> 33425</td>      <th>  AIC:               </th>  <td>7.217e+05</td> \n",
       "</tr>\n",
       "<tr>\n",
       "  <th>Df Residuals:</th>          <td> 33423</td>      <th>  BIC:               </th>  <td>7.218e+05</td> \n",
       "</tr>\n",
       "<tr>\n",
       "  <th>Df Model:</th>              <td>     1</td>      <th>                     </th>      <td> </td>     \n",
       "</tr>\n",
       "<tr>\n",
       "  <th>Covariance Type:</th>      <td>nonrobust</td>    <th>                     </th>      <td> </td>     \n",
       "</tr>\n",
       "</table>\n",
       "<table class=\"simpletable\">\n",
       "<tr>\n",
       "      <td></td>         <th>coef</th>     <th>std err</th>      <th>t</th>      <th>P>|t|</th> <th>[95.0% Conf. Int.]</th> \n",
       "</tr>\n",
       "<tr>\n",
       "  <th>Intercept</th> <td>  719.2623</td> <td>  110.776</td> <td>    6.493</td> <td> 0.000</td> <td>  502.137   936.388</td>\n",
       "</tr>\n",
       "<tr>\n",
       "  <th>dist</th>      <td>  209.3420</td> <td>  139.785</td> <td>    1.498</td> <td> 0.134</td> <td>  -64.641   483.325</td>\n",
       "</tr>\n",
       "</table>\n",
       "<table class=\"simpletable\">\n",
       "<tr>\n",
       "  <th>Omnibus:</th>       <td>131939.534</td> <th>  Durbin-Watson:     </th>     <td>   1.996</td>    \n",
       "</tr>\n",
       "<tr>\n",
       "  <th>Prob(Omnibus):</th>   <td> 0.000</td>   <th>  Jarque-Bera (JB):  </th> <td>174129565749.654</td>\n",
       "</tr>\n",
       "<tr>\n",
       "  <th>Skew:</th>            <td>98.172</td>   <th>  Prob(JB):          </th>     <td>    0.00</td>    \n",
       "</tr>\n",
       "<tr>\n",
       "  <th>Kurtosis:</th>       <td>11182.933</td> <th>  Cond. No.          </th>     <td>    3.21</td>    \n",
       "</tr>\n",
       "</table>"
      ],
      "text/plain": [
       "<class 'statsmodels.iolib.summary.Summary'>\n",
       "\"\"\"\n",
       "                            OLS Regression Results                            \n",
       "==============================================================================\n",
       "Dep. Variable:               duration   R-squared:                       0.000\n",
       "Model:                            OLS   Adj. R-squared:                  0.000\n",
       "Method:                 Least Squares   F-statistic:                     2.243\n",
       "Date:                Tue, 03 Oct 2017   Prob (F-statistic):              0.134\n",
       "Time:                        12:34:57   Log-Likelihood:            -3.6087e+05\n",
       "No. Observations:               33425   AIC:                         7.217e+05\n",
       "Df Residuals:                   33423   BIC:                         7.218e+05\n",
       "Df Model:                           1                                         \n",
       "Covariance Type:            nonrobust                                         \n",
       "==============================================================================\n",
       "                 coef    std err          t      P>|t|      [95.0% Conf. Int.]\n",
       "------------------------------------------------------------------------------\n",
       "Intercept    719.2623    110.776      6.493      0.000       502.137   936.388\n",
       "dist         209.3420    139.785      1.498      0.134       -64.641   483.325\n",
       "==============================================================================\n",
       "Omnibus:                   131939.534   Durbin-Watson:                   1.996\n",
       "Prob(Omnibus):                  0.000   Jarque-Bera (JB):     174129565749.654\n",
       "Skew:                          98.172   Prob(JB):                         0.00\n",
       "Kurtosis:                   11182.933   Cond. No.                         3.21\n",
       "==============================================================================\n",
       "\n",
       "Warnings:\n",
       "[1] Standard Errors assume that the covariance matrix of the errors is correctly specified.\n",
       "\"\"\""
      ]
     },
     "execution_count": 20,
     "metadata": {},
     "output_type": "execute_result"
    }
   ],
   "source": [
    "lm=smf.ols('duration~dist',data=data2).fit()\n",
    "lm.summary()"
   ]
  },
  {
   "cell_type": "code",
   "execution_count": 21,
   "metadata": {
    "collapsed": true
   },
   "outputs": [],
   "source": [
    "#take only the trips which look like a reasonable commute\n",
    "comind=data2.duration<data2.dist*1000;"
   ]
  },
  {
   "cell_type": "code",
   "execution_count": 22,
   "metadata": {},
   "outputs": [
    {
     "data": {
      "text/plain": [
       "80.40688107703815"
      ]
     },
     "execution_count": 22,
     "metadata": {},
     "output_type": "execute_result"
    }
   ],
   "source": [
    "#percentage of such trips\n",
    "100.0*sum(comind)/len(comind)"
   ]
  },
  {
   "cell_type": "code",
   "execution_count": 23,
   "metadata": {
    "scrolled": true
   },
   "outputs": [
    {
     "data": {
      "text/html": [
       "<table class=\"simpletable\">\n",
       "<caption>OLS Regression Results</caption>\n",
       "<tr>\n",
       "  <th>Dep. Variable:</th>        <td>duration</td>     <th>  R-squared:         </th>  <td>   0.810</td>  \n",
       "</tr>\n",
       "<tr>\n",
       "  <th>Model:</th>                   <td>OLS</td>       <th>  Adj. R-squared:    </th>  <td>   0.810</td>  \n",
       "</tr>\n",
       "<tr>\n",
       "  <th>Method:</th>             <td>Least Squares</td>  <th>  F-statistic:       </th>  <td>1.147e+05</td> \n",
       "</tr>\n",
       "<tr>\n",
       "  <th>Date:</th>             <td>Tue, 03 Oct 2017</td> <th>  Prob (F-statistic):</th>   <td>  0.00</td>   \n",
       "</tr>\n",
       "<tr>\n",
       "  <th>Time:</th>                 <td>12:34:57</td>     <th>  Log-Likelihood:    </th> <td>-1.6678e+05</td>\n",
       "</tr>\n",
       "<tr>\n",
       "  <th>No. Observations:</th>      <td> 26876</td>      <th>  AIC:               </th>  <td>3.336e+05</td> \n",
       "</tr>\n",
       "<tr>\n",
       "  <th>Df Residuals:</th>          <td> 26874</td>      <th>  BIC:               </th>  <td>3.336e+05</td> \n",
       "</tr>\n",
       "<tr>\n",
       "  <th>Df Model:</th>              <td>     1</td>      <th>                     </th>      <td> </td>     \n",
       "</tr>\n",
       "<tr>\n",
       "  <th>Covariance Type:</th>      <td>nonrobust</td>    <th>                     </th>      <td> </td>     \n",
       "</tr>\n",
       "</table>\n",
       "<table class=\"simpletable\">\n",
       "<tr>\n",
       "      <td></td>         <th>coef</th>     <th>std err</th>      <th>t</th>      <th>P>|t|</th> <th>[95.0% Conf. Int.]</th> \n",
       "</tr>\n",
       "<tr>\n",
       "  <th>Intercept</th> <td>   42.6784</td> <td>    1.327</td> <td>   32.154</td> <td> 0.000</td> <td>   40.077    45.280</td>\n",
       "</tr>\n",
       "<tr>\n",
       "  <th>dist</th>      <td>  537.5744</td> <td>    1.587</td> <td>  338.658</td> <td> 0.000</td> <td>  534.463   540.686</td>\n",
       "</tr>\n",
       "</table>\n",
       "<table class=\"simpletable\">\n",
       "<tr>\n",
       "  <th>Omnibus:</th>       <td>5833.792</td> <th>  Durbin-Watson:     </th> <td>   1.806</td> \n",
       "</tr>\n",
       "<tr>\n",
       "  <th>Prob(Omnibus):</th>  <td> 0.000</td>  <th>  Jarque-Bera (JB):  </th> <td>39499.085</td>\n",
       "</tr>\n",
       "<tr>\n",
       "  <th>Skew:</th>           <td> 0.875</td>  <th>  Prob(JB):          </th> <td>    0.00</td> \n",
       "</tr>\n",
       "<tr>\n",
       "  <th>Kurtosis:</th>       <td> 8.675</td>  <th>  Cond. No.          </th> <td>    3.39</td> \n",
       "</tr>\n",
       "</table>"
      ],
      "text/plain": [
       "<class 'statsmodels.iolib.summary.Summary'>\n",
       "\"\"\"\n",
       "                            OLS Regression Results                            \n",
       "==============================================================================\n",
       "Dep. Variable:               duration   R-squared:                       0.810\n",
       "Model:                            OLS   Adj. R-squared:                  0.810\n",
       "Method:                 Least Squares   F-statistic:                 1.147e+05\n",
       "Date:                Tue, 03 Oct 2017   Prob (F-statistic):               0.00\n",
       "Time:                        12:34:57   Log-Likelihood:            -1.6678e+05\n",
       "No. Observations:               26876   AIC:                         3.336e+05\n",
       "Df Residuals:                   26874   BIC:                         3.336e+05\n",
       "Df Model:                           1                                         \n",
       "Covariance Type:            nonrobust                                         \n",
       "==============================================================================\n",
       "                 coef    std err          t      P>|t|      [95.0% Conf. Int.]\n",
       "------------------------------------------------------------------------------\n",
       "Intercept     42.6784      1.327     32.154      0.000        40.077    45.280\n",
       "dist         537.5744      1.587    338.658      0.000       534.463   540.686\n",
       "==============================================================================\n",
       "Omnibus:                     5833.792   Durbin-Watson:                   1.806\n",
       "Prob(Omnibus):                  0.000   Jarque-Bera (JB):            39499.085\n",
       "Skew:                           0.875   Prob(JB):                         0.00\n",
       "Kurtosis:                       8.675   Cond. No.                         3.39\n",
       "==============================================================================\n",
       "\n",
       "Warnings:\n",
       "[1] Standard Errors assume that the covariance matrix of the errors is correctly specified.\n",
       "\"\"\""
      ]
     },
     "execution_count": 23,
     "metadata": {},
     "output_type": "execute_result"
    }
   ],
   "source": [
    "lm=smf.ols('duration~dist',data=data2.ix[comind]).fit()\n",
    "lm.summary()"
   ]
  },
  {
   "cell_type": "markdown",
   "metadata": {},
   "source": [
    "#### Q3. Add customer demogrphics to the regression. Consider regression for average spead instead"
   ]
  },
  {
   "cell_type": "code",
   "execution_count": 24,
   "metadata": {},
   "outputs": [],
   "source": [
    "data2['age']=2016-data2['Birth Year']\n",
    "demoind=(data2['Birth Year']>0)&(data2['Gender']>0)"
   ]
  },
  {
   "cell_type": "code",
   "execution_count": 25,
   "metadata": {},
   "outputs": [
    {
     "data": {
      "text/html": [
       "<table class=\"simpletable\">\n",
       "<caption>OLS Regression Results</caption>\n",
       "<tr>\n",
       "  <th>Dep. Variable:</th>        <td>duration</td>     <th>  R-squared:         </th>  <td>   0.818</td>  \n",
       "</tr>\n",
       "<tr>\n",
       "  <th>Model:</th>                   <td>OLS</td>       <th>  Adj. R-squared:    </th>  <td>   0.818</td>  \n",
       "</tr>\n",
       "<tr>\n",
       "  <th>Method:</th>             <td>Least Squares</td>  <th>  F-statistic:       </th>  <td>3.822e+04</td> \n",
       "</tr>\n",
       "<tr>\n",
       "  <th>Date:</th>             <td>Tue, 03 Oct 2017</td> <th>  Prob (F-statistic):</th>   <td>  0.00</td>   \n",
       "</tr>\n",
       "<tr>\n",
       "  <th>Time:</th>                 <td>12:34:57</td>     <th>  Log-Likelihood:    </th> <td>-1.5786e+05</td>\n",
       "</tr>\n",
       "<tr>\n",
       "  <th>No. Observations:</th>      <td> 25573</td>      <th>  AIC:               </th>  <td>3.157e+05</td> \n",
       "</tr>\n",
       "<tr>\n",
       "  <th>Df Residuals:</th>          <td> 25569</td>      <th>  BIC:               </th>  <td>3.158e+05</td> \n",
       "</tr>\n",
       "<tr>\n",
       "  <th>Df Model:</th>              <td>     3</td>      <th>                     </th>      <td> </td>     \n",
       "</tr>\n",
       "<tr>\n",
       "  <th>Covariance Type:</th>      <td>nonrobust</td>    <th>                     </th>      <td> </td>     \n",
       "</tr>\n",
       "</table>\n",
       "<table class=\"simpletable\">\n",
       "<tr>\n",
       "         <td></td>           <th>coef</th>     <th>std err</th>      <th>t</th>      <th>P>|t|</th> <th>[95.0% Conf. Int.]</th> \n",
       "</tr>\n",
       "<tr>\n",
       "  <th>Intercept</th>      <td>   14.2358</td> <td>    3.248</td> <td>    4.382</td> <td> 0.000</td> <td>    7.869    20.603</td>\n",
       "</tr>\n",
       "<tr>\n",
       "  <th>C(Gender)[T.2]</th> <td>   40.6469</td> <td>    1.742</td> <td>   23.338</td> <td> 0.000</td> <td>   37.233    44.061</td>\n",
       "</tr>\n",
       "<tr>\n",
       "  <th>dist</th>           <td>  535.4293</td> <td>    1.584</td> <td>  338.074</td> <td> 0.000</td> <td>  532.325   538.534</td>\n",
       "</tr>\n",
       "<tr>\n",
       "  <th>age</th>            <td>    0.4755</td> <td>    0.078</td> <td>    6.133</td> <td> 0.000</td> <td>    0.324     0.627</td>\n",
       "</tr>\n",
       "</table>\n",
       "<table class=\"simpletable\">\n",
       "<tr>\n",
       "  <th>Omnibus:</th>       <td>6016.519</td> <th>  Durbin-Watson:     </th> <td>   1.838</td> \n",
       "</tr>\n",
       "<tr>\n",
       "  <th>Prob(Omnibus):</th>  <td> 0.000</td>  <th>  Jarque-Bera (JB):  </th> <td>45261.708</td>\n",
       "</tr>\n",
       "<tr>\n",
       "  <th>Skew:</th>           <td> 0.930</td>  <th>  Prob(JB):          </th> <td>    0.00</td> \n",
       "</tr>\n",
       "<tr>\n",
       "  <th>Kurtosis:</th>       <td> 9.246</td>  <th>  Cond. No.          </th> <td>    174.</td> \n",
       "</tr>\n",
       "</table>"
      ],
      "text/plain": [
       "<class 'statsmodels.iolib.summary.Summary'>\n",
       "\"\"\"\n",
       "                            OLS Regression Results                            \n",
       "==============================================================================\n",
       "Dep. Variable:               duration   R-squared:                       0.818\n",
       "Model:                            OLS   Adj. R-squared:                  0.818\n",
       "Method:                 Least Squares   F-statistic:                 3.822e+04\n",
       "Date:                Tue, 03 Oct 2017   Prob (F-statistic):               0.00\n",
       "Time:                        12:34:57   Log-Likelihood:            -1.5786e+05\n",
       "No. Observations:               25573   AIC:                         3.157e+05\n",
       "Df Residuals:                   25569   BIC:                         3.158e+05\n",
       "Df Model:                           3                                         \n",
       "Covariance Type:            nonrobust                                         \n",
       "==================================================================================\n",
       "                     coef    std err          t      P>|t|      [95.0% Conf. Int.]\n",
       "----------------------------------------------------------------------------------\n",
       "Intercept         14.2358      3.248      4.382      0.000         7.869    20.603\n",
       "C(Gender)[T.2]    40.6469      1.742     23.338      0.000        37.233    44.061\n",
       "dist             535.4293      1.584    338.074      0.000       532.325   538.534\n",
       "age                0.4755      0.078      6.133      0.000         0.324     0.627\n",
       "==============================================================================\n",
       "Omnibus:                     6016.519   Durbin-Watson:                   1.838\n",
       "Prob(Omnibus):                  0.000   Jarque-Bera (JB):            45261.708\n",
       "Skew:                           0.930   Prob(JB):                         0.00\n",
       "Kurtosis:                       9.246   Cond. No.                         174.\n",
       "==============================================================================\n",
       "\n",
       "Warnings:\n",
       "[1] Standard Errors assume that the covariance matrix of the errors is correctly specified.\n",
       "\"\"\""
      ]
     },
     "execution_count": 25,
     "metadata": {},
     "output_type": "execute_result"
    }
   ],
   "source": [
    "# run regression agains age and gender (categorical) for trips with specified customer demographics\n",
    "lm=smf.ols('duration~dist+age+C(Gender)',data=data2.ix[comind&demoind]).fit()\n",
    "lm.summary()"
   ]
  },
  {
   "cell_type": "code",
   "execution_count": 26,
   "metadata": {
    "collapsed": true
   },
   "outputs": [],
   "source": [
    "#compute average speed\n",
    "data2['speed']=data2['duration']/data2['dist']"
   ]
  },
  {
   "cell_type": "code",
   "execution_count": 27,
   "metadata": {},
   "outputs": [
    {
     "data": {
      "text/html": [
       "<table class=\"simpletable\">\n",
       "<caption>OLS Regression Results</caption>\n",
       "<tr>\n",
       "  <th>Dep. Variable:</th>          <td>speed</td>      <th>  R-squared:         </th>  <td>   0.032</td>  \n",
       "</tr>\n",
       "<tr>\n",
       "  <th>Model:</th>                   <td>OLS</td>       <th>  Adj. R-squared:    </th>  <td>   0.032</td>  \n",
       "</tr>\n",
       "<tr>\n",
       "  <th>Method:</th>             <td>Least Squares</td>  <th>  F-statistic:       </th>  <td>   420.9</td>  \n",
       "</tr>\n",
       "<tr>\n",
       "  <th>Date:</th>             <td>Tue, 03 Oct 2017</td> <th>  Prob (F-statistic):</th>  <td>1.37e-180</td> \n",
       "</tr>\n",
       "<tr>\n",
       "  <th>Time:</th>                 <td>12:34:57</td>     <th>  Log-Likelihood:    </th> <td>-1.6359e+05</td>\n",
       "</tr>\n",
       "<tr>\n",
       "  <th>No. Observations:</th>      <td> 25573</td>      <th>  AIC:               </th>  <td>3.272e+05</td> \n",
       "</tr>\n",
       "<tr>\n",
       "  <th>Df Residuals:</th>          <td> 25570</td>      <th>  BIC:               </th>  <td>3.272e+05</td> \n",
       "</tr>\n",
       "<tr>\n",
       "  <th>Df Model:</th>              <td>     2</td>      <th>                     </th>      <td> </td>     \n",
       "</tr>\n",
       "<tr>\n",
       "  <th>Covariance Type:</th>      <td>nonrobust</td>    <th>                     </th>      <td> </td>     \n",
       "</tr>\n",
       "</table>\n",
       "<table class=\"simpletable\">\n",
       "<tr>\n",
       "         <td></td>           <th>coef</th>     <th>std err</th>      <th>t</th>      <th>P>|t|</th> <th>[95.0% Conf. Int.]</th> \n",
       "</tr>\n",
       "<tr>\n",
       "  <th>Intercept</th>      <td>  567.9715</td> <td>    3.705</td> <td>  153.285</td> <td> 0.000</td> <td>  560.709   575.234</td>\n",
       "</tr>\n",
       "<tr>\n",
       "  <th>C(Gender)[T.2]</th> <td>   61.7250</td> <td>    2.174</td> <td>   28.391</td> <td> 0.000</td> <td>   57.464    65.986</td>\n",
       "</tr>\n",
       "<tr>\n",
       "  <th>age</th>            <td>    0.8195</td> <td>    0.097</td> <td>    8.472</td> <td> 0.000</td> <td>    0.630     1.009</td>\n",
       "</tr>\n",
       "</table>\n",
       "<table class=\"simpletable\">\n",
       "<tr>\n",
       "  <th>Omnibus:</th>       <td>1013.169</td> <th>  Durbin-Watson:     </th> <td>   1.857</td> \n",
       "</tr>\n",
       "<tr>\n",
       "  <th>Prob(Omnibus):</th>  <td> 0.000</td>  <th>  Jarque-Bera (JB):  </th> <td>1085.198</td> \n",
       "</tr>\n",
       "<tr>\n",
       "  <th>Skew:</th>           <td> 0.486</td>  <th>  Prob(JB):          </th> <td>2.25e-236</td>\n",
       "</tr>\n",
       "<tr>\n",
       "  <th>Kurtosis:</th>       <td> 2.727</td>  <th>  Cond. No.          </th> <td>    155.</td> \n",
       "</tr>\n",
       "</table>"
      ],
      "text/plain": [
       "<class 'statsmodels.iolib.summary.Summary'>\n",
       "\"\"\"\n",
       "                            OLS Regression Results                            \n",
       "==============================================================================\n",
       "Dep. Variable:                  speed   R-squared:                       0.032\n",
       "Model:                            OLS   Adj. R-squared:                  0.032\n",
       "Method:                 Least Squares   F-statistic:                     420.9\n",
       "Date:                Tue, 03 Oct 2017   Prob (F-statistic):          1.37e-180\n",
       "Time:                        12:34:57   Log-Likelihood:            -1.6359e+05\n",
       "No. Observations:               25573   AIC:                         3.272e+05\n",
       "Df Residuals:                   25570   BIC:                         3.272e+05\n",
       "Df Model:                           2                                         \n",
       "Covariance Type:            nonrobust                                         \n",
       "==================================================================================\n",
       "                     coef    std err          t      P>|t|      [95.0% Conf. Int.]\n",
       "----------------------------------------------------------------------------------\n",
       "Intercept        567.9715      3.705    153.285      0.000       560.709   575.234\n",
       "C(Gender)[T.2]    61.7250      2.174     28.391      0.000        57.464    65.986\n",
       "age                0.8195      0.097      8.472      0.000         0.630     1.009\n",
       "==============================================================================\n",
       "Omnibus:                     1013.169   Durbin-Watson:                   1.857\n",
       "Prob(Omnibus):                  0.000   Jarque-Bera (JB):             1085.198\n",
       "Skew:                           0.486   Prob(JB):                    2.25e-236\n",
       "Kurtosis:                       2.727   Cond. No.                         155.\n",
       "==============================================================================\n",
       "\n",
       "Warnings:\n",
       "[1] Standard Errors assume that the covariance matrix of the errors is correctly specified.\n",
       "\"\"\""
      ]
     },
     "execution_count": 27,
     "metadata": {},
     "output_type": "execute_result"
    }
   ],
   "source": [
    "#regress speed against age and demographics\n",
    "lm=smf.ols('speed~age+C(Gender)',data=data2.ix[comind&demoind]).fit()\n",
    "lm.summary()"
   ]
  },
  {
   "cell_type": "markdown",
   "metadata": {},
   "source": [
    "#### Q4. Add time into consideration"
   ]
  },
  {
   "cell_type": "code",
   "execution_count": 28,
   "metadata": {},
   "outputs": [
    {
     "data": {
      "text/html": [
       "<table class=\"simpletable\">\n",
       "<caption>OLS Regression Results</caption>\n",
       "<tr>\n",
       "  <th>Dep. Variable:</th>          <td>speed</td>      <th>  R-squared:         </th>  <td>   0.037</td>  \n",
       "</tr>\n",
       "<tr>\n",
       "  <th>Model:</th>                   <td>OLS</td>       <th>  Adj. R-squared:    </th>  <td>   0.036</td>  \n",
       "</tr>\n",
       "<tr>\n",
       "  <th>Method:</th>             <td>Least Squares</td>  <th>  F-statistic:       </th>  <td>   121.2</td>  \n",
       "</tr>\n",
       "<tr>\n",
       "  <th>Date:</th>             <td>Tue, 03 Oct 2017</td> <th>  Prob (F-statistic):</th>  <td>3.63e-200</td> \n",
       "</tr>\n",
       "<tr>\n",
       "  <th>Time:</th>                 <td>12:34:58</td>     <th>  Log-Likelihood:    </th> <td>-1.6353e+05</td>\n",
       "</tr>\n",
       "<tr>\n",
       "  <th>No. Observations:</th>      <td> 25573</td>      <th>  AIC:               </th>  <td>3.271e+05</td> \n",
       "</tr>\n",
       "<tr>\n",
       "  <th>Df Residuals:</th>          <td> 25564</td>      <th>  BIC:               </th>  <td>3.271e+05</td> \n",
       "</tr>\n",
       "<tr>\n",
       "  <th>Df Model:</th>              <td>     8</td>      <th>                     </th>      <td> </td>     \n",
       "</tr>\n",
       "<tr>\n",
       "  <th>Covariance Type:</th>      <td>nonrobust</td>    <th>                     </th>      <td> </td>     \n",
       "</tr>\n",
       "</table>\n",
       "<table class=\"simpletable\">\n",
       "<tr>\n",
       "         <td></td>            <th>coef</th>     <th>std err</th>      <th>t</th>      <th>P>|t|</th> <th>[95.0% Conf. Int.]</th> \n",
       "</tr>\n",
       "<tr>\n",
       "  <th>Intercept</th>       <td>  565.9724</td> <td>    4.401</td> <td>  128.606</td> <td> 0.000</td> <td>  557.347   574.598</td>\n",
       "</tr>\n",
       "<tr>\n",
       "  <th>C(Gender)[T.2]</th>  <td>   61.4493</td> <td>    2.170</td> <td>   28.324</td> <td> 0.000</td> <td>   57.197    65.702</td>\n",
       "</tr>\n",
       "<tr>\n",
       "  <th>C(weekday)[T.1]</th> <td>   -4.4414</td> <td>    3.413</td> <td>   -1.301</td> <td> 0.193</td> <td>  -11.132     2.249</td>\n",
       "</tr>\n",
       "<tr>\n",
       "  <th>C(weekday)[T.2]</th> <td>   -6.5651</td> <td>    3.427</td> <td>   -1.916</td> <td> 0.055</td> <td>  -13.282     0.152</td>\n",
       "</tr>\n",
       "<tr>\n",
       "  <th>C(weekday)[T.3]</th> <td>   -4.9166</td> <td>    3.311</td> <td>   -1.485</td> <td> 0.138</td> <td>  -11.407     1.574</td>\n",
       "</tr>\n",
       "<tr>\n",
       "  <th>C(weekday)[T.4]</th> <td>   -2.3050</td> <td>    3.383</td> <td>   -0.681</td> <td> 0.496</td> <td>   -8.935     4.325</td>\n",
       "</tr>\n",
       "<tr>\n",
       "  <th>C(weekday)[T.5]</th> <td>   21.0328</td> <td>    3.978</td> <td>    5.287</td> <td> 0.000</td> <td>   13.236    28.830</td>\n",
       "</tr>\n",
       "<tr>\n",
       "  <th>C(weekday)[T.6]</th> <td>   23.0625</td> <td>    4.019</td> <td>    5.738</td> <td> 0.000</td> <td>   15.184    30.941</td>\n",
       "</tr>\n",
       "<tr>\n",
       "  <th>age</th>             <td>    0.8560</td> <td>    0.097</td> <td>    8.863</td> <td> 0.000</td> <td>    0.667     1.045</td>\n",
       "</tr>\n",
       "</table>\n",
       "<table class=\"simpletable\">\n",
       "<tr>\n",
       "  <th>Omnibus:</th>       <td>980.360</td> <th>  Durbin-Watson:     </th> <td>   1.866</td> \n",
       "</tr>\n",
       "<tr>\n",
       "  <th>Prob(Omnibus):</th> <td> 0.000</td>  <th>  Jarque-Bera (JB):  </th> <td>1045.561</td> \n",
       "</tr>\n",
       "<tr>\n",
       "  <th>Skew:</th>          <td> 0.476</td>  <th>  Prob(JB):          </th> <td>9.11e-228</td>\n",
       "</tr>\n",
       "<tr>\n",
       "  <th>Kurtosis:</th>      <td> 2.727</td>  <th>  Cond. No.          </th> <td>    306.</td> \n",
       "</tr>\n",
       "</table>"
      ],
      "text/plain": [
       "<class 'statsmodels.iolib.summary.Summary'>\n",
       "\"\"\"\n",
       "                            OLS Regression Results                            \n",
       "==============================================================================\n",
       "Dep. Variable:                  speed   R-squared:                       0.037\n",
       "Model:                            OLS   Adj. R-squared:                  0.036\n",
       "Method:                 Least Squares   F-statistic:                     121.2\n",
       "Date:                Tue, 03 Oct 2017   Prob (F-statistic):          3.63e-200\n",
       "Time:                        12:34:58   Log-Likelihood:            -1.6353e+05\n",
       "No. Observations:               25573   AIC:                         3.271e+05\n",
       "Df Residuals:                   25564   BIC:                         3.271e+05\n",
       "Df Model:                           8                                         \n",
       "Covariance Type:            nonrobust                                         \n",
       "===================================================================================\n",
       "                      coef    std err          t      P>|t|      [95.0% Conf. Int.]\n",
       "-----------------------------------------------------------------------------------\n",
       "Intercept         565.9724      4.401    128.606      0.000       557.347   574.598\n",
       "C(Gender)[T.2]     61.4493      2.170     28.324      0.000        57.197    65.702\n",
       "C(weekday)[T.1]    -4.4414      3.413     -1.301      0.193       -11.132     2.249\n",
       "C(weekday)[T.2]    -6.5651      3.427     -1.916      0.055       -13.282     0.152\n",
       "C(weekday)[T.3]    -4.9166      3.311     -1.485      0.138       -11.407     1.574\n",
       "C(weekday)[T.4]    -2.3050      3.383     -0.681      0.496        -8.935     4.325\n",
       "C(weekday)[T.5]    21.0328      3.978      5.287      0.000        13.236    28.830\n",
       "C(weekday)[T.6]    23.0625      4.019      5.738      0.000        15.184    30.941\n",
       "age                 0.8560      0.097      8.863      0.000         0.667     1.045\n",
       "==============================================================================\n",
       "Omnibus:                      980.360   Durbin-Watson:                   1.866\n",
       "Prob(Omnibus):                  0.000   Jarque-Bera (JB):             1045.561\n",
       "Skew:                           0.476   Prob(JB):                    9.11e-228\n",
       "Kurtosis:                       2.727   Cond. No.                         306.\n",
       "==============================================================================\n",
       "\n",
       "Warnings:\n",
       "[1] Standard Errors assume that the covariance matrix of the errors is correctly specified.\n",
       "\"\"\""
      ]
     },
     "execution_count": 28,
     "metadata": {},
     "output_type": "execute_result"
    }
   ],
   "source": [
    "#consider weekdays first\n",
    "lm=smf.ols('speed~age+C(Gender)+C(weekday)',data=data2.ix[comind&demoind]).fit()\n",
    "lm.summary()"
   ]
  },
  {
   "cell_type": "markdown",
   "metadata": {},
   "source": [
    "Basically the only significant effect is observed for weekends. Introduce them as a separate category"
   ]
  },
  {
   "cell_type": "code",
   "execution_count": 29,
   "metadata": {
    "collapsed": true
   },
   "outputs": [],
   "source": [
    "data2['wd']=0+(data2['weekday']>=5)"
   ]
  },
  {
   "cell_type": "code",
   "execution_count": 30,
   "metadata": {},
   "outputs": [
    {
     "data": {
      "text/html": [
       "<table class=\"simpletable\">\n",
       "<caption>OLS Regression Results</caption>\n",
       "<tr>\n",
       "  <th>Dep. Variable:</th>          <td>speed</td>      <th>  R-squared:         </th>  <td>   0.037</td>  \n",
       "</tr>\n",
       "<tr>\n",
       "  <th>Model:</th>                   <td>OLS</td>       <th>  Adj. R-squared:    </th>  <td>   0.037</td>  \n",
       "</tr>\n",
       "<tr>\n",
       "  <th>Method:</th>             <td>Least Squares</td>  <th>  F-statistic:       </th>  <td>   246.0</td>  \n",
       "</tr>\n",
       "<tr>\n",
       "  <th>Date:</th>             <td>Tue, 03 Oct 2017</td> <th>  Prob (F-statistic):</th>  <td>9.99e-208</td> \n",
       "</tr>\n",
       "<tr>\n",
       "  <th>Time:</th>                 <td>12:34:58</td>     <th>  Log-Likelihood:    </th> <td>-1.6428e+05</td>\n",
       "</tr>\n",
       "<tr>\n",
       "  <th>No. Observations:</th>      <td> 25695</td>      <th>  AIC:               </th>  <td>3.286e+05</td> \n",
       "</tr>\n",
       "<tr>\n",
       "  <th>Df Residuals:</th>          <td> 25690</td>      <th>  BIC:               </th>  <td>3.286e+05</td> \n",
       "</tr>\n",
       "<tr>\n",
       "  <th>Df Model:</th>              <td>     4</td>      <th>                     </th>      <td> </td>     \n",
       "</tr>\n",
       "<tr>\n",
       "  <th>Covariance Type:</th>      <td>nonrobust</td>    <th>                     </th>      <td> </td>     \n",
       "</tr>\n",
       "</table>\n",
       "<table class=\"simpletable\">\n",
       "<tr>\n",
       "         <td></td>           <th>coef</th>     <th>std err</th>      <th>t</th>      <th>P>|t|</th> <th>[95.0% Conf. Int.]</th> \n",
       "</tr>\n",
       "<tr>\n",
       "  <th>Intercept</th>      <td>  529.4259</td> <td>   13.489</td> <td>   39.249</td> <td> 0.000</td> <td>  502.987   555.865</td>\n",
       "</tr>\n",
       "<tr>\n",
       "  <th>C(Gender)[T.1]</th> <td>   32.7189</td> <td>   13.148</td> <td>    2.489</td> <td> 0.013</td> <td>    6.949    58.489</td>\n",
       "</tr>\n",
       "<tr>\n",
       "  <th>C(Gender)[T.2]</th> <td>   94.1099</td> <td>   13.240</td> <td>    7.108</td> <td> 0.000</td> <td>   68.160   120.060</td>\n",
       "</tr>\n",
       "<tr>\n",
       "  <th>C(wd)[T.1]</th>     <td>   26.1448</td> <td>    2.363</td> <td>   11.064</td> <td> 0.000</td> <td>   21.513    30.777</td>\n",
       "</tr>\n",
       "<tr>\n",
       "  <th>age</th>            <td>    0.8541</td> <td>    0.096</td> <td>    8.867</td> <td> 0.000</td> <td>    0.665     1.043</td>\n",
       "</tr>\n",
       "</table>\n",
       "<table class=\"simpletable\">\n",
       "<tr>\n",
       "  <th>Omnibus:</th>       <td>984.345</td> <th>  Durbin-Watson:     </th> <td>   1.865</td> \n",
       "</tr>\n",
       "<tr>\n",
       "  <th>Prob(Omnibus):</th> <td> 0.000</td>  <th>  Jarque-Bera (JB):  </th> <td>1051.255</td> \n",
       "</tr>\n",
       "<tr>\n",
       "  <th>Skew:</th>          <td> 0.477</td>  <th>  Prob(JB):          </th> <td>5.28e-229</td>\n",
       "</tr>\n",
       "<tr>\n",
       "  <th>Kurtosis:</th>      <td> 2.730</td>  <th>  Cond. No.          </th> <td>    947.</td> \n",
       "</tr>\n",
       "</table>"
      ],
      "text/plain": [
       "<class 'statsmodels.iolib.summary.Summary'>\n",
       "\"\"\"\n",
       "                            OLS Regression Results                            \n",
       "==============================================================================\n",
       "Dep. Variable:                  speed   R-squared:                       0.037\n",
       "Model:                            OLS   Adj. R-squared:                  0.037\n",
       "Method:                 Least Squares   F-statistic:                     246.0\n",
       "Date:                Tue, 03 Oct 2017   Prob (F-statistic):          9.99e-208\n",
       "Time:                        12:34:58   Log-Likelihood:            -1.6428e+05\n",
       "No. Observations:               25695   AIC:                         3.286e+05\n",
       "Df Residuals:                   25690   BIC:                         3.286e+05\n",
       "Df Model:                           4                                         \n",
       "Covariance Type:            nonrobust                                         \n",
       "==================================================================================\n",
       "                     coef    std err          t      P>|t|      [95.0% Conf. Int.]\n",
       "----------------------------------------------------------------------------------\n",
       "Intercept        529.4259     13.489     39.249      0.000       502.987   555.865\n",
       "C(Gender)[T.1]    32.7189     13.148      2.489      0.013         6.949    58.489\n",
       "C(Gender)[T.2]    94.1099     13.240      7.108      0.000        68.160   120.060\n",
       "C(wd)[T.1]        26.1448      2.363     11.064      0.000        21.513    30.777\n",
       "age                0.8541      0.096      8.867      0.000         0.665     1.043\n",
       "==============================================================================\n",
       "Omnibus:                      984.345   Durbin-Watson:                   1.865\n",
       "Prob(Omnibus):                  0.000   Jarque-Bera (JB):             1051.255\n",
       "Skew:                           0.477   Prob(JB):                    5.28e-229\n",
       "Kurtosis:                       2.730   Cond. No.                         947.\n",
       "==============================================================================\n",
       "\n",
       "Warnings:\n",
       "[1] Standard Errors assume that the covariance matrix of the errors is correctly specified.\n",
       "\"\"\""
      ]
     },
     "execution_count": 30,
     "metadata": {},
     "output_type": "execute_result"
    }
   ],
   "source": [
    "lm=smf.ols('speed~age+C(Gender)+C(wd)',data=data2.ix[comind]).fit()\n",
    "lm.summary()"
   ]
  },
  {
   "cell_type": "markdown",
   "metadata": {},
   "source": [
    "Nearly the same R2 as one gets from detailed information on weekdays "
   ]
  },
  {
   "cell_type": "markdown",
   "metadata": {},
   "source": [
    "Now consider hours of the day"
   ]
  },
  {
   "cell_type": "code",
   "execution_count": 31,
   "metadata": {},
   "outputs": [
    {
     "data": {
      "text/html": [
       "<table class=\"simpletable\">\n",
       "<caption>OLS Regression Results</caption>\n",
       "<tr>\n",
       "  <th>Dep. Variable:</th>          <td>speed</td>      <th>  R-squared:         </th>  <td>   0.069</td>  \n",
       "</tr>\n",
       "<tr>\n",
       "  <th>Model:</th>                   <td>OLS</td>       <th>  Adj. R-squared:    </th>  <td>   0.068</td>  \n",
       "</tr>\n",
       "<tr>\n",
       "  <th>Method:</th>             <td>Least Squares</td>  <th>  F-statistic:       </th>  <td>   76.18</td>  \n",
       "</tr>\n",
       "<tr>\n",
       "  <th>Date:</th>             <td>Tue, 03 Oct 2017</td> <th>  Prob (F-statistic):</th>   <td>  0.00</td>   \n",
       "</tr>\n",
       "<tr>\n",
       "  <th>Time:</th>                 <td>12:34:58</td>     <th>  Log-Likelihood:    </th> <td>-1.6308e+05</td>\n",
       "</tr>\n",
       "<tr>\n",
       "  <th>No. Observations:</th>      <td> 25573</td>      <th>  AIC:               </th>  <td>3.262e+05</td> \n",
       "</tr>\n",
       "<tr>\n",
       "  <th>Df Residuals:</th>          <td> 25547</td>      <th>  BIC:               </th>  <td>3.264e+05</td> \n",
       "</tr>\n",
       "<tr>\n",
       "  <th>Df Model:</th>              <td>    25</td>      <th>                     </th>      <td> </td>     \n",
       "</tr>\n",
       "<tr>\n",
       "  <th>Covariance Type:</th>      <td>nonrobust</td>    <th>                     </th>      <td> </td>     \n",
       "</tr>\n",
       "</table>\n",
       "<table class=\"simpletable\">\n",
       "<tr>\n",
       "         <td></td>           <th>coef</th>     <th>std err</th>      <th>t</th>      <th>P>|t|</th> <th>[95.0% Conf. Int.]</th> \n",
       "</tr>\n",
       "<tr>\n",
       "  <th>Intercept</th>      <td>  539.3461</td> <td>    9.567</td> <td>   56.374</td> <td> 0.000</td> <td>  520.594   558.098</td>\n",
       "</tr>\n",
       "<tr>\n",
       "  <th>C(Gender)[T.2]</th> <td>   61.4906</td> <td>    2.138</td> <td>   28.756</td> <td> 0.000</td> <td>   57.299    65.682</td>\n",
       "</tr>\n",
       "<tr>\n",
       "  <th>C(hour)[T.1]</th>   <td>   -6.6397</td> <td>   15.704</td> <td>   -0.423</td> <td> 0.672</td> <td>  -37.420    24.140</td>\n",
       "</tr>\n",
       "<tr>\n",
       "  <th>C(hour)[T.2]</th>   <td>   -6.0098</td> <td>   17.666</td> <td>   -0.340</td> <td> 0.734</td> <td>  -40.636    28.616</td>\n",
       "</tr>\n",
       "<tr>\n",
       "  <th>C(hour)[T.3]</th>   <td>  -51.8591</td> <td>   20.157</td> <td>   -2.573</td> <td> 0.010</td> <td>  -91.368   -12.350</td>\n",
       "</tr>\n",
       "<tr>\n",
       "  <th>C(hour)[T.4]</th>   <td>  -81.5041</td> <td>   19.657</td> <td>   -4.146</td> <td> 0.000</td> <td> -120.033   -42.976</td>\n",
       "</tr>\n",
       "<tr>\n",
       "  <th>C(hour)[T.5]</th>   <td>  -66.2804</td> <td>   12.327</td> <td>   -5.377</td> <td> 0.000</td> <td>  -90.442   -42.118</td>\n",
       "</tr>\n",
       "<tr>\n",
       "  <th>C(hour)[T.6]</th>   <td>  -52.3947</td> <td>   10.114</td> <td>   -5.180</td> <td> 0.000</td> <td>  -72.219   -32.571</td>\n",
       "</tr>\n",
       "<tr>\n",
       "  <th>C(hour)[T.7]</th>   <td>  -15.5611</td> <td>    9.444</td> <td>   -1.648</td> <td> 0.099</td> <td>  -34.072     2.950</td>\n",
       "</tr>\n",
       "<tr>\n",
       "  <th>C(hour)[T.8]</th>   <td>   13.8910</td> <td>    9.215</td> <td>    1.508</td> <td> 0.132</td> <td>   -4.170    31.952</td>\n",
       "</tr>\n",
       "<tr>\n",
       "  <th>C(hour)[T.9]</th>   <td>   15.2833</td> <td>    9.533</td> <td>    1.603</td> <td> 0.109</td> <td>   -3.401    33.968</td>\n",
       "</tr>\n",
       "<tr>\n",
       "  <th>C(hour)[T.10]</th>  <td>   16.9747</td> <td>   10.043</td> <td>    1.690</td> <td> 0.091</td> <td>   -2.709    36.659</td>\n",
       "</tr>\n",
       "<tr>\n",
       "  <th>C(hour)[T.11]</th>  <td>   35.2081</td> <td>   10.076</td> <td>    3.494</td> <td> 0.000</td> <td>   15.459    54.957</td>\n",
       "</tr>\n",
       "<tr>\n",
       "  <th>C(hour)[T.12]</th>  <td>   45.6883</td> <td>   10.015</td> <td>    4.562</td> <td> 0.000</td> <td>   26.059    65.317</td>\n",
       "</tr>\n",
       "<tr>\n",
       "  <th>C(hour)[T.13]</th>  <td>   44.5529</td> <td>   10.077</td> <td>    4.421</td> <td> 0.000</td> <td>   24.801    64.305</td>\n",
       "</tr>\n",
       "<tr>\n",
       "  <th>C(hour)[T.14]</th>  <td>   46.0980</td> <td>   10.096</td> <td>    4.566</td> <td> 0.000</td> <td>   26.308    65.888</td>\n",
       "</tr>\n",
       "<tr>\n",
       "  <th>C(hour)[T.15]</th>  <td>   44.3880</td> <td>   10.112</td> <td>    4.389</td> <td> 0.000</td> <td>   24.567    64.209</td>\n",
       "</tr>\n",
       "<tr>\n",
       "  <th>C(hour)[T.16]</th>  <td>   47.8745</td> <td>    9.771</td> <td>    4.900</td> <td> 0.000</td> <td>   28.723    67.026</td>\n",
       "</tr>\n",
       "<tr>\n",
       "  <th>C(hour)[T.17]</th>  <td>   45.8313</td> <td>    9.381</td> <td>    4.885</td> <td> 0.000</td> <td>   27.443    64.219</td>\n",
       "</tr>\n",
       "<tr>\n",
       "  <th>C(hour)[T.18]</th>  <td>   50.4784</td> <td>    9.315</td> <td>    5.419</td> <td> 0.000</td> <td>   32.220    68.736</td>\n",
       "</tr>\n",
       "<tr>\n",
       "  <th>C(hour)[T.19]</th>  <td>   55.8845</td> <td>    9.466</td> <td>    5.904</td> <td> 0.000</td> <td>   37.330    74.439</td>\n",
       "</tr>\n",
       "<tr>\n",
       "  <th>C(hour)[T.20]</th>  <td>   49.5702</td> <td>    9.678</td> <td>    5.122</td> <td> 0.000</td> <td>   30.601    68.540</td>\n",
       "</tr>\n",
       "<tr>\n",
       "  <th>C(hour)[T.21]</th>  <td>   49.2517</td> <td>   10.012</td> <td>    4.919</td> <td> 0.000</td> <td>   29.628    68.876</td>\n",
       "</tr>\n",
       "<tr>\n",
       "  <th>C(hour)[T.22]</th>  <td>   40.6419</td> <td>   10.487</td> <td>    3.875</td> <td> 0.000</td> <td>   20.087    61.197</td>\n",
       "</tr>\n",
       "<tr>\n",
       "  <th>C(hour)[T.23]</th>  <td>   13.8073</td> <td>   11.387</td> <td>    1.213</td> <td> 0.225</td> <td>   -8.511    36.126</td>\n",
       "</tr>\n",
       "<tr>\n",
       "  <th>age</th>            <td>    0.8298</td> <td>    0.095</td> <td>    8.716</td> <td> 0.000</td> <td>    0.643     1.016</td>\n",
       "</tr>\n",
       "</table>\n",
       "<table class=\"simpletable\">\n",
       "<tr>\n",
       "  <th>Omnibus:</th>       <td>923.633</td> <th>  Durbin-Watson:     </th> <td>   1.932</td> \n",
       "</tr>\n",
       "<tr>\n",
       "  <th>Prob(Omnibus):</th> <td> 0.000</td>  <th>  Jarque-Bera (JB):  </th> <td> 997.475</td> \n",
       "</tr>\n",
       "<tr>\n",
       "  <th>Skew:</th>          <td> 0.470</td>  <th>  Prob(JB):          </th> <td>2.52e-217</td>\n",
       "</tr>\n",
       "<tr>\n",
       "  <th>Kurtosis:</th>      <td> 2.774</td>  <th>  Cond. No.          </th> <td>1.87e+03</td> \n",
       "</tr>\n",
       "</table>"
      ],
      "text/plain": [
       "<class 'statsmodels.iolib.summary.Summary'>\n",
       "\"\"\"\n",
       "                            OLS Regression Results                            \n",
       "==============================================================================\n",
       "Dep. Variable:                  speed   R-squared:                       0.069\n",
       "Model:                            OLS   Adj. R-squared:                  0.068\n",
       "Method:                 Least Squares   F-statistic:                     76.18\n",
       "Date:                Tue, 03 Oct 2017   Prob (F-statistic):               0.00\n",
       "Time:                        12:34:58   Log-Likelihood:            -1.6308e+05\n",
       "No. Observations:               25573   AIC:                         3.262e+05\n",
       "Df Residuals:                   25547   BIC:                         3.264e+05\n",
       "Df Model:                          25                                         \n",
       "Covariance Type:            nonrobust                                         \n",
       "==================================================================================\n",
       "                     coef    std err          t      P>|t|      [95.0% Conf. Int.]\n",
       "----------------------------------------------------------------------------------\n",
       "Intercept        539.3461      9.567     56.374      0.000       520.594   558.098\n",
       "C(Gender)[T.2]    61.4906      2.138     28.756      0.000        57.299    65.682\n",
       "C(hour)[T.1]      -6.6397     15.704     -0.423      0.672       -37.420    24.140\n",
       "C(hour)[T.2]      -6.0098     17.666     -0.340      0.734       -40.636    28.616\n",
       "C(hour)[T.3]     -51.8591     20.157     -2.573      0.010       -91.368   -12.350\n",
       "C(hour)[T.4]     -81.5041     19.657     -4.146      0.000      -120.033   -42.976\n",
       "C(hour)[T.5]     -66.2804     12.327     -5.377      0.000       -90.442   -42.118\n",
       "C(hour)[T.6]     -52.3947     10.114     -5.180      0.000       -72.219   -32.571\n",
       "C(hour)[T.7]     -15.5611      9.444     -1.648      0.099       -34.072     2.950\n",
       "C(hour)[T.8]      13.8910      9.215      1.508      0.132        -4.170    31.952\n",
       "C(hour)[T.9]      15.2833      9.533      1.603      0.109        -3.401    33.968\n",
       "C(hour)[T.10]     16.9747     10.043      1.690      0.091        -2.709    36.659\n",
       "C(hour)[T.11]     35.2081     10.076      3.494      0.000        15.459    54.957\n",
       "C(hour)[T.12]     45.6883     10.015      4.562      0.000        26.059    65.317\n",
       "C(hour)[T.13]     44.5529     10.077      4.421      0.000        24.801    64.305\n",
       "C(hour)[T.14]     46.0980     10.096      4.566      0.000        26.308    65.888\n",
       "C(hour)[T.15]     44.3880     10.112      4.389      0.000        24.567    64.209\n",
       "C(hour)[T.16]     47.8745      9.771      4.900      0.000        28.723    67.026\n",
       "C(hour)[T.17]     45.8313      9.381      4.885      0.000        27.443    64.219\n",
       "C(hour)[T.18]     50.4784      9.315      5.419      0.000        32.220    68.736\n",
       "C(hour)[T.19]     55.8845      9.466      5.904      0.000        37.330    74.439\n",
       "C(hour)[T.20]     49.5702      9.678      5.122      0.000        30.601    68.540\n",
       "C(hour)[T.21]     49.2517     10.012      4.919      0.000        29.628    68.876\n",
       "C(hour)[T.22]     40.6419     10.487      3.875      0.000        20.087    61.197\n",
       "C(hour)[T.23]     13.8073     11.387      1.213      0.225        -8.511    36.126\n",
       "age                0.8298      0.095      8.716      0.000         0.643     1.016\n",
       "==============================================================================\n",
       "Omnibus:                      923.633   Durbin-Watson:                   1.932\n",
       "Prob(Omnibus):                  0.000   Jarque-Bera (JB):              997.475\n",
       "Skew:                           0.470   Prob(JB):                    2.52e-217\n",
       "Kurtosis:                       2.774   Cond. No.                     1.87e+03\n",
       "==============================================================================\n",
       "\n",
       "Warnings:\n",
       "[1] Standard Errors assume that the covariance matrix of the errors is correctly specified.\n",
       "[2] The condition number is large, 1.87e+03. This might indicate that there are\n",
       "strong multicollinearity or other numerical problems.\n",
       "\"\"\""
      ]
     },
     "execution_count": 31,
     "metadata": {},
     "output_type": "execute_result"
    }
   ],
   "source": [
    "lm=smf.ols('speed~age+C(Gender)+C(hour)',data=data2.ix[comind&demoind]).fit()\n",
    "lm.summary()"
   ]
  },
  {
   "cell_type": "markdown",
   "metadata": {},
   "source": [
    "One can generally recognize five periods in the day - morning (7-10am, day-11am-5pm, evening-6-10pm, late evening-11pm-1am and night-2am-6am)"
   ]
  },
  {
   "cell_type": "code",
   "execution_count": 32,
   "metadata": {
    "scrolled": true
   },
   "outputs": [
    {
     "data": {
      "text/html": [
       "<table class=\"simpletable\">\n",
       "<caption>OLS Regression Results</caption>\n",
       "<tr>\n",
       "  <th>Dep. Variable:</th>          <td>speed</td>      <th>  R-squared:         </th> <td>   0.057</td> \n",
       "</tr>\n",
       "<tr>\n",
       "  <th>Model:</th>                   <td>OLS</td>       <th>  Adj. R-squared:    </th> <td>   0.052</td> \n",
       "</tr>\n",
       "<tr>\n",
       "  <th>Method:</th>             <td>Least Squares</td>  <th>  F-statistic:       </th> <td>   10.89</td> \n",
       "</tr>\n",
       "<tr>\n",
       "  <th>Date:</th>             <td>Tue, 03 Oct 2017</td> <th>  Prob (F-statistic):</th> <td>5.55e-42</td> \n",
       "</tr>\n",
       "<tr>\n",
       "  <th>Time:</th>                 <td>12:34:58</td>     <th>  Log-Likelihood:    </th> <td> -29222.</td> \n",
       "</tr>\n",
       "<tr>\n",
       "  <th>No. Observations:</th>      <td>  4543</td>      <th>  AIC:               </th> <td>5.850e+04</td>\n",
       "</tr>\n",
       "<tr>\n",
       "  <th>Df Residuals:</th>          <td>  4517</td>      <th>  BIC:               </th> <td>5.866e+04</td>\n",
       "</tr>\n",
       "<tr>\n",
       "  <th>Df Model:</th>              <td>    25</td>      <th>                     </th>     <td> </td>    \n",
       "</tr>\n",
       "<tr>\n",
       "  <th>Covariance Type:</th>      <td>nonrobust</td>    <th>                     </th>     <td> </td>    \n",
       "</tr>\n",
       "</table>\n",
       "<table class=\"simpletable\">\n",
       "<tr>\n",
       "         <td></td>           <th>coef</th>     <th>std err</th>      <th>t</th>      <th>P>|t|</th> <th>[95.0% Conf. Int.]</th> \n",
       "</tr>\n",
       "<tr>\n",
       "  <th>Intercept</th>      <td>  575.7236</td> <td>   17.454</td> <td>   32.986</td> <td> 0.000</td> <td>  541.506   609.941</td>\n",
       "</tr>\n",
       "<tr>\n",
       "  <th>C(Gender)[T.2]</th> <td>   48.6041</td> <td>    5.275</td> <td>    9.214</td> <td> 0.000</td> <td>   38.263    58.946</td>\n",
       "</tr>\n",
       "<tr>\n",
       "  <th>C(hour)[T.1]</th>   <td>  -13.9545</td> <td>   24.998</td> <td>   -0.558</td> <td> 0.577</td> <td>  -62.963    35.054</td>\n",
       "</tr>\n",
       "<tr>\n",
       "  <th>C(hour)[T.2]</th>   <td>  -11.9517</td> <td>   27.594</td> <td>   -0.433</td> <td> 0.665</td> <td>  -66.049    42.145</td>\n",
       "</tr>\n",
       "<tr>\n",
       "  <th>C(hour)[T.3]</th>   <td>  -50.7151</td> <td>   31.503</td> <td>   -1.610</td> <td> 0.108</td> <td> -112.476    11.046</td>\n",
       "</tr>\n",
       "<tr>\n",
       "  <th>C(hour)[T.4]</th>   <td>  -45.3103</td> <td>   41.825</td> <td>   -1.083</td> <td> 0.279</td> <td> -127.307    36.687</td>\n",
       "</tr>\n",
       "<tr>\n",
       "  <th>C(hour)[T.5]</th>   <td> -115.1398</td> <td>   37.814</td> <td>   -3.045</td> <td> 0.002</td> <td> -189.273   -41.007</td>\n",
       "</tr>\n",
       "<tr>\n",
       "  <th>C(hour)[T.6]</th>   <td> -109.7841</td> <td>   26.395</td> <td>   -4.159</td> <td> 0.000</td> <td> -161.532   -58.036</td>\n",
       "</tr>\n",
       "<tr>\n",
       "  <th>C(hour)[T.7]</th>   <td>  -48.5453</td> <td>   20.697</td> <td>   -2.346</td> <td> 0.019</td> <td>  -89.121    -7.970</td>\n",
       "</tr>\n",
       "<tr>\n",
       "  <th>C(hour)[T.8]</th>   <td>  -41.1632</td> <td>   18.376</td> <td>   -2.240</td> <td> 0.025</td> <td>  -77.189    -5.137</td>\n",
       "</tr>\n",
       "<tr>\n",
       "  <th>C(hour)[T.9]</th>   <td>  -12.5779</td> <td>   17.881</td> <td>   -0.703</td> <td> 0.482</td> <td>  -47.634    22.478</td>\n",
       "</tr>\n",
       "<tr>\n",
       "  <th>C(hour)[T.10]</th>  <td>   10.6951</td> <td>   17.580</td> <td>    0.608</td> <td> 0.543</td> <td>  -23.771    45.161</td>\n",
       "</tr>\n",
       "<tr>\n",
       "  <th>C(hour)[T.11]</th>  <td>   18.4300</td> <td>   17.203</td> <td>    1.071</td> <td> 0.284</td> <td>  -15.296    52.156</td>\n",
       "</tr>\n",
       "<tr>\n",
       "  <th>C(hour)[T.12]</th>  <td>   22.3598</td> <td>   17.290</td> <td>    1.293</td> <td> 0.196</td> <td>  -11.537    56.257</td>\n",
       "</tr>\n",
       "<tr>\n",
       "  <th>C(hour)[T.13]</th>  <td>   32.1548</td> <td>   17.559</td> <td>    1.831</td> <td> 0.067</td> <td>   -2.269    66.579</td>\n",
       "</tr>\n",
       "<tr>\n",
       "  <th>C(hour)[T.14]</th>  <td>   32.8215</td> <td>   17.599</td> <td>    1.865</td> <td> 0.062</td> <td>   -1.682    67.325</td>\n",
       "</tr>\n",
       "<tr>\n",
       "  <th>C(hour)[T.15]</th>  <td>   32.3648</td> <td>   17.809</td> <td>    1.817</td> <td> 0.069</td> <td>   -2.550    67.280</td>\n",
       "</tr>\n",
       "<tr>\n",
       "  <th>C(hour)[T.16]</th>  <td>   49.2478</td> <td>   17.690</td> <td>    2.784</td> <td> 0.005</td> <td>   14.567    83.928</td>\n",
       "</tr>\n",
       "<tr>\n",
       "  <th>C(hour)[T.17]</th>  <td>   43.6787</td> <td>   17.644</td> <td>    2.476</td> <td> 0.013</td> <td>    9.088    78.270</td>\n",
       "</tr>\n",
       "<tr>\n",
       "  <th>C(hour)[T.18]</th>  <td>   38.2406</td> <td>   17.470</td> <td>    2.189</td> <td> 0.029</td> <td>    3.990    72.491</td>\n",
       "</tr>\n",
       "<tr>\n",
       "  <th>C(hour)[T.19]</th>  <td>   40.8629</td> <td>   18.001</td> <td>    2.270</td> <td> 0.023</td> <td>    5.573    76.153</td>\n",
       "</tr>\n",
       "<tr>\n",
       "  <th>C(hour)[T.20]</th>  <td>   41.9854</td> <td>   18.067</td> <td>    2.324</td> <td> 0.020</td> <td>    6.566    77.405</td>\n",
       "</tr>\n",
       "<tr>\n",
       "  <th>C(hour)[T.21]</th>  <td>   29.5719</td> <td>   19.575</td> <td>    1.511</td> <td> 0.131</td> <td>   -8.804    67.948</td>\n",
       "</tr>\n",
       "<tr>\n",
       "  <th>C(hour)[T.22]</th>  <td>   15.2424</td> <td>   19.595</td> <td>    0.778</td> <td> 0.437</td> <td>  -23.173    53.658</td>\n",
       "</tr>\n",
       "<tr>\n",
       "  <th>C(hour)[T.23]</th>  <td>   11.9243</td> <td>   21.001</td> <td>    0.568</td> <td> 0.570</td> <td>  -29.248    53.097</td>\n",
       "</tr>\n",
       "<tr>\n",
       "  <th>age</th>            <td>    0.7742</td> <td>    0.235</td> <td>    3.298</td> <td> 0.001</td> <td>    0.314     1.234</td>\n",
       "</tr>\n",
       "</table>\n",
       "<table class=\"simpletable\">\n",
       "<tr>\n",
       "  <th>Omnibus:</th>       <td>166.002</td> <th>  Durbin-Watson:     </th> <td>   1.906</td>\n",
       "</tr>\n",
       "<tr>\n",
       "  <th>Prob(Omnibus):</th> <td> 0.000</td>  <th>  Jarque-Bera (JB):  </th> <td> 137.616</td>\n",
       "</tr>\n",
       "<tr>\n",
       "  <th>Skew:</th>          <td> 0.352</td>  <th>  Prob(JB):          </th> <td>1.31e-30</td>\n",
       "</tr>\n",
       "<tr>\n",
       "  <th>Kurtosis:</th>      <td> 2.520</td>  <th>  Cond. No.          </th> <td>1.27e+03</td>\n",
       "</tr>\n",
       "</table>"
      ],
      "text/plain": [
       "<class 'statsmodels.iolib.summary.Summary'>\n",
       "\"\"\"\n",
       "                            OLS Regression Results                            \n",
       "==============================================================================\n",
       "Dep. Variable:                  speed   R-squared:                       0.057\n",
       "Model:                            OLS   Adj. R-squared:                  0.052\n",
       "Method:                 Least Squares   F-statistic:                     10.89\n",
       "Date:                Tue, 03 Oct 2017   Prob (F-statistic):           5.55e-42\n",
       "Time:                        12:34:58   Log-Likelihood:                -29222.\n",
       "No. Observations:                4543   AIC:                         5.850e+04\n",
       "Df Residuals:                    4517   BIC:                         5.866e+04\n",
       "Df Model:                          25                                         \n",
       "Covariance Type:            nonrobust                                         \n",
       "==================================================================================\n",
       "                     coef    std err          t      P>|t|      [95.0% Conf. Int.]\n",
       "----------------------------------------------------------------------------------\n",
       "Intercept        575.7236     17.454     32.986      0.000       541.506   609.941\n",
       "C(Gender)[T.2]    48.6041      5.275      9.214      0.000        38.263    58.946\n",
       "C(hour)[T.1]     -13.9545     24.998     -0.558      0.577       -62.963    35.054\n",
       "C(hour)[T.2]     -11.9517     27.594     -0.433      0.665       -66.049    42.145\n",
       "C(hour)[T.3]     -50.7151     31.503     -1.610      0.108      -112.476    11.046\n",
       "C(hour)[T.4]     -45.3103     41.825     -1.083      0.279      -127.307    36.687\n",
       "C(hour)[T.5]    -115.1398     37.814     -3.045      0.002      -189.273   -41.007\n",
       "C(hour)[T.6]    -109.7841     26.395     -4.159      0.000      -161.532   -58.036\n",
       "C(hour)[T.7]     -48.5453     20.697     -2.346      0.019       -89.121    -7.970\n",
       "C(hour)[T.8]     -41.1632     18.376     -2.240      0.025       -77.189    -5.137\n",
       "C(hour)[T.9]     -12.5779     17.881     -0.703      0.482       -47.634    22.478\n",
       "C(hour)[T.10]     10.6951     17.580      0.608      0.543       -23.771    45.161\n",
       "C(hour)[T.11]     18.4300     17.203      1.071      0.284       -15.296    52.156\n",
       "C(hour)[T.12]     22.3598     17.290      1.293      0.196       -11.537    56.257\n",
       "C(hour)[T.13]     32.1548     17.559      1.831      0.067        -2.269    66.579\n",
       "C(hour)[T.14]     32.8215     17.599      1.865      0.062        -1.682    67.325\n",
       "C(hour)[T.15]     32.3648     17.809      1.817      0.069        -2.550    67.280\n",
       "C(hour)[T.16]     49.2478     17.690      2.784      0.005        14.567    83.928\n",
       "C(hour)[T.17]     43.6787     17.644      2.476      0.013         9.088    78.270\n",
       "C(hour)[T.18]     38.2406     17.470      2.189      0.029         3.990    72.491\n",
       "C(hour)[T.19]     40.8629     18.001      2.270      0.023         5.573    76.153\n",
       "C(hour)[T.20]     41.9854     18.067      2.324      0.020         6.566    77.405\n",
       "C(hour)[T.21]     29.5719     19.575      1.511      0.131        -8.804    67.948\n",
       "C(hour)[T.22]     15.2424     19.595      0.778      0.437       -23.173    53.658\n",
       "C(hour)[T.23]     11.9243     21.001      0.568      0.570       -29.248    53.097\n",
       "age                0.7742      0.235      3.298      0.001         0.314     1.234\n",
       "==============================================================================\n",
       "Omnibus:                      166.002   Durbin-Watson:                   1.906\n",
       "Prob(Omnibus):                  0.000   Jarque-Bera (JB):              137.616\n",
       "Skew:                           0.352   Prob(JB):                     1.31e-30\n",
       "Kurtosis:                       2.520   Cond. No.                     1.27e+03\n",
       "==============================================================================\n",
       "\n",
       "Warnings:\n",
       "[1] Standard Errors assume that the covariance matrix of the errors is correctly specified.\n",
       "[2] The condition number is large, 1.27e+03. This might indicate that there are\n",
       "strong multicollinearity or other numerical problems.\n",
       "\"\"\""
      ]
     },
     "execution_count": 32,
     "metadata": {},
     "output_type": "execute_result"
    }
   ],
   "source": [
    "#Are weekends different?\n",
    "lm=smf.ols('speed~age+C(Gender)+C(hour)',data=data2.ix[comind&demoind&(data2.wd==1)]).fit()\n",
    "lm.summary()"
   ]
  },
  {
   "cell_type": "markdown",
   "metadata": {},
   "source": [
    "Similar pattern athough a bit shifted in time"
   ]
  },
  {
   "cell_type": "markdown",
   "metadata": {},
   "source": [
    "Run a regression using both - wd and hour"
   ]
  },
  {
   "cell_type": "code",
   "execution_count": 33,
   "metadata": {},
   "outputs": [
    {
     "data": {
      "text/html": [
       "<table class=\"simpletable\">\n",
       "<caption>OLS Regression Results</caption>\n",
       "<tr>\n",
       "  <th>Dep. Variable:</th>          <td>speed</td>      <th>  R-squared:         </th>  <td>   0.072</td>  \n",
       "</tr>\n",
       "<tr>\n",
       "  <th>Model:</th>                   <td>OLS</td>       <th>  Adj. R-squared:    </th>  <td>   0.071</td>  \n",
       "</tr>\n",
       "<tr>\n",
       "  <th>Method:</th>             <td>Least Squares</td>  <th>  F-statistic:       </th>  <td>   76.33</td>  \n",
       "</tr>\n",
       "<tr>\n",
       "  <th>Date:</th>             <td>Tue, 03 Oct 2017</td> <th>  Prob (F-statistic):</th>   <td>  0.00</td>   \n",
       "</tr>\n",
       "<tr>\n",
       "  <th>Time:</th>                 <td>12:34:59</td>     <th>  Log-Likelihood:    </th> <td>-1.6305e+05</td>\n",
       "</tr>\n",
       "<tr>\n",
       "  <th>No. Observations:</th>      <td> 25573</td>      <th>  AIC:               </th>  <td>3.261e+05</td> \n",
       "</tr>\n",
       "<tr>\n",
       "  <th>Df Residuals:</th>          <td> 25546</td>      <th>  BIC:               </th>  <td>3.264e+05</td> \n",
       "</tr>\n",
       "<tr>\n",
       "  <th>Df Model:</th>              <td>    26</td>      <th>                     </th>      <td> </td>     \n",
       "</tr>\n",
       "<tr>\n",
       "  <th>Covariance Type:</th>      <td>nonrobust</td>    <th>                     </th>      <td> </td>     \n",
       "</tr>\n",
       "</table>\n",
       "<table class=\"simpletable\">\n",
       "<tr>\n",
       "         <td></td>           <th>coef</th>     <th>std err</th>      <th>t</th>      <th>P>|t|</th> <th>[95.0% Conf. Int.]</th> \n",
       "</tr>\n",
       "<tr>\n",
       "  <th>Intercept</th>      <td>  530.2126</td> <td>    9.612</td> <td>   55.163</td> <td> 0.000</td> <td>  511.373   549.052</td>\n",
       "</tr>\n",
       "<tr>\n",
       "  <th>C(Gender)[T.2]</th> <td>   61.3155</td> <td>    2.135</td> <td>   28.714</td> <td> 0.000</td> <td>   57.130    65.501</td>\n",
       "</tr>\n",
       "<tr>\n",
       "  <th>C(wd)[T.1]</th>     <td>   21.0082</td> <td>    2.430</td> <td>    8.647</td> <td> 0.000</td> <td>   16.246    25.770</td>\n",
       "</tr>\n",
       "<tr>\n",
       "  <th>C(hour)[T.1]</th>   <td>   -8.6451</td> <td>   15.683</td> <td>   -0.551</td> <td> 0.581</td> <td>  -39.384    22.094</td>\n",
       "</tr>\n",
       "<tr>\n",
       "  <th>C(hour)[T.2]</th>   <td>   -8.3448</td> <td>   17.642</td> <td>   -0.473</td> <td> 0.636</td> <td>  -42.925    26.235</td>\n",
       "</tr>\n",
       "<tr>\n",
       "  <th>C(hour)[T.3]</th>   <td>  -53.9154</td> <td>   20.129</td> <td>   -2.678</td> <td> 0.007</td> <td>  -93.370   -14.461</td>\n",
       "</tr>\n",
       "<tr>\n",
       "  <th>C(hour)[T.4]</th>   <td>  -78.1758</td> <td>   19.632</td> <td>   -3.982</td> <td> 0.000</td> <td> -116.656   -39.695</td>\n",
       "</tr>\n",
       "<tr>\n",
       "  <th>C(hour)[T.5]</th>   <td>  -59.6805</td> <td>   12.333</td> <td>   -4.839</td> <td> 0.000</td> <td>  -83.854   -35.507</td>\n",
       "</tr>\n",
       "<tr>\n",
       "  <th>C(hour)[T.6]</th>   <td>  -45.5837</td> <td>   10.130</td> <td>   -4.500</td> <td> 0.000</td> <td>  -65.439   -25.728</td>\n",
       "</tr>\n",
       "<tr>\n",
       "  <th>C(hour)[T.7]</th>   <td>   -8.7719</td> <td>    9.463</td> <td>   -0.927</td> <td> 0.354</td> <td>  -27.320     9.777</td>\n",
       "</tr>\n",
       "<tr>\n",
       "  <th>C(hour)[T.8]</th>   <td>   20.6003</td> <td>    9.234</td> <td>    2.231</td> <td> 0.026</td> <td>    2.501    38.699</td>\n",
       "</tr>\n",
       "<tr>\n",
       "  <th>C(hour)[T.9]</th>   <td>   20.1286</td> <td>    9.535</td> <td>    2.111</td> <td> 0.035</td> <td>    1.439    38.819</td>\n",
       "</tr>\n",
       "<tr>\n",
       "  <th>C(hour)[T.10]</th>  <td>   18.2620</td> <td>   10.029</td> <td>    1.821</td> <td> 0.069</td> <td>   -1.396    37.920</td>\n",
       "</tr>\n",
       "<tr>\n",
       "  <th>C(hour)[T.11]</th>  <td>   34.9004</td> <td>   10.061</td> <td>    3.469</td> <td> 0.001</td> <td>   15.179    54.621</td>\n",
       "</tr>\n",
       "<tr>\n",
       "  <th>C(hour)[T.12]</th>  <td>   46.1401</td> <td>   10.000</td> <td>    4.614</td> <td> 0.000</td> <td>   26.539    65.741</td>\n",
       "</tr>\n",
       "<tr>\n",
       "  <th>C(hour)[T.13]</th>  <td>   45.5657</td> <td>   10.063</td> <td>    4.528</td> <td> 0.000</td> <td>   25.841    65.291</td>\n",
       "</tr>\n",
       "<tr>\n",
       "  <th>C(hour)[T.14]</th>  <td>   47.1268</td> <td>   10.083</td> <td>    4.674</td> <td> 0.000</td> <td>   27.364    66.889</td>\n",
       "</tr>\n",
       "<tr>\n",
       "  <th>C(hour)[T.15]</th>  <td>   45.9406</td> <td>   10.099</td> <td>    4.549</td> <td> 0.000</td> <td>   26.145    65.736</td>\n",
       "</tr>\n",
       "<tr>\n",
       "  <th>C(hour)[T.16]</th>  <td>   51.0500</td> <td>    9.764</td> <td>    5.229</td> <td> 0.000</td> <td>   31.913    70.187</td>\n",
       "</tr>\n",
       "<tr>\n",
       "  <th>C(hour)[T.17]</th>  <td>   51.1430</td> <td>    9.388</td> <td>    5.448</td> <td> 0.000</td> <td>   32.742    69.544</td>\n",
       "</tr>\n",
       "<tr>\n",
       "  <th>C(hour)[T.18]</th>  <td>   55.9768</td> <td>    9.323</td> <td>    6.004</td> <td> 0.000</td> <td>   37.703    74.251</td>\n",
       "</tr>\n",
       "<tr>\n",
       "  <th>C(hour)[T.19]</th>  <td>   61.1717</td> <td>    9.472</td> <td>    6.458</td> <td> 0.000</td> <td>   42.606    79.738</td>\n",
       "</tr>\n",
       "<tr>\n",
       "  <th>C(hour)[T.20]</th>  <td>   53.9419</td> <td>    9.677</td> <td>    5.574</td> <td> 0.000</td> <td>   34.974    72.910</td>\n",
       "</tr>\n",
       "<tr>\n",
       "  <th>C(hour)[T.21]</th>  <td>   53.9958</td> <td>   10.013</td> <td>    5.393</td> <td> 0.000</td> <td>   34.370    73.621</td>\n",
       "</tr>\n",
       "<tr>\n",
       "  <th>C(hour)[T.22]</th>  <td>   43.9089</td> <td>   10.479</td> <td>    4.190</td> <td> 0.000</td> <td>   23.370    64.448</td>\n",
       "</tr>\n",
       "<tr>\n",
       "  <th>C(hour)[T.23]</th>  <td>   16.1542</td> <td>   11.374</td> <td>    1.420</td> <td> 0.156</td> <td>   -6.139    38.447</td>\n",
       "</tr>\n",
       "<tr>\n",
       "  <th>age</th>            <td>    0.8611</td> <td>    0.095</td> <td>    9.052</td> <td> 0.000</td> <td>    0.675     1.048</td>\n",
       "</tr>\n",
       "</table>\n",
       "<table class=\"simpletable\">\n",
       "<tr>\n",
       "  <th>Omnibus:</th>       <td>909.885</td> <th>  Durbin-Watson:     </th> <td>   1.937</td> \n",
       "</tr>\n",
       "<tr>\n",
       "  <th>Prob(Omnibus):</th> <td> 0.000</td>  <th>  Jarque-Bera (JB):  </th> <td> 980.897</td> \n",
       "</tr>\n",
       "<tr>\n",
       "  <th>Skew:</th>          <td> 0.466</td>  <th>  Prob(JB):          </th> <td>1.00e-213</td>\n",
       "</tr>\n",
       "<tr>\n",
       "  <th>Kurtosis:</th>      <td> 2.775</td>  <th>  Cond. No.          </th> <td>1.87e+03</td> \n",
       "</tr>\n",
       "</table>"
      ],
      "text/plain": [
       "<class 'statsmodels.iolib.summary.Summary'>\n",
       "\"\"\"\n",
       "                            OLS Regression Results                            \n",
       "==============================================================================\n",
       "Dep. Variable:                  speed   R-squared:                       0.072\n",
       "Model:                            OLS   Adj. R-squared:                  0.071\n",
       "Method:                 Least Squares   F-statistic:                     76.33\n",
       "Date:                Tue, 03 Oct 2017   Prob (F-statistic):               0.00\n",
       "Time:                        12:34:59   Log-Likelihood:            -1.6305e+05\n",
       "No. Observations:               25573   AIC:                         3.261e+05\n",
       "Df Residuals:                   25546   BIC:                         3.264e+05\n",
       "Df Model:                          26                                         \n",
       "Covariance Type:            nonrobust                                         \n",
       "==================================================================================\n",
       "                     coef    std err          t      P>|t|      [95.0% Conf. Int.]\n",
       "----------------------------------------------------------------------------------\n",
       "Intercept        530.2126      9.612     55.163      0.000       511.373   549.052\n",
       "C(Gender)[T.2]    61.3155      2.135     28.714      0.000        57.130    65.501\n",
       "C(wd)[T.1]        21.0082      2.430      8.647      0.000        16.246    25.770\n",
       "C(hour)[T.1]      -8.6451     15.683     -0.551      0.581       -39.384    22.094\n",
       "C(hour)[T.2]      -8.3448     17.642     -0.473      0.636       -42.925    26.235\n",
       "C(hour)[T.3]     -53.9154     20.129     -2.678      0.007       -93.370   -14.461\n",
       "C(hour)[T.4]     -78.1758     19.632     -3.982      0.000      -116.656   -39.695\n",
       "C(hour)[T.5]     -59.6805     12.333     -4.839      0.000       -83.854   -35.507\n",
       "C(hour)[T.6]     -45.5837     10.130     -4.500      0.000       -65.439   -25.728\n",
       "C(hour)[T.7]      -8.7719      9.463     -0.927      0.354       -27.320     9.777\n",
       "C(hour)[T.8]      20.6003      9.234      2.231      0.026         2.501    38.699\n",
       "C(hour)[T.9]      20.1286      9.535      2.111      0.035         1.439    38.819\n",
       "C(hour)[T.10]     18.2620     10.029      1.821      0.069        -1.396    37.920\n",
       "C(hour)[T.11]     34.9004     10.061      3.469      0.001        15.179    54.621\n",
       "C(hour)[T.12]     46.1401     10.000      4.614      0.000        26.539    65.741\n",
       "C(hour)[T.13]     45.5657     10.063      4.528      0.000        25.841    65.291\n",
       "C(hour)[T.14]     47.1268     10.083      4.674      0.000        27.364    66.889\n",
       "C(hour)[T.15]     45.9406     10.099      4.549      0.000        26.145    65.736\n",
       "C(hour)[T.16]     51.0500      9.764      5.229      0.000        31.913    70.187\n",
       "C(hour)[T.17]     51.1430      9.388      5.448      0.000        32.742    69.544\n",
       "C(hour)[T.18]     55.9768      9.323      6.004      0.000        37.703    74.251\n",
       "C(hour)[T.19]     61.1717      9.472      6.458      0.000        42.606    79.738\n",
       "C(hour)[T.20]     53.9419      9.677      5.574      0.000        34.974    72.910\n",
       "C(hour)[T.21]     53.9958     10.013      5.393      0.000        34.370    73.621\n",
       "C(hour)[T.22]     43.9089     10.479      4.190      0.000        23.370    64.448\n",
       "C(hour)[T.23]     16.1542     11.374      1.420      0.156        -6.139    38.447\n",
       "age                0.8611      0.095      9.052      0.000         0.675     1.048\n",
       "==============================================================================\n",
       "Omnibus:                      909.885   Durbin-Watson:                   1.937\n",
       "Prob(Omnibus):                  0.000   Jarque-Bera (JB):              980.897\n",
       "Skew:                           0.466   Prob(JB):                    1.00e-213\n",
       "Kurtosis:                       2.775   Cond. No.                     1.87e+03\n",
       "==============================================================================\n",
       "\n",
       "Warnings:\n",
       "[1] Standard Errors assume that the covariance matrix of the errors is correctly specified.\n",
       "[2] The condition number is large, 1.87e+03. This might indicate that there are\n",
       "strong multicollinearity or other numerical problems.\n",
       "\"\"\""
      ]
     },
     "execution_count": 33,
     "metadata": {},
     "output_type": "execute_result"
    }
   ],
   "source": [
    "lm=smf.ols('speed~age+C(Gender)+C(wd)+C(hour)',data=data2.ix[comind&demoind]).fit()\n",
    "lm.summary()"
   ]
  },
  {
   "cell_type": "markdown",
   "metadata": {},
   "source": [
    "Finally add density parameters for beginning and the end of the trip"
   ]
  },
  {
   "cell_type": "code",
   "execution_count": 34,
   "metadata": {},
   "outputs": [
    {
     "data": {
      "text/html": [
       "<table class=\"simpletable\">\n",
       "<caption>OLS Regression Results</caption>\n",
       "<tr>\n",
       "  <th>Dep. Variable:</th>          <td>speed</td>      <th>  R-squared:         </th>  <td>   0.075</td>  \n",
       "</tr>\n",
       "<tr>\n",
       "  <th>Model:</th>                   <td>OLS</td>       <th>  Adj. R-squared:    </th>  <td>   0.074</td>  \n",
       "</tr>\n",
       "<tr>\n",
       "  <th>Method:</th>             <td>Least Squares</td>  <th>  F-statistic:       </th>  <td>   74.14</td>  \n",
       "</tr>\n",
       "<tr>\n",
       "  <th>Date:</th>             <td>Tue, 03 Oct 2017</td> <th>  Prob (F-statistic):</th>   <td>  0.00</td>   \n",
       "</tr>\n",
       "<tr>\n",
       "  <th>Time:</th>                 <td>12:35:00</td>     <th>  Log-Likelihood:    </th> <td>-1.6297e+05</td>\n",
       "</tr>\n",
       "<tr>\n",
       "  <th>No. Observations:</th>      <td> 25568</td>      <th>  AIC:               </th>  <td>3.260e+05</td> \n",
       "</tr>\n",
       "<tr>\n",
       "  <th>Df Residuals:</th>          <td> 25539</td>      <th>  BIC:               </th>  <td>3.262e+05</td> \n",
       "</tr>\n",
       "<tr>\n",
       "  <th>Df Model:</th>              <td>    28</td>      <th>                     </th>      <td> </td>     \n",
       "</tr>\n",
       "<tr>\n",
       "  <th>Covariance Type:</th>      <td>nonrobust</td>    <th>                     </th>      <td> </td>     \n",
       "</tr>\n",
       "</table>\n",
       "<table class=\"simpletable\">\n",
       "<tr>\n",
       "         <td></td>           <th>coef</th>     <th>std err</th>      <th>t</th>      <th>P>|t|</th> <th>[95.0% Conf. Int.]</th> \n",
       "</tr>\n",
       "<tr>\n",
       "  <th>Intercept</th>      <td>  531.5619</td> <td>    9.691</td> <td>   54.852</td> <td> 0.000</td> <td>  512.567   550.557</td>\n",
       "</tr>\n",
       "<tr>\n",
       "  <th>C(Gender)[T.2]</th> <td>   61.7253</td> <td>    2.133</td> <td>   28.933</td> <td> 0.000</td> <td>   57.544    65.907</td>\n",
       "</tr>\n",
       "<tr>\n",
       "  <th>C(wd)[T.1]</th>     <td>   20.7985</td> <td>    2.435</td> <td>    8.542</td> <td> 0.000</td> <td>   16.026    25.571</td>\n",
       "</tr>\n",
       "<tr>\n",
       "  <th>C(hour)[T.1]</th>   <td>   -7.0453</td> <td>   15.659</td> <td>   -0.450</td> <td> 0.653</td> <td>  -37.737    23.646</td>\n",
       "</tr>\n",
       "<tr>\n",
       "  <th>C(hour)[T.2]</th>   <td>   -7.6941</td> <td>   17.616</td> <td>   -0.437</td> <td> 0.662</td> <td>  -42.223    26.834</td>\n",
       "</tr>\n",
       "<tr>\n",
       "  <th>C(hour)[T.3]</th>   <td>  -44.8140</td> <td>   20.121</td> <td>   -2.227</td> <td> 0.026</td> <td>  -84.252    -5.376</td>\n",
       "</tr>\n",
       "<tr>\n",
       "  <th>C(hour)[T.4]</th>   <td>  -70.3636</td> <td>   19.621</td> <td>   -3.586</td> <td> 0.000</td> <td> -108.822   -31.905</td>\n",
       "</tr>\n",
       "<tr>\n",
       "  <th>C(hour)[T.5]</th>   <td>  -48.8981</td> <td>   12.368</td> <td>   -3.954</td> <td> 0.000</td> <td>  -73.141   -24.656</td>\n",
       "</tr>\n",
       "<tr>\n",
       "  <th>C(hour)[T.6]</th>   <td>  -32.9858</td> <td>   10.206</td> <td>   -3.232</td> <td> 0.001</td> <td>  -52.990   -12.982</td>\n",
       "</tr>\n",
       "<tr>\n",
       "  <th>C(hour)[T.7]</th>   <td>    2.8797</td> <td>    9.532</td> <td>    0.302</td> <td> 0.763</td> <td>  -15.803    21.563</td>\n",
       "</tr>\n",
       "<tr>\n",
       "  <th>C(hour)[T.8]</th>   <td>   32.1202</td> <td>    9.302</td> <td>    3.453</td> <td> 0.001</td> <td>   13.887    50.353</td>\n",
       "</tr>\n",
       "<tr>\n",
       "  <th>C(hour)[T.9]</th>   <td>   30.5321</td> <td>    9.587</td> <td>    3.185</td> <td> 0.001</td> <td>   11.740    49.324</td>\n",
       "</tr>\n",
       "<tr>\n",
       "  <th>C(hour)[T.10]</th>  <td>   26.4995</td> <td>   10.055</td> <td>    2.636</td> <td> 0.008</td> <td>    6.792    46.207</td>\n",
       "</tr>\n",
       "<tr>\n",
       "  <th>C(hour)[T.11]</th>  <td>   41.0893</td> <td>   10.070</td> <td>    4.080</td> <td> 0.000</td> <td>   21.351    60.827</td>\n",
       "</tr>\n",
       "<tr>\n",
       "  <th>C(hour)[T.12]</th>  <td>   51.2309</td> <td>   10.000</td> <td>    5.123</td> <td> 0.000</td> <td>   31.630    70.832</td>\n",
       "</tr>\n",
       "<tr>\n",
       "  <th>C(hour)[T.13]</th>  <td>   50.4375</td> <td>   10.061</td> <td>    5.013</td> <td> 0.000</td> <td>   30.717    70.158</td>\n",
       "</tr>\n",
       "<tr>\n",
       "  <th>C(hour)[T.14]</th>  <td>   51.0274</td> <td>   10.076</td> <td>    5.064</td> <td> 0.000</td> <td>   31.277    70.777</td>\n",
       "</tr>\n",
       "<tr>\n",
       "  <th>C(hour)[T.15]</th>  <td>   49.6087</td> <td>   10.091</td> <td>    4.916</td> <td> 0.000</td> <td>   29.829    69.388</td>\n",
       "</tr>\n",
       "<tr>\n",
       "  <th>C(hour)[T.16]</th>  <td>   53.3157</td> <td>    9.754</td> <td>    5.466</td> <td> 0.000</td> <td>   34.197    72.434</td>\n",
       "</tr>\n",
       "<tr>\n",
       "  <th>C(hour)[T.17]</th>  <td>   51.7238</td> <td>    9.382</td> <td>    5.513</td> <td> 0.000</td> <td>   33.334    70.114</td>\n",
       "</tr>\n",
       "<tr>\n",
       "  <th>C(hour)[T.18]</th>  <td>   56.5212</td> <td>    9.316</td> <td>    6.067</td> <td> 0.000</td> <td>   38.262    74.780</td>\n",
       "</tr>\n",
       "<tr>\n",
       "  <th>C(hour)[T.19]</th>  <td>   62.2493</td> <td>    9.460</td> <td>    6.580</td> <td> 0.000</td> <td>   43.706    80.792</td>\n",
       "</tr>\n",
       "<tr>\n",
       "  <th>C(hour)[T.20]</th>  <td>   54.7693</td> <td>    9.668</td> <td>    5.665</td> <td> 0.000</td> <td>   35.820    73.718</td>\n",
       "</tr>\n",
       "<tr>\n",
       "  <th>C(hour)[T.21]</th>  <td>   54.2891</td> <td>   10.000</td> <td>    5.429</td> <td> 0.000</td> <td>   34.688    73.890</td>\n",
       "</tr>\n",
       "<tr>\n",
       "  <th>C(hour)[T.22]</th>  <td>   44.8683</td> <td>   10.463</td> <td>    4.288</td> <td> 0.000</td> <td>   24.360    65.377</td>\n",
       "</tr>\n",
       "<tr>\n",
       "  <th>C(hour)[T.23]</th>  <td>   17.6236</td> <td>   11.356</td> <td>    1.552</td> <td> 0.121</td> <td>   -4.636    39.883</td>\n",
       "</tr>\n",
       "<tr>\n",
       "  <th>age</th>            <td>    0.8801</td> <td>    0.095</td> <td>    9.249</td> <td> 0.000</td> <td>    0.694     1.067</td>\n",
       "</tr>\n",
       "<tr>\n",
       "  <th>StartDens</th>      <td>    0.0011</td> <td>    0.000</td> <td>    2.883</td> <td> 0.004</td> <td>    0.000     0.002</td>\n",
       "</tr>\n",
       "<tr>\n",
       "  <th>EndDens</th>        <td>   -0.0029</td> <td>    0.000</td> <td>   -8.320</td> <td> 0.000</td> <td>   -0.004    -0.002</td>\n",
       "</tr>\n",
       "</table>\n",
       "<table class=\"simpletable\">\n",
       "<tr>\n",
       "  <th>Omnibus:</th>       <td>909.863</td> <th>  Durbin-Watson:     </th> <td>   1.935</td> \n",
       "</tr>\n",
       "<tr>\n",
       "  <th>Prob(Omnibus):</th> <td> 0.000</td>  <th>  Jarque-Bera (JB):  </th> <td> 980.683</td> \n",
       "</tr>\n",
       "<tr>\n",
       "  <th>Skew:</th>          <td> 0.466</td>  <th>  Prob(JB):          </th> <td>1.12e-213</td>\n",
       "</tr>\n",
       "<tr>\n",
       "  <th>Kurtosis:</th>      <td> 2.774</td>  <th>  Cond. No.          </th> <td>2.69e+05</td> \n",
       "</tr>\n",
       "</table>"
      ],
      "text/plain": [
       "<class 'statsmodels.iolib.summary.Summary'>\n",
       "\"\"\"\n",
       "                            OLS Regression Results                            \n",
       "==============================================================================\n",
       "Dep. Variable:                  speed   R-squared:                       0.075\n",
       "Model:                            OLS   Adj. R-squared:                  0.074\n",
       "Method:                 Least Squares   F-statistic:                     74.14\n",
       "Date:                Tue, 03 Oct 2017   Prob (F-statistic):               0.00\n",
       "Time:                        12:35:00   Log-Likelihood:            -1.6297e+05\n",
       "No. Observations:               25568   AIC:                         3.260e+05\n",
       "Df Residuals:                   25539   BIC:                         3.262e+05\n",
       "Df Model:                          28                                         \n",
       "Covariance Type:            nonrobust                                         \n",
       "==================================================================================\n",
       "                     coef    std err          t      P>|t|      [95.0% Conf. Int.]\n",
       "----------------------------------------------------------------------------------\n",
       "Intercept        531.5619      9.691     54.852      0.000       512.567   550.557\n",
       "C(Gender)[T.2]    61.7253      2.133     28.933      0.000        57.544    65.907\n",
       "C(wd)[T.1]        20.7985      2.435      8.542      0.000        16.026    25.571\n",
       "C(hour)[T.1]      -7.0453     15.659     -0.450      0.653       -37.737    23.646\n",
       "C(hour)[T.2]      -7.6941     17.616     -0.437      0.662       -42.223    26.834\n",
       "C(hour)[T.3]     -44.8140     20.121     -2.227      0.026       -84.252    -5.376\n",
       "C(hour)[T.4]     -70.3636     19.621     -3.586      0.000      -108.822   -31.905\n",
       "C(hour)[T.5]     -48.8981     12.368     -3.954      0.000       -73.141   -24.656\n",
       "C(hour)[T.6]     -32.9858     10.206     -3.232      0.001       -52.990   -12.982\n",
       "C(hour)[T.7]       2.8797      9.532      0.302      0.763       -15.803    21.563\n",
       "C(hour)[T.8]      32.1202      9.302      3.453      0.001        13.887    50.353\n",
       "C(hour)[T.9]      30.5321      9.587      3.185      0.001        11.740    49.324\n",
       "C(hour)[T.10]     26.4995     10.055      2.636      0.008         6.792    46.207\n",
       "C(hour)[T.11]     41.0893     10.070      4.080      0.000        21.351    60.827\n",
       "C(hour)[T.12]     51.2309     10.000      5.123      0.000        31.630    70.832\n",
       "C(hour)[T.13]     50.4375     10.061      5.013      0.000        30.717    70.158\n",
       "C(hour)[T.14]     51.0274     10.076      5.064      0.000        31.277    70.777\n",
       "C(hour)[T.15]     49.6087     10.091      4.916      0.000        29.829    69.388\n",
       "C(hour)[T.16]     53.3157      9.754      5.466      0.000        34.197    72.434\n",
       "C(hour)[T.17]     51.7238      9.382      5.513      0.000        33.334    70.114\n",
       "C(hour)[T.18]     56.5212      9.316      6.067      0.000        38.262    74.780\n",
       "C(hour)[T.19]     62.2493      9.460      6.580      0.000        43.706    80.792\n",
       "C(hour)[T.20]     54.7693      9.668      5.665      0.000        35.820    73.718\n",
       "C(hour)[T.21]     54.2891     10.000      5.429      0.000        34.688    73.890\n",
       "C(hour)[T.22]     44.8683     10.463      4.288      0.000        24.360    65.377\n",
       "C(hour)[T.23]     17.6236     11.356      1.552      0.121        -4.636    39.883\n",
       "age                0.8801      0.095      9.249      0.000         0.694     1.067\n",
       "StartDens          0.0011      0.000      2.883      0.004         0.000     0.002\n",
       "EndDens           -0.0029      0.000     -8.320      0.000        -0.004    -0.002\n",
       "==============================================================================\n",
       "Omnibus:                      909.863   Durbin-Watson:                   1.935\n",
       "Prob(Omnibus):                  0.000   Jarque-Bera (JB):              980.683\n",
       "Skew:                           0.466   Prob(JB):                    1.12e-213\n",
       "Kurtosis:                       2.774   Cond. No.                     2.69e+05\n",
       "==============================================================================\n",
       "\n",
       "Warnings:\n",
       "[1] Standard Errors assume that the covariance matrix of the errors is correctly specified.\n",
       "[2] The condition number is large, 2.69e+05. This might indicate that there are\n",
       "strong multicollinearity or other numerical problems.\n",
       "\"\"\""
      ]
     },
     "execution_count": 34,
     "metadata": {},
     "output_type": "execute_result"
    }
   ],
   "source": [
    "lm=smf.ols('speed~age+C(Gender)+C(wd)+C(hour)+StartDens+EndDens',data=data2.ix[comind&demoind]).fit()\n",
    "lm.summary()"
   ]
  },
  {
   "cell_type": "markdown",
   "metadata": {
    "collapsed": true
   },
   "source": [
    "Now split the dataset, train the model over one half and apply to the other"
   ]
  },
  {
   "cell_type": "code",
   "execution_count": 35,
   "metadata": {
    "collapsed": true
   },
   "outputs": [],
   "source": [
    "np.random.seed(101)\n",
    "from sklearn.model_selection import train_test_split\n",
    "datatrain, datatest = train_test_split(data2.ix[comind&demoind], test_size=0.5)"
   ]
  },
  {
   "cell_type": "code",
   "execution_count": 36,
   "metadata": {},
   "outputs": [
    {
     "data": {
      "text/html": [
       "<table class=\"simpletable\">\n",
       "<caption>OLS Regression Results</caption>\n",
       "<tr>\n",
       "  <th>Dep. Variable:</th>          <td>speed</td>      <th>  R-squared:         </th> <td>   0.047</td> \n",
       "</tr>\n",
       "<tr>\n",
       "  <th>Model:</th>                   <td>OLS</td>       <th>  Adj. R-squared:    </th> <td>   0.047</td> \n",
       "</tr>\n",
       "<tr>\n",
       "  <th>Method:</th>             <td>Least Squares</td>  <th>  F-statistic:       </th> <td>   127.1</td> \n",
       "</tr>\n",
       "<tr>\n",
       "  <th>Date:</th>             <td>Tue, 03 Oct 2017</td> <th>  Prob (F-statistic):</th> <td>7.50e-132</td>\n",
       "</tr>\n",
       "<tr>\n",
       "  <th>Time:</th>                 <td>12:35:00</td>     <th>  Log-Likelihood:    </th> <td> -81649.</td> \n",
       "</tr>\n",
       "<tr>\n",
       "  <th>No. Observations:</th>      <td> 12784</td>      <th>  AIC:               </th> <td>1.633e+05</td>\n",
       "</tr>\n",
       "<tr>\n",
       "  <th>Df Residuals:</th>          <td> 12778</td>      <th>  BIC:               </th> <td>1.634e+05</td>\n",
       "</tr>\n",
       "<tr>\n",
       "  <th>Df Model:</th>              <td>     5</td>      <th>                     </th>     <td> </td>    \n",
       "</tr>\n",
       "<tr>\n",
       "  <th>Covariance Type:</th>      <td>nonrobust</td>    <th>                     </th>     <td> </td>    \n",
       "</tr>\n",
       "</table>\n",
       "<table class=\"simpletable\">\n",
       "<tr>\n",
       "      <td></td>         <th>coef</th>     <th>std err</th>      <th>t</th>      <th>P>|t|</th> <th>[95.0% Conf. Int.]</th> \n",
       "</tr>\n",
       "<tr>\n",
       "  <th>Intercept</th> <td>  524.3511</td> <td>    6.976</td> <td>   75.167</td> <td> 0.000</td> <td>  510.677   538.025</td>\n",
       "</tr>\n",
       "<tr>\n",
       "  <th>age</th>       <td>    0.6249</td> <td>    0.136</td> <td>    4.596</td> <td> 0.000</td> <td>    0.358     0.891</td>\n",
       "</tr>\n",
       "<tr>\n",
       "  <th>Gender</th>    <td>   59.1671</td> <td>    3.063</td> <td>   19.319</td> <td> 0.000</td> <td>   53.164    65.170</td>\n",
       "</tr>\n",
       "<tr>\n",
       "  <th>wd</th>        <td>   23.5250</td> <td>    3.313</td> <td>    7.100</td> <td> 0.000</td> <td>   17.030    30.020</td>\n",
       "</tr>\n",
       "<tr>\n",
       "  <th>StartDens</th> <td>    0.0024</td> <td>    0.001</td> <td>    4.653</td> <td> 0.000</td> <td>    0.001     0.003</td>\n",
       "</tr>\n",
       "<tr>\n",
       "  <th>EndDens</th>   <td>   -0.0054</td> <td>    0.000</td> <td>  -11.749</td> <td> 0.000</td> <td>   -0.006    -0.005</td>\n",
       "</tr>\n",
       "</table>\n",
       "<table class=\"simpletable\">\n",
       "<tr>\n",
       "  <th>Omnibus:</th>       <td>473.812</td> <th>  Durbin-Watson:     </th> <td>   1.994</td> \n",
       "</tr>\n",
       "<tr>\n",
       "  <th>Prob(Omnibus):</th> <td> 0.000</td>  <th>  Jarque-Bera (JB):  </th> <td> 506.151</td> \n",
       "</tr>\n",
       "<tr>\n",
       "  <th>Skew:</th>          <td> 0.470</td>  <th>  Prob(JB):          </th> <td>1.23e-110</td>\n",
       "</tr>\n",
       "<tr>\n",
       "  <th>Kurtosis:</th>      <td> 2.741</td>  <th>  Cond. No.          </th> <td>3.05e+04</td> \n",
       "</tr>\n",
       "</table>"
      ],
      "text/plain": [
       "<class 'statsmodels.iolib.summary.Summary'>\n",
       "\"\"\"\n",
       "                            OLS Regression Results                            \n",
       "==============================================================================\n",
       "Dep. Variable:                  speed   R-squared:                       0.047\n",
       "Model:                            OLS   Adj. R-squared:                  0.047\n",
       "Method:                 Least Squares   F-statistic:                     127.1\n",
       "Date:                Tue, 03 Oct 2017   Prob (F-statistic):          7.50e-132\n",
       "Time:                        12:35:00   Log-Likelihood:                -81649.\n",
       "No. Observations:               12784   AIC:                         1.633e+05\n",
       "Df Residuals:                   12778   BIC:                         1.634e+05\n",
       "Df Model:                           5                                         \n",
       "Covariance Type:            nonrobust                                         \n",
       "==============================================================================\n",
       "                 coef    std err          t      P>|t|      [95.0% Conf. Int.]\n",
       "------------------------------------------------------------------------------\n",
       "Intercept    524.3511      6.976     75.167      0.000       510.677   538.025\n",
       "age            0.6249      0.136      4.596      0.000         0.358     0.891\n",
       "Gender        59.1671      3.063     19.319      0.000        53.164    65.170\n",
       "wd            23.5250      3.313      7.100      0.000        17.030    30.020\n",
       "StartDens      0.0024      0.001      4.653      0.000         0.001     0.003\n",
       "EndDens       -0.0054      0.000    -11.749      0.000        -0.006    -0.005\n",
       "==============================================================================\n",
       "Omnibus:                      473.812   Durbin-Watson:                   1.994\n",
       "Prob(Omnibus):                  0.000   Jarque-Bera (JB):              506.151\n",
       "Skew:                           0.470   Prob(JB):                    1.23e-110\n",
       "Kurtosis:                       2.741   Cond. No.                     3.05e+04\n",
       "==============================================================================\n",
       "\n",
       "Warnings:\n",
       "[1] Standard Errors assume that the covariance matrix of the errors is correctly specified.\n",
       "[2] The condition number is large, 3.05e+04. This might indicate that there are\n",
       "strong multicollinearity or other numerical problems.\n",
       "\"\"\""
      ]
     },
     "execution_count": 36,
     "metadata": {},
     "output_type": "execute_result"
    }
   ],
   "source": [
    "lm1=smf.ols(formula='speed~age+Gender+wd+StartDens+EndDens',data=datatrain).fit()\n",
    "lm1.summary()"
   ]
  },
  {
   "cell_type": "code",
   "execution_count": 37,
   "metadata": {},
   "outputs": [
    {
     "data": {
      "text/plain": [
       "Intercept    524.351068\n",
       "age            0.624857\n",
       "Gender        59.167096\n",
       "wd            23.525017\n",
       "StartDens      0.002361\n",
       "EndDens       -0.005436\n",
       "dtype: float64"
      ]
     },
     "execution_count": 37,
     "metadata": {},
     "output_type": "execute_result"
    }
   ],
   "source": [
    "lm1.params"
   ]
  },
  {
   "cell_type": "code",
   "execution_count": 38,
   "metadata": {},
   "outputs": [],
   "source": [
    "predictSpeed=lm1.params.Intercept+lm1.params.age*datatest.age+lm1.params.Gender*datatest.Gender+lm1.params.wd*datatest.wd+lm1.params.StartDens*datatest.StartDens+lm1.params.EndDens*datatest.EndDens"
   ]
  },
  {
   "cell_type": "code",
   "execution_count": 39,
   "metadata": {},
   "outputs": [
    {
     "data": {
      "text/plain": [
       "0.053766749243621459"
      ]
     },
     "execution_count": 39,
     "metadata": {},
     "output_type": "execute_result"
    }
   ],
   "source": [
    "R2 = 1 - sum((datatest.speed-predictSpeed)**2) / sum((datatest.speed-mean(datatest.speed))**2)\n",
    "R2"
   ]
  },
  {
   "cell_type": "markdown",
   "metadata": {
    "nbpresent": {
     "id": "d02b80e7-08d4-4e62-993b-b386eb9e89a9"
    }
   },
   "source": [
    "## Example 3, Polynomial fit"
   ]
  },
  {
   "cell_type": "markdown",
   "metadata": {
    "nbpresent": {
     "id": "ad28625c-6bff-47bc-9311-1314ffaca02c"
    }
   },
   "source": [
    "### Given two columns of data, $y$ and $x$, we want to fit it with a polynomial and find the coefficients $w$ $$\\hat y(x,w) = \\sum\\limits_{i=0}^M w_i\\cdot x^i$$\n",
    "### Which M gives the best fit?"
   ]
  },
  {
   "cell_type": "code",
   "execution_count": 40,
   "metadata": {
    "nbpresent": {
     "id": "e6401964-7bc4-42f7-8d68-3bc286c06931"
    }
   },
   "outputs": [
    {
     "data": {
      "text/html": [
       "<div>\n",
       "<table border=\"1\" class=\"dataframe\">\n",
       "  <thead>\n",
       "    <tr style=\"text-align: right;\">\n",
       "      <th></th>\n",
       "      <th>y</th>\n",
       "      <th>x</th>\n",
       "    </tr>\n",
       "  </thead>\n",
       "  <tbody>\n",
       "    <tr>\n",
       "      <th>0</th>\n",
       "      <td>-8.256892</td>\n",
       "      <td>-2.000000</td>\n",
       "    </tr>\n",
       "    <tr>\n",
       "      <th>1</th>\n",
       "      <td>4.732777</td>\n",
       "      <td>-1.333333</td>\n",
       "    </tr>\n",
       "    <tr>\n",
       "      <th>2</th>\n",
       "      <td>3.997084</td>\n",
       "      <td>-0.666667</td>\n",
       "    </tr>\n",
       "    <tr>\n",
       "      <th>3</th>\n",
       "      <td>-3.518884</td>\n",
       "      <td>0.000000</td>\n",
       "    </tr>\n",
       "    <tr>\n",
       "      <th>4</th>\n",
       "      <td>-4.661727</td>\n",
       "      <td>0.666667</td>\n",
       "    </tr>\n",
       "    <tr>\n",
       "      <th>5</th>\n",
       "      <td>-1.897542</td>\n",
       "      <td>1.333333</td>\n",
       "    </tr>\n",
       "    <tr>\n",
       "      <th>6</th>\n",
       "      <td>-16.280038</td>\n",
       "      <td>2.000000</td>\n",
       "    </tr>\n",
       "    <tr>\n",
       "      <th>7</th>\n",
       "      <td>-8.879330</td>\n",
       "      <td>2.666667</td>\n",
       "    </tr>\n",
       "    <tr>\n",
       "      <th>8</th>\n",
       "      <td>2.945957</td>\n",
       "      <td>3.333333</td>\n",
       "    </tr>\n",
       "    <tr>\n",
       "      <th>9</th>\n",
       "      <td>10.399779</td>\n",
       "      <td>4.000000</td>\n",
       "    </tr>\n",
       "  </tbody>\n",
       "</table>\n",
       "</div>"
      ],
      "text/plain": [
       "           y         x\n",
       "0  -8.256892 -2.000000\n",
       "1   4.732777 -1.333333\n",
       "2   3.997084 -0.666667\n",
       "3  -3.518884  0.000000\n",
       "4  -4.661727  0.666667\n",
       "5  -1.897542  1.333333\n",
       "6 -16.280038  2.000000\n",
       "7  -8.879330  2.666667\n",
       "8   2.945957  3.333333\n",
       "9  10.399779  4.000000"
      ]
     },
     "execution_count": 40,
     "metadata": {},
     "output_type": "execute_result"
    }
   ],
   "source": [
    "data3 = pd.read_csv(path + 'Example3.csv')\n",
    "data3"
   ]
  },
  {
   "cell_type": "code",
   "execution_count": 41,
   "metadata": {},
   "outputs": [
    {
     "data": {
      "text/plain": [
       "[<matplotlib.lines.Line2D at 0x10b5b1fd0>]"
      ]
     },
     "execution_count": 41,
     "metadata": {},
     "output_type": "execute_result"
    },
    {
     "data": {
      "image/png": "[encoded data removed]",
      "text/plain": [
       "<matplotlib.figure.Figure at 0x10b44d350>"
      ]
     },
     "metadata": {},
     "output_type": "display_data"
    }
   ],
   "source": [
    "plt.figure(figsize = (5,5))\n",
    "plt.plot(data3.x, data3.y, 'ro', markersize = 8)"
   ]
  },
  {
   "cell_type": "code",
   "execution_count": 42,
   "metadata": {},
   "outputs": [
    {
     "data": {
      "text/plain": [
       "0.016695221729687293"
      ]
     },
     "execution_count": 42,
     "metadata": {},
     "output_type": "execute_result"
    }
   ],
   "source": [
    "# First try linear regression and check the R2\n",
    "(smf.ols(formula = 'y ~ x', data = data3).fit()).rsquared"
   ]
  },
  {
   "cell_type": "code",
   "execution_count": 43,
   "metadata": {
    "collapsed": true
   },
   "outputs": [],
   "source": [
    "# linear regression (M=1) does not seem to make much sense"
   ]
  },
  {
   "cell_type": "code",
   "execution_count": 44,
   "metadata": {
    "collapsed": true
   },
   "outputs": [],
   "source": [
    "#Q1. Create a new data frame, containing all x^j from x^1 up to x^9"
   ]
  },
  {
   "cell_type": "code",
   "execution_count": 45,
   "metadata": {
    "collapsed": true
   },
   "outputs": [],
   "source": [
    "#Q2. As degree M increases from 1 to 9, fit y with M-degree polynomial and find the corresponding parameters and R^2\n",
    "    # Store them separately"
   ]
  },
  {
   "cell_type": "code",
   "execution_count": 46,
   "metadata": {
    "collapsed": true
   },
   "outputs": [],
   "source": [
    "#Q3. Plot the R^2, see how it changes as M goes up"
   ]
  },
  {
   "cell_type": "code",
   "execution_count": 47,
   "metadata": {
    "collapsed": true
   },
   "outputs": [],
   "source": [
    "#Q4. Visualize the dataset:\n",
    "    #Q 4.1 Generate a plot with 3-by-3 subfigure, each containing a model with M-degree polynomial (from 1 to 9)\n",
    "    #Q 4.2 In each subfigure, plot the observations and the fitted curve of polynomial\n",
    "    #Q 4.3 In each subfigure, plot the function f(x) = x**3 - 2*x**2 - 5*x + 1, see how it looks"
   ]
  },
  {
   "cell_type": "code",
   "execution_count": null,
   "metadata": {
    "collapsed": true
   },
   "outputs": [],
   "source": []
  },
  {
   "cell_type": "code",
   "execution_count": null,
   "metadata": {
    "collapsed": true
   },
   "outputs": [],
   "source": []
  },
  {
   "cell_type": "code",
   "execution_count": null,
   "metadata": {
    "collapsed": true
   },
   "outputs": [],
   "source": []
  },
  {
   "cell_type": "code",
   "execution_count": 48,
   "metadata": {
    "collapsed": true
   },
   "outputs": [],
   "source": [
    "#Q1. First create a new data frame, containing all x^j from x^1 up to x^9"
   ]
  },
  {
   "cell_type": "code",
   "execution_count": 49,
   "metadata": {
    "nbpresent": {
     "id": "b24b03bc-3e52-40b9-affd-e66f263bc1e5"
    },
    "scrolled": true
   },
   "outputs": [
    {
     "data": {
      "text/html": [
       "<div>\n",
       "<table border=\"1\" class=\"dataframe\">\n",
       "  <thead>\n",
       "    <tr style=\"text-align: right;\">\n",
       "      <th></th>\n",
       "      <th>y</th>\n",
       "      <th>x1</th>\n",
       "      <th>x2</th>\n",
       "      <th>x3</th>\n",
       "      <th>x4</th>\n",
       "      <th>x5</th>\n",
       "      <th>x6</th>\n",
       "      <th>x7</th>\n",
       "      <th>x8</th>\n",
       "      <th>x9</th>\n",
       "    </tr>\n",
       "  </thead>\n",
       "  <tbody>\n",
       "    <tr>\n",
       "      <th>0</th>\n",
       "      <td>-8.256892</td>\n",
       "      <td>-2.000000</td>\n",
       "      <td>4.000000</td>\n",
       "      <td>-8.000000</td>\n",
       "      <td>16.000000</td>\n",
       "      <td>-32.000000</td>\n",
       "      <td>64.000000</td>\n",
       "      <td>-128.000000</td>\n",
       "      <td>256.000000</td>\n",
       "      <td>-512.000000</td>\n",
       "    </tr>\n",
       "    <tr>\n",
       "      <th>1</th>\n",
       "      <td>4.732777</td>\n",
       "      <td>-1.333333</td>\n",
       "      <td>1.777778</td>\n",
       "      <td>-2.370370</td>\n",
       "      <td>3.160494</td>\n",
       "      <td>-4.213992</td>\n",
       "      <td>5.618656</td>\n",
       "      <td>-7.491541</td>\n",
       "      <td>9.988721</td>\n",
       "      <td>-13.318295</td>\n",
       "    </tr>\n",
       "    <tr>\n",
       "      <th>2</th>\n",
       "      <td>3.997084</td>\n",
       "      <td>-0.666667</td>\n",
       "      <td>0.444444</td>\n",
       "      <td>-0.296296</td>\n",
       "      <td>0.197531</td>\n",
       "      <td>-0.131687</td>\n",
       "      <td>0.087791</td>\n",
       "      <td>-0.058528</td>\n",
       "      <td>0.039018</td>\n",
       "      <td>-0.026012</td>\n",
       "    </tr>\n",
       "    <tr>\n",
       "      <th>3</th>\n",
       "      <td>-3.518884</td>\n",
       "      <td>0.000000</td>\n",
       "      <td>0.000000</td>\n",
       "      <td>0.000000</td>\n",
       "      <td>0.000000</td>\n",
       "      <td>0.000000</td>\n",
       "      <td>0.000000</td>\n",
       "      <td>0.000000</td>\n",
       "      <td>0.000000</td>\n",
       "      <td>0.000000</td>\n",
       "    </tr>\n",
       "    <tr>\n",
       "      <th>4</th>\n",
       "      <td>-4.661727</td>\n",
       "      <td>0.666667</td>\n",
       "      <td>0.444444</td>\n",
       "      <td>0.296296</td>\n",
       "      <td>0.197531</td>\n",
       "      <td>0.131687</td>\n",
       "      <td>0.087791</td>\n",
       "      <td>0.058528</td>\n",
       "      <td>0.039018</td>\n",
       "      <td>0.026012</td>\n",
       "    </tr>\n",
       "    <tr>\n",
       "      <th>5</th>\n",
       "      <td>-1.897542</td>\n",
       "      <td>1.333333</td>\n",
       "      <td>1.777778</td>\n",
       "      <td>2.370370</td>\n",
       "      <td>3.160494</td>\n",
       "      <td>4.213992</td>\n",
       "      <td>5.618656</td>\n",
       "      <td>7.491541</td>\n",
       "      <td>9.988721</td>\n",
       "      <td>13.318295</td>\n",
       "    </tr>\n",
       "    <tr>\n",
       "      <th>6</th>\n",
       "      <td>-16.280038</td>\n",
       "      <td>2.000000</td>\n",
       "      <td>4.000000</td>\n",
       "      <td>8.000000</td>\n",
       "      <td>16.000000</td>\n",
       "      <td>32.000000</td>\n",
       "      <td>64.000000</td>\n",
       "      <td>128.000000</td>\n",
       "      <td>256.000000</td>\n",
       "      <td>512.000000</td>\n",
       "    </tr>\n",
       "    <tr>\n",
       "      <th>7</th>\n",
       "      <td>-8.879330</td>\n",
       "      <td>2.666667</td>\n",
       "      <td>7.111111</td>\n",
       "      <td>18.962963</td>\n",
       "      <td>50.567901</td>\n",
       "      <td>134.847737</td>\n",
       "      <td>359.593964</td>\n",
       "      <td>958.917238</td>\n",
       "      <td>2557.112635</td>\n",
       "      <td>6818.967027</td>\n",
       "    </tr>\n",
       "    <tr>\n",
       "      <th>8</th>\n",
       "      <td>2.945957</td>\n",
       "      <td>3.333333</td>\n",
       "      <td>11.111111</td>\n",
       "      <td>37.037037</td>\n",
       "      <td>123.456790</td>\n",
       "      <td>411.522634</td>\n",
       "      <td>1371.742112</td>\n",
       "      <td>4572.473708</td>\n",
       "      <td>15241.579027</td>\n",
       "      <td>50805.263425</td>\n",
       "    </tr>\n",
       "    <tr>\n",
       "      <th>9</th>\n",
       "      <td>10.399779</td>\n",
       "      <td>4.000000</td>\n",
       "      <td>16.000000</td>\n",
       "      <td>64.000000</td>\n",
       "      <td>256.000000</td>\n",
       "      <td>1024.000000</td>\n",
       "      <td>4096.000000</td>\n",
       "      <td>16384.000000</td>\n",
       "      <td>65536.000000</td>\n",
       "      <td>262144.000000</td>\n",
       "    </tr>\n",
       "  </tbody>\n",
       "</table>\n",
       "</div>"
      ],
      "text/plain": [
       "           y        x1         x2         x3          x4           x5  \\\n",
       "0  -8.256892 -2.000000   4.000000  -8.000000   16.000000   -32.000000   \n",
       "1   4.732777 -1.333333   1.777778  -2.370370    3.160494    -4.213992   \n",
       "2   3.997084 -0.666667   0.444444  -0.296296    0.197531    -0.131687   \n",
       "3  -3.518884  0.000000   0.000000   0.000000    0.000000     0.000000   \n",
       "4  -4.661727  0.666667   0.444444   0.296296    0.197531     0.131687   \n",
       "5  -1.897542  1.333333   1.777778   2.370370    3.160494     4.213992   \n",
       "6 -16.280038  2.000000   4.000000   8.000000   16.000000    32.000000   \n",
       "7  -8.879330  2.666667   7.111111  18.962963   50.567901   134.847737   \n",
       "8   2.945957  3.333333  11.111111  37.037037  123.456790   411.522634   \n",
       "9  10.399779  4.000000  16.000000  64.000000  256.000000  1024.000000   \n",
       "\n",
       "            x6            x7            x8             x9  \n",
       "0    64.000000   -128.000000    256.000000    -512.000000  \n",
       "1     5.618656     -7.491541      9.988721     -13.318295  \n",
       "2     0.087791     -0.058528      0.039018      -0.026012  \n",
       "3     0.000000      0.000000      0.000000       0.000000  \n",
       "4     0.087791      0.058528      0.039018       0.026012  \n",
       "5     5.618656      7.491541      9.988721      13.318295  \n",
       "6    64.000000    128.000000    256.000000     512.000000  \n",
       "7   359.593964    958.917238   2557.112635    6818.967027  \n",
       "8  1371.742112   4572.473708  15241.579027   50805.263425  \n",
       "9  4096.000000  16384.000000  65536.000000  262144.000000  "
      ]
     },
     "execution_count": 49,
     "metadata": {},
     "output_type": "execute_result"
    }
   ],
   "source": [
    "data3 = pd.DataFrame([data3.y]  # Use the list property that they can be concatenated by \"+\"\n",
    "            + [np.array(data3.x**(i+1)) for i in range(9)]).T # Generate all x^j, then stack them\n",
    "data3.columns = ['y']+['x%d'%(i+1) for i in range(9)]   # Rename the columns for better understanding\n",
    "data3"
   ]
  },
  {
   "cell_type": "code",
   "execution_count": 50,
   "metadata": {
    "collapsed": true
   },
   "outputs": [],
   "source": [
    "#Q2. As degree M increases from 1 to 9, fit y with M-degree polynomial and find the corresponding parameters and R^2\n",
    "    # Store them separately"
   ]
  },
  {
   "cell_type": "code",
   "execution_count": 51,
   "metadata": {
    "nbpresent": {
     "id": "814a6d53-1872-4de4-979b-733bd1348796"
    },
    "scrolled": true
   },
   "outputs": [
    {
     "data": {
      "text/plain": [
       "[0.016695221729687515,\n",
       " 0.20770639221492693,\n",
       " 0.75592879017667158,\n",
       " 0.78753924885767002,\n",
       " 0.78753944371387796,\n",
       " 0.8886700019662257,\n",
       " 0.90246297972879785,\n",
       " 0.9638425246082083,\n",
       " 1.0]"
      ]
     },
     "execution_count": 51,
     "metadata": {},
     "output_type": "execute_result"
    }
   ],
   "source": [
    "def MultiReg(data, degree):\n",
    "    # First create a string for controlling the number of x_i\n",
    "    string = ''\n",
    "    for i in range(degree):\n",
    "        string += str(i+1)  # For example, if degree == 3, then this string would be '123' at the end\n",
    "    formula = 'y ~ x' + ' + x'.join(string) # join function will convert '123' to '1 + x2 + x3'\n",
    "\n",
    "    # Perform regression and return the results\n",
    "    lm = smf.ols(formula = formula, data = data).fit()\n",
    "    return lm.rsquared, lm.params\n",
    "\n",
    "\n",
    "# Run the function and store the results separately\n",
    "R2 = []; Params = []\n",
    "for M in range(1,10):\n",
    "    a,b = MultiReg(data3,M)  # For each M, run the function\n",
    "    R2.append(a)\n",
    "    Params.append(b)\n",
    "R2"
   ]
  },
  {
   "cell_type": "code",
   "execution_count": 52,
   "metadata": {
    "collapsed": true
   },
   "outputs": [],
   "source": [
    "#Q3. Plot the R^2, see how it changes as M goes up"
   ]
  },
  {
   "cell_type": "code",
   "execution_count": 53,
   "metadata": {
    "nbpresent": {
     "id": "9b038c7d-ae83-4529-b099-8ddc211a9e04"
    }
   },
   "outputs": [
    {
     "data": {
      "image/png": "[encoded data removed]",
      "text/plain": [
       "<matplotlib.figure.Figure at 0x10b44d890>"
      ]
     },
     "metadata": {},
     "output_type": "display_data"
    }
   ],
   "source": [
    "#Q3 See how $R^2$ increases as the degree of polynomial increases \n",
    "plt.plot(range(1,10),R2,'ro--', markersize = 8)\n",
    "plt.xlabel('Degree M of polynomial', fontsize = 14)\n",
    "plt.ylabel('$R^2$ of the model', fontsize = 16)\n",
    "plt.show()"
   ]
  },
  {
   "cell_type": "code",
   "execution_count": 54,
   "metadata": {
    "collapsed": true,
    "nbpresent": {
     "id": "2b1ac48a-8914-40f1-bc0a-97d0094c9e7d"
    }
   },
   "outputs": [],
   "source": [
    "# For those who are interested, this is how the data was generated:\n",
    "\n",
    "# np.random.seed(123)        # Please use the same seed if you want to obtain identical plots as above\n",
    "# x = np.linspace(-2,4,10)\n",
    "# eps = np.random.normal(0,3,10)\n",
    "# f = lambda x: x**3 - 2*x**2 - 5*x + 1\n",
    "# y = f(x) + eps\n",
    "\n",
    "# data3 = pd.DataFrame([y]+[x**(i+1) for i in range(9)]).T\n",
    "# data3.columns = ['y']+['x%d'%(i+1) for i in range(9)]"
   ]
  },
  {
   "cell_type": "markdown",
   "metadata": {
    "nbpresent": {
     "id": "0105e6c8-cf6c-48a9-9434-6c9a909594f4"
    }
   },
   "source": [
    "### Finally we plot everything together, compared to the true function used to generate the data, now given as\n",
    "$$ f(x) = x^3 - 2x^2 - 5 + 1$$\n",
    "* <font color='red'>Red</font>  dots are our observations\n",
    "* <font color='green'>Green</font> curve is the true function\n",
    "* <font color='blue'>Blue</font> dashed line is our fitted curve\n",
    "* Two stars $\\star$ are for comparison--how well our model fits the actual value"
   ]
  },
  {
   "cell_type": "code",
   "execution_count": 55,
   "metadata": {
    "collapsed": true
   },
   "outputs": [],
   "source": [
    "#Q4. Visualize the dataset:\n",
    "    #Q 4.1 Generate a plot with 3-by-3 subfigure, each containing a model with M-degree polynomial (from 1 to 9)\n",
    "    #Q 4.2 In each subfigure, plot the observations and the fitted curve of polynomial\n",
    "    #Q 4.3 In each subfigure, plot the function x**3 - 2*x**2 - 5*x + 1, see how it looks"
   ]
  },
  {
   "cell_type": "code",
   "execution_count": 56,
   "metadata": {
    "nbpresent": {
     "id": "4a45d404-366f-4201-a44e-f8ce18cfac0b"
    }
   },
   "outputs": [
    {
     "data": {
      "image/png": "[encoded data removed]",
      "text/plain": [
       "<matplotlib.figure.Figure at 0x10b97ffd0>"
      ]
     },
     "metadata": {},
     "output_type": "display_data"
    }
   ],
   "source": [
    "plt.figure(figsize = (20,15))\n",
    "\n",
    "f = lambda x: x**3 - 2*x**2 - 5*x + 1\n",
    "\n",
    "for M in range(1,10):\n",
    "    plt.subplot(330+M)   # Plot subfigure, M controls the location\n",
    "    x_fit = np.linspace(-2,4.3,100)  # For smoothing the fitted curve\n",
    "    y_fit = pd.DataFrame(np.matrix([x_fit**k for k in range(M+1)]).T,  # Generate our fitted curve\n",
    "                         columns = Params[M-1].index).mul(Params[M-1], 1).sum(1)  # 1 means computation runs row-wise\n",
    "    # Pay attention how we obtain the results by controlling the axes on which the operations are performed\n",
    "\n",
    "    y_future = 0\n",
    "    x_future = 4.3\n",
    "    for i in range(len(Params[M-1])):\n",
    "        y_future += Params[M-1][i] * (x_future**i)\n",
    "    plt.plot(data3.x1, data3.y, 'ro', markersize = 8)    # Red dots, the observations\n",
    "    plt.plot(x_fit, f(x_fit), 'g-', lw = 2)              # Green curve, the actual function f defined before\n",
    "    plt.plot(x_fit, y_fit, 'b--', lw = 2)                # Blue dashed line, our fitted curve\n",
    "    plt.plot(x_future, y_future, 'b*', markersize = 18)        # Blue star, fitted value\n",
    "    plt.plot(x_future, f(x_future), 'g*', markersize = 18)     # Green star, true value\n",
    "    plt.plot([x_future,x_future], [y_future, f(x_future)], 'k--', lw = 2)\n",
    "    plt.title('Degree M = %d'%(M), fontsize = 14)"
   ]
  },
  {
   "cell_type": "code",
   "execution_count": null,
   "metadata": {
    "collapsed": true
   },
   "outputs": [],
   "source": []
  },
  {
   "cell_type": "markdown",
   "metadata": {
    "nbpresent": {
     "id": "d08efdb5-28cf-47d7-8ca4-3aa34652eed3"
    }
   },
   "source": [
    "## Example 4. Income vs Education in NYC zip code areas\n",
    "\n",
    "Model average income per capita against percentages of individuals of different education level within the area\n",
    "\n",
    "### Memo:\n",
    "* **IncomePerCapita**----measured in USD\n",
    "* **PopOver25** et al----population number under each category, e.g.\n",
    "    * total population over 25 years old\n",
    "    * holding a Bachelor's degree\n",
    "    * graduating from professional school, etc."
   ]
  },
  {
   "cell_type": "code",
   "execution_count": 57,
   "metadata": {},
   "outputs": [
    {
     "data": {
      "text/html": [
       "<div>\n",
       "<table border=\"1\" class=\"dataframe\">\n",
       "  <thead>\n",
       "    <tr style=\"text-align: right;\">\n",
       "      <th></th>\n",
       "      <th>Zipcode</th>\n",
       "      <th>IncomePerCapita</th>\n",
       "      <th>PopOver25</th>\n",
       "      <th>LessThanHS</th>\n",
       "      <th>HighSchool</th>\n",
       "      <th>SomeCollege</th>\n",
       "      <th>Bachelor</th>\n",
       "      <th>Master</th>\n",
       "      <th>Doctorate</th>\n",
       "      <th>ProfSchool</th>\n",
       "    </tr>\n",
       "  </thead>\n",
       "  <tbody>\n",
       "    <tr>\n",
       "      <th>0</th>\n",
       "      <td>10001</td>\n",
       "      <td>77512.0</td>\n",
       "      <td>16328</td>\n",
       "      <td>1389</td>\n",
       "      <td>1665</td>\n",
       "      <td>2075</td>\n",
       "      <td>6061</td>\n",
       "      <td>3412</td>\n",
       "      <td>519</td>\n",
       "      <td>1207</td>\n",
       "    </tr>\n",
       "    <tr>\n",
       "      <th>1</th>\n",
       "      <td>10002</td>\n",
       "      <td>26905.0</td>\n",
       "      <td>60932</td>\n",
       "      <td>21170</td>\n",
       "      <td>12718</td>\n",
       "      <td>8532</td>\n",
       "      <td>12721</td>\n",
       "      <td>4001</td>\n",
       "      <td>641</td>\n",
       "      <td>1149</td>\n",
       "    </tr>\n",
       "    <tr>\n",
       "      <th>2</th>\n",
       "      <td>10003</td>\n",
       "      <td>79088.0</td>\n",
       "      <td>41182</td>\n",
       "      <td>1499</td>\n",
       "      <td>2810</td>\n",
       "      <td>4516</td>\n",
       "      <td>17958</td>\n",
       "      <td>9094</td>\n",
       "      <td>1626</td>\n",
       "      <td>3679</td>\n",
       "    </tr>\n",
       "    <tr>\n",
       "      <th>3</th>\n",
       "      <td>10004</td>\n",
       "      <td>98020.0</td>\n",
       "      <td>2279</td>\n",
       "      <td>29</td>\n",
       "      <td>87</td>\n",
       "      <td>305</td>\n",
       "      <td>984</td>\n",
       "      <td>550</td>\n",
       "      <td>86</td>\n",
       "      <td>238</td>\n",
       "    </tr>\n",
       "    <tr>\n",
       "      <th>4</th>\n",
       "      <td>10005</td>\n",
       "      <td>99633.0</td>\n",
       "      <td>5954</td>\n",
       "      <td>133</td>\n",
       "      <td>103</td>\n",
       "      <td>454</td>\n",
       "      <td>2745</td>\n",
       "      <td>1637</td>\n",
       "      <td>219</td>\n",
       "      <td>663</td>\n",
       "    </tr>\n",
       "  </tbody>\n",
       "</table>\n",
       "</div>"
      ],
      "text/plain": [
       "   Zipcode  IncomePerCapita  PopOver25  LessThanHS  HighSchool  SomeCollege  \\\n",
       "0    10001          77512.0      16328        1389        1665         2075   \n",
       "1    10002          26905.0      60932       21170       12718         8532   \n",
       "2    10003          79088.0      41182        1499        2810         4516   \n",
       "3    10004          98020.0       2279          29          87          305   \n",
       "4    10005          99633.0       5954         133         103          454   \n",
       "\n",
       "   Bachelor  Master  Doctorate  ProfSchool  \n",
       "0      6061    3412        519        1207  \n",
       "1     12721    4001        641        1149  \n",
       "2     17958    9094       1626        3679  \n",
       "3       984     550         86         238  \n",
       "4      2745    1637        219         663  "
      ]
     },
     "execution_count": 57,
     "metadata": {},
     "output_type": "execute_result"
    }
   ],
   "source": [
    "data4 = pd.read_csv(path + 'IncomeEduReg.csv')\n",
    "data4.head()"
   ]
  },
  {
   "cell_type": "markdown",
   "metadata": {
    "nbpresent": {
     "id": "15e02d22-78d7-4b6e-a382-0f6938e9aa6a"
    }
   },
   "source": [
    "Starting from now we denote Income per capita by IPC:\n",
    "$$IPC = \\frac{Total \\: Income}{Total \\: Population}$$\n",
    "But Total Income can be calculated as\n",
    "$$ Total\\: Income = \\sum_k Total \\: Income \\:in\\: Category_k$$\n",
    "$$ = \\sum_k (IPC \\: within \\: Category_k  \\times Population \\: of\\: Category_k)$$\n",
    "Then, IPC can be rewritten as\n",
    "$$ \\sum_k (IPC \\: within \\: Category_k  \\times \\frac{Population \\: of\\: Category_k}{Total \\: Population})$$\n",
    "\n",
    "$$= \\sum_{k} (I_k \\times p_k)$$\n",
    "\n",
    "where k is the category index, $I_k$ is the average income within category k, and $p_k$ is the population percentage of category k.  \n",
    "Our goal is to fit these $I_k$ as regression coefficients, note that since all these percentages sum up to 100%, we can omit one last $p_k$ and rewrite this term as 1 minus the rest. For example, if there are 3 categories in total, we have:\n",
    "$$p_1 + p_2 + p_3 = 1$$which means$$p_3 = 1 - p_1 - p_2$$\n",
    "Hence  $$IPC = I_1p_1 + I_2p_2 + I_3p_3$$ $$= I_1p_1 + I_2p_2 + I_3(1 - p_1 -p_2)$$ $$= I_3 + (I_1 - I_3)p_1 + (I_2 - I_3)p_2$$\n",
    "which means we are equivalently fitting $I_3, (I_1 - I_3), (I_2 - I_3)$ rather than $I_1, I_3, I_3$, this is also where the intercept ($I_3$) comes from."
   ]
  },
  {
   "cell_type": "markdown",
   "metadata": {
    "collapsed": true
   },
   "source": [
    "#### Q1. Load data, verify that, in each zip code, \"PopOver25\" is indeed the sum of all other population categories"
   ]
  },
  {
   "cell_type": "markdown",
   "metadata": {},
   "source": [
    "#### Q2. Perform the regression of income per capita version education distribution\n",
    "    Q2.1. For that purpise convert the population counts in each education category into percentages of all people with such education. Make sure there is no NaN (Not a number) or 0 in the denominator before converting population into percentage. Divide each column by the total population \"PopOver25\". Leave the result in form of 58(%) rather than 0.58\n",
    "    Q2.2. Run the regression of IncomePerCaputa ~ HighSchool + SomeCollege + Bachelor + Master + Doctorate + ProfSchool (below HS is left out as a linear combination of others)\n",
    "    Q.2.3. Diagnose multicollinearity by looking at the correlations between regressors"
   ]
  },
  {
   "cell_type": "markdown",
   "metadata": {
    "collapsed": true
   },
   "source": [
    "#### Q3. Perform regression of IncomePerCapita ~ Colledge + ProfSchool.\n",
    "    For that purpose Rearrange the dataset (of percentages, not population) as follows:\n",
    "    Q3.1 Create a new column called \"Colledge\", containing the sum of \"Bachelor\", \"SomeCollege\", \"Master\" and \"Doctorate\"\n",
    "    Q3.2 Create a new column called \"UpToHighSchool\", containing the sum of \"LessThanHS\" and \"HighSchool\"\n",
    "    Q3.3 \"ProfessionalSchool\" remains unchanged\n",
    "        --so we have effectively simplify the model with only 3 categories to consider\n",
    "    Q3.4 Leave out the \"UpToHighSchool\" column then regress IncomePerCapita over the other two (Colledge + ProfSchool). How big is the resulting R2 of the reduced model compared to the R2 of the complete one from Q2?"
   ]
  },
  {
   "cell_type": "markdown",
   "metadata": {
    "collapsed": true
   },
   "source": [
    "#### Q4. Visualize the data by plotting the observed Income per capita versus our prediction in a 2D plot"
   ]
  },
  {
   "cell_type": "code",
   "execution_count": null,
   "metadata": {
    "collapsed": true
   },
   "outputs": [],
   "source": []
  }
 ],
 "metadata": {
  "anaconda-cloud": {},
  "kernelspec": {
   "display_name": "Python 2",
   "language": "python",
   "name": "python2"
  },
  "language_info": {
   "codemirror_mode": {
    "name": "ipython",
    "version": 2
   },
   "file_extension": ".py",
   "mimetype": "text/x-python",
   "name": "python",
   "nbconvert_exporter": "python",
   "pygments_lexer": "ipython2",
   "version": "2.7.13"
  }
 },
 "nbformat": 4,
 "nbformat_minor": 1
}
