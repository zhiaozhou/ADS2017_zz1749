{
 "cells": [
  {
   "cell_type": "code",
   "execution_count": 266,
   "metadata": {
    "collapsed": true
   },
   "outputs": [],
   "source": [
    "import zipfile as zip"
   ]
  },
  {
   "cell_type": "code",
   "execution_count": 267,
   "metadata": {
    "collapsed": true
   },
   "outputs": [],
   "source": [
    "file = zip.ZipFile('data_session4.zip')"
   ]
  },
  {
   "cell_type": "code",
   "execution_count": 268,
   "metadata": {
    "collapsed": true
   },
   "outputs": [],
   "source": [
    "file.extractall()"
   ]
  },
  {
   "cell_type": "markdown",
   "metadata": {
    "nbpresent": {
     "id": "0b38caa2-2b41-4c2f-bdd2-4ebecd00693c"
    }
   },
   "source": [
    "# Multi-variate linear regression\n",
    "\n",
    "## 1. Definition and parameter estimation\n",
    "\n",
    "As we remember linear model between single real-value regressor $x$ and output variable $y$ is expressed by \n",
    "$$\n",
    "y=w_1 x + w_0 +\\varepsilon.\n",
    "$$\n",
    "$w_1$-slope coefficient, $w_0$ - intercept, $\\varepsilon$ - random noise. In a more general case when $x$ is a real-valued $n \\times 1$-vector $x=(x_1,x_2,...,x_n)^T$, the model could be easily generalized as\n",
    "$$\n",
    "y=\\sum\\limits_j w_j x_j +\\varepsilon\n",
    "$$\n",
    "or in a vector form\n",
    "$$\n",
    "y=w^T x+\\varepsilon, \\hspace{5ex} (1)\n",
    "$$\n",
    "where $w=(w_1,w_2,...,w_n)$ is also a $n \\times 1$-vector. \n",
    "Notice that intercept is not specifically separated as it could be always introduced by adding a dummy variable $x^m\\equiv 1$.\n",
    "\n",
    "The probabilistic view on the model in the assumption that $\\varepsilon\\sim {\\cal N}(0,\\sigma^2)$ is\n",
    "$$\n",
    "p(y|x,w,\\sigma)={\\cal N}(y|w^T x,\\sigma^2).\n",
    "$$\n",
    "\n",
    "Given a training set $X=\\{(x_j^i), j=1..n, i=1..N\\}$, $Y=\\{(y^i), i=1..N\\}$ (further also denote columns of $X$ as $X_j=\\{(x_j^i), i=1..N\\}$), the least square optimization criteria for inferring a vector of coefficients $w$ can be written as\n",
    "\n",
    "$$\n",
    "RSS(w)= \\sum \\limits_i \\varepsilon_i^2= \\sum \\limits_i (y^i-w^T x^i)^2. \\hspace{5ex} (2)\n",
    "$$\n",
    "\n",
    "or in a matrix form:\n",
    "$$\n",
    "RSS(w)=(Y-X w)^T(Y-X w).\n",
    "$$\n",
    "Then finding an estimate\n",
    "$$\n",
    "\\hat{w}=argmin_w RSS(w)\n",
    "$$\n",
    "can be done by solving the system (in a matrix form)\n",
    "$$\n",
    "0=\\frac{\\partial RSS(\\hat{w})}{\\partial w}=2X^T (Y-X \\hat{w}).\n",
    "$$\n",
    "Using matrix formalism the solution could be expressed as\n",
    "$$\n",
    "\\hat{w}=\\left(X^T X\\right )^{-1}X^T Y. \\hspace{5ex} (3)\n",
    "$$\n",
    "This assumes that $X^T X$ is non-singular. Otherwise we have a case of multicollinearity."
   ]
  },
  {
   "cell_type": "markdown",
   "metadata": {
    "nbpresent": {
     "id": "973f2e0f-aca4-47f4-bc31-ded3265aea28"
    }
   },
   "source": [
    "## 2. Geometry of Least Squares\n",
    "\n",
    "According to (3), model estimates $\\hat{Y}$ corresponding to the given points in $X$ are\n",
    "$$\n",
    "\\hat{Y}=X \\hat{w}=X(X^T X)^{-1}X^T Y.\n",
    "$$\n",
    "This way matrix $H=X(X^T X)^{-1}X^T$ performs an ortogonal projection $HY$ of a given vector of observations $Y$ onto the linear space of all possible linear combinations of columns of $X$.\n",
    "\n",
    "## 3. Explanations of R-squared\n",
    "\n",
    "In the same way as for the bi-variate regression:\n",
    "$$\n",
    "R^2=1-\\frac{RSS}{\\sum\\limits_i (y_i-\\overline{y})^2}=\\frac{\\sum\\limits_i (\\hat{y}_i-\\overline{y})^2}{\\sum\\limits_i (y_i-\\overline{y})^2},\n",
    "$$\n",
    "where $\\overline{y}=\\sum\\limits_i y_i$ is the sample mean of observed values of responce variable. This way $R^2$ is often interpreted as a fraction of responce variable's variance explained by linear model. $R^2=1$ is equivalent to $RSS=0$, i.e. the model fits the observations exactly, i.e. responce variable depends linearly on the explaining variables. On the other hand, $R^2=0$ means that the model always predicts the sample mean $\\overline{y}$, i.e. explaining variables $x$ have no effect on responce variable $y$. \n",
    "\n",
    "Least-square criteria is equivalent to maximizing $R^2$."
   ]
  },
  {
   "cell_type": "markdown",
   "metadata": {
    "nbpresent": {
     "id": "e05e0218-41ee-4b6a-b8c8-f030accc7239"
    }
   },
   "source": [
    "## 4. Feature scaling\n",
    "\n",
    "Often in order to get some sense out of the values of $w_j$ one might want to normalize the features first, bringing them on the same scale. For example one can standardize, transforming independent variables into their standard scores (also called z-scores, normal scores):\n",
    "$$\n",
    "x_j^*=\\frac{x_j-\\overline{x}_j}{\\sigma_j}\n",
    "$$\n",
    "where $\\overline{x}_j=E[X_j]$ and $\\sigma_j=std[X_j]$ are the corresponding sample mean and standard deviation. This however does not apply to a constant dummy variable corresponding to the intercept term if present. One might omit this dummy variable in case if responce variable is also standardized (then it's mean is also zero and there is no need for an intercept). \n",
    "\n",
    "Then, the resulting coefficients $\\hat{w}_j$ could be interpreted as a relative (or absolute if the output variable is also standardized) strength of each regressor's impact on the responce variable $x_j$."
   ]
  },
  {
   "cell_type": "markdown",
   "metadata": {
    "nbpresent": {
     "id": "b19f7d84-9b9b-408f-a325-f149c98fc322"
    }
   },
   "source": [
    "## 5. Case of orthogonal regressors\n",
    "\n",
    "Consider a particular case of orthogonal regressors. I.e. suppose that for each pair of $j\\neq k$ the inner product equals to zero: $$<X_j,X_k> \\quad= \\quad X_j^T X_k = \\sum\\limits_i x_j^i x_k^i=0$$\n",
    "For the standardized regressors orthogonality is equivalent to being uncorrelated; more generally if at least one of the regressors $x_j$ is standardized (consequently $E[X_j]=0$) then:\n",
    "$$\n",
    "0=corr[X_j,X_k]=\\frac{Cov[X_j,X_k]}{std[X_j]std[X_k]}=\\frac{\\frac{<X_j,X_k>}{N}-E[X_j]E[X_k]}{std[X_j]std[X_k]}=\\frac{<X_j,X_k>}{N std[X_j]std[X_k]}.\n",
    "$$\n",
    "In that case it is possible to show that least square estimate for the multiple regression could be built from a set of univariate regressions of $y$ vs each of the regressors $x_j$ taken separately. Then\n",
    "$$\n",
    "\\hat{w_j}=\\frac{X_j^T Y}{X_j^T X_j}.\n",
    "$$\n",
    "If $X_j$ is also standardized, so that $E[X_j]=0$ and $Var[X_j]=1$, the above could be re-written as\n",
    "$$\n",
    "\\hat{w_j}=Cov[X_j,Y].\n",
    "$$\n",
    "Also this way \n",
    "$$\n",
    "Var[Y]=Var[\\varepsilon]+\\sum_j Var[w_j X_j]=\\sigma^2+\\sum_j w_j^2.\n",
    "$$\n",
    "This gives a very intuitive interpretation of the regression coefficients (or actually their squares) as a **decomposition of the explained part of response variable's variation $Var[Y]-\\sigma^2$**. \n",
    "\n",
    "However this works only for the basic least-square estimates $w=\\hat{w}$, $\\sigma=\\hat{\\sigma}$. While depending on the estimation technique used for $\\hat{w}$ and $\\hat{\\sigma}$ (like using unbiased estimates for example), this equation might only hold approximately.\n",
    "\n",
    "If $Y$ is also standardized then $\\hat{w_j}=corr[X_j,Y]$, i.e. coefficients of such a regression are simply the correlation coefficients of observed sample of responce variable vs each of the regressors. So basically the multivariate regression with ortognal standardized regressors and standardized responce variable could be expressed as\n",
    "$$\n",
    "y=\\sum\\limits_j corr[X_j,Y] x_j+\\varepsilon.\n",
    "$$\n",
    "This way the regression coefficients are simply the correlations between corresponding regressors and the responce variable's observations.\n",
    "\n",
    "Although the case of ortogonal (uncorrelated) regressors seems to be quite a special one, during the next session, we'll see that actually every regression could be transformed to such a case through a principle component decomposition.\n"
   ]
  },
  {
   "cell_type": "markdown",
   "metadata": {
    "nbpresent": {
     "id": "8a089b95-a607-44cf-94fe-f34d511c3944"
    }
   },
   "source": [
    "## 6. Non-linear polynimial regression \n",
    "\n",
    "Multi-variate linear regression could be also used in order to fit non-linear models, such as polynomial one for example. If one needs to fit a dependence of \n",
    "$$\n",
    "y=w_mx^m + w_{m-1} x^{m-1} + \\ldots + w_1 x + w_0+\\epsilon,\n",
    "$$\n",
    "one way of doing that it thourgh a multi-variate regression, selecting \n",
    "$$\n",
    "y\\sim 1,x,x^2,\\ldots,x^{m}\n",
    "$$ \n",
    "as $m+1$ features. Similarly a polinomial form of several variables could be fit, like \n",
    "$$\n",
    "y\\sim w_{2,0}x_1^2+w_{1,1}x_1 x_2+w_{2,0}x_2^2+w_{1,0}x_1+w_{0,1}x_2+w_{0,0}\n",
    "$$\n",
    "could be handled over a feature space including\n",
    "$$\n",
    "y\\sim 1,x_1,x_2,x_1^2,x_2^2.\n",
    "$$"
   ]
  },
  {
   "cell_type": "markdown",
   "metadata": {},
   "source": [
    "# Lab Session"
   ]
  },
  {
   "cell_type": "code",
   "execution_count": 269,
   "metadata": {
    "nbpresent": {
     "id": "7b1edb37-5628-4e65-9416-6b818990dfba"
    }
   },
   "outputs": [
    {
     "name": "stdout",
     "output_type": "stream",
     "text": [
      "Populating the interactive namespace from numpy and matplotlib\n"
     ]
    }
   ],
   "source": [
    "import numpy as np   # basic numeric module in python, for array and matrix computation\n",
    "import pandas as pd  # advanced numeric module, excels in data frame analysis\n",
    "import matplotlib.pyplot as plt  # for data visualization\n",
    "%pylab inline\n",
    "# so the plots are embedded in notebook rather than a stand alone window\n",
    "\n",
    "from mpl_toolkits.mplot3d import Axes3D  # for 3D plot\n",
    "import statsmodels.formula.api as smf    # for OLS regression\n",
    "\n",
    "#path = 'https://serv.cusp.nyu.edu/~cq299/ADS2016/Data/'\n",
    "path=''"
   ]
  },
  {
   "cell_type": "code",
   "execution_count": 270,
   "metadata": {
    "collapsed": true
   },
   "outputs": [],
   "source": [
    "data = pd.DataFrame({'a':[1,2,3,4],'b':[2,3,4,5],'c':[3,4,5,6],'d':[123,543,214,435]})"
   ]
  },
  {
   "cell_type": "code",
   "execution_count": 271,
   "metadata": {
    "collapsed": true
   },
   "outputs": [],
   "source": [
    "lr = smf.ols(formula='a~b+c+d',data=data).fit()"
   ]
  },
  {
   "cell_type": "code",
   "execution_count": 272,
   "metadata": {},
   "outputs": [
    {
     "data": {
      "text/html": [
       "<table class=\"simpletable\">\n",
       "<caption>OLS Regression Results</caption>\n",
       "<tr>\n",
       "  <th>Dep. Variable:</th>            <td>a</td>        <th>  R-squared:         </th> <td>   1.000</td> \n",
       "</tr>\n",
       "<tr>\n",
       "  <th>Model:</th>                   <td>OLS</td>       <th>  Adj. R-squared:    </th> <td>   1.000</td> \n",
       "</tr>\n",
       "<tr>\n",
       "  <th>Method:</th>             <td>Least Squares</td>  <th>  F-statistic:       </th> <td>4.777e+26</td>\n",
       "</tr>\n",
       "<tr>\n",
       "  <th>Date:</th>             <td>Tue, 03 Oct 2017</td> <th>  Prob (F-statistic):</th> <td>3.24e-14</td> \n",
       "</tr>\n",
       "<tr>\n",
       "  <th>Time:</th>                 <td>18:13:30</td>     <th>  Log-Likelihood:    </th> <td>  118.13</td> \n",
       "</tr>\n",
       "<tr>\n",
       "  <th>No. Observations:</th>      <td>     4</td>      <th>  AIC:               </th> <td>  -230.3</td> \n",
       "</tr>\n",
       "<tr>\n",
       "  <th>Df Residuals:</th>          <td>     1</td>      <th>  BIC:               </th> <td>  -232.1</td> \n",
       "</tr>\n",
       "<tr>\n",
       "  <th>Df Model:</th>              <td>     2</td>      <th>                     </th>     <td> </td>    \n",
       "</tr>\n",
       "<tr>\n",
       "  <th>Covariance Type:</th>      <td>nonrobust</td>    <th>                     </th>     <td> </td>    \n",
       "</tr>\n",
       "</table>\n",
       "<table class=\"simpletable\">\n",
       "<tr>\n",
       "      <td></td>         <th>coef</th>     <th>std err</th>      <th>t</th>      <th>P>|t|</th>  <th>[0.025</th>    <th>0.975]</th>  \n",
       "</tr>\n",
       "<tr>\n",
       "  <th>Intercept</th> <td>   -1.0000</td> <td> 9.06e-14</td> <td> -1.1e+13</td> <td> 0.000</td> <td>   -1.000</td> <td>   -1.000</td>\n",
       "</tr>\n",
       "<tr>\n",
       "  <th>b</th>         <td>    1.0000</td> <td> 6.05e-14</td> <td> 1.65e+13</td> <td> 0.000</td> <td>    1.000</td> <td>    1.000</td>\n",
       "</tr>\n",
       "<tr>\n",
       "  <th>c</th>         <td>-1.166e-15</td> <td> 3.26e-14</td> <td>   -0.036</td> <td> 0.977</td> <td>-4.16e-13</td> <td> 4.14e-13</td>\n",
       "</tr>\n",
       "<tr>\n",
       "  <th>d</th>         <td>-1.934e-16</td> <td> 2.36e-16</td> <td>   -0.821</td> <td> 0.562</td> <td>-3.19e-15</td> <td>  2.8e-15</td>\n",
       "</tr>\n",
       "</table>\n",
       "<table class=\"simpletable\">\n",
       "<tr>\n",
       "  <th>Omnibus:</th>       <td>   nan</td> <th>  Durbin-Watson:     </th> <td>   2.430</td>\n",
       "</tr>\n",
       "<tr>\n",
       "  <th>Prob(Omnibus):</th> <td>   nan</td> <th>  Jarque-Bera (JB):  </th> <td>   0.476</td>\n",
       "</tr>\n",
       "<tr>\n",
       "  <th>Skew:</th>          <td>-0.053</td> <th>  Prob(JB):          </th> <td>   0.788</td>\n",
       "</tr>\n",
       "<tr>\n",
       "  <th>Kurtosis:</th>      <td> 1.314</td> <th>  Cond. No.          </th> <td>8.27e+17</td>\n",
       "</tr>\n",
       "</table>"
      ],
      "text/plain": [
       "<class 'statsmodels.iolib.summary.Summary'>\n",
       "\"\"\"\n",
       "                            OLS Regression Results                            \n",
       "==============================================================================\n",
       "Dep. Variable:                      a   R-squared:                       1.000\n",
       "Model:                            OLS   Adj. R-squared:                  1.000\n",
       "Method:                 Least Squares   F-statistic:                 4.777e+26\n",
       "Date:                Tue, 03 Oct 2017   Prob (F-statistic):           3.24e-14\n",
       "Time:                        18:13:30   Log-Likelihood:                 118.13\n",
       "No. Observations:                   4   AIC:                            -230.3\n",
       "Df Residuals:                       1   BIC:                            -232.1\n",
       "Df Model:                           2                                         \n",
       "Covariance Type:            nonrobust                                         \n",
       "==============================================================================\n",
       "                 coef    std err          t      P>|t|      [0.025      0.975]\n",
       "------------------------------------------------------------------------------\n",
       "Intercept     -1.0000   9.06e-14   -1.1e+13      0.000      -1.000      -1.000\n",
       "b              1.0000   6.05e-14   1.65e+13      0.000       1.000       1.000\n",
       "c          -1.166e-15   3.26e-14     -0.036      0.977   -4.16e-13    4.14e-13\n",
       "d          -1.934e-16   2.36e-16     -0.821      0.562   -3.19e-15     2.8e-15\n",
       "==============================================================================\n",
       "Omnibus:                          nan   Durbin-Watson:                   2.430\n",
       "Prob(Omnibus):                    nan   Jarque-Bera (JB):                0.476\n",
       "Skew:                          -0.053   Prob(JB):                        0.788\n",
       "Kurtosis:                       1.314   Cond. No.                     8.27e+17\n",
       "==============================================================================\n",
       "\n",
       "Warnings:\n",
       "[1] Standard Errors assume that the covariance matrix of the errors is correctly specified.\n",
       "[2] The smallest eigenvalue is 7.97e-31. This might indicate that there are\n",
       "strong multicollinearity problems or that the design matrix is singular.\n",
       "\"\"\""
      ]
     },
     "execution_count": 272,
     "metadata": {},
     "output_type": "execute_result"
    }
   ],
   "source": [
    "lr.summary()"
   ]
  },
  {
   "cell_type": "markdown",
   "metadata": {},
   "source": [
    "# Python hints"
   ]
  },
  {
   "cell_type": "markdown",
   "metadata": {
    "collapsed": true
   },
   "source": [
    "### Three different ways of selecting data from a data frame DF\n",
    "* DF.loc[row_label, col_label] $\\qquad$ Labels, names, boolean expression etc.\n",
    "    * Check the zipcode and area of the houses that worth more than 250k: **DF.loc[ DF.price > 250000, ['zipcode','area'] ]**\n",
    "* DF.iloc[row_index, col_index] $\\quad\\:\\:$ Integer positional access\n",
    "    * Select all last three columns between row 2 and row 5(inclusive): **DF.iloc[ 2:6 , -3: ]**\n",
    "* DF.ix[row_index] $\\qquad\\qquad\\quad\\:\\:$  Primary label-based, but integer works as well\n",
    "    * Works like the combination of loc and iloc    \n",
    "* One more thing to care about$\\quad\\:\\:$In expression **x:y** for data selection, the row/column of endpoint **y** would be\n",
    "    * Excluded if **y** is integer\n",
    "    * Included if **y** is label"
   ]
  },
  {
   "cell_type": "markdown",
   "metadata": {
    "nbpresent": {
     "id": "dbb28b4c-45a2-45df-ab07-a9d25d54d98a"
    }
   },
   "source": [
    "# Example 1, basics\n",
    "## Try to fit y given $y = w_0 + w_1 x_1 + w_2 x_2 + \\epsilon$"
   ]
  },
  {
   "cell_type": "code",
   "execution_count": 273,
   "metadata": {
    "nbpresent": {
     "id": "e2cbf161-5e2d-4df0-894b-9ad32652e7cb"
    }
   },
   "outputs": [
    {
     "data": {
      "text/html": [
       "<div>\n",
       "<style>\n",
       "    .dataframe thead tr:only-child th {\n",
       "        text-align: right;\n",
       "    }\n",
       "\n",
       "    .dataframe thead th {\n",
       "        text-align: left;\n",
       "    }\n",
       "\n",
       "    .dataframe tbody tr th {\n",
       "        vertical-align: top;\n",
       "    }\n",
       "</style>\n",
       "<table border=\"1\" class=\"dataframe\">\n",
       "  <thead>\n",
       "    <tr style=\"text-align: right;\">\n",
       "      <th></th>\n",
       "      <th>x1</th>\n",
       "      <th>x2</th>\n",
       "      <th>y</th>\n",
       "    </tr>\n",
       "  </thead>\n",
       "  <tbody>\n",
       "    <tr>\n",
       "      <th>0</th>\n",
       "      <td>1.964692</td>\n",
       "      <td>-2.138607</td>\n",
       "      <td>-5.605927</td>\n",
       "    </tr>\n",
       "    <tr>\n",
       "      <th>1</th>\n",
       "      <td>-2.731485</td>\n",
       "      <td>0.513148</td>\n",
       "      <td>-18.856722</td>\n",
       "    </tr>\n",
       "    <tr>\n",
       "      <th>2</th>\n",
       "      <td>2.194690</td>\n",
       "      <td>-0.768935</td>\n",
       "      <td>-6.063095</td>\n",
       "    </tr>\n",
       "  </tbody>\n",
       "</table>\n",
       "</div>"
      ],
      "text/plain": [
       "         x1        x2          y\n",
       "0  1.964692 -2.138607  -5.605927\n",
       "1 -2.731485  0.513148 -18.856722\n",
       "2  2.194690 -0.768935  -6.063095"
      ]
     },
     "execution_count": 273,
     "metadata": {},
     "output_type": "execute_result"
    }
   ],
   "source": [
    "data1 = pd.read_csv(path + 'Example1.csv')\n",
    "data1.head(3)"
   ]
  },
  {
   "cell_type": "markdown",
   "metadata": {
    "nbpresent": {
     "id": "acd6cb4a-a53c-4a57-9ea9-6d1130bd153d"
    }
   },
   "source": [
    "### (A) Matrix computation\n",
    "### $$\\hat{w}=\\left(X^T X\\right )^{-1}X^T Y. \\hspace{5ex} $$"
   ]
  },
  {
   "cell_type": "code",
   "execution_count": 274,
   "metadata": {
    "nbpresent": {
     "id": "ba711c05-6028-4fd7-9350-58f5b2c4e3d1"
    }
   },
   "outputs": [
    {
     "name": "stdout",
     "output_type": "stream",
     "text": [
      "[[-10.10498527]\n",
      " [  2.67679769]\n",
      " [ -0.70613511]]\n"
     ]
    }
   ],
   "source": [
    "#Q1. Create a new column x0 for intercept, set the values to 1\n",
    "data1['x0'] = 1\n",
    "\n",
    "#Q2. Create X and Y in matrix form then use matrix computation formula to calculate the coefficients\n",
    "X = np.matrix(data1.loc[:,['x0','x1','x2']])\n",
    "Y = np.matrix(data1.y).T\n",
    "w = (X.T * X).I * X.T * Y\n",
    "print(w)"
   ]
  },
  {
   "cell_type": "markdown",
   "metadata": {
    "nbpresent": {
     "id": "b986d918-47fa-4ac2-ba9f-ba9bcc430030"
    }
   },
   "source": [
    "### (B) *statsmodels* module"
   ]
  },
  {
   "cell_type": "code",
   "execution_count": 275,
   "metadata": {
    "nbpresent": {
     "id": "49de85ea-abf8-4e40-8abd-ac9219c1ff4f"
    }
   },
   "outputs": [
    {
     "name": "stdout",
     "output_type": "stream",
     "text": [
      "R2 = 0.776112\n",
      "Intercept   -10.104985\n",
      "x1            2.676798\n",
      "x2           -0.706135\n",
      "dtype: float64\n"
     ]
    }
   ],
   "source": [
    "#Q3. Use statsmodels to regress y over x1 and x2, provide the r-squared and coefficients\n",
    "lm1 = smf.ols(formula = 'y ~ x1 + x2', data = data1).fit()\n",
    "print('R2 = %f'%lm1.rsquared)\n",
    "print(lm1.params)"
   ]
  },
  {
   "cell_type": "code",
   "execution_count": 276,
   "metadata": {
    "nbpresent": {
     "id": "1651addc-d785-4d56-a7c0-86d5034c7da5"
    }
   },
   "outputs": [
    {
     "data": {
      "text/html": [
       "<div>\n",
       "<style>\n",
       "    .dataframe thead tr:only-child th {\n",
       "        text-align: right;\n",
       "    }\n",
       "\n",
       "    .dataframe thead th {\n",
       "        text-align: left;\n",
       "    }\n",
       "\n",
       "    .dataframe tbody tr th {\n",
       "        vertical-align: top;\n",
       "    }\n",
       "</style>\n",
       "<table border=\"1\" class=\"dataframe\">\n",
       "  <thead>\n",
       "    <tr style=\"text-align: right;\">\n",
       "      <th></th>\n",
       "      <th>Matrix_Computation</th>\n",
       "      <th>Regression</th>\n",
       "    </tr>\n",
       "  </thead>\n",
       "  <tbody>\n",
       "    <tr>\n",
       "      <th>Intercept</th>\n",
       "      <td>[-10.1049852733]</td>\n",
       "      <td>-10.104985</td>\n",
       "    </tr>\n",
       "    <tr>\n",
       "      <th>x1</th>\n",
       "      <td>[2.67679768576]</td>\n",
       "      <td>2.676798</td>\n",
       "    </tr>\n",
       "    <tr>\n",
       "      <th>x2</th>\n",
       "      <td>[-0.706135109154]</td>\n",
       "      <td>-0.706135</td>\n",
       "    </tr>\n",
       "  </tbody>\n",
       "</table>\n",
       "</div>"
      ],
      "text/plain": [
       "          Matrix_Computation  Regression\n",
       "Intercept   [-10.1049852733]  -10.104985\n",
       "x1           [2.67679768576]    2.676798\n",
       "x2         [-0.706135109154]   -0.706135"
      ]
     },
     "execution_count": 276,
     "metadata": {},
     "output_type": "execute_result"
    }
   ],
   "source": [
    "#Q4. Compare the coefficients obtained through different methods\n",
    "pd.DataFrame({'Matrix_Computation':w.tolist(), 'Regression':lm1.params})\n",
    "# First create a dict object, claiming the labels and respective data, then convert it to a data frame"
   ]
  },
  {
   "cell_type": "code",
   "execution_count": 277,
   "metadata": {
    "nbpresent": {
     "id": "3af83e19-3277-4c1b-8941-1f8a4c8040a0"
    }
   },
   "outputs": [
    {
     "data": {
      "text/html": [
       "<div>\n",
       "<style>\n",
       "    .dataframe thead tr:only-child th {\n",
       "        text-align: right;\n",
       "    }\n",
       "\n",
       "    .dataframe thead th {\n",
       "        text-align: left;\n",
       "    }\n",
       "\n",
       "    .dataframe tbody tr th {\n",
       "        vertical-align: top;\n",
       "    }\n",
       "</style>\n",
       "<table border=\"1\" class=\"dataframe\">\n",
       "  <thead>\n",
       "    <tr style=\"text-align: right;\">\n",
       "      <th></th>\n",
       "      <th>x1</th>\n",
       "      <th>x2</th>\n",
       "      <th>y</th>\n",
       "      <th>x0</th>\n",
       "    </tr>\n",
       "  </thead>\n",
       "  <tbody>\n",
       "    <tr>\n",
       "      <th>count</th>\n",
       "      <td>20.000000</td>\n",
       "      <td>20.000000</td>\n",
       "      <td>20.000000</td>\n",
       "      <td>20.0</td>\n",
       "    </tr>\n",
       "    <tr>\n",
       "      <th>mean</th>\n",
       "      <td>0.027218</td>\n",
       "      <td>-0.075481</td>\n",
       "      <td>-9.978829</td>\n",
       "      <td>1.0</td>\n",
       "    </tr>\n",
       "    <tr>\n",
       "      <th>std</th>\n",
       "      <td>2.397628</td>\n",
       "      <td>2.247203</td>\n",
       "      <td>7.251472</td>\n",
       "      <td>0.0</td>\n",
       "    </tr>\n",
       "    <tr>\n",
       "      <th>min</th>\n",
       "      <td>-4.078951</td>\n",
       "      <td>-4.403221</td>\n",
       "      <td>-24.968052</td>\n",
       "      <td>1.0</td>\n",
       "    </tr>\n",
       "    <tr>\n",
       "      <th>25%</th>\n",
       "      <td>-1.428640</td>\n",
       "      <td>-1.797155</td>\n",
       "      <td>-14.739759</td>\n",
       "      <td>1.0</td>\n",
       "    </tr>\n",
       "    <tr>\n",
       "      <th>50%</th>\n",
       "      <td>-0.652825</td>\n",
       "      <td>-0.022391</td>\n",
       "      <td>-9.617834</td>\n",
       "      <td>1.0</td>\n",
       "    </tr>\n",
       "    <tr>\n",
       "      <th>75%</th>\n",
       "      <td>2.022191</td>\n",
       "      <td>1.444395</td>\n",
       "      <td>-6.344681</td>\n",
       "      <td>1.0</td>\n",
       "    </tr>\n",
       "    <tr>\n",
       "      <th>max</th>\n",
       "      <td>4.807642</td>\n",
       "      <td>3.933892</td>\n",
       "      <td>7.571092</td>\n",
       "      <td>1.0</td>\n",
       "    </tr>\n",
       "  </tbody>\n",
       "</table>\n",
       "</div>"
      ],
      "text/plain": [
       "              x1         x2          y    x0\n",
       "count  20.000000  20.000000  20.000000  20.0\n",
       "mean    0.027218  -0.075481  -9.978829   1.0\n",
       "std     2.397628   2.247203   7.251472   0.0\n",
       "min    -4.078951  -4.403221 -24.968052   1.0\n",
       "25%    -1.428640  -1.797155 -14.739759   1.0\n",
       "50%    -0.652825  -0.022391  -9.617834   1.0\n",
       "75%     2.022191   1.444395  -6.344681   1.0\n",
       "max     4.807642   3.933892   7.571092   1.0"
      ]
     },
     "execution_count": 277,
     "metadata": {},
     "output_type": "execute_result"
    }
   ],
   "source": [
    "#Q5. Extra credit: Find the max/min of each variable and then plot the observation and prediction in 3D plot\n",
    "data1.describe()"
   ]
  },
  {
   "cell_type": "code",
   "execution_count": 278,
   "metadata": {
    "nbpresent": {
     "id": "a9aff49f-0983-4fa1-8121-142bb06e23d1"
    }
   },
   "outputs": [
    {
     "data": {
      "image/png": "[encoded data removed]",
      "text/plain": [
       "<matplotlib.figure.Figure at 0x1485cdd8>"
      ]
     },
     "metadata": {},
     "output_type": "display_data"
    }
   ],
   "source": [
    "fig = plt.figure(figsize = (12,10))  # Create a plot with customized figure size (width, height)\n",
    "ax = fig.gca(projection='3d')  # Extract the axis for further operations\n",
    "ax.scatter(data1.x1, data1.x2, data1.y, s = 100,  c = 'r')\n",
    "# Scatter plot, \"c\" stands for color, and \"s\" determines the marker size\n",
    "\n",
    "# Generate coordinates for hyperplane\n",
    "radius = 5\n",
    "x1, x2 = np.meshgrid(range(-radius,radius), range(-radius,radius))\n",
    "fit_y = lm1.params[0] + lm1.params[1] * x1 + lm1.params[2] * x2\n",
    "\n",
    "# alpha (between 0 and 1) controls the transparency with 0 being totally transparent\n",
    "ax.plot_surface(x1, x2, fit_y, color='c', alpha = 0.4)\n",
    "# Set labels and fontsize\n",
    "ax.set_xlabel('$x_1$', fontsize = 20)\n",
    "ax.set_ylabel('$x_2$', fontsize = 20)\n",
    "ax.set_zlabel('$y$', fontsize = 20)\n",
    "\n",
    "ax.view_init(azim = 60)   # Controls the viewing angle"
   ]
  },
  {
   "cell_type": "markdown",
   "metadata": {},
   "source": [
    "## Example 2. Citi bike trips - model travel time/speed"
   ]
  },
  {
   "cell_type": "code",
   "execution_count": 279,
   "metadata": {
    "collapsed": true
   },
   "outputs": [],
   "source": [
    "data2 = pd.read_csv('JC-201609-citibike-tripdata.csv')"
   ]
  },
  {
   "cell_type": "code",
   "execution_count": 280,
   "metadata": {},
   "outputs": [
    {
     "data": {
      "text/html": [
       "<div>\n",
       "<style>\n",
       "    .dataframe thead tr:only-child th {\n",
       "        text-align: right;\n",
       "    }\n",
       "\n",
       "    .dataframe thead th {\n",
       "        text-align: left;\n",
       "    }\n",
       "\n",
       "    .dataframe tbody tr th {\n",
       "        vertical-align: top;\n",
       "    }\n",
       "</style>\n",
       "<table border=\"1\" class=\"dataframe\">\n",
       "  <thead>\n",
       "    <tr style=\"text-align: right;\">\n",
       "      <th></th>\n",
       "      <th>Trip Duration</th>\n",
       "      <th>Start Time</th>\n",
       "      <th>Stop Time</th>\n",
       "      <th>Start Station ID</th>\n",
       "      <th>Start Station Name</th>\n",
       "      <th>Start Station Latitude</th>\n",
       "      <th>Start Station Longitude</th>\n",
       "      <th>End Station ID</th>\n",
       "      <th>End Station Name</th>\n",
       "      <th>End Station Latitude</th>\n",
       "      <th>End Station Longitude</th>\n",
       "      <th>Bike ID</th>\n",
       "      <th>User Type</th>\n",
       "      <th>Birth Year</th>\n",
       "      <th>Gender</th>\n",
       "    </tr>\n",
       "  </thead>\n",
       "  <tbody>\n",
       "    <tr>\n",
       "      <th>0</th>\n",
       "      <td>254</td>\n",
       "      <td>2016-09-01 00:06:09</td>\n",
       "      <td>2016-09-01 00:10:24</td>\n",
       "      <td>3273</td>\n",
       "      <td>Manila &amp; 1st</td>\n",
       "      <td>40.721651</td>\n",
       "      <td>-74.042884</td>\n",
       "      <td>3203</td>\n",
       "      <td>Hamilton Park</td>\n",
       "      <td>40.727596</td>\n",
       "      <td>-74.044247</td>\n",
       "      <td>26157</td>\n",
       "      <td>Subscriber</td>\n",
       "      <td>1989.0</td>\n",
       "      <td>2</td>\n",
       "    </tr>\n",
       "    <tr>\n",
       "      <th>1</th>\n",
       "      <td>119</td>\n",
       "      <td>2016-09-01 00:08:04</td>\n",
       "      <td>2016-09-01 00:10:04</td>\n",
       "      <td>3272</td>\n",
       "      <td>Jersey &amp; 3rd</td>\n",
       "      <td>40.723332</td>\n",
       "      <td>-74.045953</td>\n",
       "      <td>3278</td>\n",
       "      <td>Monmouth and 6th</td>\n",
       "      <td>40.725685</td>\n",
       "      <td>-74.048790</td>\n",
       "      <td>24493</td>\n",
       "      <td>Subscriber</td>\n",
       "      <td>1988.0</td>\n",
       "      <td>1</td>\n",
       "    </tr>\n",
       "    <tr>\n",
       "      <th>2</th>\n",
       "      <td>425</td>\n",
       "      <td>2016-09-01 00:14:14</td>\n",
       "      <td>2016-09-01 00:21:19</td>\n",
       "      <td>3206</td>\n",
       "      <td>Hilltop</td>\n",
       "      <td>40.731169</td>\n",
       "      <td>-74.057574</td>\n",
       "      <td>3207</td>\n",
       "      <td>Oakland Ave</td>\n",
       "      <td>40.737604</td>\n",
       "      <td>-74.052478</td>\n",
       "      <td>24464</td>\n",
       "      <td>Subscriber</td>\n",
       "      <td>1961.0</td>\n",
       "      <td>1</td>\n",
       "    </tr>\n",
       "    <tr>\n",
       "      <th>3</th>\n",
       "      <td>304</td>\n",
       "      <td>2016-09-01 00:15:15</td>\n",
       "      <td>2016-09-01 00:20:20</td>\n",
       "      <td>3220</td>\n",
       "      <td>5 Corners Library</td>\n",
       "      <td>40.734961</td>\n",
       "      <td>-74.059503</td>\n",
       "      <td>3212</td>\n",
       "      <td>Christ Hospital</td>\n",
       "      <td>40.734786</td>\n",
       "      <td>-74.050444</td>\n",
       "      <td>24698</td>\n",
       "      <td>Subscriber</td>\n",
       "      <td>1967.0</td>\n",
       "      <td>1</td>\n",
       "    </tr>\n",
       "    <tr>\n",
       "      <th>4</th>\n",
       "      <td>1775</td>\n",
       "      <td>2016-09-01 00:16:37</td>\n",
       "      <td>2016-09-01 00:46:13</td>\n",
       "      <td>3203</td>\n",
       "      <td>Hamilton Park</td>\n",
       "      <td>40.727596</td>\n",
       "      <td>-74.044247</td>\n",
       "      <td>3203</td>\n",
       "      <td>Hamilton Park</td>\n",
       "      <td>40.727596</td>\n",
       "      <td>-74.044247</td>\n",
       "      <td>24626</td>\n",
       "      <td>Subscriber</td>\n",
       "      <td>1984.0</td>\n",
       "      <td>1</td>\n",
       "    </tr>\n",
       "  </tbody>\n",
       "</table>\n",
       "</div>"
      ],
      "text/plain": [
       "   Trip Duration           Start Time            Stop Time  Start Station ID  \\\n",
       "0            254  2016-09-01 00:06:09  2016-09-01 00:10:24              3273   \n",
       "1            119  2016-09-01 00:08:04  2016-09-01 00:10:04              3272   \n",
       "2            425  2016-09-01 00:14:14  2016-09-01 00:21:19              3206   \n",
       "3            304  2016-09-01 00:15:15  2016-09-01 00:20:20              3220   \n",
       "4           1775  2016-09-01 00:16:37  2016-09-01 00:46:13              3203   \n",
       "\n",
       "  Start Station Name  Start Station Latitude  Start Station Longitude  \\\n",
       "0       Manila & 1st               40.721651               -74.042884   \n",
       "1       Jersey & 3rd               40.723332               -74.045953   \n",
       "2            Hilltop               40.731169               -74.057574   \n",
       "3  5 Corners Library               40.734961               -74.059503   \n",
       "4      Hamilton Park               40.727596               -74.044247   \n",
       "\n",
       "   End Station ID  End Station Name  End Station Latitude  \\\n",
       "0            3203     Hamilton Park             40.727596   \n",
       "1            3278  Monmouth and 6th             40.725685   \n",
       "2            3207       Oakland Ave             40.737604   \n",
       "3            3212   Christ Hospital             40.734786   \n",
       "4            3203     Hamilton Park             40.727596   \n",
       "\n",
       "   End Station Longitude  Bike ID   User Type  Birth Year  Gender  \n",
       "0             -74.044247    26157  Subscriber      1989.0       2  \n",
       "1             -74.048790    24493  Subscriber      1988.0       1  \n",
       "2             -74.052478    24464  Subscriber      1961.0       1  \n",
       "3             -74.050444    24698  Subscriber      1967.0       1  \n",
       "4             -74.044247    24626  Subscriber      1984.0       1  "
      ]
     },
     "execution_count": 280,
     "metadata": {},
     "output_type": "execute_result"
    }
   ],
   "source": [
    "data2.head()"
   ]
  },
  {
   "cell_type": "markdown",
   "metadata": {},
   "source": [
    "#### Q1. Add columns reflecting the day of the week, hour of the day, direct geo-distance between origin and destination and trip density in origin and destination"
   ]
  },
  {
   "cell_type": "code",
   "execution_count": 281,
   "metadata": {
    "collapsed": true
   },
   "outputs": [],
   "source": [
    "data2['hour']=pd.DatetimeIndex(data2['Start Time']).hour"
   ]
  },
  {
   "cell_type": "code",
   "execution_count": 282,
   "metadata": {
    "collapsed": true
   },
   "outputs": [],
   "source": [
    "data2['weekday']=pd.DatetimeIndex(data2['Start Time']).weekday"
   ]
  },
  {
   "cell_type": "code",
   "execution_count": 283,
   "metadata": {},
   "outputs": [],
   "source": [
    "from geopy.distance import vincenty"
   ]
  },
  {
   "cell_type": "code",
   "execution_count": 284,
   "metadata": {
    "collapsed": true
   },
   "outputs": [],
   "source": [
    "data2['dist']=data2.apply(axis=1,func=lambda x: vincenty((x['Start Station Latitude'],x['Start Station Longitude']),(x['End Station Latitude'],x['End Station Longitude'])).miles)"
   ]
  },
  {
   "cell_type": "code",
   "execution_count": 285,
   "metadata": {
    "collapsed": true
   },
   "outputs": [],
   "source": [
    "outdens=data2.groupby(by='Start Station ID').size()"
   ]
  },
  {
   "cell_type": "code",
   "execution_count": 286,
   "metadata": {
    "collapsed": true
   },
   "outputs": [],
   "source": [
    "indens=data2.groupby(by='End Station ID').size()"
   ]
  },
  {
   "cell_type": "code",
   "execution_count": 287,
   "metadata": {
    "collapsed": true
   },
   "outputs": [],
   "source": [
    "totdens=outdens+indens"
   ]
  },
  {
   "cell_type": "code",
   "execution_count": 288,
   "metadata": {
    "collapsed": true
   },
   "outputs": [],
   "source": [
    "data2['StartDens']=data2['Start Station ID'].apply(lambda x:totdens[x])"
   ]
  },
  {
   "cell_type": "code",
   "execution_count": 289,
   "metadata": {
    "collapsed": true
   },
   "outputs": [],
   "source": [
    "data2['EndDens']=data2['End Station ID'].apply(lambda x:totdens[x])"
   ]
  },
  {
   "cell_type": "markdown",
   "metadata": {},
   "source": [
    "#### Q2. Run a regression of trip time against distance. See if doing it on a subset of trips would make more sense"
   ]
  },
  {
   "cell_type": "code",
   "execution_count": 290,
   "metadata": {
    "collapsed": true
   },
   "outputs": [],
   "source": [
    "data2.rename(columns = { 'Trip Duration':'duration' }, inplace=True)"
   ]
  },
  {
   "cell_type": "code",
   "execution_count": 291,
   "metadata": {},
   "outputs": [
    {
     "data": {
      "text/html": [
       "<table class=\"simpletable\">\n",
       "<caption>OLS Regression Results</caption>\n",
       "<tr>\n",
       "  <th>Dep. Variable:</th>        <td>duration</td>     <th>  R-squared:         </th>  <td>   0.000</td>  \n",
       "</tr>\n",
       "<tr>\n",
       "  <th>Model:</th>                   <td>OLS</td>       <th>  Adj. R-squared:    </th>  <td>   0.000</td>  \n",
       "</tr>\n",
       "<tr>\n",
       "  <th>Method:</th>             <td>Least Squares</td>  <th>  F-statistic:       </th>  <td>   2.243</td>  \n",
       "</tr>\n",
       "<tr>\n",
       "  <th>Date:</th>             <td>Tue, 03 Oct 2017</td> <th>  Prob (F-statistic):</th>   <td> 0.134</td>   \n",
       "</tr>\n",
       "<tr>\n",
       "  <th>Time:</th>                 <td>18:13:34</td>     <th>  Log-Likelihood:    </th> <td>-3.6087e+05</td>\n",
       "</tr>\n",
       "<tr>\n",
       "  <th>No. Observations:</th>      <td> 33425</td>      <th>  AIC:               </th>  <td>7.217e+05</td> \n",
       "</tr>\n",
       "<tr>\n",
       "  <th>Df Residuals:</th>          <td> 33423</td>      <th>  BIC:               </th>  <td>7.218e+05</td> \n",
       "</tr>\n",
       "<tr>\n",
       "  <th>Df Model:</th>              <td>     1</td>      <th>                     </th>      <td> </td>     \n",
       "</tr>\n",
       "<tr>\n",
       "  <th>Covariance Type:</th>      <td>nonrobust</td>    <th>                     </th>      <td> </td>     \n",
       "</tr>\n",
       "</table>\n",
       "<table class=\"simpletable\">\n",
       "<tr>\n",
       "      <td></td>         <th>coef</th>     <th>std err</th>      <th>t</th>      <th>P>|t|</th>  <th>[0.025</th>    <th>0.975]</th>  \n",
       "</tr>\n",
       "<tr>\n",
       "  <th>Intercept</th> <td>  719.2623</td> <td>  110.776</td> <td>    6.493</td> <td> 0.000</td> <td>  502.137</td> <td>  936.388</td>\n",
       "</tr>\n",
       "<tr>\n",
       "  <th>dist</th>      <td>  209.3420</td> <td>  139.785</td> <td>    1.498</td> <td> 0.134</td> <td>  -64.641</td> <td>  483.325</td>\n",
       "</tr>\n",
       "</table>\n",
       "<table class=\"simpletable\">\n",
       "<tr>\n",
       "  <th>Omnibus:</th>       <td>131939.534</td> <th>  Durbin-Watson:     </th>     <td>   1.996</td>    \n",
       "</tr>\n",
       "<tr>\n",
       "  <th>Prob(Omnibus):</th>   <td> 0.000</td>   <th>  Jarque-Bera (JB):  </th> <td>174129565749.654</td>\n",
       "</tr>\n",
       "<tr>\n",
       "  <th>Skew:</th>            <td>98.172</td>   <th>  Prob(JB):          </th>     <td>    0.00</td>    \n",
       "</tr>\n",
       "<tr>\n",
       "  <th>Kurtosis:</th>       <td>11182.933</td> <th>  Cond. No.          </th>     <td>    3.21</td>    \n",
       "</tr>\n",
       "</table>"
      ],
      "text/plain": [
       "<class 'statsmodels.iolib.summary.Summary'>\n",
       "\"\"\"\n",
       "                            OLS Regression Results                            \n",
       "==============================================================================\n",
       "Dep. Variable:               duration   R-squared:                       0.000\n",
       "Model:                            OLS   Adj. R-squared:                  0.000\n",
       "Method:                 Least Squares   F-statistic:                     2.243\n",
       "Date:                Tue, 03 Oct 2017   Prob (F-statistic):              0.134\n",
       "Time:                        18:13:34   Log-Likelihood:            -3.6087e+05\n",
       "No. Observations:               33425   AIC:                         7.217e+05\n",
       "Df Residuals:                   33423   BIC:                         7.218e+05\n",
       "Df Model:                           1                                         \n",
       "Covariance Type:            nonrobust                                         \n",
       "==============================================================================\n",
       "                 coef    std err          t      P>|t|      [0.025      0.975]\n",
       "------------------------------------------------------------------------------\n",
       "Intercept    719.2623    110.776      6.493      0.000     502.137     936.388\n",
       "dist         209.3420    139.785      1.498      0.134     -64.641     483.325\n",
       "==============================================================================\n",
       "Omnibus:                   131939.534   Durbin-Watson:                   1.996\n",
       "Prob(Omnibus):                  0.000   Jarque-Bera (JB):     174129565749.654\n",
       "Skew:                          98.172   Prob(JB):                         0.00\n",
       "Kurtosis:                   11182.933   Cond. No.                         3.21\n",
       "==============================================================================\n",
       "\n",
       "Warnings:\n",
       "[1] Standard Errors assume that the covariance matrix of the errors is correctly specified.\n",
       "\"\"\""
      ]
     },
     "execution_count": 291,
     "metadata": {},
     "output_type": "execute_result"
    }
   ],
   "source": [
    "lm=smf.ols('duration~dist',data=data2).fit()\n",
    "lm.summary()"
   ]
  },
  {
   "cell_type": "code",
   "execution_count": 292,
   "metadata": {
    "collapsed": true
   },
   "outputs": [],
   "source": [
    "#take only the trips which look like a reasonable commute\n",
    "comind=data2.duration<data2.dist*1000;"
   ]
  },
  {
   "cell_type": "code",
   "execution_count": 293,
   "metadata": {},
   "outputs": [
    {
     "data": {
      "text/plain": [
       "80.40688107703815"
      ]
     },
     "execution_count": 293,
     "metadata": {},
     "output_type": "execute_result"
    }
   ],
   "source": [
    "#percentage of such trips\n",
    "100.0*sum(comind)/len(comind)"
   ]
  },
  {
   "cell_type": "code",
   "execution_count": 294,
   "metadata": {
    "scrolled": true
   },
   "outputs": [
    {
     "name": "stderr",
     "output_type": "stream",
     "text": [
      "C:\\Users\\sddz0\\Anaconda2\\lib\\site-packages\\ipykernel_launcher.py:1: DeprecationWarning: \n",
      ".ix is deprecated. Please use\n",
      ".loc for label based indexing or\n",
      ".iloc for positional indexing\n",
      "\n",
      "See the documentation here:\n",
      "http://pandas.pydata.org/pandas-docs/stable/indexing.html#ix-indexer-is-deprecated\n",
      "  \"\"\"Entry point for launching an IPython kernel.\n"
     ]
    },
    {
     "data": {
      "text/html": [
       "<table class=\"simpletable\">\n",
       "<caption>OLS Regression Results</caption>\n",
       "<tr>\n",
       "  <th>Dep. Variable:</th>        <td>duration</td>     <th>  R-squared:         </th>  <td>   0.810</td>  \n",
       "</tr>\n",
       "<tr>\n",
       "  <th>Model:</th>                   <td>OLS</td>       <th>  Adj. R-squared:    </th>  <td>   0.810</td>  \n",
       "</tr>\n",
       "<tr>\n",
       "  <th>Method:</th>             <td>Least Squares</td>  <th>  F-statistic:       </th>  <td>1.147e+05</td> \n",
       "</tr>\n",
       "<tr>\n",
       "  <th>Date:</th>             <td>Tue, 03 Oct 2017</td> <th>  Prob (F-statistic):</th>   <td>  0.00</td>   \n",
       "</tr>\n",
       "<tr>\n",
       "  <th>Time:</th>                 <td>18:13:34</td>     <th>  Log-Likelihood:    </th> <td>-1.6678e+05</td>\n",
       "</tr>\n",
       "<tr>\n",
       "  <th>No. Observations:</th>      <td> 26876</td>      <th>  AIC:               </th>  <td>3.336e+05</td> \n",
       "</tr>\n",
       "<tr>\n",
       "  <th>Df Residuals:</th>          <td> 26874</td>      <th>  BIC:               </th>  <td>3.336e+05</td> \n",
       "</tr>\n",
       "<tr>\n",
       "  <th>Df Model:</th>              <td>     1</td>      <th>                     </th>      <td> </td>     \n",
       "</tr>\n",
       "<tr>\n",
       "  <th>Covariance Type:</th>      <td>nonrobust</td>    <th>                     </th>      <td> </td>     \n",
       "</tr>\n",
       "</table>\n",
       "<table class=\"simpletable\">\n",
       "<tr>\n",
       "      <td></td>         <th>coef</th>     <th>std err</th>      <th>t</th>      <th>P>|t|</th>  <th>[0.025</th>    <th>0.975]</th>  \n",
       "</tr>\n",
       "<tr>\n",
       "  <th>Intercept</th> <td>   42.6784</td> <td>    1.327</td> <td>   32.154</td> <td> 0.000</td> <td>   40.077</td> <td>   45.280</td>\n",
       "</tr>\n",
       "<tr>\n",
       "  <th>dist</th>      <td>  537.5744</td> <td>    1.587</td> <td>  338.658</td> <td> 0.000</td> <td>  534.463</td> <td>  540.686</td>\n",
       "</tr>\n",
       "</table>\n",
       "<table class=\"simpletable\">\n",
       "<tr>\n",
       "  <th>Omnibus:</th>       <td>5833.792</td> <th>  Durbin-Watson:     </th> <td>   1.806</td> \n",
       "</tr>\n",
       "<tr>\n",
       "  <th>Prob(Omnibus):</th>  <td> 0.000</td>  <th>  Jarque-Bera (JB):  </th> <td>39499.085</td>\n",
       "</tr>\n",
       "<tr>\n",
       "  <th>Skew:</th>           <td> 0.875</td>  <th>  Prob(JB):          </th> <td>    0.00</td> \n",
       "</tr>\n",
       "<tr>\n",
       "  <th>Kurtosis:</th>       <td> 8.675</td>  <th>  Cond. No.          </th> <td>    3.39</td> \n",
       "</tr>\n",
       "</table>"
      ],
      "text/plain": [
       "<class 'statsmodels.iolib.summary.Summary'>\n",
       "\"\"\"\n",
       "                            OLS Regression Results                            \n",
       "==============================================================================\n",
       "Dep. Variable:               duration   R-squared:                       0.810\n",
       "Model:                            OLS   Adj. R-squared:                  0.810\n",
       "Method:                 Least Squares   F-statistic:                 1.147e+05\n",
       "Date:                Tue, 03 Oct 2017   Prob (F-statistic):               0.00\n",
       "Time:                        18:13:34   Log-Likelihood:            -1.6678e+05\n",
       "No. Observations:               26876   AIC:                         3.336e+05\n",
       "Df Residuals:                   26874   BIC:                         3.336e+05\n",
       "Df Model:                           1                                         \n",
       "Covariance Type:            nonrobust                                         \n",
       "==============================================================================\n",
       "                 coef    std err          t      P>|t|      [0.025      0.975]\n",
       "------------------------------------------------------------------------------\n",
       "Intercept     42.6784      1.327     32.154      0.000      40.077      45.280\n",
       "dist         537.5744      1.587    338.658      0.000     534.463     540.686\n",
       "==============================================================================\n",
       "Omnibus:                     5833.792   Durbin-Watson:                   1.806\n",
       "Prob(Omnibus):                  0.000   Jarque-Bera (JB):            39499.085\n",
       "Skew:                           0.875   Prob(JB):                         0.00\n",
       "Kurtosis:                       8.675   Cond. No.                         3.39\n",
       "==============================================================================\n",
       "\n",
       "Warnings:\n",
       "[1] Standard Errors assume that the covariance matrix of the errors is correctly specified.\n",
       "\"\"\""
      ]
     },
     "execution_count": 294,
     "metadata": {},
     "output_type": "execute_result"
    }
   ],
   "source": [
    "lm=smf.ols('duration~dist',data=data2.ix[comind]).fit()\n",
    "lm.summary()"
   ]
  },
  {
   "cell_type": "markdown",
   "metadata": {},
   "source": [
    "#### Q3. Add customer demogrphics to the regression. Consider regression for average spead instead"
   ]
  },
  {
   "cell_type": "code",
   "execution_count": 295,
   "metadata": {
    "collapsed": true
   },
   "outputs": [],
   "source": [
    "data2['age']=2016-data2['Birth Year']\n",
    "demoind=(data2['Birth Year']>0)&(data2['Gender']>0)"
   ]
  },
  {
   "cell_type": "code",
   "execution_count": 296,
   "metadata": {},
   "outputs": [
    {
     "data": {
      "text/html": [
       "<table class=\"simpletable\">\n",
       "<caption>OLS Regression Results</caption>\n",
       "<tr>\n",
       "  <th>Dep. Variable:</th>        <td>duration</td>     <th>  R-squared:         </th>  <td>   0.818</td>  \n",
       "</tr>\n",
       "<tr>\n",
       "  <th>Model:</th>                   <td>OLS</td>       <th>  Adj. R-squared:    </th>  <td>   0.818</td>  \n",
       "</tr>\n",
       "<tr>\n",
       "  <th>Method:</th>             <td>Least Squares</td>  <th>  F-statistic:       </th>  <td>3.822e+04</td> \n",
       "</tr>\n",
       "<tr>\n",
       "  <th>Date:</th>             <td>Tue, 03 Oct 2017</td> <th>  Prob (F-statistic):</th>   <td>  0.00</td>   \n",
       "</tr>\n",
       "<tr>\n",
       "  <th>Time:</th>                 <td>18:13:34</td>     <th>  Log-Likelihood:    </th> <td>-1.5786e+05</td>\n",
       "</tr>\n",
       "<tr>\n",
       "  <th>No. Observations:</th>      <td> 25573</td>      <th>  AIC:               </th>  <td>3.157e+05</td> \n",
       "</tr>\n",
       "<tr>\n",
       "  <th>Df Residuals:</th>          <td> 25569</td>      <th>  BIC:               </th>  <td>3.158e+05</td> \n",
       "</tr>\n",
       "<tr>\n",
       "  <th>Df Model:</th>              <td>     3</td>      <th>                     </th>      <td> </td>     \n",
       "</tr>\n",
       "<tr>\n",
       "  <th>Covariance Type:</th>      <td>nonrobust</td>    <th>                     </th>      <td> </td>     \n",
       "</tr>\n",
       "</table>\n",
       "<table class=\"simpletable\">\n",
       "<tr>\n",
       "         <td></td>           <th>coef</th>     <th>std err</th>      <th>t</th>      <th>P>|t|</th>  <th>[0.025</th>    <th>0.975]</th>  \n",
       "</tr>\n",
       "<tr>\n",
       "  <th>Intercept</th>      <td>   14.2358</td> <td>    3.248</td> <td>    4.382</td> <td> 0.000</td> <td>    7.869</td> <td>   20.603</td>\n",
       "</tr>\n",
       "<tr>\n",
       "  <th>C(Gender)[T.2]</th> <td>   40.6469</td> <td>    1.742</td> <td>   23.338</td> <td> 0.000</td> <td>   37.233</td> <td>   44.061</td>\n",
       "</tr>\n",
       "<tr>\n",
       "  <th>dist</th>           <td>  535.4293</td> <td>    1.584</td> <td>  338.074</td> <td> 0.000</td> <td>  532.325</td> <td>  538.534</td>\n",
       "</tr>\n",
       "<tr>\n",
       "  <th>age</th>            <td>    0.4755</td> <td>    0.078</td> <td>    6.133</td> <td> 0.000</td> <td>    0.324</td> <td>    0.627</td>\n",
       "</tr>\n",
       "</table>\n",
       "<table class=\"simpletable\">\n",
       "<tr>\n",
       "  <th>Omnibus:</th>       <td>6016.519</td> <th>  Durbin-Watson:     </th> <td>   1.838</td> \n",
       "</tr>\n",
       "<tr>\n",
       "  <th>Prob(Omnibus):</th>  <td> 0.000</td>  <th>  Jarque-Bera (JB):  </th> <td>45261.708</td>\n",
       "</tr>\n",
       "<tr>\n",
       "  <th>Skew:</th>           <td> 0.930</td>  <th>  Prob(JB):          </th> <td>    0.00</td> \n",
       "</tr>\n",
       "<tr>\n",
       "  <th>Kurtosis:</th>       <td> 9.246</td>  <th>  Cond. No.          </th> <td>    174.</td> \n",
       "</tr>\n",
       "</table>"
      ],
      "text/plain": [
       "<class 'statsmodels.iolib.summary.Summary'>\n",
       "\"\"\"\n",
       "                            OLS Regression Results                            \n",
       "==============================================================================\n",
       "Dep. Variable:               duration   R-squared:                       0.818\n",
       "Model:                            OLS   Adj. R-squared:                  0.818\n",
       "Method:                 Least Squares   F-statistic:                 3.822e+04\n",
       "Date:                Tue, 03 Oct 2017   Prob (F-statistic):               0.00\n",
       "Time:                        18:13:34   Log-Likelihood:            -1.5786e+05\n",
       "No. Observations:               25573   AIC:                         3.157e+05\n",
       "Df Residuals:                   25569   BIC:                         3.158e+05\n",
       "Df Model:                           3                                         \n",
       "Covariance Type:            nonrobust                                         \n",
       "==================================================================================\n",
       "                     coef    std err          t      P>|t|      [0.025      0.975]\n",
       "----------------------------------------------------------------------------------\n",
       "Intercept         14.2358      3.248      4.382      0.000       7.869      20.603\n",
       "C(Gender)[T.2]    40.6469      1.742     23.338      0.000      37.233      44.061\n",
       "dist             535.4293      1.584    338.074      0.000     532.325     538.534\n",
       "age                0.4755      0.078      6.133      0.000       0.324       0.627\n",
       "==============================================================================\n",
       "Omnibus:                     6016.519   Durbin-Watson:                   1.838\n",
       "Prob(Omnibus):                  0.000   Jarque-Bera (JB):            45261.708\n",
       "Skew:                           0.930   Prob(JB):                         0.00\n",
       "Kurtosis:                       9.246   Cond. No.                         174.\n",
       "==============================================================================\n",
       "\n",
       "Warnings:\n",
       "[1] Standard Errors assume that the covariance matrix of the errors is correctly specified.\n",
       "\"\"\""
      ]
     },
     "execution_count": 296,
     "metadata": {},
     "output_type": "execute_result"
    }
   ],
   "source": [
    "# run regression agains age and gender (categorical) for trips with specified customer demographics\n",
    "lm=smf.ols('duration~dist+age+C(Gender)',data=data2.ix[comind&demoind]).fit()\n",
    "lm.summary()"
   ]
  },
  {
   "cell_type": "code",
   "execution_count": 297,
   "metadata": {
    "collapsed": true
   },
   "outputs": [],
   "source": [
    "#compute average speed\n",
    "data2['speed']=data2['dist']/data2['duration']"
   ]
  },
  {
   "cell_type": "code",
   "execution_count": 298,
   "metadata": {},
   "outputs": [
    {
     "data": {
      "text/html": [
       "<table class=\"simpletable\">\n",
       "<caption>OLS Regression Results</caption>\n",
       "<tr>\n",
       "  <th>Dep. Variable:</th>          <td>speed</td>      <th>  R-squared:         </th>  <td>   0.035</td> \n",
       "</tr>\n",
       "<tr>\n",
       "  <th>Model:</th>                   <td>OLS</td>       <th>  Adj. R-squared:    </th>  <td>   0.035</td> \n",
       "</tr>\n",
       "<tr>\n",
       "  <th>Method:</th>             <td>Least Squares</td>  <th>  F-statistic:       </th>  <td>   462.5</td> \n",
       "</tr>\n",
       "<tr>\n",
       "  <th>Date:</th>             <td>Tue, 03 Oct 2017</td> <th>  Prob (F-statistic):</th>  <td>4.99e-198</td>\n",
       "</tr>\n",
       "<tr>\n",
       "  <th>Time:</th>                 <td>18:13:34</td>     <th>  Log-Likelihood:    </th> <td>1.6256e+05</td>\n",
       "</tr>\n",
       "<tr>\n",
       "  <th>No. Observations:</th>      <td> 25573</td>      <th>  AIC:               </th> <td>-3.251e+05</td>\n",
       "</tr>\n",
       "<tr>\n",
       "  <th>Df Residuals:</th>          <td> 25570</td>      <th>  BIC:               </th> <td>-3.251e+05</td>\n",
       "</tr>\n",
       "<tr>\n",
       "  <th>Df Model:</th>              <td>     2</td>      <th>                     </th>      <td> </td>    \n",
       "</tr>\n",
       "<tr>\n",
       "  <th>Covariance Type:</th>      <td>nonrobust</td>    <th>                     </th>      <td> </td>    \n",
       "</tr>\n",
       "</table>\n",
       "<table class=\"simpletable\">\n",
       "<tr>\n",
       "         <td></td>           <th>coef</th>     <th>std err</th>      <th>t</th>      <th>P>|t|</th>  <th>[0.025</th>    <th>0.975]</th>  \n",
       "</tr>\n",
       "<tr>\n",
       "  <th>Intercept</th>      <td>    0.0019</td> <td> 1.07e-05</td> <td>  175.008</td> <td> 0.000</td> <td>    0.002</td> <td>    0.002</td>\n",
       "</tr>\n",
       "<tr>\n",
       "  <th>C(Gender)[T.2]</th> <td>   -0.0002</td> <td> 6.29e-06</td> <td>  -29.543</td> <td> 0.000</td> <td>   -0.000</td> <td>   -0.000</td>\n",
       "</tr>\n",
       "<tr>\n",
       "  <th>age</th>            <td>-2.742e-06</td> <td>  2.8e-07</td> <td>   -9.804</td> <td> 0.000</td> <td>-3.29e-06</td> <td>-2.19e-06</td>\n",
       "</tr>\n",
       "</table>\n",
       "<table class=\"simpletable\">\n",
       "<tr>\n",
       "  <th>Omnibus:</th>       <td>1809.063</td> <th>  Durbin-Watson:     </th> <td>   1.864</td>\n",
       "</tr>\n",
       "<tr>\n",
       "  <th>Prob(Omnibus):</th>  <td> 0.000</td>  <th>  Jarque-Bera (JB):  </th> <td>2278.462</td>\n",
       "</tr>\n",
       "<tr>\n",
       "  <th>Skew:</th>           <td> 0.664</td>  <th>  Prob(JB):          </th> <td>    0.00</td>\n",
       "</tr>\n",
       "<tr>\n",
       "  <th>Kurtosis:</th>       <td> 3.613</td>  <th>  Cond. No.          </th> <td>    155.</td>\n",
       "</tr>\n",
       "</table>"
      ],
      "text/plain": [
       "<class 'statsmodels.iolib.summary.Summary'>\n",
       "\"\"\"\n",
       "                            OLS Regression Results                            \n",
       "==============================================================================\n",
       "Dep. Variable:                  speed   R-squared:                       0.035\n",
       "Model:                            OLS   Adj. R-squared:                  0.035\n",
       "Method:                 Least Squares   F-statistic:                     462.5\n",
       "Date:                Tue, 03 Oct 2017   Prob (F-statistic):          4.99e-198\n",
       "Time:                        18:13:34   Log-Likelihood:             1.6256e+05\n",
       "No. Observations:               25573   AIC:                        -3.251e+05\n",
       "Df Residuals:                   25570   BIC:                        -3.251e+05\n",
       "Df Model:                           2                                         \n",
       "Covariance Type:            nonrobust                                         \n",
       "==================================================================================\n",
       "                     coef    std err          t      P>|t|      [0.025      0.975]\n",
       "----------------------------------------------------------------------------------\n",
       "Intercept          0.0019   1.07e-05    175.008      0.000       0.002       0.002\n",
       "C(Gender)[T.2]    -0.0002   6.29e-06    -29.543      0.000      -0.000      -0.000\n",
       "age            -2.742e-06    2.8e-07     -9.804      0.000   -3.29e-06   -2.19e-06\n",
       "==============================================================================\n",
       "Omnibus:                     1809.063   Durbin-Watson:                   1.864\n",
       "Prob(Omnibus):                  0.000   Jarque-Bera (JB):             2278.462\n",
       "Skew:                           0.664   Prob(JB):                         0.00\n",
       "Kurtosis:                       3.613   Cond. No.                         155.\n",
       "==============================================================================\n",
       "\n",
       "Warnings:\n",
       "[1] Standard Errors assume that the covariance matrix of the errors is correctly specified.\n",
       "\"\"\""
      ]
     },
     "execution_count": 298,
     "metadata": {},
     "output_type": "execute_result"
    }
   ],
   "source": [
    "#regress speed against age and demographics\n",
    "lm=smf.ols('speed~age+C(Gender)',data=data2.ix[comind&demoind]).fit()\n",
    "lm.summary()"
   ]
  },
  {
   "cell_type": "markdown",
   "metadata": {},
   "source": [
    "#### Q4. Add time into consideration"
   ]
  },
  {
   "cell_type": "code",
   "execution_count": 299,
   "metadata": {},
   "outputs": [
    {
     "data": {
      "text/html": [
       "<table class=\"simpletable\">\n",
       "<caption>OLS Regression Results</caption>\n",
       "<tr>\n",
       "  <th>Dep. Variable:</th>          <td>speed</td>      <th>  R-squared:         </th>  <td>   0.038</td> \n",
       "</tr>\n",
       "<tr>\n",
       "  <th>Model:</th>                   <td>OLS</td>       <th>  Adj. R-squared:    </th>  <td>   0.038</td> \n",
       "</tr>\n",
       "<tr>\n",
       "  <th>Method:</th>             <td>Least Squares</td>  <th>  F-statistic:       </th>  <td>   127.1</td> \n",
       "</tr>\n",
       "<tr>\n",
       "  <th>Date:</th>             <td>Tue, 03 Oct 2017</td> <th>  Prob (F-statistic):</th>  <td>6.83e-210</td>\n",
       "</tr>\n",
       "<tr>\n",
       "  <th>Time:</th>                 <td>18:13:35</td>     <th>  Log-Likelihood:    </th> <td>1.6261e+05</td>\n",
       "</tr>\n",
       "<tr>\n",
       "  <th>No. Observations:</th>      <td> 25573</td>      <th>  AIC:               </th> <td>-3.252e+05</td>\n",
       "</tr>\n",
       "<tr>\n",
       "  <th>Df Residuals:</th>          <td> 25564</td>      <th>  BIC:               </th> <td>-3.251e+05</td>\n",
       "</tr>\n",
       "<tr>\n",
       "  <th>Df Model:</th>              <td>     8</td>      <th>                     </th>      <td> </td>    \n",
       "</tr>\n",
       "<tr>\n",
       "  <th>Covariance Type:</th>      <td>nonrobust</td>    <th>                     </th>      <td> </td>    \n",
       "</tr>\n",
       "</table>\n",
       "<table class=\"simpletable\">\n",
       "<tr>\n",
       "         <td></td>            <th>coef</th>     <th>std err</th>      <th>t</th>      <th>P>|t|</th>  <th>[0.025</th>    <th>0.975]</th>  \n",
       "</tr>\n",
       "<tr>\n",
       "  <th>Intercept</th>       <td>    0.0019</td> <td> 1.27e-05</td> <td>  147.617</td> <td> 0.000</td> <td>    0.002</td> <td>    0.002</td>\n",
       "</tr>\n",
       "<tr>\n",
       "  <th>C(Gender)[T.2]</th>  <td>   -0.0002</td> <td> 6.28e-06</td> <td>  -29.476</td> <td> 0.000</td> <td>   -0.000</td> <td>   -0.000</td>\n",
       "</tr>\n",
       "<tr>\n",
       "  <th>C(weekday)[T.1]</th> <td> 1.333e-05</td> <td> 9.88e-06</td> <td>    1.350</td> <td> 0.177</td> <td>-6.03e-06</td> <td> 3.27e-05</td>\n",
       "</tr>\n",
       "<tr>\n",
       "  <th>C(weekday)[T.2]</th> <td> 1.483e-05</td> <td> 9.92e-06</td> <td>    1.495</td> <td> 0.135</td> <td>-4.61e-06</td> <td> 3.43e-05</td>\n",
       "</tr>\n",
       "<tr>\n",
       "  <th>C(weekday)[T.3]</th> <td> 9.833e-06</td> <td> 9.58e-06</td> <td>    1.026</td> <td> 0.305</td> <td>-8.95e-06</td> <td> 2.86e-05</td>\n",
       "</tr>\n",
       "<tr>\n",
       "  <th>C(weekday)[T.4]</th> <td> 7.991e-06</td> <td> 9.79e-06</td> <td>    0.816</td> <td> 0.414</td> <td>-1.12e-05</td> <td> 2.72e-05</td>\n",
       "</tr>\n",
       "<tr>\n",
       "  <th>C(weekday)[T.5]</th> <td>-5.016e-05</td> <td> 1.15e-05</td> <td>   -4.358</td> <td> 0.000</td> <td>-7.27e-05</td> <td>-2.76e-05</td>\n",
       "</tr>\n",
       "<tr>\n",
       "  <th>C(weekday)[T.6]</th> <td>-5.752e-05</td> <td> 1.16e-05</td> <td>   -4.946</td> <td> 0.000</td> <td>-8.03e-05</td> <td>-3.47e-05</td>\n",
       "</tr>\n",
       "<tr>\n",
       "  <th>age</th>             <td>-2.832e-06</td> <td> 2.79e-07</td> <td>  -10.136</td> <td> 0.000</td> <td>-3.38e-06</td> <td>-2.28e-06</td>\n",
       "</tr>\n",
       "</table>\n",
       "<table class=\"simpletable\">\n",
       "<tr>\n",
       "  <th>Omnibus:</th>       <td>1849.708</td> <th>  Durbin-Watson:     </th> <td>   1.871</td>\n",
       "</tr>\n",
       "<tr>\n",
       "  <th>Prob(Omnibus):</th>  <td> 0.000</td>  <th>  Jarque-Bera (JB):  </th> <td>2343.639</td>\n",
       "</tr>\n",
       "<tr>\n",
       "  <th>Skew:</th>           <td> 0.671</td>  <th>  Prob(JB):          </th> <td>    0.00</td>\n",
       "</tr>\n",
       "<tr>\n",
       "  <th>Kurtosis:</th>       <td> 3.630</td>  <th>  Cond. No.          </th> <td>    306.</td>\n",
       "</tr>\n",
       "</table>"
      ],
      "text/plain": [
       "<class 'statsmodels.iolib.summary.Summary'>\n",
       "\"\"\"\n",
       "                            OLS Regression Results                            \n",
       "==============================================================================\n",
       "Dep. Variable:                  speed   R-squared:                       0.038\n",
       "Model:                            OLS   Adj. R-squared:                  0.038\n",
       "Method:                 Least Squares   F-statistic:                     127.1\n",
       "Date:                Tue, 03 Oct 2017   Prob (F-statistic):          6.83e-210\n",
       "Time:                        18:13:35   Log-Likelihood:             1.6261e+05\n",
       "No. Observations:               25573   AIC:                        -3.252e+05\n",
       "Df Residuals:                   25564   BIC:                        -3.251e+05\n",
       "Df Model:                           8                                         \n",
       "Covariance Type:            nonrobust                                         \n",
       "===================================================================================\n",
       "                      coef    std err          t      P>|t|      [0.025      0.975]\n",
       "-----------------------------------------------------------------------------------\n",
       "Intercept           0.0019   1.27e-05    147.617      0.000       0.002       0.002\n",
       "C(Gender)[T.2]     -0.0002   6.28e-06    -29.476      0.000      -0.000      -0.000\n",
       "C(weekday)[T.1]  1.333e-05   9.88e-06      1.350      0.177   -6.03e-06    3.27e-05\n",
       "C(weekday)[T.2]  1.483e-05   9.92e-06      1.495      0.135   -4.61e-06    3.43e-05\n",
       "C(weekday)[T.3]  9.833e-06   9.58e-06      1.026      0.305   -8.95e-06    2.86e-05\n",
       "C(weekday)[T.4]  7.991e-06   9.79e-06      0.816      0.414   -1.12e-05    2.72e-05\n",
       "C(weekday)[T.5] -5.016e-05   1.15e-05     -4.358      0.000   -7.27e-05   -2.76e-05\n",
       "C(weekday)[T.6] -5.752e-05   1.16e-05     -4.946      0.000   -8.03e-05   -3.47e-05\n",
       "age             -2.832e-06   2.79e-07    -10.136      0.000   -3.38e-06   -2.28e-06\n",
       "==============================================================================\n",
       "Omnibus:                     1849.708   Durbin-Watson:                   1.871\n",
       "Prob(Omnibus):                  0.000   Jarque-Bera (JB):             2343.639\n",
       "Skew:                           0.671   Prob(JB):                         0.00\n",
       "Kurtosis:                       3.630   Cond. No.                         306.\n",
       "==============================================================================\n",
       "\n",
       "Warnings:\n",
       "[1] Standard Errors assume that the covariance matrix of the errors is correctly specified.\n",
       "\"\"\""
      ]
     },
     "execution_count": 299,
     "metadata": {},
     "output_type": "execute_result"
    }
   ],
   "source": [
    "#consider weekdays first\n",
    "lm=smf.ols('speed~age+C(Gender)+C(weekday)',data=data2.ix[comind&demoind]).fit()\n",
    "lm.summary()"
   ]
  },
  {
   "cell_type": "code",
   "execution_count": 300,
   "metadata": {},
   "outputs": [
    {
     "data": {
      "text/plain": [
       "Intercept          0.001880\n",
       "C(Gender)[T.2]    -0.000185\n",
       "C(weekday)[T.1]    0.000013\n",
       "C(weekday)[T.2]    0.000015\n",
       "C(weekday)[T.3]    0.000010\n",
       "C(weekday)[T.4]    0.000008\n",
       "C(weekday)[T.5]   -0.000050\n",
       "C(weekday)[T.6]   -0.000058\n",
       "age               -0.000003\n",
       "dtype: float64"
      ]
     },
     "execution_count": 300,
     "metadata": {},
     "output_type": "execute_result"
    }
   ],
   "source": [
    "lm.params"
   ]
  },
  {
   "cell_type": "markdown",
   "metadata": {},
   "source": [
    "Basically the only significant effect is observed for weekends. Introduce them as a separate category"
   ]
  },
  {
   "cell_type": "code",
   "execution_count": 301,
   "metadata": {
    "collapsed": true
   },
   "outputs": [],
   "source": [
    "data2['wd']=0+(data2['weekday']>=5)"
   ]
  },
  {
   "cell_type": "code",
   "execution_count": 302,
   "metadata": {},
   "outputs": [
    {
     "data": {
      "text/html": [
       "<table class=\"simpletable\">\n",
       "<caption>OLS Regression Results</caption>\n",
       "<tr>\n",
       "  <th>Dep. Variable:</th>          <td>speed</td>      <th>  R-squared:         </th>  <td>   0.038</td> \n",
       "</tr>\n",
       "<tr>\n",
       "  <th>Model:</th>                   <td>OLS</td>       <th>  Adj. R-squared:    </th>  <td>   0.038</td> \n",
       "</tr>\n",
       "<tr>\n",
       "  <th>Method:</th>             <td>Least Squares</td>  <th>  F-statistic:       </th>  <td>   256.7</td> \n",
       "</tr>\n",
       "<tr>\n",
       "  <th>Date:</th>             <td>Tue, 03 Oct 2017</td> <th>  Prob (F-statistic):</th>  <td>1.18e-216</td>\n",
       "</tr>\n",
       "<tr>\n",
       "  <th>Time:</th>                 <td>18:13:35</td>     <th>  Log-Likelihood:    </th> <td>1.6340e+05</td>\n",
       "</tr>\n",
       "<tr>\n",
       "  <th>No. Observations:</th>      <td> 25695</td>      <th>  AIC:               </th> <td>-3.268e+05</td>\n",
       "</tr>\n",
       "<tr>\n",
       "  <th>Df Residuals:</th>          <td> 25690</td>      <th>  BIC:               </th> <td>-3.267e+05</td>\n",
       "</tr>\n",
       "<tr>\n",
       "  <th>Df Model:</th>              <td>     4</td>      <th>                     </th>      <td> </td>    \n",
       "</tr>\n",
       "<tr>\n",
       "  <th>Covariance Type:</th>      <td>nonrobust</td>    <th>                     </th>      <td> </td>    \n",
       "</tr>\n",
       "</table>\n",
       "<table class=\"simpletable\">\n",
       "<tr>\n",
       "         <td></td>           <th>coef</th>     <th>std err</th>      <th>t</th>      <th>P>|t|</th>  <th>[0.025</th>    <th>0.975]</th>  \n",
       "</tr>\n",
       "<tr>\n",
       "  <th>Intercept</th>      <td>    0.0020</td> <td>  3.9e-05</td> <td>   50.043</td> <td> 0.000</td> <td>    0.002</td> <td>    0.002</td>\n",
       "</tr>\n",
       "<tr>\n",
       "  <th>C(Gender)[T.1]</th> <td>-6.468e-05</td> <td> 3.81e-05</td> <td>   -1.700</td> <td> 0.089</td> <td>   -0.000</td> <td> 9.91e-06</td>\n",
       "</tr>\n",
       "<tr>\n",
       "  <th>C(Gender)[T.2]</th> <td>   -0.0002</td> <td> 3.83e-05</td> <td>   -6.512</td> <td> 0.000</td> <td>   -0.000</td> <td>   -0.000</td>\n",
       "</tr>\n",
       "<tr>\n",
       "  <th>C(wd)[T.1]</th>     <td>-6.435e-05</td> <td> 6.84e-06</td> <td>   -9.409</td> <td> 0.000</td> <td>-7.78e-05</td> <td>-5.09e-05</td>\n",
       "</tr>\n",
       "<tr>\n",
       "  <th>age</th>            <td>-2.825e-06</td> <td> 2.79e-07</td> <td>  -10.131</td> <td> 0.000</td> <td>-3.37e-06</td> <td>-2.28e-06</td>\n",
       "</tr>\n",
       "</table>\n",
       "<table class=\"simpletable\">\n",
       "<tr>\n",
       "  <th>Omnibus:</th>       <td>1855.725</td> <th>  Durbin-Watson:     </th> <td>   1.869</td>\n",
       "</tr>\n",
       "<tr>\n",
       "  <th>Prob(Omnibus):</th>  <td> 0.000</td>  <th>  Jarque-Bera (JB):  </th> <td>2350.755</td>\n",
       "</tr>\n",
       "<tr>\n",
       "  <th>Skew:</th>           <td> 0.671</td>  <th>  Prob(JB):          </th> <td>    0.00</td>\n",
       "</tr>\n",
       "<tr>\n",
       "  <th>Kurtosis:</th>       <td> 3.630</td>  <th>  Cond. No.          </th> <td>    947.</td>\n",
       "</tr>\n",
       "</table>"
      ],
      "text/plain": [
       "<class 'statsmodels.iolib.summary.Summary'>\n",
       "\"\"\"\n",
       "                            OLS Regression Results                            \n",
       "==============================================================================\n",
       "Dep. Variable:                  speed   R-squared:                       0.038\n",
       "Model:                            OLS   Adj. R-squared:                  0.038\n",
       "Method:                 Least Squares   F-statistic:                     256.7\n",
       "Date:                Tue, 03 Oct 2017   Prob (F-statistic):          1.18e-216\n",
       "Time:                        18:13:35   Log-Likelihood:             1.6340e+05\n",
       "No. Observations:               25695   AIC:                        -3.268e+05\n",
       "Df Residuals:                   25690   BIC:                        -3.267e+05\n",
       "Df Model:                           4                                         \n",
       "Covariance Type:            nonrobust                                         \n",
       "==================================================================================\n",
       "                     coef    std err          t      P>|t|      [0.025      0.975]\n",
       "----------------------------------------------------------------------------------\n",
       "Intercept          0.0020    3.9e-05     50.043      0.000       0.002       0.002\n",
       "C(Gender)[T.1] -6.468e-05   3.81e-05     -1.700      0.089      -0.000    9.91e-06\n",
       "C(Gender)[T.2]    -0.0002   3.83e-05     -6.512      0.000      -0.000      -0.000\n",
       "C(wd)[T.1]     -6.435e-05   6.84e-06     -9.409      0.000   -7.78e-05   -5.09e-05\n",
       "age            -2.825e-06   2.79e-07    -10.131      0.000   -3.37e-06   -2.28e-06\n",
       "==============================================================================\n",
       "Omnibus:                     1855.725   Durbin-Watson:                   1.869\n",
       "Prob(Omnibus):                  0.000   Jarque-Bera (JB):             2350.755\n",
       "Skew:                           0.671   Prob(JB):                         0.00\n",
       "Kurtosis:                       3.630   Cond. No.                         947.\n",
       "==============================================================================\n",
       "\n",
       "Warnings:\n",
       "[1] Standard Errors assume that the covariance matrix of the errors is correctly specified.\n",
       "\"\"\""
      ]
     },
     "execution_count": 302,
     "metadata": {},
     "output_type": "execute_result"
    }
   ],
   "source": [
    "lm=smf.ols('speed~age+C(Gender)+C(wd)',data=data2.ix[comind]).fit()\n",
    "lm.summary()"
   ]
  },
  {
   "cell_type": "code",
   "execution_count": 303,
   "metadata": {},
   "outputs": [
    {
     "data": {
      "text/plain": [
       "Gender\n",
       "0     1303\n",
       "1    19754\n",
       "2     5819\n",
       "dtype: int64"
      ]
     },
     "execution_count": 303,
     "metadata": {},
     "output_type": "execute_result"
    }
   ],
   "source": [
    "data2.ix[comind].groupby(data2.Gender).size()"
   ]
  },
  {
   "cell_type": "markdown",
   "metadata": {},
   "source": [
    "Nearly the same R2 as one gets from detailed information on weekdays "
   ]
  },
  {
   "cell_type": "markdown",
   "metadata": {},
   "source": [
    "Now consider hours of the day"
   ]
  },
  {
   "cell_type": "code",
   "execution_count": 304,
   "metadata": {},
   "outputs": [
    {
     "data": {
      "text/html": [
       "<table class=\"simpletable\">\n",
       "<caption>OLS Regression Results</caption>\n",
       "<tr>\n",
       "  <th>Dep. Variable:</th>          <td>speed</td>      <th>  R-squared:         </th>  <td>   0.075</td> \n",
       "</tr>\n",
       "<tr>\n",
       "  <th>Model:</th>                   <td>OLS</td>       <th>  Adj. R-squared:    </th>  <td>   0.074</td> \n",
       "</tr>\n",
       "<tr>\n",
       "  <th>Method:</th>             <td>Least Squares</td>  <th>  F-statistic:       </th>  <td>   82.48</td> \n",
       "</tr>\n",
       "<tr>\n",
       "  <th>Date:</th>             <td>Tue, 03 Oct 2017</td> <th>  Prob (F-statistic):</th>   <td>  0.00</td>  \n",
       "</tr>\n",
       "<tr>\n",
       "  <th>Time:</th>                 <td>18:13:35</td>     <th>  Log-Likelihood:    </th> <td>1.6310e+05</td>\n",
       "</tr>\n",
       "<tr>\n",
       "  <th>No. Observations:</th>      <td> 25573</td>      <th>  AIC:               </th> <td>-3.262e+05</td>\n",
       "</tr>\n",
       "<tr>\n",
       "  <th>Df Residuals:</th>          <td> 25547</td>      <th>  BIC:               </th> <td>-3.259e+05</td>\n",
       "</tr>\n",
       "<tr>\n",
       "  <th>Df Model:</th>              <td>    25</td>      <th>                     </th>      <td> </td>    \n",
       "</tr>\n",
       "<tr>\n",
       "  <th>Covariance Type:</th>      <td>nonrobust</td>    <th>                     </th>      <td> </td>    \n",
       "</tr>\n",
       "</table>\n",
       "<table class=\"simpletable\">\n",
       "<tr>\n",
       "         <td></td>           <th>coef</th>     <th>std err</th>      <th>t</th>      <th>P>|t|</th>  <th>[0.025</th>    <th>0.975]</th>  \n",
       "</tr>\n",
       "<tr>\n",
       "  <th>Intercept</th>      <td>    0.0020</td> <td> 2.76e-05</td> <td>   71.939</td> <td> 0.000</td> <td>    0.002</td> <td>    0.002</td>\n",
       "</tr>\n",
       "<tr>\n",
       "  <th>C(Gender)[T.2]</th> <td>   -0.0002</td> <td> 6.17e-06</td> <td>  -29.891</td> <td> 0.000</td> <td>   -0.000</td> <td>   -0.000</td>\n",
       "</tr>\n",
       "<tr>\n",
       "  <th>C(hour)[T.1]</th>   <td>-2.777e-06</td> <td> 4.53e-05</td> <td>   -0.061</td> <td> 0.951</td> <td>-9.17e-05</td> <td> 8.61e-05</td>\n",
       "</tr>\n",
       "<tr>\n",
       "  <th>C(hour)[T.2]</th>   <td>  1.84e-05</td> <td>  5.1e-05</td> <td>    0.361</td> <td> 0.718</td> <td>-8.16e-05</td> <td>    0.000</td>\n",
       "</tr>\n",
       "<tr>\n",
       "  <th>C(hour)[T.3]</th>   <td>    0.0002</td> <td> 5.82e-05</td> <td>    3.073</td> <td> 0.002</td> <td> 6.48e-05</td> <td>    0.000</td>\n",
       "</tr>\n",
       "<tr>\n",
       "  <th>C(hour)[T.4]</th>   <td>    0.0003</td> <td> 5.68e-05</td> <td>    5.171</td> <td> 0.000</td> <td>    0.000</td> <td>    0.000</td>\n",
       "</tr>\n",
       "<tr>\n",
       "  <th>C(hour)[T.5]</th>   <td>    0.0002</td> <td> 3.56e-05</td> <td>    4.568</td> <td> 0.000</td> <td> 9.28e-05</td> <td>    0.000</td>\n",
       "</tr>\n",
       "<tr>\n",
       "  <th>C(hour)[T.6]</th>   <td>    0.0001</td> <td> 2.92e-05</td> <td>    4.923</td> <td> 0.000</td> <td> 8.65e-05</td> <td>    0.000</td>\n",
       "</tr>\n",
       "<tr>\n",
       "  <th>C(hour)[T.7]</th>   <td> 3.406e-06</td> <td> 2.73e-05</td> <td>    0.125</td> <td> 0.901</td> <td>   -5e-05</td> <td> 5.69e-05</td>\n",
       "</tr>\n",
       "<tr>\n",
       "  <th>C(hour)[T.8]</th>   <td>-8.123e-05</td> <td> 2.66e-05</td> <td>   -3.053</td> <td> 0.002</td> <td>   -0.000</td> <td>-2.91e-05</td>\n",
       "</tr>\n",
       "<tr>\n",
       "  <th>C(hour)[T.9]</th>   <td>-7.775e-05</td> <td> 2.75e-05</td> <td>   -2.825</td> <td> 0.005</td> <td>   -0.000</td> <td>-2.38e-05</td>\n",
       "</tr>\n",
       "<tr>\n",
       "  <th>C(hour)[T.10]</th>  <td>-7.586e-05</td> <td>  2.9e-05</td> <td>   -2.616</td> <td> 0.009</td> <td>   -0.000</td> <td> -1.9e-05</td>\n",
       "</tr>\n",
       "<tr>\n",
       "  <th>C(hour)[T.11]</th>  <td>   -0.0001</td> <td> 2.91e-05</td> <td>   -4.227</td> <td> 0.000</td> <td>   -0.000</td> <td>-6.59e-05</td>\n",
       "</tr>\n",
       "<tr>\n",
       "  <th>C(hour)[T.12]</th>  <td>   -0.0002</td> <td> 2.89e-05</td> <td>   -5.443</td> <td> 0.000</td> <td>   -0.000</td> <td>   -0.000</td>\n",
       "</tr>\n",
       "<tr>\n",
       "  <th>C(hour)[T.13]</th>  <td>   -0.0001</td> <td> 2.91e-05</td> <td>   -5.137</td> <td> 0.000</td> <td>   -0.000</td> <td>-9.25e-05</td>\n",
       "</tr>\n",
       "<tr>\n",
       "  <th>C(hour)[T.14]</th>  <td>   -0.0002</td> <td> 2.92e-05</td> <td>   -5.407</td> <td> 0.000</td> <td>   -0.000</td> <td>   -0.000</td>\n",
       "</tr>\n",
       "<tr>\n",
       "  <th>C(hour)[T.15]</th>  <td>   -0.0002</td> <td> 2.92e-05</td> <td>   -5.385</td> <td> 0.000</td> <td>   -0.000</td> <td>   -0.000</td>\n",
       "</tr>\n",
       "<tr>\n",
       "  <th>C(hour)[T.16]</th>  <td>   -0.0002</td> <td> 2.82e-05</td> <td>   -5.759</td> <td> 0.000</td> <td>   -0.000</td> <td>   -0.000</td>\n",
       "</tr>\n",
       "<tr>\n",
       "  <th>C(hour)[T.17]</th>  <td>   -0.0002</td> <td> 2.71e-05</td> <td>   -6.275</td> <td> 0.000</td> <td>   -0.000</td> <td>   -0.000</td>\n",
       "</tr>\n",
       "<tr>\n",
       "  <th>C(hour)[T.18]</th>  <td>   -0.0002</td> <td> 2.69e-05</td> <td>   -6.807</td> <td> 0.000</td> <td>   -0.000</td> <td>   -0.000</td>\n",
       "</tr>\n",
       "<tr>\n",
       "  <th>C(hour)[T.19]</th>  <td>   -0.0002</td> <td> 2.73e-05</td> <td>   -7.147</td> <td> 0.000</td> <td>   -0.000</td> <td>   -0.000</td>\n",
       "</tr>\n",
       "<tr>\n",
       "  <th>C(hour)[T.20]</th>  <td>   -0.0002</td> <td> 2.79e-05</td> <td>   -5.898</td> <td> 0.000</td> <td>   -0.000</td> <td>   -0.000</td>\n",
       "</tr>\n",
       "<tr>\n",
       "  <th>C(hour)[T.21]</th>  <td>   -0.0002</td> <td> 2.89e-05</td> <td>   -6.012</td> <td> 0.000</td> <td>   -0.000</td> <td>   -0.000</td>\n",
       "</tr>\n",
       "<tr>\n",
       "  <th>C(hour)[T.22]</th>  <td>   -0.0001</td> <td> 3.03e-05</td> <td>   -4.388</td> <td> 0.000</td> <td>   -0.000</td> <td>-7.35e-05</td>\n",
       "</tr>\n",
       "<tr>\n",
       "  <th>C(hour)[T.23]</th>  <td>  -5.4e-05</td> <td> 3.29e-05</td> <td>   -1.642</td> <td> 0.101</td> <td>   -0.000</td> <td> 1.04e-05</td>\n",
       "</tr>\n",
       "<tr>\n",
       "  <th>age</th>            <td>-2.762e-06</td> <td> 2.75e-07</td> <td>  -10.046</td> <td> 0.000</td> <td> -3.3e-06</td> <td>-2.22e-06</td>\n",
       "</tr>\n",
       "</table>\n",
       "<table class=\"simpletable\">\n",
       "<tr>\n",
       "  <th>Omnibus:</th>       <td>1836.319</td> <th>  Durbin-Watson:     </th> <td>   1.944</td>\n",
       "</tr>\n",
       "<tr>\n",
       "  <th>Prob(Omnibus):</th>  <td> 0.000</td>  <th>  Jarque-Bera (JB):  </th> <td>2347.572</td>\n",
       "</tr>\n",
       "<tr>\n",
       "  <th>Skew:</th>           <td> 0.661</td>  <th>  Prob(JB):          </th> <td>    0.00</td>\n",
       "</tr>\n",
       "<tr>\n",
       "  <th>Kurtosis:</th>       <td> 3.675</td>  <th>  Cond. No.          </th> <td>1.87e+03</td>\n",
       "</tr>\n",
       "</table>"
      ],
      "text/plain": [
       "<class 'statsmodels.iolib.summary.Summary'>\n",
       "\"\"\"\n",
       "                            OLS Regression Results                            \n",
       "==============================================================================\n",
       "Dep. Variable:                  speed   R-squared:                       0.075\n",
       "Model:                            OLS   Adj. R-squared:                  0.074\n",
       "Method:                 Least Squares   F-statistic:                     82.48\n",
       "Date:                Tue, 03 Oct 2017   Prob (F-statistic):               0.00\n",
       "Time:                        18:13:35   Log-Likelihood:             1.6310e+05\n",
       "No. Observations:               25573   AIC:                        -3.262e+05\n",
       "Df Residuals:                   25547   BIC:                        -3.259e+05\n",
       "Df Model:                          25                                         \n",
       "Covariance Type:            nonrobust                                         \n",
       "==================================================================================\n",
       "                     coef    std err          t      P>|t|      [0.025      0.975]\n",
       "----------------------------------------------------------------------------------\n",
       "Intercept          0.0020   2.76e-05     71.939      0.000       0.002       0.002\n",
       "C(Gender)[T.2]    -0.0002   6.17e-06    -29.891      0.000      -0.000      -0.000\n",
       "C(hour)[T.1]   -2.777e-06   4.53e-05     -0.061      0.951   -9.17e-05    8.61e-05\n",
       "C(hour)[T.2]     1.84e-05    5.1e-05      0.361      0.718   -8.16e-05       0.000\n",
       "C(hour)[T.3]       0.0002   5.82e-05      3.073      0.002    6.48e-05       0.000\n",
       "C(hour)[T.4]       0.0003   5.68e-05      5.171      0.000       0.000       0.000\n",
       "C(hour)[T.5]       0.0002   3.56e-05      4.568      0.000    9.28e-05       0.000\n",
       "C(hour)[T.6]       0.0001   2.92e-05      4.923      0.000    8.65e-05       0.000\n",
       "C(hour)[T.7]    3.406e-06   2.73e-05      0.125      0.901      -5e-05    5.69e-05\n",
       "C(hour)[T.8]   -8.123e-05   2.66e-05     -3.053      0.002      -0.000   -2.91e-05\n",
       "C(hour)[T.9]   -7.775e-05   2.75e-05     -2.825      0.005      -0.000   -2.38e-05\n",
       "C(hour)[T.10]  -7.586e-05    2.9e-05     -2.616      0.009      -0.000    -1.9e-05\n",
       "C(hour)[T.11]     -0.0001   2.91e-05     -4.227      0.000      -0.000   -6.59e-05\n",
       "C(hour)[T.12]     -0.0002   2.89e-05     -5.443      0.000      -0.000      -0.000\n",
       "C(hour)[T.13]     -0.0001   2.91e-05     -5.137      0.000      -0.000   -9.25e-05\n",
       "C(hour)[T.14]     -0.0002   2.92e-05     -5.407      0.000      -0.000      -0.000\n",
       "C(hour)[T.15]     -0.0002   2.92e-05     -5.385      0.000      -0.000      -0.000\n",
       "C(hour)[T.16]     -0.0002   2.82e-05     -5.759      0.000      -0.000      -0.000\n",
       "C(hour)[T.17]     -0.0002   2.71e-05     -6.275      0.000      -0.000      -0.000\n",
       "C(hour)[T.18]     -0.0002   2.69e-05     -6.807      0.000      -0.000      -0.000\n",
       "C(hour)[T.19]     -0.0002   2.73e-05     -7.147      0.000      -0.000      -0.000\n",
       "C(hour)[T.20]     -0.0002   2.79e-05     -5.898      0.000      -0.000      -0.000\n",
       "C(hour)[T.21]     -0.0002   2.89e-05     -6.012      0.000      -0.000      -0.000\n",
       "C(hour)[T.22]     -0.0001   3.03e-05     -4.388      0.000      -0.000   -7.35e-05\n",
       "C(hour)[T.23]    -5.4e-05   3.29e-05     -1.642      0.101      -0.000    1.04e-05\n",
       "age            -2.762e-06   2.75e-07    -10.046      0.000    -3.3e-06   -2.22e-06\n",
       "==============================================================================\n",
       "Omnibus:                     1836.319   Durbin-Watson:                   1.944\n",
       "Prob(Omnibus):                  0.000   Jarque-Bera (JB):             2347.572\n",
       "Skew:                           0.661   Prob(JB):                         0.00\n",
       "Kurtosis:                       3.675   Cond. No.                     1.87e+03\n",
       "==============================================================================\n",
       "\n",
       "Warnings:\n",
       "[1] Standard Errors assume that the covariance matrix of the errors is correctly specified.\n",
       "[2] The condition number is large, 1.87e+03. This might indicate that there are\n",
       "strong multicollinearity or other numerical problems.\n",
       "\"\"\""
      ]
     },
     "execution_count": 304,
     "metadata": {},
     "output_type": "execute_result"
    }
   ],
   "source": [
    "lm=smf.ols('speed~age+C(Gender)+C(hour)',data=data2.ix[comind&demoind]).fit()\n",
    "lm.summary()"
   ]
  },
  {
   "cell_type": "markdown",
   "metadata": {},
   "source": [
    "One can generally recognize five periods in the day - morning (7-10am, day-11am-5pm, evening-6-10pm, late evening-11pm-1am and night-2am-6am)"
   ]
  },
  {
   "cell_type": "code",
   "execution_count": 305,
   "metadata": {
    "scrolled": true
   },
   "outputs": [
    {
     "data": {
      "text/html": [
       "<table class=\"simpletable\">\n",
       "<caption>OLS Regression Results</caption>\n",
       "<tr>\n",
       "  <th>Dep. Variable:</th>          <td>speed</td>      <th>  R-squared:         </th>  <td>   0.068</td> \n",
       "</tr>\n",
       "<tr>\n",
       "  <th>Model:</th>                   <td>OLS</td>       <th>  Adj. R-squared:    </th>  <td>   0.063</td> \n",
       "</tr>\n",
       "<tr>\n",
       "  <th>Method:</th>             <td>Least Squares</td>  <th>  F-statistic:       </th>  <td>   13.24</td> \n",
       "</tr>\n",
       "<tr>\n",
       "  <th>Date:</th>             <td>Tue, 03 Oct 2017</td> <th>  Prob (F-statistic):</th>  <td>5.28e-53</td> \n",
       "</tr>\n",
       "<tr>\n",
       "  <th>Time:</th>                 <td>18:13:35</td>     <th>  Log-Likelihood:    </th>  <td>  28891.</td> \n",
       "</tr>\n",
       "<tr>\n",
       "  <th>No. Observations:</th>      <td>  4543</td>      <th>  AIC:               </th> <td>-5.773e+04</td>\n",
       "</tr>\n",
       "<tr>\n",
       "  <th>Df Residuals:</th>          <td>  4517</td>      <th>  BIC:               </th> <td>-5.756e+04</td>\n",
       "</tr>\n",
       "<tr>\n",
       "  <th>Df Model:</th>              <td>    25</td>      <th>                     </th>      <td> </td>    \n",
       "</tr>\n",
       "<tr>\n",
       "  <th>Covariance Type:</th>      <td>nonrobust</td>    <th>                     </th>      <td> </td>    \n",
       "</tr>\n",
       "</table>\n",
       "<table class=\"simpletable\">\n",
       "<tr>\n",
       "         <td></td>           <th>coef</th>     <th>std err</th>      <th>t</th>      <th>P>|t|</th>  <th>[0.025</th>    <th>0.975]</th>  \n",
       "</tr>\n",
       "<tr>\n",
       "  <th>Intercept</th>      <td>    0.0019</td> <td> 4.86e-05</td> <td>   38.929</td> <td> 0.000</td> <td>    0.002</td> <td>    0.002</td>\n",
       "</tr>\n",
       "<tr>\n",
       "  <th>C(Gender)[T.2]</th> <td>   -0.0002</td> <td> 1.47e-05</td> <td>  -10.325</td> <td> 0.000</td> <td>   -0.000</td> <td>   -0.000</td>\n",
       "</tr>\n",
       "<tr>\n",
       "  <th>C(hour)[T.1]</th>   <td>-8.951e-06</td> <td> 6.96e-05</td> <td>   -0.129</td> <td> 0.898</td> <td>   -0.000</td> <td>    0.000</td>\n",
       "</tr>\n",
       "<tr>\n",
       "  <th>C(hour)[T.2]</th>   <td> 3.823e-06</td> <td> 7.68e-05</td> <td>    0.050</td> <td> 0.960</td> <td>   -0.000</td> <td>    0.000</td>\n",
       "</tr>\n",
       "<tr>\n",
       "  <th>C(hour)[T.3]</th>   <td>    0.0002</td> <td> 8.77e-05</td> <td>    1.831</td> <td> 0.067</td> <td>-1.14e-05</td> <td>    0.000</td>\n",
       "</tr>\n",
       "<tr>\n",
       "  <th>C(hour)[T.4]</th>   <td> 9.911e-05</td> <td>    0.000</td> <td>    0.851</td> <td> 0.395</td> <td>   -0.000</td> <td>    0.000</td>\n",
       "</tr>\n",
       "<tr>\n",
       "  <th>C(hour)[T.5]</th>   <td>    0.0003</td> <td>    0.000</td> <td>    3.281</td> <td> 0.001</td> <td>    0.000</td> <td>    0.001</td>\n",
       "</tr>\n",
       "<tr>\n",
       "  <th>C(hour)[T.6]</th>   <td>    0.0003</td> <td> 7.35e-05</td> <td>    4.121</td> <td> 0.000</td> <td>    0.000</td> <td>    0.000</td>\n",
       "</tr>\n",
       "<tr>\n",
       "  <th>C(hour)[T.7]</th>   <td>    0.0001</td> <td> 5.76e-05</td> <td>    1.994</td> <td> 0.046</td> <td> 1.93e-06</td> <td>    0.000</td>\n",
       "</tr>\n",
       "<tr>\n",
       "  <th>C(hour)[T.8]</th>   <td>    0.0001</td> <td> 5.12e-05</td> <td>    2.103</td> <td> 0.036</td> <td> 7.29e-06</td> <td>    0.000</td>\n",
       "</tr>\n",
       "<tr>\n",
       "  <th>C(hour)[T.9]</th>   <td> 1.396e-05</td> <td> 4.98e-05</td> <td>    0.280</td> <td> 0.779</td> <td>-8.36e-05</td> <td>    0.000</td>\n",
       "</tr>\n",
       "<tr>\n",
       "  <th>C(hour)[T.10]</th>  <td>-8.007e-05</td> <td> 4.89e-05</td> <td>   -1.636</td> <td> 0.102</td> <td>   -0.000</td> <td> 1.59e-05</td>\n",
       "</tr>\n",
       "<tr>\n",
       "  <th>C(hour)[T.11]</th>  <td>-8.329e-05</td> <td> 4.79e-05</td> <td>   -1.739</td> <td> 0.082</td> <td>   -0.000</td> <td> 1.06e-05</td>\n",
       "</tr>\n",
       "<tr>\n",
       "  <th>C(hour)[T.12]</th>  <td>-9.698e-05</td> <td> 4.81e-05</td> <td>   -2.015</td> <td> 0.044</td> <td>   -0.000</td> <td>-2.62e-06</td>\n",
       "</tr>\n",
       "<tr>\n",
       "  <th>C(hour)[T.13]</th>  <td>   -0.0001</td> <td> 4.89e-05</td> <td>   -2.348</td> <td> 0.019</td> <td>   -0.000</td> <td>-1.89e-05</td>\n",
       "</tr>\n",
       "<tr>\n",
       "  <th>C(hour)[T.14]</th>  <td>   -0.0001</td> <td>  4.9e-05</td> <td>   -2.486</td> <td> 0.013</td> <td>   -0.000</td> <td>-2.58e-05</td>\n",
       "</tr>\n",
       "<tr>\n",
       "  <th>C(hour)[T.15]</th>  <td>   -0.0001</td> <td> 4.96e-05</td> <td>   -2.589</td> <td> 0.010</td> <td>   -0.000</td> <td>-3.12e-05</td>\n",
       "</tr>\n",
       "<tr>\n",
       "  <th>C(hour)[T.16]</th>  <td>   -0.0002</td> <td> 4.92e-05</td> <td>   -3.286</td> <td> 0.001</td> <td>   -0.000</td> <td>-6.53e-05</td>\n",
       "</tr>\n",
       "<tr>\n",
       "  <th>C(hour)[T.17]</th>  <td>   -0.0002</td> <td> 4.91e-05</td> <td>   -3.227</td> <td> 0.001</td> <td>   -0.000</td> <td>-6.22e-05</td>\n",
       "</tr>\n",
       "<tr>\n",
       "  <th>C(hour)[T.18]</th>  <td>   -0.0001</td> <td> 4.86e-05</td> <td>   -2.977</td> <td> 0.003</td> <td>   -0.000</td> <td>-4.94e-05</td>\n",
       "</tr>\n",
       "<tr>\n",
       "  <th>C(hour)[T.19]</th>  <td>   -0.0001</td> <td> 5.01e-05</td> <td>   -2.931</td> <td> 0.003</td> <td>   -0.000</td> <td>-4.86e-05</td>\n",
       "</tr>\n",
       "<tr>\n",
       "  <th>C(hour)[T.20]</th>  <td>   -0.0001</td> <td> 5.03e-05</td> <td>   -2.677</td> <td> 0.007</td> <td>   -0.000</td> <td> -3.6e-05</td>\n",
       "</tr>\n",
       "<tr>\n",
       "  <th>C(hour)[T.21]</th>  <td>   -0.0001</td> <td> 5.45e-05</td> <td>   -2.141</td> <td> 0.032</td> <td>   -0.000</td> <td>-9.82e-06</td>\n",
       "</tr>\n",
       "<tr>\n",
       "  <th>C(hour)[T.22]</th>  <td>-7.788e-05</td> <td> 5.45e-05</td> <td>   -1.428</td> <td> 0.153</td> <td>   -0.000</td> <td> 2.91e-05</td>\n",
       "</tr>\n",
       "<tr>\n",
       "  <th>C(hour)[T.23]</th>  <td>-5.755e-05</td> <td> 5.85e-05</td> <td>   -0.984</td> <td> 0.325</td> <td>   -0.000</td> <td> 5.71e-05</td>\n",
       "</tr>\n",
       "<tr>\n",
       "  <th>age</th>            <td>-2.648e-06</td> <td> 6.53e-07</td> <td>   -4.052</td> <td> 0.000</td> <td>-3.93e-06</td> <td>-1.37e-06</td>\n",
       "</tr>\n",
       "</table>\n",
       "<table class=\"simpletable\">\n",
       "<tr>\n",
       "  <th>Omnibus:</th>       <td>373.391</td> <th>  Durbin-Watson:     </th> <td>   1.936</td> \n",
       "</tr>\n",
       "<tr>\n",
       "  <th>Prob(Omnibus):</th> <td> 0.000</td>  <th>  Jarque-Bera (JB):  </th> <td> 476.232</td> \n",
       "</tr>\n",
       "<tr>\n",
       "  <th>Skew:</th>          <td> 0.735</td>  <th>  Prob(JB):          </th> <td>3.87e-104</td>\n",
       "</tr>\n",
       "<tr>\n",
       "  <th>Kurtosis:</th>      <td> 3.595</td>  <th>  Cond. No.          </th> <td>1.27e+03</td> \n",
       "</tr>\n",
       "</table>"
      ],
      "text/plain": [
       "<class 'statsmodels.iolib.summary.Summary'>\n",
       "\"\"\"\n",
       "                            OLS Regression Results                            \n",
       "==============================================================================\n",
       "Dep. Variable:                  speed   R-squared:                       0.068\n",
       "Model:                            OLS   Adj. R-squared:                  0.063\n",
       "Method:                 Least Squares   F-statistic:                     13.24\n",
       "Date:                Tue, 03 Oct 2017   Prob (F-statistic):           5.28e-53\n",
       "Time:                        18:13:35   Log-Likelihood:                 28891.\n",
       "No. Observations:                4543   AIC:                        -5.773e+04\n",
       "Df Residuals:                    4517   BIC:                        -5.756e+04\n",
       "Df Model:                          25                                         \n",
       "Covariance Type:            nonrobust                                         \n",
       "==================================================================================\n",
       "                     coef    std err          t      P>|t|      [0.025      0.975]\n",
       "----------------------------------------------------------------------------------\n",
       "Intercept          0.0019   4.86e-05     38.929      0.000       0.002       0.002\n",
       "C(Gender)[T.2]    -0.0002   1.47e-05    -10.325      0.000      -0.000      -0.000\n",
       "C(hour)[T.1]   -8.951e-06   6.96e-05     -0.129      0.898      -0.000       0.000\n",
       "C(hour)[T.2]    3.823e-06   7.68e-05      0.050      0.960      -0.000       0.000\n",
       "C(hour)[T.3]       0.0002   8.77e-05      1.831      0.067   -1.14e-05       0.000\n",
       "C(hour)[T.4]    9.911e-05      0.000      0.851      0.395      -0.000       0.000\n",
       "C(hour)[T.5]       0.0003      0.000      3.281      0.001       0.000       0.001\n",
       "C(hour)[T.6]       0.0003   7.35e-05      4.121      0.000       0.000       0.000\n",
       "C(hour)[T.7]       0.0001   5.76e-05      1.994      0.046    1.93e-06       0.000\n",
       "C(hour)[T.8]       0.0001   5.12e-05      2.103      0.036    7.29e-06       0.000\n",
       "C(hour)[T.9]    1.396e-05   4.98e-05      0.280      0.779   -8.36e-05       0.000\n",
       "C(hour)[T.10]  -8.007e-05   4.89e-05     -1.636      0.102      -0.000    1.59e-05\n",
       "C(hour)[T.11]  -8.329e-05   4.79e-05     -1.739      0.082      -0.000    1.06e-05\n",
       "C(hour)[T.12]  -9.698e-05   4.81e-05     -2.015      0.044      -0.000   -2.62e-06\n",
       "C(hour)[T.13]     -0.0001   4.89e-05     -2.348      0.019      -0.000   -1.89e-05\n",
       "C(hour)[T.14]     -0.0001    4.9e-05     -2.486      0.013      -0.000   -2.58e-05\n",
       "C(hour)[T.15]     -0.0001   4.96e-05     -2.589      0.010      -0.000   -3.12e-05\n",
       "C(hour)[T.16]     -0.0002   4.92e-05     -3.286      0.001      -0.000   -6.53e-05\n",
       "C(hour)[T.17]     -0.0002   4.91e-05     -3.227      0.001      -0.000   -6.22e-05\n",
       "C(hour)[T.18]     -0.0001   4.86e-05     -2.977      0.003      -0.000   -4.94e-05\n",
       "C(hour)[T.19]     -0.0001   5.01e-05     -2.931      0.003      -0.000   -4.86e-05\n",
       "C(hour)[T.20]     -0.0001   5.03e-05     -2.677      0.007      -0.000    -3.6e-05\n",
       "C(hour)[T.21]     -0.0001   5.45e-05     -2.141      0.032      -0.000   -9.82e-06\n",
       "C(hour)[T.22]  -7.788e-05   5.45e-05     -1.428      0.153      -0.000    2.91e-05\n",
       "C(hour)[T.23]  -5.755e-05   5.85e-05     -0.984      0.325      -0.000    5.71e-05\n",
       "age            -2.648e-06   6.53e-07     -4.052      0.000   -3.93e-06   -1.37e-06\n",
       "==============================================================================\n",
       "Omnibus:                      373.391   Durbin-Watson:                   1.936\n",
       "Prob(Omnibus):                  0.000   Jarque-Bera (JB):              476.232\n",
       "Skew:                           0.735   Prob(JB):                    3.87e-104\n",
       "Kurtosis:                       3.595   Cond. No.                     1.27e+03\n",
       "==============================================================================\n",
       "\n",
       "Warnings:\n",
       "[1] Standard Errors assume that the covariance matrix of the errors is correctly specified.\n",
       "[2] The condition number is large, 1.27e+03. This might indicate that there are\n",
       "strong multicollinearity or other numerical problems.\n",
       "\"\"\""
      ]
     },
     "execution_count": 305,
     "metadata": {},
     "output_type": "execute_result"
    }
   ],
   "source": [
    "#Are weekends different?\n",
    "lm=smf.ols('speed~age+C(Gender)+C(hour)',data=data2.ix[comind&demoind&(data2.wd==1)]).fit()\n",
    "lm.summary()"
   ]
  },
  {
   "cell_type": "markdown",
   "metadata": {},
   "source": [
    "Similar pattern athough a bit shifted in time"
   ]
  },
  {
   "cell_type": "markdown",
   "metadata": {},
   "source": [
    "Run a regression using both - wd and hour"
   ]
  },
  {
   "cell_type": "code",
   "execution_count": 306,
   "metadata": {},
   "outputs": [
    {
     "data": {
      "text/html": [
       "<table class=\"simpletable\">\n",
       "<caption>OLS Regression Results</caption>\n",
       "<tr>\n",
       "  <th>Dep. Variable:</th>          <td>speed</td>      <th>  R-squared:         </th>  <td>   0.077</td> \n",
       "</tr>\n",
       "<tr>\n",
       "  <th>Model:</th>                   <td>OLS</td>       <th>  Adj. R-squared:    </th>  <td>   0.076</td> \n",
       "</tr>\n",
       "<tr>\n",
       "  <th>Method:</th>             <td>Least Squares</td>  <th>  F-statistic:       </th>  <td>   81.73</td> \n",
       "</tr>\n",
       "<tr>\n",
       "  <th>Date:</th>             <td>Tue, 03 Oct 2017</td> <th>  Prob (F-statistic):</th>   <td>  0.00</td>  \n",
       "</tr>\n",
       "<tr>\n",
       "  <th>Time:</th>                 <td>18:13:36</td>     <th>  Log-Likelihood:    </th> <td>1.6313e+05</td>\n",
       "</tr>\n",
       "<tr>\n",
       "  <th>No. Observations:</th>      <td> 25573</td>      <th>  AIC:               </th> <td>-3.262e+05</td>\n",
       "</tr>\n",
       "<tr>\n",
       "  <th>Df Residuals:</th>          <td> 25546</td>      <th>  BIC:               </th> <td>-3.260e+05</td>\n",
       "</tr>\n",
       "<tr>\n",
       "  <th>Df Model:</th>              <td>    26</td>      <th>                     </th>      <td> </td>    \n",
       "</tr>\n",
       "<tr>\n",
       "  <th>Covariance Type:</th>      <td>nonrobust</td>    <th>                     </th>      <td> </td>    \n",
       "</tr>\n",
       "</table>\n",
       "<table class=\"simpletable\">\n",
       "<tr>\n",
       "         <td></td>           <th>coef</th>     <th>std err</th>      <th>t</th>      <th>P>|t|</th>  <th>[0.025</th>    <th>0.975]</th>  \n",
       "</tr>\n",
       "<tr>\n",
       "  <th>Intercept</th>      <td>    0.0020</td> <td> 2.78e-05</td> <td>   72.421</td> <td> 0.000</td> <td>    0.002</td> <td>    0.002</td>\n",
       "</tr>\n",
       "<tr>\n",
       "  <th>C(Gender)[T.2]</th> <td>   -0.0002</td> <td> 6.17e-06</td> <td>  -29.851</td> <td> 0.000</td> <td>   -0.000</td> <td>   -0.000</td>\n",
       "</tr>\n",
       "<tr>\n",
       "  <th>C(wd)[T.1]</th>     <td>-5.351e-05</td> <td> 7.02e-06</td> <td>   -7.625</td> <td> 0.000</td> <td>-6.73e-05</td> <td>-3.98e-05</td>\n",
       "</tr>\n",
       "<tr>\n",
       "  <th>C(hour)[T.1]</th>   <td> 2.331e-06</td> <td> 4.53e-05</td> <td>    0.051</td> <td> 0.959</td> <td>-8.65e-05</td> <td> 9.11e-05</td>\n",
       "</tr>\n",
       "<tr>\n",
       "  <th>C(hour)[T.2]</th>   <td> 2.435e-05</td> <td>  5.1e-05</td> <td>    0.478</td> <td> 0.633</td> <td>-7.55e-05</td> <td>    0.000</td>\n",
       "</tr>\n",
       "<tr>\n",
       "  <th>C(hour)[T.3]</th>   <td>    0.0002</td> <td> 5.81e-05</td> <td>    3.166</td> <td> 0.002</td> <td> 7.01e-05</td> <td>    0.000</td>\n",
       "</tr>\n",
       "<tr>\n",
       "  <th>C(hour)[T.4]</th>   <td>    0.0003</td> <td> 5.67e-05</td> <td>    5.026</td> <td> 0.000</td> <td>    0.000</td> <td>    0.000</td>\n",
       "</tr>\n",
       "<tr>\n",
       "  <th>C(hour)[T.5]</th>   <td>    0.0001</td> <td> 3.56e-05</td> <td>    4.093</td> <td> 0.000</td> <td>  7.6e-05</td> <td>    0.000</td>\n",
       "</tr>\n",
       "<tr>\n",
       "  <th>C(hour)[T.6]</th>   <td>    0.0001</td> <td> 2.93e-05</td> <td>    4.321</td> <td> 0.000</td> <td> 6.91e-05</td> <td>    0.000</td>\n",
       "</tr>\n",
       "<tr>\n",
       "  <th>C(hour)[T.7]</th>   <td>-1.389e-05</td> <td> 2.73e-05</td> <td>   -0.508</td> <td> 0.611</td> <td>-6.75e-05</td> <td> 3.97e-05</td>\n",
       "</tr>\n",
       "<tr>\n",
       "  <th>C(hour)[T.8]</th>   <td>-9.832e-05</td> <td> 2.67e-05</td> <td>   -3.686</td> <td> 0.000</td> <td>   -0.000</td> <td> -4.6e-05</td>\n",
       "</tr>\n",
       "<tr>\n",
       "  <th>C(hour)[T.9]</th>   <td>-9.009e-05</td> <td> 2.75e-05</td> <td>   -3.271</td> <td> 0.001</td> <td>   -0.000</td> <td>-3.61e-05</td>\n",
       "</tr>\n",
       "<tr>\n",
       "  <th>C(hour)[T.10]</th>  <td>-7.914e-05</td> <td>  2.9e-05</td> <td>   -2.732</td> <td> 0.006</td> <td>   -0.000</td> <td>-2.24e-05</td>\n",
       "</tr>\n",
       "<tr>\n",
       "  <th>C(hour)[T.11]</th>  <td>   -0.0001</td> <td> 2.91e-05</td> <td>   -4.204</td> <td> 0.000</td> <td>   -0.000</td> <td>-6.52e-05</td>\n",
       "</tr>\n",
       "<tr>\n",
       "  <th>C(hour)[T.12]</th>  <td>   -0.0002</td> <td> 2.89e-05</td> <td>   -5.489</td> <td> 0.000</td> <td>   -0.000</td> <td>   -0.000</td>\n",
       "</tr>\n",
       "<tr>\n",
       "  <th>C(hour)[T.13]</th>  <td>   -0.0002</td> <td> 2.91e-05</td> <td>   -5.231</td> <td> 0.000</td> <td>   -0.000</td> <td>-9.51e-05</td>\n",
       "</tr>\n",
       "<tr>\n",
       "  <th>C(hour)[T.14]</th>  <td>   -0.0002</td> <td> 2.91e-05</td> <td>   -5.503</td> <td> 0.000</td> <td>   -0.000</td> <td>   -0.000</td>\n",
       "</tr>\n",
       "<tr>\n",
       "  <th>C(hour)[T.15]</th>  <td>   -0.0002</td> <td> 2.92e-05</td> <td>   -5.526</td> <td> 0.000</td> <td>   -0.000</td> <td>   -0.000</td>\n",
       "</tr>\n",
       "<tr>\n",
       "  <th>C(hour)[T.16]</th>  <td>   -0.0002</td> <td> 2.82e-05</td> <td>   -6.048</td> <td> 0.000</td> <td>   -0.000</td> <td>   -0.000</td>\n",
       "</tr>\n",
       "<tr>\n",
       "  <th>C(hour)[T.17]</th>  <td>   -0.0002</td> <td> 2.71e-05</td> <td>   -6.767</td> <td> 0.000</td> <td>   -0.000</td> <td>   -0.000</td>\n",
       "</tr>\n",
       "<tr>\n",
       "  <th>C(hour)[T.18]</th>  <td>   -0.0002</td> <td> 2.69e-05</td> <td>   -7.319</td> <td> 0.000</td> <td>   -0.000</td> <td>   -0.000</td>\n",
       "</tr>\n",
       "<tr>\n",
       "  <th>C(hour)[T.19]</th>  <td>   -0.0002</td> <td> 2.74e-05</td> <td>   -7.633</td> <td> 0.000</td> <td>   -0.000</td> <td>   -0.000</td>\n",
       "</tr>\n",
       "<tr>\n",
       "  <th>C(hour)[T.20]</th>  <td>   -0.0002</td> <td>  2.8e-05</td> <td>   -6.295</td> <td> 0.000</td> <td>   -0.000</td> <td>   -0.000</td>\n",
       "</tr>\n",
       "<tr>\n",
       "  <th>C(hour)[T.21]</th>  <td>   -0.0002</td> <td> 2.89e-05</td> <td>   -6.428</td> <td> 0.000</td> <td>   -0.000</td> <td>   -0.000</td>\n",
       "</tr>\n",
       "<tr>\n",
       "  <th>C(hour)[T.22]</th>  <td>   -0.0001</td> <td> 3.03e-05</td> <td>   -4.665</td> <td> 0.000</td> <td>   -0.000</td> <td>-8.19e-05</td>\n",
       "</tr>\n",
       "<tr>\n",
       "  <th>C(hour)[T.23]</th>  <td>-5.998e-05</td> <td> 3.29e-05</td> <td>   -1.826</td> <td> 0.068</td> <td>   -0.000</td> <td> 4.42e-06</td>\n",
       "</tr>\n",
       "<tr>\n",
       "  <th>age</th>            <td>-2.842e-06</td> <td> 2.75e-07</td> <td>  -10.341</td> <td> 0.000</td> <td>-3.38e-06</td> <td> -2.3e-06</td>\n",
       "</tr>\n",
       "</table>\n",
       "<table class=\"simpletable\">\n",
       "<tr>\n",
       "  <th>Omnibus:</th>       <td>1854.022</td> <th>  Durbin-Watson:     </th> <td>   1.948</td>\n",
       "</tr>\n",
       "<tr>\n",
       "  <th>Prob(Omnibus):</th>  <td> 0.000</td>  <th>  Jarque-Bera (JB):  </th> <td>2376.527</td>\n",
       "</tr>\n",
       "<tr>\n",
       "  <th>Skew:</th>           <td> 0.664</td>  <th>  Prob(JB):          </th> <td>    0.00</td>\n",
       "</tr>\n",
       "<tr>\n",
       "  <th>Kurtosis:</th>       <td> 3.682</td>  <th>  Cond. No.          </th> <td>1.87e+03</td>\n",
       "</tr>\n",
       "</table>"
      ],
      "text/plain": [
       "<class 'statsmodels.iolib.summary.Summary'>\n",
       "\"\"\"\n",
       "                            OLS Regression Results                            \n",
       "==============================================================================\n",
       "Dep. Variable:                  speed   R-squared:                       0.077\n",
       "Model:                            OLS   Adj. R-squared:                  0.076\n",
       "Method:                 Least Squares   F-statistic:                     81.73\n",
       "Date:                Tue, 03 Oct 2017   Prob (F-statistic):               0.00\n",
       "Time:                        18:13:36   Log-Likelihood:             1.6313e+05\n",
       "No. Observations:               25573   AIC:                        -3.262e+05\n",
       "Df Residuals:                   25546   BIC:                        -3.260e+05\n",
       "Df Model:                          26                                         \n",
       "Covariance Type:            nonrobust                                         \n",
       "==================================================================================\n",
       "                     coef    std err          t      P>|t|      [0.025      0.975]\n",
       "----------------------------------------------------------------------------------\n",
       "Intercept          0.0020   2.78e-05     72.421      0.000       0.002       0.002\n",
       "C(Gender)[T.2]    -0.0002   6.17e-06    -29.851      0.000      -0.000      -0.000\n",
       "C(wd)[T.1]     -5.351e-05   7.02e-06     -7.625      0.000   -6.73e-05   -3.98e-05\n",
       "C(hour)[T.1]    2.331e-06   4.53e-05      0.051      0.959   -8.65e-05    9.11e-05\n",
       "C(hour)[T.2]    2.435e-05    5.1e-05      0.478      0.633   -7.55e-05       0.000\n",
       "C(hour)[T.3]       0.0002   5.81e-05      3.166      0.002    7.01e-05       0.000\n",
       "C(hour)[T.4]       0.0003   5.67e-05      5.026      0.000       0.000       0.000\n",
       "C(hour)[T.5]       0.0001   3.56e-05      4.093      0.000     7.6e-05       0.000\n",
       "C(hour)[T.6]       0.0001   2.93e-05      4.321      0.000    6.91e-05       0.000\n",
       "C(hour)[T.7]   -1.389e-05   2.73e-05     -0.508      0.611   -6.75e-05    3.97e-05\n",
       "C(hour)[T.8]   -9.832e-05   2.67e-05     -3.686      0.000      -0.000    -4.6e-05\n",
       "C(hour)[T.9]   -9.009e-05   2.75e-05     -3.271      0.001      -0.000   -3.61e-05\n",
       "C(hour)[T.10]  -7.914e-05    2.9e-05     -2.732      0.006      -0.000   -2.24e-05\n",
       "C(hour)[T.11]     -0.0001   2.91e-05     -4.204      0.000      -0.000   -6.52e-05\n",
       "C(hour)[T.12]     -0.0002   2.89e-05     -5.489      0.000      -0.000      -0.000\n",
       "C(hour)[T.13]     -0.0002   2.91e-05     -5.231      0.000      -0.000   -9.51e-05\n",
       "C(hour)[T.14]     -0.0002   2.91e-05     -5.503      0.000      -0.000      -0.000\n",
       "C(hour)[T.15]     -0.0002   2.92e-05     -5.526      0.000      -0.000      -0.000\n",
       "C(hour)[T.16]     -0.0002   2.82e-05     -6.048      0.000      -0.000      -0.000\n",
       "C(hour)[T.17]     -0.0002   2.71e-05     -6.767      0.000      -0.000      -0.000\n",
       "C(hour)[T.18]     -0.0002   2.69e-05     -7.319      0.000      -0.000      -0.000\n",
       "C(hour)[T.19]     -0.0002   2.74e-05     -7.633      0.000      -0.000      -0.000\n",
       "C(hour)[T.20]     -0.0002    2.8e-05     -6.295      0.000      -0.000      -0.000\n",
       "C(hour)[T.21]     -0.0002   2.89e-05     -6.428      0.000      -0.000      -0.000\n",
       "C(hour)[T.22]     -0.0001   3.03e-05     -4.665      0.000      -0.000   -8.19e-05\n",
       "C(hour)[T.23]  -5.998e-05   3.29e-05     -1.826      0.068      -0.000    4.42e-06\n",
       "age            -2.842e-06   2.75e-07    -10.341      0.000   -3.38e-06    -2.3e-06\n",
       "==============================================================================\n",
       "Omnibus:                     1854.022   Durbin-Watson:                   1.948\n",
       "Prob(Omnibus):                  0.000   Jarque-Bera (JB):             2376.527\n",
       "Skew:                           0.664   Prob(JB):                         0.00\n",
       "Kurtosis:                       3.682   Cond. No.                     1.87e+03\n",
       "==============================================================================\n",
       "\n",
       "Warnings:\n",
       "[1] Standard Errors assume that the covariance matrix of the errors is correctly specified.\n",
       "[2] The condition number is large, 1.87e+03. This might indicate that there are\n",
       "strong multicollinearity or other numerical problems.\n",
       "\"\"\""
      ]
     },
     "execution_count": 306,
     "metadata": {},
     "output_type": "execute_result"
    }
   ],
   "source": [
    "lm=smf.ols('speed~age+C(Gender)+C(wd)+C(hour)',data=data2.ix[comind&demoind]).fit()\n",
    "lm.summary()"
   ]
  },
  {
   "cell_type": "markdown",
   "metadata": {},
   "source": [
    "Finally add density parameters for beginning and the end of the trip"
   ]
  },
  {
   "cell_type": "code",
   "execution_count": 307,
   "metadata": {},
   "outputs": [
    {
     "data": {
      "text/html": [
       "<table class=\"simpletable\">\n",
       "<caption>OLS Regression Results</caption>\n",
       "<tr>\n",
       "  <th>Dep. Variable:</th>          <td>speed</td>      <th>  R-squared:         </th>  <td>   0.081</td> \n",
       "</tr>\n",
       "<tr>\n",
       "  <th>Model:</th>                   <td>OLS</td>       <th>  Adj. R-squared:    </th>  <td>   0.080</td> \n",
       "</tr>\n",
       "<tr>\n",
       "  <th>Method:</th>             <td>Least Squares</td>  <th>  F-statistic:       </th>  <td>   80.40</td> \n",
       "</tr>\n",
       "<tr>\n",
       "  <th>Date:</th>             <td>Tue, 03 Oct 2017</td> <th>  Prob (F-statistic):</th>   <td>  0.00</td>  \n",
       "</tr>\n",
       "<tr>\n",
       "  <th>Time:</th>                 <td>18:13:36</td>     <th>  Log-Likelihood:    </th> <td>1.6316e+05</td>\n",
       "</tr>\n",
       "<tr>\n",
       "  <th>No. Observations:</th>      <td> 25568</td>      <th>  AIC:               </th> <td>-3.263e+05</td>\n",
       "</tr>\n",
       "<tr>\n",
       "  <th>Df Residuals:</th>          <td> 25539</td>      <th>  BIC:               </th> <td>-3.260e+05</td>\n",
       "</tr>\n",
       "<tr>\n",
       "  <th>Df Model:</th>              <td>    28</td>      <th>                     </th>      <td> </td>    \n",
       "</tr>\n",
       "<tr>\n",
       "  <th>Covariance Type:</th>      <td>nonrobust</td>    <th>                     </th>      <td> </td>    \n",
       "</tr>\n",
       "</table>\n",
       "<table class=\"simpletable\">\n",
       "<tr>\n",
       "         <td></td>           <th>coef</th>     <th>std err</th>      <th>t</th>      <th>P>|t|</th>  <th>[0.025</th>    <th>0.975]</th>  \n",
       "</tr>\n",
       "<tr>\n",
       "  <th>Intercept</th>      <td>    0.0020</td> <td>  2.8e-05</td> <td>   71.946</td> <td> 0.000</td> <td>    0.002</td> <td>    0.002</td>\n",
       "</tr>\n",
       "<tr>\n",
       "  <th>C(Gender)[T.2]</th> <td>   -0.0002</td> <td> 6.16e-06</td> <td>  -30.076</td> <td> 0.000</td> <td>   -0.000</td> <td>   -0.000</td>\n",
       "</tr>\n",
       "<tr>\n",
       "  <th>C(wd)[T.1]</th>     <td>-5.382e-05</td> <td> 7.03e-06</td> <td>   -7.657</td> <td> 0.000</td> <td>-6.76e-05</td> <td>   -4e-05</td>\n",
       "</tr>\n",
       "<tr>\n",
       "  <th>C(hour)[T.1]</th>   <td>-2.754e-06</td> <td> 4.52e-05</td> <td>   -0.061</td> <td> 0.951</td> <td>-9.14e-05</td> <td> 8.58e-05</td>\n",
       "</tr>\n",
       "<tr>\n",
       "  <th>C(hour)[T.2]</th>   <td>  2.34e-05</td> <td> 5.09e-05</td> <td>    0.460</td> <td> 0.645</td> <td>-7.63e-05</td> <td>    0.000</td>\n",
       "</tr>\n",
       "<tr>\n",
       "  <th>C(hour)[T.3]</th>   <td>    0.0002</td> <td> 5.81e-05</td> <td>    2.642</td> <td> 0.008</td> <td> 3.96e-05</td> <td>    0.000</td>\n",
       "</tr>\n",
       "<tr>\n",
       "  <th>C(hour)[T.4]</th>   <td>    0.0003</td> <td> 5.66e-05</td> <td>    4.597</td> <td> 0.000</td> <td>    0.000</td> <td>    0.000</td>\n",
       "</tr>\n",
       "<tr>\n",
       "  <th>C(hour)[T.5]</th>   <td>    0.0001</td> <td> 3.57e-05</td> <td>    3.071</td> <td> 0.002</td> <td> 3.96e-05</td> <td>    0.000</td>\n",
       "</tr>\n",
       "<tr>\n",
       "  <th>C(hour)[T.6]</th>   <td> 8.492e-05</td> <td> 2.95e-05</td> <td>    2.883</td> <td> 0.004</td> <td> 2.72e-05</td> <td>    0.000</td>\n",
       "</tr>\n",
       "<tr>\n",
       "  <th>C(hour)[T.7]</th>   <td>-5.236e-05</td> <td> 2.75e-05</td> <td>   -1.903</td> <td> 0.057</td> <td>   -0.000</td> <td> 1.57e-06</td>\n",
       "</tr>\n",
       "<tr>\n",
       "  <th>C(hour)[T.8]</th>   <td>   -0.0001</td> <td> 2.69e-05</td> <td>   -5.093</td> <td> 0.000</td> <td>   -0.000</td> <td>-8.41e-05</td>\n",
       "</tr>\n",
       "<tr>\n",
       "  <th>C(hour)[T.9]</th>   <td>   -0.0001</td> <td> 2.77e-05</td> <td>   -4.502</td> <td> 0.000</td> <td>   -0.000</td> <td>-7.04e-05</td>\n",
       "</tr>\n",
       "<tr>\n",
       "  <th>C(hour)[T.10]</th>  <td>   -0.0001</td> <td>  2.9e-05</td> <td>   -3.668</td> <td> 0.000</td> <td>   -0.000</td> <td>-4.96e-05</td>\n",
       "</tr>\n",
       "<tr>\n",
       "  <th>C(hour)[T.11]</th>  <td>   -0.0001</td> <td> 2.91e-05</td> <td>   -4.917</td> <td> 0.000</td> <td>   -0.000</td> <td>-8.59e-05</td>\n",
       "</tr>\n",
       "<tr>\n",
       "  <th>C(hour)[T.12]</th>  <td>   -0.0002</td> <td> 2.89e-05</td> <td>   -6.062</td> <td> 0.000</td> <td>   -0.000</td> <td>   -0.000</td>\n",
       "</tr>\n",
       "<tr>\n",
       "  <th>C(hour)[T.13]</th>  <td>   -0.0002</td> <td>  2.9e-05</td> <td>   -5.795</td> <td> 0.000</td> <td>   -0.000</td> <td>   -0.000</td>\n",
       "</tr>\n",
       "<tr>\n",
       "  <th>C(hour)[T.14]</th>  <td>   -0.0002</td> <td> 2.91e-05</td> <td>   -5.933</td> <td> 0.000</td> <td>   -0.000</td> <td>   -0.000</td>\n",
       "</tr>\n",
       "<tr>\n",
       "  <th>C(hour)[T.15]</th>  <td>   -0.0002</td> <td> 2.91e-05</td> <td>   -5.942</td> <td> 0.000</td> <td>   -0.000</td> <td>   -0.000</td>\n",
       "</tr>\n",
       "<tr>\n",
       "  <th>C(hour)[T.16]</th>  <td>   -0.0002</td> <td> 2.82e-05</td> <td>   -6.285</td> <td> 0.000</td> <td>   -0.000</td> <td>   -0.000</td>\n",
       "</tr>\n",
       "<tr>\n",
       "  <th>C(hour)[T.17]</th>  <td>   -0.0002</td> <td> 2.71e-05</td> <td>   -6.775</td> <td> 0.000</td> <td>   -0.000</td> <td>   -0.000</td>\n",
       "</tr>\n",
       "<tr>\n",
       "  <th>C(hour)[T.18]</th>  <td>   -0.0002</td> <td> 2.69e-05</td> <td>   -7.333</td> <td> 0.000</td> <td>   -0.000</td> <td>   -0.000</td>\n",
       "</tr>\n",
       "<tr>\n",
       "  <th>C(hour)[T.19]</th>  <td>   -0.0002</td> <td> 2.73e-05</td> <td>   -7.739</td> <td> 0.000</td> <td>   -0.000</td> <td>   -0.000</td>\n",
       "</tr>\n",
       "<tr>\n",
       "  <th>C(hour)[T.20]</th>  <td>   -0.0002</td> <td> 2.79e-05</td> <td>   -6.348</td> <td> 0.000</td> <td>   -0.000</td> <td>   -0.000</td>\n",
       "</tr>\n",
       "<tr>\n",
       "  <th>C(hour)[T.21]</th>  <td>   -0.0002</td> <td> 2.89e-05</td> <td>   -6.429</td> <td> 0.000</td> <td>   -0.000</td> <td>   -0.000</td>\n",
       "</tr>\n",
       "<tr>\n",
       "  <th>C(hour)[T.22]</th>  <td>   -0.0001</td> <td> 3.02e-05</td> <td>   -4.759</td> <td> 0.000</td> <td>   -0.000</td> <td>-8.45e-05</td>\n",
       "</tr>\n",
       "<tr>\n",
       "  <th>C(hour)[T.23]</th>  <td>-6.501e-05</td> <td> 3.28e-05</td> <td>   -1.983</td> <td> 0.047</td> <td>   -0.000</td> <td>-7.55e-07</td>\n",
       "</tr>\n",
       "<tr>\n",
       "  <th>age</th>            <td>-2.883e-06</td> <td> 2.75e-07</td> <td>  -10.497</td> <td> 0.000</td> <td>-3.42e-06</td> <td>-2.34e-06</td>\n",
       "</tr>\n",
       "<tr>\n",
       "  <th>StartDens</th>      <td>-5.211e-09</td> <td> 1.06e-09</td> <td>   -4.918</td> <td> 0.000</td> <td>-7.29e-09</td> <td>-3.13e-09</td>\n",
       "</tr>\n",
       "<tr>\n",
       "  <th>EndDens</th>        <td> 9.006e-09</td> <td> 1.01e-09</td> <td>    8.894</td> <td> 0.000</td> <td> 7.02e-09</td> <td>  1.1e-08</td>\n",
       "</tr>\n",
       "</table>\n",
       "<table class=\"simpletable\">\n",
       "<tr>\n",
       "  <th>Omnibus:</th>       <td>1822.818</td> <th>  Durbin-Watson:     </th> <td>   1.945</td>\n",
       "</tr>\n",
       "<tr>\n",
       "  <th>Prob(Omnibus):</th>  <td> 0.000</td>  <th>  Jarque-Bera (JB):  </th> <td>2322.245</td>\n",
       "</tr>\n",
       "<tr>\n",
       "  <th>Skew:</th>           <td> 0.660</td>  <th>  Prob(JB):          </th> <td>    0.00</td>\n",
       "</tr>\n",
       "<tr>\n",
       "  <th>Kurtosis:</th>       <td> 3.663</td>  <th>  Cond. No.          </th> <td>2.69e+05</td>\n",
       "</tr>\n",
       "</table>"
      ],
      "text/plain": [
       "<class 'statsmodels.iolib.summary.Summary'>\n",
       "\"\"\"\n",
       "                            OLS Regression Results                            \n",
       "==============================================================================\n",
       "Dep. Variable:                  speed   R-squared:                       0.081\n",
       "Model:                            OLS   Adj. R-squared:                  0.080\n",
       "Method:                 Least Squares   F-statistic:                     80.40\n",
       "Date:                Tue, 03 Oct 2017   Prob (F-statistic):               0.00\n",
       "Time:                        18:13:36   Log-Likelihood:             1.6316e+05\n",
       "No. Observations:               25568   AIC:                        -3.263e+05\n",
       "Df Residuals:                   25539   BIC:                        -3.260e+05\n",
       "Df Model:                          28                                         \n",
       "Covariance Type:            nonrobust                                         \n",
       "==================================================================================\n",
       "                     coef    std err          t      P>|t|      [0.025      0.975]\n",
       "----------------------------------------------------------------------------------\n",
       "Intercept          0.0020    2.8e-05     71.946      0.000       0.002       0.002\n",
       "C(Gender)[T.2]    -0.0002   6.16e-06    -30.076      0.000      -0.000      -0.000\n",
       "C(wd)[T.1]     -5.382e-05   7.03e-06     -7.657      0.000   -6.76e-05      -4e-05\n",
       "C(hour)[T.1]   -2.754e-06   4.52e-05     -0.061      0.951   -9.14e-05    8.58e-05\n",
       "C(hour)[T.2]     2.34e-05   5.09e-05      0.460      0.645   -7.63e-05       0.000\n",
       "C(hour)[T.3]       0.0002   5.81e-05      2.642      0.008    3.96e-05       0.000\n",
       "C(hour)[T.4]       0.0003   5.66e-05      4.597      0.000       0.000       0.000\n",
       "C(hour)[T.5]       0.0001   3.57e-05      3.071      0.002    3.96e-05       0.000\n",
       "C(hour)[T.6]    8.492e-05   2.95e-05      2.883      0.004    2.72e-05       0.000\n",
       "C(hour)[T.7]   -5.236e-05   2.75e-05     -1.903      0.057      -0.000    1.57e-06\n",
       "C(hour)[T.8]      -0.0001   2.69e-05     -5.093      0.000      -0.000   -8.41e-05\n",
       "C(hour)[T.9]      -0.0001   2.77e-05     -4.502      0.000      -0.000   -7.04e-05\n",
       "C(hour)[T.10]     -0.0001    2.9e-05     -3.668      0.000      -0.000   -4.96e-05\n",
       "C(hour)[T.11]     -0.0001   2.91e-05     -4.917      0.000      -0.000   -8.59e-05\n",
       "C(hour)[T.12]     -0.0002   2.89e-05     -6.062      0.000      -0.000      -0.000\n",
       "C(hour)[T.13]     -0.0002    2.9e-05     -5.795      0.000      -0.000      -0.000\n",
       "C(hour)[T.14]     -0.0002   2.91e-05     -5.933      0.000      -0.000      -0.000\n",
       "C(hour)[T.15]     -0.0002   2.91e-05     -5.942      0.000      -0.000      -0.000\n",
       "C(hour)[T.16]     -0.0002   2.82e-05     -6.285      0.000      -0.000      -0.000\n",
       "C(hour)[T.17]     -0.0002   2.71e-05     -6.775      0.000      -0.000      -0.000\n",
       "C(hour)[T.18]     -0.0002   2.69e-05     -7.333      0.000      -0.000      -0.000\n",
       "C(hour)[T.19]     -0.0002   2.73e-05     -7.739      0.000      -0.000      -0.000\n",
       "C(hour)[T.20]     -0.0002   2.79e-05     -6.348      0.000      -0.000      -0.000\n",
       "C(hour)[T.21]     -0.0002   2.89e-05     -6.429      0.000      -0.000      -0.000\n",
       "C(hour)[T.22]     -0.0001   3.02e-05     -4.759      0.000      -0.000   -8.45e-05\n",
       "C(hour)[T.23]  -6.501e-05   3.28e-05     -1.983      0.047      -0.000   -7.55e-07\n",
       "age            -2.883e-06   2.75e-07    -10.497      0.000   -3.42e-06   -2.34e-06\n",
       "StartDens      -5.211e-09   1.06e-09     -4.918      0.000   -7.29e-09   -3.13e-09\n",
       "EndDens         9.006e-09   1.01e-09      8.894      0.000    7.02e-09     1.1e-08\n",
       "==============================================================================\n",
       "Omnibus:                     1822.818   Durbin-Watson:                   1.945\n",
       "Prob(Omnibus):                  0.000   Jarque-Bera (JB):             2322.245\n",
       "Skew:                           0.660   Prob(JB):                         0.00\n",
       "Kurtosis:                       3.663   Cond. No.                     2.69e+05\n",
       "==============================================================================\n",
       "\n",
       "Warnings:\n",
       "[1] Standard Errors assume that the covariance matrix of the errors is correctly specified.\n",
       "[2] The condition number is large, 2.69e+05. This might indicate that there are\n",
       "strong multicollinearity or other numerical problems.\n",
       "\"\"\""
      ]
     },
     "execution_count": 307,
     "metadata": {},
     "output_type": "execute_result"
    }
   ],
   "source": [
    "lm=smf.ols('speed~age+C(Gender)+C(wd)+C(hour)+StartDens+EndDens',data=data2.ix[comind&demoind]).fit()\n",
    "lm.summary()"
   ]
  },
  {
   "cell_type": "markdown",
   "metadata": {
    "collapsed": true
   },
   "source": [
    "Now split the dataset, train the model over one half and apply to the other"
   ]
  },
  {
   "cell_type": "code",
   "execution_count": 308,
   "metadata": {
    "collapsed": true
   },
   "outputs": [],
   "source": [
    "np.random.seed(101)\n",
    "from sklearn.model_selection import train_test_split\n",
    "datatrain, datatest = train_test_split(data2.ix[comind&demoind], test_size=0.5)"
   ]
  },
  {
   "cell_type": "code",
   "execution_count": 309,
   "metadata": {},
   "outputs": [
    {
     "data": {
      "text/html": [
       "<table class=\"simpletable\">\n",
       "<caption>OLS Regression Results</caption>\n",
       "<tr>\n",
       "  <th>Dep. Variable:</th>          <td>speed</td>      <th>  R-squared:         </th>  <td>   0.051</td> \n",
       "</tr>\n",
       "<tr>\n",
       "  <th>Model:</th>                   <td>OLS</td>       <th>  Adj. R-squared:    </th>  <td>   0.051</td> \n",
       "</tr>\n",
       "<tr>\n",
       "  <th>Method:</th>             <td>Least Squares</td>  <th>  F-statistic:       </th>  <td>   138.2</td> \n",
       "</tr>\n",
       "<tr>\n",
       "  <th>Date:</th>             <td>Tue, 03 Oct 2017</td> <th>  Prob (F-statistic):</th>  <td>3.28e-143</td>\n",
       "</tr>\n",
       "<tr>\n",
       "  <th>Time:</th>                 <td>18:13:36</td>     <th>  Log-Likelihood:    </th>  <td>  81344.</td> \n",
       "</tr>\n",
       "<tr>\n",
       "  <th>No. Observations:</th>      <td> 12784</td>      <th>  AIC:               </th> <td>-1.627e+05</td>\n",
       "</tr>\n",
       "<tr>\n",
       "  <th>Df Residuals:</th>          <td> 12778</td>      <th>  BIC:               </th> <td>-1.626e+05</td>\n",
       "</tr>\n",
       "<tr>\n",
       "  <th>Df Model:</th>              <td>     5</td>      <th>                     </th>      <td> </td>    \n",
       "</tr>\n",
       "<tr>\n",
       "  <th>Covariance Type:</th>      <td>nonrobust</td>    <th>                     </th>      <td> </td>    \n",
       "</tr>\n",
       "</table>\n",
       "<table class=\"simpletable\">\n",
       "<tr>\n",
       "      <td></td>         <th>coef</th>     <th>std err</th>      <th>t</th>      <th>P>|t|</th>  <th>[0.025</th>    <th>0.975]</th>  \n",
       "</tr>\n",
       "<tr>\n",
       "  <th>Intercept</th> <td>    0.0020</td> <td> 2.03e-05</td> <td>   99.325</td> <td> 0.000</td> <td>    0.002</td> <td>    0.002</td>\n",
       "</tr>\n",
       "<tr>\n",
       "  <th>age</th>       <td>-2.155e-06</td> <td> 3.95e-07</td> <td>   -5.460</td> <td> 0.000</td> <td>-2.93e-06</td> <td>-1.38e-06</td>\n",
       "</tr>\n",
       "<tr>\n",
       "  <th>Gender</th>    <td>   -0.0002</td> <td> 8.89e-06</td> <td>  -20.201</td> <td> 0.000</td> <td>   -0.000</td> <td>   -0.000</td>\n",
       "</tr>\n",
       "<tr>\n",
       "  <th>wd</th>        <td> -5.62e-05</td> <td> 9.62e-06</td> <td>   -5.842</td> <td> 0.000</td> <td>-7.51e-05</td> <td>-3.73e-05</td>\n",
       "</tr>\n",
       "<tr>\n",
       "  <th>StartDens</th> <td>-8.915e-09</td> <td> 1.47e-09</td> <td>   -6.053</td> <td> 0.000</td> <td>-1.18e-08</td> <td>-6.03e-09</td>\n",
       "</tr>\n",
       "<tr>\n",
       "  <th>EndDens</th>   <td> 1.622e-08</td> <td> 1.34e-09</td> <td>   12.077</td> <td> 0.000</td> <td> 1.36e-08</td> <td> 1.89e-08</td>\n",
       "</tr>\n",
       "</table>\n",
       "<table class=\"simpletable\">\n",
       "<tr>\n",
       "  <th>Omnibus:</th>       <td>986.729</td> <th>  Durbin-Watson:     </th> <td>   1.987</td> \n",
       "</tr>\n",
       "<tr>\n",
       "  <th>Prob(Omnibus):</th> <td> 0.000</td>  <th>  Jarque-Bera (JB):  </th> <td>1284.755</td> \n",
       "</tr>\n",
       "<tr>\n",
       "  <th>Skew:</th>          <td> 0.686</td>  <th>  Prob(JB):          </th> <td>1.04e-279</td>\n",
       "</tr>\n",
       "<tr>\n",
       "  <th>Kurtosis:</th>      <td> 3.727</td>  <th>  Cond. No.          </th> <td>3.05e+04</td> \n",
       "</tr>\n",
       "</table>"
      ],
      "text/plain": [
       "<class 'statsmodels.iolib.summary.Summary'>\n",
       "\"\"\"\n",
       "                            OLS Regression Results                            \n",
       "==============================================================================\n",
       "Dep. Variable:                  speed   R-squared:                       0.051\n",
       "Model:                            OLS   Adj. R-squared:                  0.051\n",
       "Method:                 Least Squares   F-statistic:                     138.2\n",
       "Date:                Tue, 03 Oct 2017   Prob (F-statistic):          3.28e-143\n",
       "Time:                        18:13:36   Log-Likelihood:                 81344.\n",
       "No. Observations:               12784   AIC:                        -1.627e+05\n",
       "Df Residuals:                   12778   BIC:                        -1.626e+05\n",
       "Df Model:                           5                                         \n",
       "Covariance Type:            nonrobust                                         \n",
       "==============================================================================\n",
       "                 coef    std err          t      P>|t|      [0.025      0.975]\n",
       "------------------------------------------------------------------------------\n",
       "Intercept      0.0020   2.03e-05     99.325      0.000       0.002       0.002\n",
       "age        -2.155e-06   3.95e-07     -5.460      0.000   -2.93e-06   -1.38e-06\n",
       "Gender        -0.0002   8.89e-06    -20.201      0.000      -0.000      -0.000\n",
       "wd          -5.62e-05   9.62e-06     -5.842      0.000   -7.51e-05   -3.73e-05\n",
       "StartDens  -8.915e-09   1.47e-09     -6.053      0.000   -1.18e-08   -6.03e-09\n",
       "EndDens     1.622e-08   1.34e-09     12.077      0.000    1.36e-08    1.89e-08\n",
       "==============================================================================\n",
       "Omnibus:                      986.729   Durbin-Watson:                   1.987\n",
       "Prob(Omnibus):                  0.000   Jarque-Bera (JB):             1284.755\n",
       "Skew:                           0.686   Prob(JB):                    1.04e-279\n",
       "Kurtosis:                       3.727   Cond. No.                     3.05e+04\n",
       "==============================================================================\n",
       "\n",
       "Warnings:\n",
       "[1] Standard Errors assume that the covariance matrix of the errors is correctly specified.\n",
       "[2] The condition number is large, 3.05e+04. This might indicate that there are\n",
       "strong multicollinearity or other numerical problems.\n",
       "\"\"\""
      ]
     },
     "execution_count": 309,
     "metadata": {},
     "output_type": "execute_result"
    }
   ],
   "source": [
    "lm1=smf.ols(formula='speed~age+Gender+wd+StartDens+EndDens',data=datatrain).fit()\n",
    "lm1.summary()"
   ]
  },
  {
   "cell_type": "code",
   "execution_count": 310,
   "metadata": {},
   "outputs": [
    {
     "data": {
      "text/plain": [
       "Intercept    2.011457e-03\n",
       "age         -2.155267e-06\n",
       "Gender      -1.796029e-04\n",
       "wd          -5.619647e-05\n",
       "StartDens   -8.915142e-09\n",
       "EndDens      1.622265e-08\n",
       "dtype: float64"
      ]
     },
     "execution_count": 310,
     "metadata": {},
     "output_type": "execute_result"
    }
   ],
   "source": [
    "lm1.params"
   ]
  },
  {
   "cell_type": "code",
   "execution_count": 311,
   "metadata": {
    "collapsed": true
   },
   "outputs": [],
   "source": [
    "predictSpeed=lm1.params.Intercept+lm1.params.age*datatest.age+lm1.params.Gender*datatest.Gender+lm1.params.wd*datatest.wd+lm1.params.StartDens*datatest.StartDens+lm1.params.EndDens*datatest.EndDens"
   ]
  },
  {
   "cell_type": "code",
   "execution_count": 312,
   "metadata": {},
   "outputs": [
    {
     "data": {
      "text/plain": [
       "0.05675749216356196"
      ]
     },
     "execution_count": 312,
     "metadata": {},
     "output_type": "execute_result"
    }
   ],
   "source": [
    "R2 = 1 - sum((datatest.speed-predictSpeed)**2) / sum((datatest.speed-mean(datatest.speed))**2)\n",
    "R2"
   ]
  },
  {
   "cell_type": "markdown",
   "metadata": {
    "nbpresent": {
     "id": "d02b80e7-08d4-4e62-993b-b386eb9e89a9"
    }
   },
   "source": [
    "## Example 3, Polynomial fit"
   ]
  },
  {
   "cell_type": "markdown",
   "metadata": {
    "nbpresent": {
     "id": "ad28625c-6bff-47bc-9311-1314ffaca02c"
    }
   },
   "source": [
    "### Given two columns of data, $y$ and $x$, we want to fit it with a polynomial and find the coefficients $w$ $$\\hat y(x,w) = \\sum\\limits_{i=0}^M w_i\\cdot x^i$$\n",
    "### Which M gives the best fit?"
   ]
  },
  {
   "cell_type": "code",
   "execution_count": 313,
   "metadata": {
    "nbpresent": {
     "id": "e6401964-7bc4-42f7-8d68-3bc286c06931"
    }
   },
   "outputs": [
    {
     "data": {
      "text/html": [
       "<div>\n",
       "<style>\n",
       "    .dataframe thead tr:only-child th {\n",
       "        text-align: right;\n",
       "    }\n",
       "\n",
       "    .dataframe thead th {\n",
       "        text-align: left;\n",
       "    }\n",
       "\n",
       "    .dataframe tbody tr th {\n",
       "        vertical-align: top;\n",
       "    }\n",
       "</style>\n",
       "<table border=\"1\" class=\"dataframe\">\n",
       "  <thead>\n",
       "    <tr style=\"text-align: right;\">\n",
       "      <th></th>\n",
       "      <th>y</th>\n",
       "      <th>x</th>\n",
       "    </tr>\n",
       "  </thead>\n",
       "  <tbody>\n",
       "    <tr>\n",
       "      <th>0</th>\n",
       "      <td>-8.256892</td>\n",
       "      <td>-2.000000</td>\n",
       "    </tr>\n",
       "    <tr>\n",
       "      <th>1</th>\n",
       "      <td>4.732777</td>\n",
       "      <td>-1.333333</td>\n",
       "    </tr>\n",
       "    <tr>\n",
       "      <th>2</th>\n",
       "      <td>3.997084</td>\n",
       "      <td>-0.666667</td>\n",
       "    </tr>\n",
       "    <tr>\n",
       "      <th>3</th>\n",
       "      <td>-3.518884</td>\n",
       "      <td>0.000000</td>\n",
       "    </tr>\n",
       "    <tr>\n",
       "      <th>4</th>\n",
       "      <td>-4.661727</td>\n",
       "      <td>0.666667</td>\n",
       "    </tr>\n",
       "    <tr>\n",
       "      <th>5</th>\n",
       "      <td>-1.897542</td>\n",
       "      <td>1.333333</td>\n",
       "    </tr>\n",
       "    <tr>\n",
       "      <th>6</th>\n",
       "      <td>-16.280038</td>\n",
       "      <td>2.000000</td>\n",
       "    </tr>\n",
       "    <tr>\n",
       "      <th>7</th>\n",
       "      <td>-8.879330</td>\n",
       "      <td>2.666667</td>\n",
       "    </tr>\n",
       "    <tr>\n",
       "      <th>8</th>\n",
       "      <td>2.945957</td>\n",
       "      <td>3.333333</td>\n",
       "    </tr>\n",
       "    <tr>\n",
       "      <th>9</th>\n",
       "      <td>10.399779</td>\n",
       "      <td>4.000000</td>\n",
       "    </tr>\n",
       "  </tbody>\n",
       "</table>\n",
       "</div>"
      ],
      "text/plain": [
       "           y         x\n",
       "0  -8.256892 -2.000000\n",
       "1   4.732777 -1.333333\n",
       "2   3.997084 -0.666667\n",
       "3  -3.518884  0.000000\n",
       "4  -4.661727  0.666667\n",
       "5  -1.897542  1.333333\n",
       "6 -16.280038  2.000000\n",
       "7  -8.879330  2.666667\n",
       "8   2.945957  3.333333\n",
       "9  10.399779  4.000000"
      ]
     },
     "execution_count": 313,
     "metadata": {},
     "output_type": "execute_result"
    }
   ],
   "source": [
    "data3 = pd.read_csv(path + 'Example3.csv')\n",
    "data3"
   ]
  },
  {
   "cell_type": "code",
   "execution_count": 314,
   "metadata": {},
   "outputs": [
    {
     "data": {
      "text/plain": [
       "[<matplotlib.lines.Line2D at 0x1be80f98>]"
      ]
     },
     "execution_count": 314,
     "metadata": {},
     "output_type": "execute_result"
    },
    {
     "data": {
      "image/png": "[encoded data removed]",
      "text/plain": [
       "<matplotlib.figure.Figure at 0x1c1b47b8>"
      ]
     },
     "metadata": {},
     "output_type": "display_data"
    }
   ],
   "source": [
    "plt.figure(figsize = (5,5))\n",
    "plt.plot(data3.x, data3.y, 'ro', markersize = 8)"
   ]
  },
  {
   "cell_type": "code",
   "execution_count": 315,
   "metadata": {},
   "outputs": [
    {
     "data": {
      "text/plain": [
       "0.016695221729687293"
      ]
     },
     "execution_count": 315,
     "metadata": {},
     "output_type": "execute_result"
    }
   ],
   "source": [
    "# First try linear regression and check the R2\n",
    "(smf.ols(formula = 'y ~ x', data = data3).fit()).rsquared"
   ]
  },
  {
   "cell_type": "code",
   "execution_count": 316,
   "metadata": {
    "collapsed": true
   },
   "outputs": [],
   "source": [
    "# linear regression (M=1) does not seem to make much sense"
   ]
  },
  {
   "cell_type": "code",
   "execution_count": 317,
   "metadata": {
    "collapsed": true
   },
   "outputs": [],
   "source": [
    "#Q1. Create a new data frame, containing all x^j from x^1 up to x^9"
   ]
  },
  {
   "cell_type": "code",
   "execution_count": 318,
   "metadata": {
    "collapsed": true
   },
   "outputs": [],
   "source": [
    "#Q2. As degree M increases from 1 to 9, fit y with M-degree polynomial and find the corresponding parameters and R^2\n",
    "    # Store them separately"
   ]
  },
  {
   "cell_type": "code",
   "execution_count": 319,
   "metadata": {
    "collapsed": true
   },
   "outputs": [],
   "source": [
    "#Q3. Plot the R^2, see how it changes as M goes up"
   ]
  },
  {
   "cell_type": "code",
   "execution_count": 320,
   "metadata": {
    "collapsed": true
   },
   "outputs": [],
   "source": [
    "#Q4. Visualize the dataset:\n",
    "    #Q 4.1 Generate a plot with 3-by-3 subfigure, each containing a model with M-degree polynomial (from 1 to 9)\n",
    "    #Q 4.2 In each subfigure, plot the observations and the fitted curve of polynomial\n",
    "    #Q 4.3 In each subfigure, plot the function f(x) = x**3 - 2*x**2 - 5*x + 1, see how it looks"
   ]
  },
  {
   "cell_type": "code",
   "execution_count": null,
   "metadata": {
    "collapsed": true
   },
   "outputs": [],
   "source": []
  },
  {
   "cell_type": "code",
   "execution_count": null,
   "metadata": {
    "collapsed": true
   },
   "outputs": [],
   "source": []
  },
  {
   "cell_type": "code",
   "execution_count": null,
   "metadata": {
    "collapsed": true
   },
   "outputs": [],
   "source": []
  },
  {
   "cell_type": "code",
   "execution_count": 321,
   "metadata": {
    "collapsed": true
   },
   "outputs": [],
   "source": [
    "#Q1. First create a new data frame, containing all x^j from x^1 up to x^9"
   ]
  },
  {
   "cell_type": "code",
   "execution_count": 322,
   "metadata": {
    "nbpresent": {
     "id": "b24b03bc-3e52-40b9-affd-e66f263bc1e5"
    },
    "scrolled": true
   },
   "outputs": [
    {
     "data": {
      "text/html": [
       "<div>\n",
       "<style>\n",
       "    .dataframe thead tr:only-child th {\n",
       "        text-align: right;\n",
       "    }\n",
       "\n",
       "    .dataframe thead th {\n",
       "        text-align: left;\n",
       "    }\n",
       "\n",
       "    .dataframe tbody tr th {\n",
       "        vertical-align: top;\n",
       "    }\n",
       "</style>\n",
       "<table border=\"1\" class=\"dataframe\">\n",
       "  <thead>\n",
       "    <tr style=\"text-align: right;\">\n",
       "      <th></th>\n",
       "      <th>y</th>\n",
       "      <th>x1</th>\n",
       "      <th>x2</th>\n",
       "      <th>x3</th>\n",
       "      <th>x4</th>\n",
       "      <th>x5</th>\n",
       "      <th>x6</th>\n",
       "      <th>x7</th>\n",
       "      <th>x8</th>\n",
       "      <th>x9</th>\n",
       "    </tr>\n",
       "  </thead>\n",
       "  <tbody>\n",
       "    <tr>\n",
       "      <th>0</th>\n",
       "      <td>-8.256892</td>\n",
       "      <td>-2.000000</td>\n",
       "      <td>4.000000</td>\n",
       "      <td>-8.000000</td>\n",
       "      <td>16.000000</td>\n",
       "      <td>-32.000000</td>\n",
       "      <td>64.000000</td>\n",
       "      <td>-128.000000</td>\n",
       "      <td>256.000000</td>\n",
       "      <td>-512.000000</td>\n",
       "    </tr>\n",
       "    <tr>\n",
       "      <th>1</th>\n",
       "      <td>4.732777</td>\n",
       "      <td>-1.333333</td>\n",
       "      <td>1.777778</td>\n",
       "      <td>-2.370370</td>\n",
       "      <td>3.160494</td>\n",
       "      <td>-4.213992</td>\n",
       "      <td>5.618656</td>\n",
       "      <td>-7.491541</td>\n",
       "      <td>9.988721</td>\n",
       "      <td>-13.318295</td>\n",
       "    </tr>\n",
       "    <tr>\n",
       "      <th>2</th>\n",
       "      <td>3.997084</td>\n",
       "      <td>-0.666667</td>\n",
       "      <td>0.444444</td>\n",
       "      <td>-0.296296</td>\n",
       "      <td>0.197531</td>\n",
       "      <td>-0.131687</td>\n",
       "      <td>0.087791</td>\n",
       "      <td>-0.058528</td>\n",
       "      <td>0.039018</td>\n",
       "      <td>-0.026012</td>\n",
       "    </tr>\n",
       "    <tr>\n",
       "      <th>3</th>\n",
       "      <td>-3.518884</td>\n",
       "      <td>0.000000</td>\n",
       "      <td>0.000000</td>\n",
       "      <td>0.000000</td>\n",
       "      <td>0.000000</td>\n",
       "      <td>0.000000</td>\n",
       "      <td>0.000000</td>\n",
       "      <td>0.000000</td>\n",
       "      <td>0.000000</td>\n",
       "      <td>0.000000</td>\n",
       "    </tr>\n",
       "    <tr>\n",
       "      <th>4</th>\n",
       "      <td>-4.661727</td>\n",
       "      <td>0.666667</td>\n",
       "      <td>0.444444</td>\n",
       "      <td>0.296296</td>\n",
       "      <td>0.197531</td>\n",
       "      <td>0.131687</td>\n",
       "      <td>0.087791</td>\n",
       "      <td>0.058528</td>\n",
       "      <td>0.039018</td>\n",
       "      <td>0.026012</td>\n",
       "    </tr>\n",
       "    <tr>\n",
       "      <th>5</th>\n",
       "      <td>-1.897542</td>\n",
       "      <td>1.333333</td>\n",
       "      <td>1.777778</td>\n",
       "      <td>2.370370</td>\n",
       "      <td>3.160494</td>\n",
       "      <td>4.213992</td>\n",
       "      <td>5.618656</td>\n",
       "      <td>7.491541</td>\n",
       "      <td>9.988721</td>\n",
       "      <td>13.318295</td>\n",
       "    </tr>\n",
       "    <tr>\n",
       "      <th>6</th>\n",
       "      <td>-16.280038</td>\n",
       "      <td>2.000000</td>\n",
       "      <td>4.000000</td>\n",
       "      <td>8.000000</td>\n",
       "      <td>16.000000</td>\n",
       "      <td>32.000000</td>\n",
       "      <td>64.000000</td>\n",
       "      <td>128.000000</td>\n",
       "      <td>256.000000</td>\n",
       "      <td>512.000000</td>\n",
       "    </tr>\n",
       "    <tr>\n",
       "      <th>7</th>\n",
       "      <td>-8.879330</td>\n",
       "      <td>2.666667</td>\n",
       "      <td>7.111111</td>\n",
       "      <td>18.962963</td>\n",
       "      <td>50.567901</td>\n",
       "      <td>134.847737</td>\n",
       "      <td>359.593964</td>\n",
       "      <td>958.917238</td>\n",
       "      <td>2557.112635</td>\n",
       "      <td>6818.967027</td>\n",
       "    </tr>\n",
       "    <tr>\n",
       "      <th>8</th>\n",
       "      <td>2.945957</td>\n",
       "      <td>3.333333</td>\n",
       "      <td>11.111111</td>\n",
       "      <td>37.037037</td>\n",
       "      <td>123.456790</td>\n",
       "      <td>411.522634</td>\n",
       "      <td>1371.742112</td>\n",
       "      <td>4572.473708</td>\n",
       "      <td>15241.579027</td>\n",
       "      <td>50805.263425</td>\n",
       "    </tr>\n",
       "    <tr>\n",
       "      <th>9</th>\n",
       "      <td>10.399779</td>\n",
       "      <td>4.000000</td>\n",
       "      <td>16.000000</td>\n",
       "      <td>64.000000</td>\n",
       "      <td>256.000000</td>\n",
       "      <td>1024.000000</td>\n",
       "      <td>4096.000000</td>\n",
       "      <td>16384.000000</td>\n",
       "      <td>65536.000000</td>\n",
       "      <td>262144.000000</td>\n",
       "    </tr>\n",
       "  </tbody>\n",
       "</table>\n",
       "</div>"
      ],
      "text/plain": [
       "           y        x1         x2         x3          x4           x5  \\\n",
       "0  -8.256892 -2.000000   4.000000  -8.000000   16.000000   -32.000000   \n",
       "1   4.732777 -1.333333   1.777778  -2.370370    3.160494    -4.213992   \n",
       "2   3.997084 -0.666667   0.444444  -0.296296    0.197531    -0.131687   \n",
       "3  -3.518884  0.000000   0.000000   0.000000    0.000000     0.000000   \n",
       "4  -4.661727  0.666667   0.444444   0.296296    0.197531     0.131687   \n",
       "5  -1.897542  1.333333   1.777778   2.370370    3.160494     4.213992   \n",
       "6 -16.280038  2.000000   4.000000   8.000000   16.000000    32.000000   \n",
       "7  -8.879330  2.666667   7.111111  18.962963   50.567901   134.847737   \n",
       "8   2.945957  3.333333  11.111111  37.037037  123.456790   411.522634   \n",
       "9  10.399779  4.000000  16.000000  64.000000  256.000000  1024.000000   \n",
       "\n",
       "            x6            x7            x8             x9  \n",
       "0    64.000000   -128.000000    256.000000    -512.000000  \n",
       "1     5.618656     -7.491541      9.988721     -13.318295  \n",
       "2     0.087791     -0.058528      0.039018      -0.026012  \n",
       "3     0.000000      0.000000      0.000000       0.000000  \n",
       "4     0.087791      0.058528      0.039018       0.026012  \n",
       "5     5.618656      7.491541      9.988721      13.318295  \n",
       "6    64.000000    128.000000    256.000000     512.000000  \n",
       "7   359.593964    958.917238   2557.112635    6818.967027  \n",
       "8  1371.742112   4572.473708  15241.579027   50805.263425  \n",
       "9  4096.000000  16384.000000  65536.000000  262144.000000  "
      ]
     },
     "execution_count": 322,
     "metadata": {},
     "output_type": "execute_result"
    }
   ],
   "source": [
    "data3 = pd.DataFrame([data3.y]  # Use the list property that they can be concatenated by \"+\"\n",
    "            + [np.array(data3.x**(i+1)) for i in range(9)]).T # Generate all x^j, then stack them\n",
    "data3.columns = ['y']+['x%d'%(i+1) for i in range(9)]   # Rename the columns for better understanding\n",
    "data3"
   ]
  },
  {
   "cell_type": "code",
   "execution_count": 323,
   "metadata": {
    "collapsed": true
   },
   "outputs": [],
   "source": [
    "#Q2. As degree M increases from 1 to 9, fit y with M-degree polynomial and find the corresponding parameters and R^2\n",
    "    # Store them separately"
   ]
  },
  {
   "cell_type": "code",
   "execution_count": 324,
   "metadata": {
    "nbpresent": {
     "id": "814a6d53-1872-4de4-979b-733bd1348796"
    },
    "scrolled": true
   },
   "outputs": [
    {
     "name": "stdout",
     "output_type": "stream",
     "text": [
      "y ~ x1\n",
      "y ~ x1 + x2\n",
      "y ~ x1 + x2 + x3\n",
      "y ~ x1 + x2 + x3 + x4\n",
      "y ~ x1 + x2 + x3 + x4 + x5\n",
      "y ~ x1 + x2 + x3 + x4 + x5 + x6\n",
      "y ~ x1 + x2 + x3 + x4 + x5 + x6 + x7\n",
      "y ~ x1 + x2 + x3 + x4 + x5 + x6 + x7 + x8\n",
      "y ~ x1 + x2 + x3 + x4 + x5 + x6 + x7 + x8 + x9\n"
     ]
    },
    {
     "data": {
      "text/plain": [
       "[0.016695221729687293,\n",
       " 0.20770639221492682,\n",
       " 0.75592879017667158,\n",
       " 0.78753924885767013,\n",
       " 0.78753944371387807,\n",
       " 0.8886700019662257,\n",
       " 0.90246297972879819,\n",
       " 0.96384252460820874,\n",
       " 1.0]"
      ]
     },
     "execution_count": 324,
     "metadata": {},
     "output_type": "execute_result"
    }
   ],
   "source": [
    "def MultiReg(data, degree):\n",
    "    # First create a string for controlling the number of x_i\n",
    "    string = ''\n",
    "    for i in range(degree):\n",
    "        string += str(i+1)  # For example, if degree == 3, then this string would be '123' at the end\n",
    "    formula = 'y ~ x' + ' + x'.join(string) # join function will convert '123' to '1 + x2 + x3'\n",
    "    print(formula)\n",
    "\n",
    "    # Perform regression and return the results\n",
    "    lm = smf.ols(formula = formula, data = data).fit()\n",
    "    return lm.rsquared, lm.params\n",
    "\n",
    "\n",
    "# Run the function and store the results separately\n",
    "R2 = []; Params = []\n",
    "for M in range(1,10):\n",
    "    a,b = MultiReg(data3,M)  # For each M, run the function\n",
    "    R2.append(a)\n",
    "    Params.append(b)\n",
    "R2"
   ]
  },
  {
   "cell_type": "code",
   "execution_count": 325,
   "metadata": {
    "collapsed": true
   },
   "outputs": [],
   "source": [
    "#Q3. Plot the R^2, see how it changes as M goes up"
   ]
  },
  {
   "cell_type": "code",
   "execution_count": 326,
   "metadata": {
    "nbpresent": {
     "id": "9b038c7d-ae83-4529-b099-8ddc211a9e04"
    }
   },
   "outputs": [
    {
     "data": {
      "image/png": "[encoded data removed]",
      "text/plain": [
       "<matplotlib.figure.Figure at 0x1c06ceb8>"
      ]
     },
     "metadata": {},
     "output_type": "display_data"
    }
   ],
   "source": [
    "#Q3 See how $R^2$ increases as the degree of polynomial increases \n",
    "plt.plot(range(1,10),R2,'ro--', markersize = 8)\n",
    "plt.xlabel('Degree M of polynomial', fontsize = 14)\n",
    "plt.ylabel('$R^2$ of the model', fontsize = 16)\n",
    "plt.show()"
   ]
  },
  {
   "cell_type": "code",
   "execution_count": 327,
   "metadata": {
    "collapsed": true,
    "nbpresent": {
     "id": "2b1ac48a-8914-40f1-bc0a-97d0094c9e7d"
    }
   },
   "outputs": [],
   "source": [
    "# For those who are interested, this is how the data was generated:\n",
    "\n",
    "# np.random.seed(123)        # Please use the same seed if you want to obtain identical plots as above\n",
    "# x = np.linspace(-2,4,10)\n",
    "# eps = np.random.normal(0,3,10)\n",
    "# f = lambda x: x**3 - 2*x**2 - 5*x + 1\n",
    "# y = f(x) + eps\n",
    "\n",
    "# data3 = pd.DataFrame([y]+[x**(i+1) for i in range(9)]).T\n",
    "# data3.columns = ['y']+['x%d'%(i+1) for i in range(9)]"
   ]
  },
  {
   "cell_type": "markdown",
   "metadata": {
    "nbpresent": {
     "id": "0105e6c8-cf6c-48a9-9434-6c9a909594f4"
    }
   },
   "source": [
    "### Finally we plot everything together, compared to the true function used to generate the data, now given as\n",
    "$$ f(x) = x^3 - 2x^2 - 5 + 1$$\n",
    "* <font color='red'>Red</font>  dots are our observations\n",
    "* <font color='green'>Green</font> curve is the true function\n",
    "* <font color='blue'>Blue</font> dashed line is our fitted curve\n",
    "* Two stars $\\star$ are for comparison--how well our model fits the actual value"
   ]
  },
  {
   "cell_type": "code",
   "execution_count": 328,
   "metadata": {
    "collapsed": true
   },
   "outputs": [],
   "source": [
    "#Q4. Visualize the dataset:\n",
    "    #Q 4.1 Generate a plot with 3-by-3 subfigure, each containing a model with M-degree polynomial (from 1 to 9)\n",
    "    #Q 4.2 In each subfigure, plot the observations and the fitted curve of polynomial\n",
    "    #Q 4.3 In each subfigure, plot the function x**3 - 2*x**2 - 5*x + 1, see how it looks"
   ]
  },
  {
   "cell_type": "code",
   "execution_count": 329,
   "metadata": {
    "nbpresent": {
     "id": "4a45d404-366f-4201-a44e-f8ce18cfac0b"
    }
   },
   "outputs": [
    {
     "data": {
      "image/png": "[encoded data removed]",
      "text/plain": [
       "<matplotlib.figure.Figure at 0x1c01c9e8>"
      ]
     },
     "metadata": {},
     "output_type": "display_data"
    }
   ],
   "source": [
    "plt.figure(figsize = (20,15))\n",
    "\n",
    "f = lambda x: x**3 - 2*x**2 - 5*x + 1\n",
    "\n",
    "for M in range(1,10):\n",
    "    plt.subplot(330+M)   # Plot subfigure, M controls the location\n",
    "    x_fit = np.linspace(-2,4.3,100)  # For smoothing the fitted curve\n",
    "    y_fit = pd.DataFrame(np.matrix([x_fit**k for k in range(M+1)]).T,  # Generate our fitted curve\n",
    "                         columns = Params[M-1].index).mul(Params[M-1], 1).sum(1)  # 1 means computation runs row-wise\n",
    "    # Pay attention how we obtain the results by controlling the axes on which the operations are performed\n",
    "\n",
    "    y_future = 0\n",
    "    x_future = 4.3\n",
    "    for i in range(len(Params[M-1])):\n",
    "        y_future += Params[M-1][i] * (x_future**i)\n",
    "    plt.plot(data3.x1, data3.y, 'ro', markersize = 8)    # Red dots, the observations\n",
    "    plt.plot(x_fit, f(x_fit), 'g-', lw = 2)              # Green curve, the actual function f defined before\n",
    "    plt.plot(x_fit, y_fit, 'b--', lw = 2)                # Blue dashed line, our fitted curve\n",
    "    plt.plot(x_future, y_future, 'b*', markersize = 18)        # Blue star, fitted value\n",
    "    plt.plot(x_future, f(x_future), 'g*', markersize = 18)     # Green star, true value\n",
    "    plt.plot([x_future,x_future], [y_future, f(x_future)], 'k--', lw = 2)\n",
    "    plt.title('Degree M = %d'%(M), fontsize = 14)"
   ]
  },
  {
   "cell_type": "code",
   "execution_count": null,
   "metadata": {
    "collapsed": true
   },
   "outputs": [],
   "source": []
  },
  {
   "cell_type": "markdown",
   "metadata": {
    "nbpresent": {
     "id": "d08efdb5-28cf-47d7-8ca4-3aa34652eed3"
    }
   },
   "source": [
    "## Example 4. Income vs Education in NYC zip code areas\n",
    "\n",
    "Model average income per capita against percentages of individuals of different education level within the area\n",
    "\n",
    "### Memo:\n",
    "* **IncomePerCapita**----measured in USD\n",
    "* **PopOver25** et al----population number under each category, e.g.\n",
    "    * total population over 25 years old\n",
    "    * holding a Bachelor's degree\n",
    "    * graduating from professional school, etc."
   ]
  },
  {
   "cell_type": "code",
   "execution_count": 330,
   "metadata": {},
   "outputs": [
    {
     "data": {
      "text/html": [
       "<div>\n",
       "<style>\n",
       "    .dataframe thead tr:only-child th {\n",
       "        text-align: right;\n",
       "    }\n",
       "\n",
       "    .dataframe thead th {\n",
       "        text-align: left;\n",
       "    }\n",
       "\n",
       "    .dataframe tbody tr th {\n",
       "        vertical-align: top;\n",
       "    }\n",
       "</style>\n",
       "<table border=\"1\" class=\"dataframe\">\n",
       "  <thead>\n",
       "    <tr style=\"text-align: right;\">\n",
       "      <th></th>\n",
       "      <th>Zipcode</th>\n",
       "      <th>IncomePerCapita</th>\n",
       "      <th>PopOver25</th>\n",
       "      <th>LessThanHS</th>\n",
       "      <th>HighSchool</th>\n",
       "      <th>SomeCollege</th>\n",
       "      <th>Bachelor</th>\n",
       "      <th>Master</th>\n",
       "      <th>Doctorate</th>\n",
       "      <th>ProfSchool</th>\n",
       "    </tr>\n",
       "  </thead>\n",
       "  <tbody>\n",
       "    <tr>\n",
       "      <th>0</th>\n",
       "      <td>10001</td>\n",
       "      <td>77512.0</td>\n",
       "      <td>16328</td>\n",
       "      <td>1389</td>\n",
       "      <td>1665</td>\n",
       "      <td>2075</td>\n",
       "      <td>6061</td>\n",
       "      <td>3412</td>\n",
       "      <td>519</td>\n",
       "      <td>1207</td>\n",
       "    </tr>\n",
       "    <tr>\n",
       "      <th>1</th>\n",
       "      <td>10002</td>\n",
       "      <td>26905.0</td>\n",
       "      <td>60932</td>\n",
       "      <td>21170</td>\n",
       "      <td>12718</td>\n",
       "      <td>8532</td>\n",
       "      <td>12721</td>\n",
       "      <td>4001</td>\n",
       "      <td>641</td>\n",
       "      <td>1149</td>\n",
       "    </tr>\n",
       "    <tr>\n",
       "      <th>2</th>\n",
       "      <td>10003</td>\n",
       "      <td>79088.0</td>\n",
       "      <td>41182</td>\n",
       "      <td>1499</td>\n",
       "      <td>2810</td>\n",
       "      <td>4516</td>\n",
       "      <td>17958</td>\n",
       "      <td>9094</td>\n",
       "      <td>1626</td>\n",
       "      <td>3679</td>\n",
       "    </tr>\n",
       "    <tr>\n",
       "      <th>3</th>\n",
       "      <td>10004</td>\n",
       "      <td>98020.0</td>\n",
       "      <td>2279</td>\n",
       "      <td>29</td>\n",
       "      <td>87</td>\n",
       "      <td>305</td>\n",
       "      <td>984</td>\n",
       "      <td>550</td>\n",
       "      <td>86</td>\n",
       "      <td>238</td>\n",
       "    </tr>\n",
       "    <tr>\n",
       "      <th>4</th>\n",
       "      <td>10005</td>\n",
       "      <td>99633.0</td>\n",
       "      <td>5954</td>\n",
       "      <td>133</td>\n",
       "      <td>103</td>\n",
       "      <td>454</td>\n",
       "      <td>2745</td>\n",
       "      <td>1637</td>\n",
       "      <td>219</td>\n",
       "      <td>663</td>\n",
       "    </tr>\n",
       "  </tbody>\n",
       "</table>\n",
       "</div>"
      ],
      "text/plain": [
       "   Zipcode  IncomePerCapita  PopOver25  LessThanHS  HighSchool  SomeCollege  \\\n",
       "0    10001          77512.0      16328        1389        1665         2075   \n",
       "1    10002          26905.0      60932       21170       12718         8532   \n",
       "2    10003          79088.0      41182        1499        2810         4516   \n",
       "3    10004          98020.0       2279          29          87          305   \n",
       "4    10005          99633.0       5954         133         103          454   \n",
       "\n",
       "   Bachelor  Master  Doctorate  ProfSchool  \n",
       "0      6061    3412        519        1207  \n",
       "1     12721    4001        641        1149  \n",
       "2     17958    9094       1626        3679  \n",
       "3       984     550         86         238  \n",
       "4      2745    1637        219         663  "
      ]
     },
     "execution_count": 330,
     "metadata": {},
     "output_type": "execute_result"
    }
   ],
   "source": [
    "data4 = pd.read_csv(path + 'IncomeEduReg.csv')\n",
    "data4.head()"
   ]
  },
  {
   "cell_type": "markdown",
   "metadata": {
    "nbpresent": {
     "id": "15e02d22-78d7-4b6e-a382-0f6938e9aa6a"
    }
   },
   "source": [
    "Starting from now we denote Income per capita by IPC:\n",
    "$$IPC = \\frac{Total \\: Income}{Total \\: Population}$$\n",
    "But Total Income can be calculated as\n",
    "$$ Total\\: Income = \\sum_k Total \\: Income \\:in\\: Category_k$$\n",
    "$$ = \\sum_k (IPC \\: within \\: Category_k  \\times Population \\: of\\: Category_k)$$\n",
    "Then, IPC can be rewritten as\n",
    "$$ \\sum_k (IPC \\: within \\: Category_k  \\times \\frac{Population \\: of\\: Category_k}{Total \\: Population})$$\n",
    "\n",
    "$$= \\sum_{k} (I_k \\times p_k)$$\n",
    "\n",
    "where k is the category index, $I_k$ is the average income within category k, and $p_k$ is the population percentage of category k.  \n",
    "Our goal is to fit these $I_k$ as regression coefficients, note that since all these percentages sum up to 100%, we can omit one last $p_k$ and rewrite this term as 1 minus the rest. For example, if there are 3 categories in total, we have:\n",
    "$$p_1 + p_2 + p_3 = 1$$which means$$p_3 = 1 - p_1 - p_2$$\n",
    "Hence  $$IPC = I_1p_1 + I_2p_2 + I_3p_3$$ $$= I_1p_1 + I_2p_2 + I_3(1 - p_1 -p_2)$$ $$= I_3 + (I_1 - I_3)p_1 + (I_2 - I_3)p_2$$\n",
    "which means we are equivalently fitting $I_3, (I_1 - I_3), (I_2 - I_3)$ rather than $I_1, I_3, I_3$, this is also where the intercept ($I_3$) comes from."
   ]
  },
  {
   "cell_type": "markdown",
   "metadata": {
    "collapsed": true
   },
   "source": [
    "#### Q1. Load data, verify that, in each zip code, \"PopOver25\" is indeed the sum of all other population categories"
   ]
  },
  {
   "cell_type": "markdown",
   "metadata": {},
   "source": [
    "#### Q2. Perform the regression of income per capita version education distribution\n",
    "    Q2.1. For that purpise convert the population counts in each education category into percentages of all people with such education. Make sure there is no NaN (Not a number) or 0 in the denominator before converting population into percentage. Divide each column by the total population \"PopOver25\". Leave the result in form of 58(%) rather than 0.58\n",
    "    Q2.2. Run the regression of IncomePerCaputa ~ HighSchool + SomeCollege + Bachelor + Master + Doctorate + ProfSchool (below HS is left out as a linear combination of others)\n",
    "    Q.2.3. Diagnose multicollinearity by looking at the correlations between regressors"
   ]
  },
  {
   "cell_type": "code",
   "execution_count": 347,
   "metadata": {},
   "outputs": [],
   "source": [
    "data4 = data4.dropna(0,how='any')\n",
    "data4 = data4[(data4 != 0).all(axis=1)]"
   ]
  },
  {
   "cell_type": "code",
   "execution_count": 332,
   "metadata": {},
   "outputs": [
    {
     "data": {
      "text/html": [
       "<div>\n",
       "<style>\n",
       "    .dataframe thead tr:only-child th {\n",
       "        text-align: right;\n",
       "    }\n",
       "\n",
       "    .dataframe thead th {\n",
       "        text-align: left;\n",
       "    }\n",
       "\n",
       "    .dataframe tbody tr th {\n",
       "        vertical-align: top;\n",
       "    }\n",
       "</style>\n",
       "<table border=\"1\" class=\"dataframe\">\n",
       "  <thead>\n",
       "    <tr style=\"text-align: right;\">\n",
       "      <th></th>\n",
       "      <th>Zipcode</th>\n",
       "      <th>IncomePerCapita</th>\n",
       "      <th>PopOver25</th>\n",
       "      <th>LessThanHS</th>\n",
       "      <th>HighSchool</th>\n",
       "      <th>SomeCollege</th>\n",
       "      <th>Bachelor</th>\n",
       "      <th>Master</th>\n",
       "      <th>Doctorate</th>\n",
       "      <th>ProfSchool</th>\n",
       "    </tr>\n",
       "  </thead>\n",
       "  <tbody>\n",
       "    <tr>\n",
       "      <th>0</th>\n",
       "      <td>10001</td>\n",
       "      <td>77512.0</td>\n",
       "      <td>16328</td>\n",
       "      <td>1389</td>\n",
       "      <td>1665</td>\n",
       "      <td>2075</td>\n",
       "      <td>6061</td>\n",
       "      <td>3412</td>\n",
       "      <td>519</td>\n",
       "      <td>1207</td>\n",
       "    </tr>\n",
       "    <tr>\n",
       "      <th>1</th>\n",
       "      <td>10002</td>\n",
       "      <td>26905.0</td>\n",
       "      <td>60932</td>\n",
       "      <td>21170</td>\n",
       "      <td>12718</td>\n",
       "      <td>8532</td>\n",
       "      <td>12721</td>\n",
       "      <td>4001</td>\n",
       "      <td>641</td>\n",
       "      <td>1149</td>\n",
       "    </tr>\n",
       "    <tr>\n",
       "      <th>2</th>\n",
       "      <td>10003</td>\n",
       "      <td>79088.0</td>\n",
       "      <td>41182</td>\n",
       "      <td>1499</td>\n",
       "      <td>2810</td>\n",
       "      <td>4516</td>\n",
       "      <td>17958</td>\n",
       "      <td>9094</td>\n",
       "      <td>1626</td>\n",
       "      <td>3679</td>\n",
       "    </tr>\n",
       "    <tr>\n",
       "      <th>3</th>\n",
       "      <td>10004</td>\n",
       "      <td>98020.0</td>\n",
       "      <td>2279</td>\n",
       "      <td>29</td>\n",
       "      <td>87</td>\n",
       "      <td>305</td>\n",
       "      <td>984</td>\n",
       "      <td>550</td>\n",
       "      <td>86</td>\n",
       "      <td>238</td>\n",
       "    </tr>\n",
       "    <tr>\n",
       "      <th>4</th>\n",
       "      <td>10005</td>\n",
       "      <td>99633.0</td>\n",
       "      <td>5954</td>\n",
       "      <td>133</td>\n",
       "      <td>103</td>\n",
       "      <td>454</td>\n",
       "      <td>2745</td>\n",
       "      <td>1637</td>\n",
       "      <td>219</td>\n",
       "      <td>663</td>\n",
       "    </tr>\n",
       "  </tbody>\n",
       "</table>\n",
       "</div>"
      ],
      "text/plain": [
       "   Zipcode  IncomePerCapita  PopOver25  LessThanHS  HighSchool  SomeCollege  \\\n",
       "0    10001          77512.0      16328        1389        1665         2075   \n",
       "1    10002          26905.0      60932       21170       12718         8532   \n",
       "2    10003          79088.0      41182        1499        2810         4516   \n",
       "3    10004          98020.0       2279          29          87          305   \n",
       "4    10005          99633.0       5954         133         103          454   \n",
       "\n",
       "   Bachelor  Master  Doctorate  ProfSchool  \n",
       "0      6061    3412        519        1207  \n",
       "1     12721    4001        641        1149  \n",
       "2     17958    9094       1626        3679  \n",
       "3       984     550         86         238  \n",
       "4      2745    1637        219         663  "
      ]
     },
     "execution_count": 332,
     "metadata": {},
     "output_type": "execute_result"
    }
   ],
   "source": [
    "data4.head()"
   ]
  },
  {
   "cell_type": "code",
   "execution_count": 333,
   "metadata": {},
   "outputs": [],
   "source": [
    "for i in range(3,len(data4.columns)):\n",
    "    data4.iloc[:,i] = data4.iloc[:,i]/data4.iloc[:,2] * 100"
   ]
  },
  {
   "cell_type": "code",
   "execution_count": 335,
   "metadata": {
    "scrolled": true
   },
   "outputs": [
    {
     "data": {
      "text/html": [
       "<div>\n",
       "<style>\n",
       "    .dataframe thead tr:only-child th {\n",
       "        text-align: right;\n",
       "    }\n",
       "\n",
       "    .dataframe thead th {\n",
       "        text-align: left;\n",
       "    }\n",
       "\n",
       "    .dataframe tbody tr th {\n",
       "        vertical-align: top;\n",
       "    }\n",
       "</style>\n",
       "<table border=\"1\" class=\"dataframe\">\n",
       "  <thead>\n",
       "    <tr style=\"text-align: right;\">\n",
       "      <th></th>\n",
       "      <th>Zipcode</th>\n",
       "      <th>IncomePerCapita</th>\n",
       "      <th>PopOver25</th>\n",
       "      <th>LessThanHS</th>\n",
       "      <th>HighSchool</th>\n",
       "      <th>SomeCollege</th>\n",
       "      <th>Bachelor</th>\n",
       "      <th>Master</th>\n",
       "      <th>Doctorate</th>\n",
       "      <th>ProfSchool</th>\n",
       "    </tr>\n",
       "  </thead>\n",
       "  <tbody>\n",
       "    <tr>\n",
       "      <th>0</th>\n",
       "      <td>10001</td>\n",
       "      <td>77512.0</td>\n",
       "      <td>16328</td>\n",
       "      <td>8.506859</td>\n",
       "      <td>10.197207</td>\n",
       "      <td>12.708231</td>\n",
       "      <td>37.120284</td>\n",
       "      <td>20.896619</td>\n",
       "      <td>3.178589</td>\n",
       "      <td>7.392210</td>\n",
       "    </tr>\n",
       "    <tr>\n",
       "      <th>1</th>\n",
       "      <td>10002</td>\n",
       "      <td>26905.0</td>\n",
       "      <td>60932</td>\n",
       "      <td>34.743649</td>\n",
       "      <td>20.872448</td>\n",
       "      <td>14.002495</td>\n",
       "      <td>20.877371</td>\n",
       "      <td>6.566336</td>\n",
       "      <td>1.051992</td>\n",
       "      <td>1.885709</td>\n",
       "    </tr>\n",
       "    <tr>\n",
       "      <th>2</th>\n",
       "      <td>10003</td>\n",
       "      <td>79088.0</td>\n",
       "      <td>41182</td>\n",
       "      <td>3.639940</td>\n",
       "      <td>6.823369</td>\n",
       "      <td>10.965956</td>\n",
       "      <td>43.606430</td>\n",
       "      <td>22.082463</td>\n",
       "      <td>3.948327</td>\n",
       "      <td>8.933515</td>\n",
       "    </tr>\n",
       "    <tr>\n",
       "      <th>3</th>\n",
       "      <td>10004</td>\n",
       "      <td>98020.0</td>\n",
       "      <td>2279</td>\n",
       "      <td>1.272488</td>\n",
       "      <td>3.817464</td>\n",
       "      <td>13.383063</td>\n",
       "      <td>43.176832</td>\n",
       "      <td>24.133392</td>\n",
       "      <td>3.773585</td>\n",
       "      <td>10.443177</td>\n",
       "    </tr>\n",
       "    <tr>\n",
       "      <th>4</th>\n",
       "      <td>10005</td>\n",
       "      <td>99633.0</td>\n",
       "      <td>5954</td>\n",
       "      <td>2.233792</td>\n",
       "      <td>1.729929</td>\n",
       "      <td>7.625126</td>\n",
       "      <td>46.103460</td>\n",
       "      <td>27.494122</td>\n",
       "      <td>3.678200</td>\n",
       "      <td>11.135371</td>\n",
       "    </tr>\n",
       "  </tbody>\n",
       "</table>\n",
       "</div>"
      ],
      "text/plain": [
       "   Zipcode  IncomePerCapita  PopOver25  LessThanHS  HighSchool  SomeCollege  \\\n",
       "0    10001          77512.0      16328    8.506859   10.197207    12.708231   \n",
       "1    10002          26905.0      60932   34.743649   20.872448    14.002495   \n",
       "2    10003          79088.0      41182    3.639940    6.823369    10.965956   \n",
       "3    10004          98020.0       2279    1.272488    3.817464    13.383063   \n",
       "4    10005          99633.0       5954    2.233792    1.729929     7.625126   \n",
       "\n",
       "    Bachelor     Master  Doctorate  ProfSchool  \n",
       "0  37.120284  20.896619   3.178589    7.392210  \n",
       "1  20.877371   6.566336   1.051992    1.885709  \n",
       "2  43.606430  22.082463   3.948327    8.933515  \n",
       "3  43.176832  24.133392   3.773585   10.443177  \n",
       "4  46.103460  27.494122   3.678200   11.135371  "
      ]
     },
     "execution_count": 335,
     "metadata": {},
     "output_type": "execute_result"
    }
   ],
   "source": [
    "data4.head()"
   ]
  },
  {
   "cell_type": "code",
   "execution_count": 337,
   "metadata": {},
   "outputs": [],
   "source": [
    "lr = smf.ols(formula='IncomePerCapita ~ HighSchool + SomeCollege + Bachelor + Master + Doctorate + ProfSchool',data=data4).fit()"
   ]
  },
  {
   "cell_type": "code",
   "execution_count": 338,
   "metadata": {},
   "outputs": [
    {
     "data": {
      "text/html": [
       "<table class=\"simpletable\">\n",
       "<caption>OLS Regression Results</caption>\n",
       "<tr>\n",
       "  <th>Dep. Variable:</th>     <td>IncomePerCapita</td> <th>  R-squared:         </th> <td>   0.885</td>\n",
       "</tr>\n",
       "<tr>\n",
       "  <th>Model:</th>                   <td>OLS</td>       <th>  Adj. R-squared:    </th> <td>   0.880</td>\n",
       "</tr>\n",
       "<tr>\n",
       "  <th>Method:</th>             <td>Least Squares</td>  <th>  F-statistic:       </th> <td>   217.1</td>\n",
       "</tr>\n",
       "<tr>\n",
       "  <th>Date:</th>             <td>Tue, 03 Oct 2017</td> <th>  Prob (F-statistic):</th> <td>5.82e-77</td>\n",
       "</tr>\n",
       "<tr>\n",
       "  <th>Time:</th>                 <td>18:16:08</td>     <th>  Log-Likelihood:    </th> <td> -1879.1</td>\n",
       "</tr>\n",
       "<tr>\n",
       "  <th>No. Observations:</th>      <td>   177</td>      <th>  AIC:               </th> <td>   3772.</td>\n",
       "</tr>\n",
       "<tr>\n",
       "  <th>Df Residuals:</th>          <td>   170</td>      <th>  BIC:               </th> <td>   3794.</td>\n",
       "</tr>\n",
       "<tr>\n",
       "  <th>Df Model:</th>              <td>     6</td>      <th>                     </th>     <td> </td>   \n",
       "</tr>\n",
       "<tr>\n",
       "  <th>Covariance Type:</th>      <td>nonrobust</td>    <th>                     </th>     <td> </td>   \n",
       "</tr>\n",
       "</table>\n",
       "<table class=\"simpletable\">\n",
       "<tr>\n",
       "       <td></td>          <th>coef</th>     <th>std err</th>      <th>t</th>      <th>P>|t|</th>  <th>[0.025</th>    <th>0.975]</th>  \n",
       "</tr>\n",
       "<tr>\n",
       "  <th>Intercept</th>   <td>-6631.2657</td> <td> 8458.882</td> <td>   -0.784</td> <td> 0.434</td> <td>-2.33e+04</td> <td> 1.01e+04</td>\n",
       "</tr>\n",
       "<tr>\n",
       "  <th>HighSchool</th>  <td>  362.1346</td> <td>  210.941</td> <td>    1.717</td> <td> 0.088</td> <td>  -54.267</td> <td>  778.536</td>\n",
       "</tr>\n",
       "<tr>\n",
       "  <th>SomeCollege</th> <td>  -71.2165</td> <td>  203.570</td> <td>   -0.350</td> <td> 0.727</td> <td> -473.067</td> <td>  330.634</td>\n",
       "</tr>\n",
       "<tr>\n",
       "  <th>Bachelor</th>    <td>  603.6974</td> <td>  218.419</td> <td>    2.764</td> <td> 0.006</td> <td>  172.535</td> <td> 1034.860</td>\n",
       "</tr>\n",
       "<tr>\n",
       "  <th>Master</th>      <td>  222.0426</td> <td>  381.105</td> <td>    0.583</td> <td> 0.561</td> <td> -530.266</td> <td>  974.351</td>\n",
       "</tr>\n",
       "<tr>\n",
       "  <th>Doctorate</th>   <td> -808.3290</td> <td>  825.810</td> <td>   -0.979</td> <td> 0.329</td> <td>-2438.492</td> <td>  821.834</td>\n",
       "</tr>\n",
       "<tr>\n",
       "  <th>ProfSchool</th>  <td> 6989.8292</td> <td>  631.658</td> <td>   11.066</td> <td> 0.000</td> <td> 5742.926</td> <td> 8236.732</td>\n",
       "</tr>\n",
       "</table>\n",
       "<table class=\"simpletable\">\n",
       "<tr>\n",
       "  <th>Omnibus:</th>       <td>99.263</td> <th>  Durbin-Watson:     </th> <td>   1.958</td> \n",
       "</tr>\n",
       "<tr>\n",
       "  <th>Prob(Omnibus):</th> <td> 0.000</td> <th>  Jarque-Bera (JB):  </th> <td>1117.272</td> \n",
       "</tr>\n",
       "<tr>\n",
       "  <th>Skew:</th>          <td> 1.786</td> <th>  Prob(JB):          </th> <td>2.44e-243</td>\n",
       "</tr>\n",
       "<tr>\n",
       "  <th>Kurtosis:</th>      <td>14.779</td> <th>  Cond. No.          </th> <td>    450.</td> \n",
       "</tr>\n",
       "</table>"
      ],
      "text/plain": [
       "<class 'statsmodels.iolib.summary.Summary'>\n",
       "\"\"\"\n",
       "                            OLS Regression Results                            \n",
       "==============================================================================\n",
       "Dep. Variable:        IncomePerCapita   R-squared:                       0.885\n",
       "Model:                            OLS   Adj. R-squared:                  0.880\n",
       "Method:                 Least Squares   F-statistic:                     217.1\n",
       "Date:                Tue, 03 Oct 2017   Prob (F-statistic):           5.82e-77\n",
       "Time:                        18:16:08   Log-Likelihood:                -1879.1\n",
       "No. Observations:                 177   AIC:                             3772.\n",
       "Df Residuals:                     170   BIC:                             3794.\n",
       "Df Model:                           6                                         \n",
       "Covariance Type:            nonrobust                                         \n",
       "===============================================================================\n",
       "                  coef    std err          t      P>|t|      [0.025      0.975]\n",
       "-------------------------------------------------------------------------------\n",
       "Intercept   -6631.2657   8458.882     -0.784      0.434   -2.33e+04    1.01e+04\n",
       "HighSchool    362.1346    210.941      1.717      0.088     -54.267     778.536\n",
       "SomeCollege   -71.2165    203.570     -0.350      0.727    -473.067     330.634\n",
       "Bachelor      603.6974    218.419      2.764      0.006     172.535    1034.860\n",
       "Master        222.0426    381.105      0.583      0.561    -530.266     974.351\n",
       "Doctorate    -808.3290    825.810     -0.979      0.329   -2438.492     821.834\n",
       "ProfSchool   6989.8292    631.658     11.066      0.000    5742.926    8236.732\n",
       "==============================================================================\n",
       "Omnibus:                       99.263   Durbin-Watson:                   1.958\n",
       "Prob(Omnibus):                  0.000   Jarque-Bera (JB):             1117.272\n",
       "Skew:                           1.786   Prob(JB):                    2.44e-243\n",
       "Kurtosis:                      14.779   Cond. No.                         450.\n",
       "==============================================================================\n",
       "\n",
       "Warnings:\n",
       "[1] Standard Errors assume that the covariance matrix of the errors is correctly specified.\n",
       "\"\"\""
      ]
     },
     "execution_count": 338,
     "metadata": {},
     "output_type": "execute_result"
    }
   ],
   "source": [
    "lr.summary()"
   ]
  },
  {
   "cell_type": "markdown",
   "metadata": {
    "collapsed": true
   },
   "source": [
    "#### Q3. Perform regression of IncomePerCapita ~ Colledge + ProfSchool.\n",
    "    For that purpose Rearrange the dataset (of percentages, not population) as follows:\n",
    "    Q3.1 Create a new column called \"Colledge\", containing the sum of \"Bachelor\", \"SomeCollege\", \"Master\" and \"Doctorate\"\n",
    "    Q3.2 Create a new column called \"UpToHighSchool\", containing the sum of \"LessThanHS\" and \"HighSchool\"\n",
    "    Q3.3 \"ProfessionalSchool\" remains unchanged\n",
    "        --so we have effectively simplify the model with only 3 categories to consider\n",
    "    Q3.4 Leave out the \"UpToHighSchool\" column then regress IncomePerCapita over the other two (Colledge + ProfSchool). How big is the resulting R2 of the reduced model compared to the R2 of the complete one from Q2?"
   ]
  },
  {
   "cell_type": "code",
   "execution_count": 339,
   "metadata": {
    "collapsed": true
   },
   "outputs": [],
   "source": [
    "data4['Colledge'] = data4.Bachelor+data4.SomeCollege+data4.Master+data4.Doctorate\n",
    "data4['UpToHighSchool']=data4.LessThanHS+data4.HighSchool"
   ]
  },
  {
   "cell_type": "code",
   "execution_count": 340,
   "metadata": {},
   "outputs": [
    {
     "data": {
      "text/html": [
       "<div>\n",
       "<style>\n",
       "    .dataframe thead tr:only-child th {\n",
       "        text-align: right;\n",
       "    }\n",
       "\n",
       "    .dataframe thead th {\n",
       "        text-align: left;\n",
       "    }\n",
       "\n",
       "    .dataframe tbody tr th {\n",
       "        vertical-align: top;\n",
       "    }\n",
       "</style>\n",
       "<table border=\"1\" class=\"dataframe\">\n",
       "  <thead>\n",
       "    <tr style=\"text-align: right;\">\n",
       "      <th></th>\n",
       "      <th>Zipcode</th>\n",
       "      <th>IncomePerCapita</th>\n",
       "      <th>PopOver25</th>\n",
       "      <th>LessThanHS</th>\n",
       "      <th>HighSchool</th>\n",
       "      <th>SomeCollege</th>\n",
       "      <th>Bachelor</th>\n",
       "      <th>Master</th>\n",
       "      <th>Doctorate</th>\n",
       "      <th>ProfSchool</th>\n",
       "      <th>Colledge</th>\n",
       "      <th>UpToHighSchool</th>\n",
       "    </tr>\n",
       "  </thead>\n",
       "  <tbody>\n",
       "    <tr>\n",
       "      <th>0</th>\n",
       "      <td>10001</td>\n",
       "      <td>77512.0</td>\n",
       "      <td>16328</td>\n",
       "      <td>8.506859</td>\n",
       "      <td>10.197207</td>\n",
       "      <td>12.708231</td>\n",
       "      <td>37.120284</td>\n",
       "      <td>20.896619</td>\n",
       "      <td>3.178589</td>\n",
       "      <td>7.392210</td>\n",
       "      <td>73.903724</td>\n",
       "      <td>18.704067</td>\n",
       "    </tr>\n",
       "    <tr>\n",
       "      <th>1</th>\n",
       "      <td>10002</td>\n",
       "      <td>26905.0</td>\n",
       "      <td>60932</td>\n",
       "      <td>34.743649</td>\n",
       "      <td>20.872448</td>\n",
       "      <td>14.002495</td>\n",
       "      <td>20.877371</td>\n",
       "      <td>6.566336</td>\n",
       "      <td>1.051992</td>\n",
       "      <td>1.885709</td>\n",
       "      <td>42.498195</td>\n",
       "      <td>55.616097</td>\n",
       "    </tr>\n",
       "    <tr>\n",
       "      <th>2</th>\n",
       "      <td>10003</td>\n",
       "      <td>79088.0</td>\n",
       "      <td>41182</td>\n",
       "      <td>3.639940</td>\n",
       "      <td>6.823369</td>\n",
       "      <td>10.965956</td>\n",
       "      <td>43.606430</td>\n",
       "      <td>22.082463</td>\n",
       "      <td>3.948327</td>\n",
       "      <td>8.933515</td>\n",
       "      <td>80.603176</td>\n",
       "      <td>10.463309</td>\n",
       "    </tr>\n",
       "    <tr>\n",
       "      <th>3</th>\n",
       "      <td>10004</td>\n",
       "      <td>98020.0</td>\n",
       "      <td>2279</td>\n",
       "      <td>1.272488</td>\n",
       "      <td>3.817464</td>\n",
       "      <td>13.383063</td>\n",
       "      <td>43.176832</td>\n",
       "      <td>24.133392</td>\n",
       "      <td>3.773585</td>\n",
       "      <td>10.443177</td>\n",
       "      <td>84.466871</td>\n",
       "      <td>5.089952</td>\n",
       "    </tr>\n",
       "    <tr>\n",
       "      <th>4</th>\n",
       "      <td>10005</td>\n",
       "      <td>99633.0</td>\n",
       "      <td>5954</td>\n",
       "      <td>2.233792</td>\n",
       "      <td>1.729929</td>\n",
       "      <td>7.625126</td>\n",
       "      <td>46.103460</td>\n",
       "      <td>27.494122</td>\n",
       "      <td>3.678200</td>\n",
       "      <td>11.135371</td>\n",
       "      <td>84.900907</td>\n",
       "      <td>3.963722</td>\n",
       "    </tr>\n",
       "  </tbody>\n",
       "</table>\n",
       "</div>"
      ],
      "text/plain": [
       "   Zipcode  IncomePerCapita  PopOver25  LessThanHS  HighSchool  SomeCollege  \\\n",
       "0    10001          77512.0      16328    8.506859   10.197207    12.708231   \n",
       "1    10002          26905.0      60932   34.743649   20.872448    14.002495   \n",
       "2    10003          79088.0      41182    3.639940    6.823369    10.965956   \n",
       "3    10004          98020.0       2279    1.272488    3.817464    13.383063   \n",
       "4    10005          99633.0       5954    2.233792    1.729929     7.625126   \n",
       "\n",
       "    Bachelor     Master  Doctorate  ProfSchool   Colledge  UpToHighSchool  \n",
       "0  37.120284  20.896619   3.178589    7.392210  73.903724       18.704067  \n",
       "1  20.877371   6.566336   1.051992    1.885709  42.498195       55.616097  \n",
       "2  43.606430  22.082463   3.948327    8.933515  80.603176       10.463309  \n",
       "3  43.176832  24.133392   3.773585   10.443177  84.466871        5.089952  \n",
       "4  46.103460  27.494122   3.678200   11.135371  84.900907        3.963722  "
      ]
     },
     "execution_count": 340,
     "metadata": {},
     "output_type": "execute_result"
    }
   ],
   "source": [
    "data4.head()"
   ]
  },
  {
   "cell_type": "code",
   "execution_count": 341,
   "metadata": {
    "collapsed": true
   },
   "outputs": [],
   "source": [
    "lr2 = smf.ols('IncomePerCapita~Colledge+ProfSchool',data=data4).fit()"
   ]
  },
  {
   "cell_type": "code",
   "execution_count": 343,
   "metadata": {},
   "outputs": [
    {
     "data": {
      "text/html": [
       "<table class=\"simpletable\">\n",
       "<caption>OLS Regression Results</caption>\n",
       "<tr>\n",
       "  <th>Dep. Variable:</th>     <td>IncomePerCapita</td> <th>  R-squared:         </th> <td>   0.878</td>\n",
       "</tr>\n",
       "<tr>\n",
       "  <th>Model:</th>                   <td>OLS</td>       <th>  Adj. R-squared:    </th> <td>   0.877</td>\n",
       "</tr>\n",
       "<tr>\n",
       "  <th>Method:</th>             <td>Least Squares</td>  <th>  F-statistic:       </th> <td>   627.4</td>\n",
       "</tr>\n",
       "<tr>\n",
       "  <th>Date:</th>             <td>Tue, 03 Oct 2017</td> <th>  Prob (F-statistic):</th> <td>2.78e-80</td>\n",
       "</tr>\n",
       "<tr>\n",
       "  <th>Time:</th>                 <td>18:45:19</td>     <th>  Log-Likelihood:    </th> <td> -1883.8</td>\n",
       "</tr>\n",
       "<tr>\n",
       "  <th>No. Observations:</th>      <td>   177</td>      <th>  AIC:               </th> <td>   3774.</td>\n",
       "</tr>\n",
       "<tr>\n",
       "  <th>Df Residuals:</th>          <td>   174</td>      <th>  BIC:               </th> <td>   3783.</td>\n",
       "</tr>\n",
       "<tr>\n",
       "  <th>Df Model:</th>              <td>     2</td>      <th>                     </th>     <td> </td>   \n",
       "</tr>\n",
       "<tr>\n",
       "  <th>Covariance Type:</th>      <td>nonrobust</td>    <th>                     </th>     <td> </td>   \n",
       "</tr>\n",
       "</table>\n",
       "<table class=\"simpletable\">\n",
       "<tr>\n",
       "       <td></td>         <th>coef</th>     <th>std err</th>      <th>t</th>      <th>P>|t|</th>  <th>[0.025</th>    <th>0.975]</th>  \n",
       "</tr>\n",
       "<tr>\n",
       "  <th>Intercept</th>  <td>  189.3385</td> <td> 4615.663</td> <td>    0.041</td> <td> 0.967</td> <td>-8920.556</td> <td> 9299.233</td>\n",
       "</tr>\n",
       "<tr>\n",
       "  <th>Colledge</th>   <td>  269.6790</td> <td>  102.797</td> <td>    2.623</td> <td> 0.009</td> <td>   66.790</td> <td>  472.568</td>\n",
       "</tr>\n",
       "<tr>\n",
       "  <th>ProfSchool</th> <td> 6925.6864</td> <td>  419.429</td> <td>   16.512</td> <td> 0.000</td> <td> 6097.862</td> <td> 7753.511</td>\n",
       "</tr>\n",
       "</table>\n",
       "<table class=\"simpletable\">\n",
       "<tr>\n",
       "  <th>Omnibus:</th>       <td>91.673</td> <th>  Durbin-Watson:     </th> <td>   1.935</td> \n",
       "</tr>\n",
       "<tr>\n",
       "  <th>Prob(Omnibus):</th> <td> 0.000</td> <th>  Jarque-Bera (JB):  </th> <td> 882.709</td> \n",
       "</tr>\n",
       "<tr>\n",
       "  <th>Skew:</th>          <td> 1.659</td> <th>  Prob(JB):          </th> <td>2.10e-192</td>\n",
       "</tr>\n",
       "<tr>\n",
       "  <th>Kurtosis:</th>      <td>13.425</td> <th>  Cond. No.          </th> <td>    345.</td> \n",
       "</tr>\n",
       "</table>"
      ],
      "text/plain": [
       "<class 'statsmodels.iolib.summary.Summary'>\n",
       "\"\"\"\n",
       "                            OLS Regression Results                            \n",
       "==============================================================================\n",
       "Dep. Variable:        IncomePerCapita   R-squared:                       0.878\n",
       "Model:                            OLS   Adj. R-squared:                  0.877\n",
       "Method:                 Least Squares   F-statistic:                     627.4\n",
       "Date:                Tue, 03 Oct 2017   Prob (F-statistic):           2.78e-80\n",
       "Time:                        18:45:19   Log-Likelihood:                -1883.8\n",
       "No. Observations:                 177   AIC:                             3774.\n",
       "Df Residuals:                     174   BIC:                             3783.\n",
       "Df Model:                           2                                         \n",
       "Covariance Type:            nonrobust                                         \n",
       "==============================================================================\n",
       "                 coef    std err          t      P>|t|      [0.025      0.975]\n",
       "------------------------------------------------------------------------------\n",
       "Intercept    189.3385   4615.663      0.041      0.967   -8920.556    9299.233\n",
       "Colledge     269.6790    102.797      2.623      0.009      66.790     472.568\n",
       "ProfSchool  6925.6864    419.429     16.512      0.000    6097.862    7753.511\n",
       "==============================================================================\n",
       "Omnibus:                       91.673   Durbin-Watson:                   1.935\n",
       "Prob(Omnibus):                  0.000   Jarque-Bera (JB):              882.709\n",
       "Skew:                           1.659   Prob(JB):                    2.10e-192\n",
       "Kurtosis:                      13.425   Cond. No.                         345.\n",
       "==============================================================================\n",
       "\n",
       "Warnings:\n",
       "[1] Standard Errors assume that the covariance matrix of the errors is correctly specified.\n",
       "\"\"\""
      ]
     },
     "execution_count": 343,
     "metadata": {},
     "output_type": "execute_result"
    }
   ],
   "source": [
    "lr2.summary()"
   ]
  },
  {
   "cell_type": "markdown",
   "metadata": {
    "collapsed": true
   },
   "source": [
    "#### Q4. Visualize the data by plotting the observed Income per capita versus our prediction in a 2D plot"
   ]
  },
  {
   "cell_type": "code",
   "execution_count": 344,
   "metadata": {
    "collapsed": true
   },
   "outputs": [],
   "source": [
    "data4['pred'] = lr2.params[0] + data4.Colledge*lr2.params[1] + data4.ProfSchool*lr2.params[2]"
   ]
  },
  {
   "cell_type": "code",
   "execution_count": 345,
   "metadata": {},
   "outputs": [
    {
     "data": {
      "image/png": "[encoded data removed]",
      "text/plain": [
       "<matplotlib.figure.Figure at 0x1b33ada0>"
      ]
     },
     "metadata": {},
     "output_type": "display_data"
    }
   ],
   "source": [
    "plt.scatter(data4.Zipcode,data4.pred)\n",
    "plt.scatter(data4.Zipcode,data4.IncomePerCapita)\n",
    "plt.show()"
   ]
  }
 ],
 "metadata": {
  "anaconda-cloud": {},
  "kernelspec": {
   "display_name": "Python 2",
   "language": "python",
   "name": "python2"
  },
  "language_info": {
   "codemirror_mode": {
    "name": "ipython",
    "version": 2
   },
   "file_extension": ".py",
   "mimetype": "text/x-python",
   "name": "python",
   "nbconvert_exporter": "python",
   "pygments_lexer": "ipython2",
   "version": "2.7.14"
  }
 },
 "nbformat": 4,
 "nbformat_minor": 1
}
