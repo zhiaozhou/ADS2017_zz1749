{
 "cells": [
  {
   "cell_type": "code",
   "execution_count": 60,
   "metadata": {
    "collapsed": true
   },
   "outputs": [],
   "source": [
    "import pandas as pd\n",
    "import numpy as np\n",
    "from sklearn.datasets import make_classification\n",
    "from sklearn.datasets import make_blobs\n",
    "from matplotlib.pylab import plt\n",
    "from sklearn.decomposition import PCA\n",
    "import statsmodels.formula.api as smf\n",
    "from sklearn.model_selection import train_test_split\n",
    "%matplotlib inline\n",
    "import numpy as np"
   ]
  },
  {
   "cell_type": "markdown",
   "metadata": {},
   "source": [
    "# Part I. Crime statistics"
   ]
  },
  {
   "cell_type": "markdown",
   "metadata": {},
   "source": [
    "Crime Rate in 47 states of the USA with 13 explanatory variables  \n",
    "The crime rate (**Y**) in 47 states in the U.S. was reported together with possible factors that might influence it. The factors recorded are as follows;  \n",
    "X1 = the number of males aged 14 - 24 per 1000 of total state population  \n",
    "X2 = binary variable distinguishing southern states (X2 =1) from the rest (X2=0).  \n",
    "X3 = the mean number of years of schooling x 10 of the population, 25 years old and over  \n",
    "X4 = police expenditure (in dollars) per person by state and local government in 1960  \n",
    "X5 = police expenditure (in dollars) per person by state and local government in 1959  \n",
    "X6 = labour force participation rate per 1000 civilian urban males in the age group 14-24  \n",
    "X7 = the number of males per 1000 females  \n",
    "X8 = state population size in hundred thousands  \n",
    "X9 = unemployment rate of urban males per 1000 in the age group 14-24    \n",
    "X10 = unemployment rate of urban males per 1000 in the age group 35-59.  \n",
    "X11 = the median value of family income or transferable goods and assets (unit 10 dollars)  \n",
    "X12 = the number of families per 1000 earning below one-half of the median income.  "
   ]
  },
  {
   "cell_type": "code",
   "execution_count": 130,
   "metadata": {
    "collapsed": true
   },
   "outputs": [],
   "source": [
    "data = pd.read_excel('Crime.xlsx')"
   ]
  },
  {
   "cell_type": "code",
   "execution_count": 131,
   "metadata": {
    "collapsed": true
   },
   "outputs": [],
   "source": [
    "features = ['males','south','yrsSch','policExp60','policeExp59','labour',\n",
    "           'M/F','statePop','unemp14','unemp35','income','proverty']"
   ]
  },
  {
   "cell_type": "code",
   "execution_count": 132,
   "metadata": {},
   "outputs": [
    {
     "data": {
      "text/html": [
       "<div>\n",
       "<style>\n",
       "    .dataframe thead tr:only-child th {\n",
       "        text-align: right;\n",
       "    }\n",
       "\n",
       "    .dataframe thead th {\n",
       "        text-align: left;\n",
       "    }\n",
       "\n",
       "    .dataframe tbody tr th {\n",
       "        vertical-align: top;\n",
       "    }\n",
       "</style>\n",
       "<table border=\"1\" class=\"dataframe\">\n",
       "  <thead>\n",
       "    <tr style=\"text-align: right;\">\n",
       "      <th></th>\n",
       "      <th>X1</th>\n",
       "      <th>X2</th>\n",
       "      <th>X3</th>\n",
       "      <th>X4</th>\n",
       "      <th>X5</th>\n",
       "      <th>X6</th>\n",
       "      <th>X7</th>\n",
       "      <th>X8</th>\n",
       "      <th>X9</th>\n",
       "      <th>X10</th>\n",
       "      <th>X11</th>\n",
       "      <th>X12</th>\n",
       "      <th>Y</th>\n",
       "    </tr>\n",
       "  </thead>\n",
       "  <tbody>\n",
       "    <tr>\n",
       "      <th>0</th>\n",
       "      <td>151</td>\n",
       "      <td>1</td>\n",
       "      <td>91</td>\n",
       "      <td>58</td>\n",
       "      <td>56</td>\n",
       "      <td>510</td>\n",
       "      <td>950</td>\n",
       "      <td>33</td>\n",
       "      <td>108</td>\n",
       "      <td>41</td>\n",
       "      <td>394</td>\n",
       "      <td>261</td>\n",
       "      <td>79.1</td>\n",
       "    </tr>\n",
       "    <tr>\n",
       "      <th>1</th>\n",
       "      <td>143</td>\n",
       "      <td>0</td>\n",
       "      <td>113</td>\n",
       "      <td>103</td>\n",
       "      <td>95</td>\n",
       "      <td>583</td>\n",
       "      <td>1012</td>\n",
       "      <td>13</td>\n",
       "      <td>96</td>\n",
       "      <td>36</td>\n",
       "      <td>557</td>\n",
       "      <td>194</td>\n",
       "      <td>163.5</td>\n",
       "    </tr>\n",
       "    <tr>\n",
       "      <th>2</th>\n",
       "      <td>142</td>\n",
       "      <td>1</td>\n",
       "      <td>89</td>\n",
       "      <td>45</td>\n",
       "      <td>44</td>\n",
       "      <td>533</td>\n",
       "      <td>969</td>\n",
       "      <td>18</td>\n",
       "      <td>94</td>\n",
       "      <td>33</td>\n",
       "      <td>318</td>\n",
       "      <td>250</td>\n",
       "      <td>57.8</td>\n",
       "    </tr>\n",
       "    <tr>\n",
       "      <th>3</th>\n",
       "      <td>136</td>\n",
       "      <td>0</td>\n",
       "      <td>121</td>\n",
       "      <td>149</td>\n",
       "      <td>141</td>\n",
       "      <td>577</td>\n",
       "      <td>994</td>\n",
       "      <td>157</td>\n",
       "      <td>102</td>\n",
       "      <td>39</td>\n",
       "      <td>673</td>\n",
       "      <td>167</td>\n",
       "      <td>196.9</td>\n",
       "    </tr>\n",
       "    <tr>\n",
       "      <th>4</th>\n",
       "      <td>141</td>\n",
       "      <td>0</td>\n",
       "      <td>121</td>\n",
       "      <td>109</td>\n",
       "      <td>101</td>\n",
       "      <td>591</td>\n",
       "      <td>985</td>\n",
       "      <td>18</td>\n",
       "      <td>91</td>\n",
       "      <td>20</td>\n",
       "      <td>578</td>\n",
       "      <td>174</td>\n",
       "      <td>123.4</td>\n",
       "    </tr>\n",
       "  </tbody>\n",
       "</table>\n",
       "</div>"
      ],
      "text/plain": [
       "    X1  X2   X3   X4   X5   X6    X7   X8   X9  X10  X11  X12      Y\n",
       "0  151   1   91   58   56  510   950   33  108   41  394  261   79.1\n",
       "1  143   0  113  103   95  583  1012   13   96   36  557  194  163.5\n",
       "2  142   1   89   45   44  533   969   18   94   33  318  250   57.8\n",
       "3  136   0  121  149  141  577   994  157  102   39  673  167  196.9\n",
       "4  141   0  121  109  101  591   985   18   91   20  578  174  123.4"
      ]
     },
     "execution_count": 132,
     "metadata": {},
     "output_type": "execute_result"
    }
   ],
   "source": [
    "data.head()"
   ]
  },
  {
   "cell_type": "markdown",
   "metadata": {},
   "source": [
    "## Q1. Report the correlation coefficients between each feature and the output variable Y (crimes per 100.000)\n",
    "## Q2. Look at the impact of each feature separately (on all 47 observations)\n",
    "    # Fit bi-variate regressions and report the estimate as well as the p-values\n",
    "## Q3. Take for the further consideration only those which have correlation coefficient with Y above 60%\n",
    "    # Fit the multi-variate regression with them, report statistics\n",
    "## Q4. Run cross-validation with the regressors in Q3, report the Out-of-sample R2 (OS R2)\n",
    "    # Put 2/3 observations on average into training set and the remaining 1/3 into test set\n",
    "    # Run it 1000 times, obtain the average value"
   ]
  },
  {
   "cell_type": "markdown",
   "metadata": {},
   "source": [
    "## Q1"
   ]
  },
  {
   "cell_type": "code",
   "execution_count": 133,
   "metadata": {},
   "outputs": [
    {
     "data": {
      "text/plain": [
       "X1    -0.089472\n",
       "X2    -0.090637\n",
       "X3     0.322835\n",
       "X4     0.687604\n",
       "X5     0.666714\n",
       "X6     0.188866\n",
       "X7     0.213914\n",
       "X8     0.337474\n",
       "X9    -0.050478\n",
       "X10    0.177321\n",
       "X11    0.441320\n",
       "X12   -0.179024\n",
       "Y      1.000000\n",
       "Name: Y, dtype: float64"
      ]
     },
     "execution_count": 133,
     "metadata": {},
     "output_type": "execute_result"
    }
   ],
   "source": [
    "data.corr().iloc[-1,:]"
   ]
  },
  {
   "cell_type": "markdown",
   "metadata": {
    "collapsed": true
   },
   "source": [
    "## Q2"
   ]
  },
  {
   "cell_type": "code",
   "execution_count": 134,
   "metadata": {},
   "outputs": [
    {
     "name": "stdout",
     "output_type": "stream",
     "text": [
      "for CRIMES RATE vs males: the intercept is 128.664557307 whose p-value is 0.0489390797835, the coefficient is -0.275346874469 whose p-value is 0.549789098262\n",
      "for CRIMES RATE vs south: the intercept is 93.0 whose p-value is 3.41275803363e-17, the coefficient is -7.31875 whose p-value is 0.544586009683\n",
      "for CRIMES RATE vs yrsSch: the intercept is -27.3966544949 whose p-value is 0.599551789225, the coefficient is 1.11612140207 whose p-value is 0.0268781711213\n",
      "for CRIMES RATE vs policExp60: the intercept is 14.446398302 whose p-value is 0.260205737524, the coefficient is 0.894848380427 whose p-value is 9.33801585639e-08\n",
      "for CRIMES RATE vs policeExp59: the intercept is 16.5164241496 whose p-value is 0.211909242631, the coefficient is 0.922203146372 whose p-value is 3.11418210105e-07\n",
      "for CRIMES RATE vs labour: the intercept is -10.9297731332 whose p-value is 0.890335767568, the coefficient is 0.180755206902 whose p-value is 0.203581006172\n",
      "for CRIMES RATE vs M/F: the intercept is -185.489484371 whose p-value is 0.329005635406, the coefficient is 0.28076502674 whose p-value is 0.148793749372\n",
      "for CRIMES RATE vs statePop: the intercept is 77.954815971 whose p-value is 1.45483941958e-13, the coefficient is 0.342837681211 whose p-value is 0.0203505989227\n",
      "for CRIMES RATE vs unemp14: the intercept is 100.846541488 whose p-value is 0.00218053719153, the coefficient is -0.108287820358 whose p-value is 0.736150414917\n",
      "for CRIMES RATE vs unemp35: the intercept is 62.9161945709 whose p-value is 0.0103482002092, the coefficient is 0.812046872366 whose p-value is 0.23310770166\n",
      "for CRIMES RATE vs income: the intercept is -2.42826090477 whose p-value is 0.932787730878, the coefficient is 0.176893381222 whose p-value is 0.00190166929379\n",
      "for CRIMES RATE vs proverty: the intercept is 124.177253297 whose p-value is 6.33236585652e-05, the coefficient is -0.173550219891 whose p-value is 0.228577194867\n"
     ]
    }
   ],
   "source": [
    "for i in range(len(data.columns)-1):\n",
    "    ols = smf.ols(formula = 'Y~X{}'.format(i+1),data=data).fit()\n",
    "    intercept = ols.params[0]\n",
    "    param = ols.params[1]\n",
    "    print('for CRIMES RATE vs {}: the intercept is {} whose p-value is {}, the coefficient is {} whose p-value is {}'\n",
    "          .format(features[i],intercept,ols.pvalues[0],param,ols.pvalues[1]))"
   ]
  },
  {
   "cell_type": "markdown",
   "metadata": {},
   "source": [
    "## Q3"
   ]
  },
  {
   "cell_type": "code",
   "execution_count": 135,
   "metadata": {},
   "outputs": [
    {
     "data": {
      "text/plain": [
       "X1          NaN\n",
       "X2          NaN\n",
       "X3          NaN\n",
       "X4     0.687604\n",
       "X5     0.666714\n",
       "X6          NaN\n",
       "X7          NaN\n",
       "X8          NaN\n",
       "X9          NaN\n",
       "X10         NaN\n",
       "X11         NaN\n",
       "X12         NaN\n",
       "Y      1.000000\n",
       "Name: Y, dtype: float64"
      ]
     },
     "execution_count": 135,
     "metadata": {},
     "output_type": "execute_result"
    }
   ],
   "source": [
    "data.corr()[(data.corr()>0.6) | (data.corr() <-0.6)].Y"
   ]
  },
  {
   "cell_type": "code",
   "execution_count": 136,
   "metadata": {},
   "outputs": [
    {
     "data": {
      "text/html": [
       "<table class=\"simpletable\">\n",
       "<caption>OLS Regression Results</caption>\n",
       "<tr>\n",
       "  <th>Dep. Variable:</th>            <td>Y</td>        <th>  R-squared:         </th> <td>   0.494</td>\n",
       "</tr>\n",
       "<tr>\n",
       "  <th>Model:</th>                   <td>OLS</td>       <th>  Adj. R-squared:    </th> <td>   0.471</td>\n",
       "</tr>\n",
       "<tr>\n",
       "  <th>Method:</th>             <td>Least Squares</td>  <th>  F-statistic:       </th> <td>   21.48</td>\n",
       "</tr>\n",
       "<tr>\n",
       "  <th>Date:</th>             <td>Tue, 31 Oct 2017</td> <th>  Prob (F-statistic):</th> <td>3.09e-07</td>\n",
       "</tr>\n",
       "<tr>\n",
       "  <th>Time:</th>                 <td>17:35:08</td>     <th>  Log-Likelihood:    </th> <td> -221.97</td>\n",
       "</tr>\n",
       "<tr>\n",
       "  <th>No. Observations:</th>      <td>    47</td>      <th>  AIC:               </th> <td>   449.9</td>\n",
       "</tr>\n",
       "<tr>\n",
       "  <th>Df Residuals:</th>          <td>    44</td>      <th>  BIC:               </th> <td>   455.5</td>\n",
       "</tr>\n",
       "<tr>\n",
       "  <th>Df Model:</th>              <td>     2</td>      <th>                     </th>     <td> </td>   \n",
       "</tr>\n",
       "<tr>\n",
       "  <th>Covariance Type:</th>      <td>nonrobust</td>    <th>                     </th>     <td> </td>   \n",
       "</tr>\n",
       "</table>\n",
       "<table class=\"simpletable\">\n",
       "<tr>\n",
       "      <td></td>         <th>coef</th>     <th>std err</th>      <th>t</th>      <th>P>|t|</th>  <th>[0.025</th>    <th>0.975]</th>  \n",
       "</tr>\n",
       "<tr>\n",
       "  <th>Intercept</th> <td>   15.8265</td> <td>   12.593</td> <td>    1.257</td> <td> 0.215</td> <td>   -9.552</td> <td>   41.205</td>\n",
       "</tr>\n",
       "<tr>\n",
       "  <th>X4</th>        <td>    2.5615</td> <td>    1.234</td> <td>    2.076</td> <td> 0.044</td> <td>    0.074</td> <td>    5.049</td>\n",
       "</tr>\n",
       "<tr>\n",
       "  <th>X5</th>        <td>   -1.7829</td> <td>    1.312</td> <td>   -1.359</td> <td> 0.181</td> <td>   -4.427</td> <td>    0.861</td>\n",
       "</tr>\n",
       "</table>\n",
       "<table class=\"simpletable\">\n",
       "<tr>\n",
       "  <th>Omnibus:</th>       <td> 0.338</td> <th>  Durbin-Watson:     </th> <td>   2.077</td>\n",
       "</tr>\n",
       "<tr>\n",
       "  <th>Prob(Omnibus):</th> <td> 0.845</td> <th>  Jarque-Bera (JB):  </th> <td>   0.394</td>\n",
       "</tr>\n",
       "<tr>\n",
       "  <th>Skew:</th>          <td>-0.186</td> <th>  Prob(JB):          </th> <td>   0.821</td>\n",
       "</tr>\n",
       "<tr>\n",
       "  <th>Kurtosis:</th>      <td> 2.751</td> <th>  Cond. No.          </th> <td>    379.</td>\n",
       "</tr>\n",
       "</table>"
      ],
      "text/plain": [
       "<class 'statsmodels.iolib.summary.Summary'>\n",
       "\"\"\"\n",
       "                            OLS Regression Results                            \n",
       "==============================================================================\n",
       "Dep. Variable:                      Y   R-squared:                       0.494\n",
       "Model:                            OLS   Adj. R-squared:                  0.471\n",
       "Method:                 Least Squares   F-statistic:                     21.48\n",
       "Date:                Tue, 31 Oct 2017   Prob (F-statistic):           3.09e-07\n",
       "Time:                        17:35:08   Log-Likelihood:                -221.97\n",
       "No. Observations:                  47   AIC:                             449.9\n",
       "Df Residuals:                      44   BIC:                             455.5\n",
       "Df Model:                           2                                         \n",
       "Covariance Type:            nonrobust                                         \n",
       "==============================================================================\n",
       "                 coef    std err          t      P>|t|      [0.025      0.975]\n",
       "------------------------------------------------------------------------------\n",
       "Intercept     15.8265     12.593      1.257      0.215      -9.552      41.205\n",
       "X4             2.5615      1.234      2.076      0.044       0.074       5.049\n",
       "X5            -1.7829      1.312     -1.359      0.181      -4.427       0.861\n",
       "==============================================================================\n",
       "Omnibus:                        0.338   Durbin-Watson:                   2.077\n",
       "Prob(Omnibus):                  0.845   Jarque-Bera (JB):                0.394\n",
       "Skew:                          -0.186   Prob(JB):                        0.821\n",
       "Kurtosis:                       2.751   Cond. No.                         379.\n",
       "==============================================================================\n",
       "\n",
       "Warnings:\n",
       "[1] Standard Errors assume that the covariance matrix of the errors is correctly specified.\n",
       "\"\"\""
      ]
     },
     "execution_count": 136,
     "metadata": {},
     "output_type": "execute_result"
    }
   ],
   "source": [
    "lm3 = smf.ols(formula = 'Y~X4+X5',data=data).fit()\n",
    "lm3.summary()"
   ]
  },
  {
   "cell_type": "code",
   "execution_count": 137,
   "metadata": {},
   "outputs": [
    {
     "name": "stdout",
     "output_type": "stream",
     "text": [
      "for CRIMES RATE vs policExp60 and policeExp59: the intercept is 15.8264617569 whose p-value is 0.215456404351, the coefficient is 2.56152591987 whose p-value is 0.0438172131651\n"
     ]
    }
   ],
   "source": [
    "print('for CRIMES RATE vs {} and {}: the intercept is {} whose p-value is {}, the coefficient is {} whose p-value is {}'\n",
    "          .format(features[3],features[4],lm3.params[0],lm3.pvalues[0],lm3.params[1],lm3.pvalues[1]))"
   ]
  },
  {
   "cell_type": "markdown",
   "metadata": {},
   "source": [
    "## Q4"
   ]
  },
  {
   "cell_type": "code",
   "execution_count": 140,
   "metadata": {},
   "outputs": [],
   "source": [
    "adjR2 = []\n",
    "for i in range(1000):\n",
    "    train, valid = train_test_split(data, test_size = 1./3)\n",
    "    lm = smf.ols(formula = 'Y~X4+X5',data=train).fit()\n",
    "    lmy = lm.predict(valid)\n",
    "    y_err = lmy-valid.Y\n",
    "    y_norm = valid.Y-np.mean(valid.Y)\n",
    "    R2 = 1 - y_err.dot(y_err) / y_norm.dot(y_norm) * (len(valid)-1) / (len(valid)-2-1)\n",
    "    adjR2.append(R2)"
   ]
  },
  {
   "cell_type": "code",
   "execution_count": 141,
   "metadata": {},
   "outputs": [
    {
     "data": {
      "text/plain": [
       "0.11433512695580984"
      ]
     },
     "execution_count": 141,
     "metadata": {},
     "output_type": "execute_result"
    }
   ],
   "source": [
    "np.mean(adjR2)"
   ]
  },
  {
   "cell_type": "markdown",
   "metadata": {},
   "source": [
    "#  Part II. Learning Seattle's Work Habits from Bicycle Counts\n"
   ]
  },
  {
   "cell_type": "markdown",
   "metadata": {},
   "source": [
    "The data we will use here are the hourly bicycle counts on Seattle's Fremont Bridge. These data come from an automated bicycle counter, installed in late 2012, which has inductive sensors under the sidewalks on either side of the bridge. The daily or hourly bicycle counts can be downloaded from http://data.seattle.gov/; here is the direct link to the hourly dataset. To download the data directly, you can uncomment the following curl command:"
   ]
  },
  {
   "cell_type": "code",
   "execution_count": 171,
   "metadata": {},
   "outputs": [],
   "source": [
    "data = pd.read_csv(\"Bridge.csv\", index_col='Date', parse_dates=True)\n",
    "data=data.iloc[:-12000,:]\n",
    "data.tail()\n",
    "\n",
    "#We'll do some quick data cleaning: \n",
    "#we'll rename the columns to the shorter \"West\" and \"East\", \n",
    "#set any missing values to zero, and add a \"Total\" column:\n",
    "data.columns = ['West', 'East']\n",
    "data.fillna(0, inplace=True)\n",
    "data['Total'] = data.eval('East + West')"
   ]
  },
  {
   "cell_type": "code",
   "execution_count": 172,
   "metadata": {},
   "outputs": [
    {
     "data": {
      "text/html": [
       "<div>\n",
       "<style>\n",
       "    .dataframe thead tr:only-child th {\n",
       "        text-align: right;\n",
       "    }\n",
       "\n",
       "    .dataframe thead th {\n",
       "        text-align: left;\n",
       "    }\n",
       "\n",
       "    .dataframe tbody tr th {\n",
       "        vertical-align: top;\n",
       "    }\n",
       "</style>\n",
       "<table border=\"1\" class=\"dataframe\">\n",
       "  <thead>\n",
       "    <tr style=\"text-align: right;\">\n",
       "      <th></th>\n",
       "      <th>West</th>\n",
       "      <th>East</th>\n",
       "      <th>Total</th>\n",
       "    </tr>\n",
       "    <tr>\n",
       "      <th>Date</th>\n",
       "      <th></th>\n",
       "      <th></th>\n",
       "      <th></th>\n",
       "    </tr>\n",
       "  </thead>\n",
       "  <tbody>\n",
       "    <tr>\n",
       "      <th>2012-10-03 00:00:00</th>\n",
       "      <td>4.0</td>\n",
       "      <td>9.0</td>\n",
       "      <td>13.0</td>\n",
       "    </tr>\n",
       "    <tr>\n",
       "      <th>2012-10-03 01:00:00</th>\n",
       "      <td>4.0</td>\n",
       "      <td>6.0</td>\n",
       "      <td>10.0</td>\n",
       "    </tr>\n",
       "    <tr>\n",
       "      <th>2012-10-03 02:00:00</th>\n",
       "      <td>1.0</td>\n",
       "      <td>1.0</td>\n",
       "      <td>2.0</td>\n",
       "    </tr>\n",
       "    <tr>\n",
       "      <th>2012-10-03 03:00:00</th>\n",
       "      <td>2.0</td>\n",
       "      <td>3.0</td>\n",
       "      <td>5.0</td>\n",
       "    </tr>\n",
       "    <tr>\n",
       "      <th>2012-10-03 04:00:00</th>\n",
       "      <td>6.0</td>\n",
       "      <td>1.0</td>\n",
       "      <td>7.0</td>\n",
       "    </tr>\n",
       "  </tbody>\n",
       "</table>\n",
       "</div>"
      ],
      "text/plain": [
       "                     West  East  Total\n",
       "Date                                  \n",
       "2012-10-03 00:00:00   4.0   9.0   13.0\n",
       "2012-10-03 01:00:00   4.0   6.0   10.0\n",
       "2012-10-03 02:00:00   1.0   1.0    2.0\n",
       "2012-10-03 03:00:00   2.0   3.0    5.0\n",
       "2012-10-03 04:00:00   6.0   1.0    7.0"
      ]
     },
     "execution_count": 172,
     "metadata": {},
     "output_type": "execute_result"
    }
   ],
   "source": [
    "data.head()"
   ]
  },
  {
   "cell_type": "code",
   "execution_count": 173,
   "metadata": {},
   "outputs": [
    {
     "name": "stderr",
     "output_type": "stream",
     "text": [
      "C:\\Users\\sddz0\\Anaconda2\\lib\\site-packages\\ipykernel_launcher.py:1: FutureWarning: how in .resample() is deprecated\n",
      "the new syntax is .resample(...).sum()\n",
      "  \"\"\"Entry point for launching an IPython kernel.\n"
     ]
    },
    {
     "data": {
      "image/png": "[encoded data removed]",
      "text/plain": [
       "<matplotlib.figure.Figure at 0x10540048>"
      ]
     },
     "metadata": {},
     "output_type": "display_data"
    }
   ],
   "source": [
    "data.resample('W', how='sum').plot()\n",
    "plt.ylabel('weekly trips');"
   ]
  },
  {
   "cell_type": "code",
   "execution_count": 212,
   "metadata": {},
   "outputs": [],
   "source": [
    "data['dates'] = data.index"
   ]
  },
  {
   "cell_type": "code",
   "execution_count": 215,
   "metadata": {
    "collapsed": true
   },
   "outputs": [],
   "source": [
    "data['mydates'] = data.dates.dt.weekday"
   ]
  },
  {
   "cell_type": "code",
   "execution_count": 220,
   "metadata": {},
   "outputs": [
    {
     "data": {
      "text/html": [
       "<div>\n",
       "<style>\n",
       "    .dataframe thead tr:only-child th {\n",
       "        text-align: right;\n",
       "    }\n",
       "\n",
       "    .dataframe thead th {\n",
       "        text-align: left;\n",
       "    }\n",
       "\n",
       "    .dataframe tbody tr th {\n",
       "        vertical-align: top;\n",
       "    }\n",
       "</style>\n",
       "<table border=\"1\" class=\"dataframe\">\n",
       "  <thead>\n",
       "    <tr>\n",
       "      <th></th>\n",
       "      <th colspan=\"10\" halign=\"left\">East</th>\n",
       "      <th>...</th>\n",
       "      <th colspan=\"10\" halign=\"left\">West</th>\n",
       "    </tr>\n",
       "    <tr>\n",
       "      <th>Date</th>\n",
       "      <th>0</th>\n",
       "      <th>1</th>\n",
       "      <th>2</th>\n",
       "      <th>3</th>\n",
       "      <th>4</th>\n",
       "      <th>5</th>\n",
       "      <th>6</th>\n",
       "      <th>7</th>\n",
       "      <th>8</th>\n",
       "      <th>9</th>\n",
       "      <th>...</th>\n",
       "      <th>14</th>\n",
       "      <th>15</th>\n",
       "      <th>16</th>\n",
       "      <th>17</th>\n",
       "      <th>18</th>\n",
       "      <th>19</th>\n",
       "      <th>20</th>\n",
       "      <th>21</th>\n",
       "      <th>22</th>\n",
       "      <th>23</th>\n",
       "    </tr>\n",
       "  </thead>\n",
       "  <tbody>\n",
       "    <tr>\n",
       "      <th>2012-10-03</th>\n",
       "      <td>9</td>\n",
       "      <td>6</td>\n",
       "      <td>1</td>\n",
       "      <td>3.0</td>\n",
       "      <td>1</td>\n",
       "      <td>10</td>\n",
       "      <td>50</td>\n",
       "      <td>95</td>\n",
       "      <td>146</td>\n",
       "      <td>104</td>\n",
       "      <td>...</td>\n",
       "      <td>77</td>\n",
       "      <td>72</td>\n",
       "      <td>133</td>\n",
       "      <td>192</td>\n",
       "      <td>122</td>\n",
       "      <td>59</td>\n",
       "      <td>29</td>\n",
       "      <td>25</td>\n",
       "      <td>24</td>\n",
       "      <td>5</td>\n",
       "    </tr>\n",
       "    <tr>\n",
       "      <th>2012-10-04</th>\n",
       "      <td>11</td>\n",
       "      <td>0</td>\n",
       "      <td>6</td>\n",
       "      <td>3.0</td>\n",
       "      <td>1</td>\n",
       "      <td>11</td>\n",
       "      <td>51</td>\n",
       "      <td>89</td>\n",
       "      <td>134</td>\n",
       "      <td>94</td>\n",
       "      <td>...</td>\n",
       "      <td>63</td>\n",
       "      <td>73</td>\n",
       "      <td>114</td>\n",
       "      <td>154</td>\n",
       "      <td>137</td>\n",
       "      <td>57</td>\n",
       "      <td>27</td>\n",
       "      <td>31</td>\n",
       "      <td>25</td>\n",
       "      <td>11</td>\n",
       "    </tr>\n",
       "    <tr>\n",
       "      <th>2012-10-05</th>\n",
       "      <td>7</td>\n",
       "      <td>4</td>\n",
       "      <td>3</td>\n",
       "      <td>2.0</td>\n",
       "      <td>2</td>\n",
       "      <td>7</td>\n",
       "      <td>37</td>\n",
       "      <td>101</td>\n",
       "      <td>119</td>\n",
       "      <td>81</td>\n",
       "      <td>...</td>\n",
       "      <td>63</td>\n",
       "      <td>80</td>\n",
       "      <td>120</td>\n",
       "      <td>144</td>\n",
       "      <td>107</td>\n",
       "      <td>42</td>\n",
       "      <td>27</td>\n",
       "      <td>11</td>\n",
       "      <td>10</td>\n",
       "      <td>16</td>\n",
       "    </tr>\n",
       "    <tr>\n",
       "      <th>2012-10-06</th>\n",
       "      <td>7</td>\n",
       "      <td>5</td>\n",
       "      <td>2</td>\n",
       "      <td>2.0</td>\n",
       "      <td>1</td>\n",
       "      <td>2</td>\n",
       "      <td>15</td>\n",
       "      <td>16</td>\n",
       "      <td>47</td>\n",
       "      <td>55</td>\n",
       "      <td>...</td>\n",
       "      <td>89</td>\n",
       "      <td>115</td>\n",
       "      <td>107</td>\n",
       "      <td>107</td>\n",
       "      <td>41</td>\n",
       "      <td>40</td>\n",
       "      <td>25</td>\n",
       "      <td>18</td>\n",
       "      <td>14</td>\n",
       "      <td>15</td>\n",
       "    </tr>\n",
       "    <tr>\n",
       "      <th>2012-10-07</th>\n",
       "      <td>5</td>\n",
       "      <td>5</td>\n",
       "      <td>1</td>\n",
       "      <td>2.0</td>\n",
       "      <td>2</td>\n",
       "      <td>3</td>\n",
       "      <td>8</td>\n",
       "      <td>12</td>\n",
       "      <td>26</td>\n",
       "      <td>36</td>\n",
       "      <td>...</td>\n",
       "      <td>126</td>\n",
       "      <td>122</td>\n",
       "      <td>132</td>\n",
       "      <td>118</td>\n",
       "      <td>68</td>\n",
       "      <td>26</td>\n",
       "      <td>19</td>\n",
       "      <td>12</td>\n",
       "      <td>9</td>\n",
       "      <td>5</td>\n",
       "    </tr>\n",
       "  </tbody>\n",
       "</table>\n",
       "<p>5 rows × 48 columns</p>\n",
       "</div>"
      ],
      "text/plain": [
       "           East                                      ... West                 \\\n",
       "Date         0  1  2    3  4   5   6    7    8    9  ...   14   15   16   17   \n",
       "2012-10-03    9  6  1  3.0  1  10  50   95  146  104 ...   77   72  133  192   \n",
       "2012-10-04   11  0  6  3.0  1  11  51   89  134   94 ...   63   73  114  154   \n",
       "2012-10-05    7  4  3  2.0  2   7  37  101  119   81 ...   63   80  120  144   \n",
       "2012-10-06    7  5  2  2.0  1   2  15   16   47   55 ...   89  115  107  107   \n",
       "2012-10-07    5  5  1  2.0  2   3   8   12   26   36 ...  126  122  132  118   \n",
       "\n",
       "                                     \n",
       "Date         18  19  20  21  22  23  \n",
       "2012-10-03  122  59  29  25  24   5  \n",
       "2012-10-04  137  57  27  31  25  11  \n",
       "2012-10-05  107  42  27  11  10  16  \n",
       "2012-10-06   41  40  25  18  14  15  \n",
       "2012-10-07   68  26  19  12   9   5  \n",
       "\n",
       "[5 rows x 48 columns]"
      ]
     },
     "execution_count": 220,
     "metadata": {},
     "output_type": "execute_result"
    }
   ],
   "source": [
    "pivoted = data.pivot_table(['East', 'West'],\n",
    "                           index=data.index.date,\n",
    "                           columns=data.index.hour,\n",
    "                           fill_value=0)\n",
    "pivoted.head()"
   ]
  },
  {
   "cell_type": "code",
   "execution_count": 224,
   "metadata": {},
   "outputs": [
    {
     "data": {
      "text/html": [
       "<div>\n",
       "<style>\n",
       "    .dataframe thead tr:only-child th {\n",
       "        text-align: right;\n",
       "    }\n",
       "\n",
       "    .dataframe thead th {\n",
       "        text-align: left;\n",
       "    }\n",
       "\n",
       "    .dataframe tbody tr th {\n",
       "        vertical-align: top;\n",
       "    }\n",
       "</style>\n",
       "<table border=\"1\" class=\"dataframe\">\n",
       "  <thead>\n",
       "    <tr style=\"text-align: right;\">\n",
       "      <th></th>\n",
       "      <th>mydates</th>\n",
       "    </tr>\n",
       "  </thead>\n",
       "  <tbody>\n",
       "    <tr>\n",
       "      <th>2012-10-03</th>\n",
       "      <td>2</td>\n",
       "    </tr>\n",
       "    <tr>\n",
       "      <th>2012-10-04</th>\n",
       "      <td>3</td>\n",
       "    </tr>\n",
       "    <tr>\n",
       "      <th>2012-10-05</th>\n",
       "      <td>4</td>\n",
       "    </tr>\n",
       "    <tr>\n",
       "      <th>2012-10-06</th>\n",
       "      <td>5</td>\n",
       "    </tr>\n",
       "    <tr>\n",
       "      <th>2012-10-07</th>\n",
       "      <td>6</td>\n",
       "    </tr>\n",
       "  </tbody>\n",
       "</table>\n",
       "</div>"
      ],
      "text/plain": [
       "            mydates\n",
       "2012-10-03        2\n",
       "2012-10-04        3\n",
       "2012-10-05        4\n",
       "2012-10-06        5\n",
       "2012-10-07        6"
      ]
     },
     "execution_count": 224,
     "metadata": {},
     "output_type": "execute_result"
    }
   ],
   "source": [
    "pivoted1 = data.pivot_table(['mydates'],\n",
    "                           index=data.index.date,\n",
    "                           fill_value=0)\n",
    "pivoted1.head()"
   ]
  },
  {
   "cell_type": "code",
   "execution_count": 225,
   "metadata": {},
   "outputs": [
    {
     "data": {
      "text/plain": [
       "(990L, 48L)"
      ]
     },
     "execution_count": 225,
     "metadata": {},
     "output_type": "execute_result"
    }
   ],
   "source": [
    "X = pivoted.values\n",
    "X.shape"
   ]
  },
  {
   "cell_type": "code",
   "execution_count": 226,
   "metadata": {},
   "outputs": [
    {
     "data": {
      "text/plain": [
       "array([[  9.,   6.,   1., ...,  25.,  24.,   5.],\n",
       "       [ 11.,   0.,   6., ...,  31.,  25.,  11.],\n",
       "       [  7.,   4.,   3., ...,  11.,  10.,  16.],\n",
       "       ..., \n",
       "       [  6.,   5.,   2., ...,  44.,  35.,  21.],\n",
       "       [ 12.,   2.,   4., ...,  40.,  17.,   9.],\n",
       "       [ 18.,   2.,   1., ...,  38.,  32.,  28.]])"
      ]
     },
     "execution_count": 226,
     "metadata": {},
     "output_type": "execute_result"
    }
   ],
   "source": [
    "X"
   ]
  },
  {
   "cell_type": "code",
   "execution_count": 227,
   "metadata": {},
   "outputs": [],
   "source": [
    "Xn=X\n",
    "for i in range(0,990):\n",
    "  Xn[i]=X[i]/sum(X[i])"
   ]
  },
  {
   "cell_type": "markdown",
   "metadata": {},
   "source": [
    "## Q5. \n",
    "\n",
    "Visualize the data using PCA (two dimensions). Color the points by the day of the week"
   ]
  },
  {
   "cell_type": "code",
   "execution_count": 273,
   "metadata": {
    "scrolled": true
   },
   "outputs": [
    {
     "name": "stdout",
     "output_type": "stream",
     "text": [
      "total variance:0.0083162001878\n",
      "variance explained via the first and second components:[ 0.00614886  0.00060778]\n",
      "\n"
     ]
    }
   ],
   "source": [
    "print(\"total variance:{}\".format(np.sum(np.var(Xn,0))))\n",
    "pca = PCA(2)\n",
    "pca1 = pca.fit(Xn).transform(Xn)\n",
    "print(\"variance explained via the first and second components:{}\\n\".format(pca.explained_variance_))"
   ]
  },
  {
   "cell_type": "code",
   "execution_count": 274,
   "metadata": {},
   "outputs": [
    {
     "data": {
      "text/plain": [
       "(990L, 2L)"
      ]
     },
     "execution_count": 274,
     "metadata": {},
     "output_type": "execute_result"
    }
   ],
   "source": [
    "pca1.shape"
   ]
  },
  {
   "cell_type": "code",
   "execution_count": 276,
   "metadata": {},
   "outputs": [],
   "source": [
    "new = pd.DataFrame({'d1':pca1[:,0],'d2':pca1[:,1],'weekday':pivoted1.mydates})"
   ]
  },
  {
   "cell_type": "code",
   "execution_count": 277,
   "metadata": {},
   "outputs": [
    {
     "data": {
      "text/html": [
       "<div>\n",
       "<style>\n",
       "    .dataframe thead tr:only-child th {\n",
       "        text-align: right;\n",
       "    }\n",
       "\n",
       "    .dataframe thead th {\n",
       "        text-align: left;\n",
       "    }\n",
       "\n",
       "    .dataframe tbody tr th {\n",
       "        vertical-align: top;\n",
       "    }\n",
       "</style>\n",
       "<table border=\"1\" class=\"dataframe\">\n",
       "  <thead>\n",
       "    <tr style=\"text-align: right;\">\n",
       "      <th></th>\n",
       "      <th>d1</th>\n",
       "      <th>d2</th>\n",
       "      <th>weekday</th>\n",
       "    </tr>\n",
       "  </thead>\n",
       "  <tbody>\n",
       "    <tr>\n",
       "      <th>2012-10-03</th>\n",
       "      <td>-0.052194</td>\n",
       "      <td>0.011149</td>\n",
       "      <td>2</td>\n",
       "    </tr>\n",
       "    <tr>\n",
       "      <th>2012-10-04</th>\n",
       "      <td>-0.037443</td>\n",
       "      <td>0.008854</td>\n",
       "      <td>3</td>\n",
       "    </tr>\n",
       "    <tr>\n",
       "      <th>2012-10-05</th>\n",
       "      <td>-0.027990</td>\n",
       "      <td>0.005982</td>\n",
       "      <td>4</td>\n",
       "    </tr>\n",
       "    <tr>\n",
       "      <th>2012-10-06</th>\n",
       "      <td>0.107437</td>\n",
       "      <td>0.005927</td>\n",
       "      <td>5</td>\n",
       "    </tr>\n",
       "    <tr>\n",
       "      <th>2012-10-07</th>\n",
       "      <td>0.125690</td>\n",
       "      <td>-0.002668</td>\n",
       "      <td>6</td>\n",
       "    </tr>\n",
       "  </tbody>\n",
       "</table>\n",
       "</div>"
      ],
      "text/plain": [
       "                  d1        d2  weekday\n",
       "2012-10-03 -0.052194  0.011149        2\n",
       "2012-10-04 -0.037443  0.008854        3\n",
       "2012-10-05 -0.027990  0.005982        4\n",
       "2012-10-06  0.107437  0.005927        5\n",
       "2012-10-07  0.125690 -0.002668        6"
      ]
     },
     "execution_count": 277,
     "metadata": {},
     "output_type": "execute_result"
    }
   ],
   "source": [
    "new.head()"
   ]
  },
  {
   "cell_type": "code",
   "execution_count": 280,
   "metadata": {},
   "outputs": [
    {
     "data": {
      "image/png": "[encoded data removed]",
      "text/plain": [
       "<matplotlib.figure.Figure at 0x133695c0>"
      ]
     },
     "metadata": {},
     "output_type": "display_data"
    }
   ],
   "source": [
    "plt.figure(figsize=[10,10])\n",
    "colors = ['red','orange','yellow','green','blue','purple','grey']\n",
    "for i in range(1,8):\n",
    "    x = new[new.weekday == i].d1\n",
    "    y = new[new.weekday == i].d2\n",
    "    plt.plot(x, y, 'o', alpha=0.5,color=colors[i-1],label='Weekday {}'.format(i))\n",
    "    plt.xlabel('d1')\n",
    "    plt.ylabel('d2')\n",
    "    plt.title('Visualization of the data using PCA (two dimensions). Color the points by the day of the week')\n",
    "    plt.legend()"
   ]
  },
  {
   "cell_type": "code",
   "execution_count": null,
   "metadata": {
    "collapsed": true
   },
   "outputs": [],
   "source": []
  }
 ],
 "metadata": {
  "kernelspec": {
   "display_name": "Python 2",
   "language": "python",
   "name": "python2"
  },
  "language_info": {
   "codemirror_mode": {
    "name": "ipython",
    "version": 2
   },
   "file_extension": ".py",
   "mimetype": "text/x-python",
   "name": "python",
   "nbconvert_exporter": "python",
   "pygments_lexer": "ipython2",
   "version": "2.7.13"
  }
 },
 "nbformat": 4,
 "nbformat_minor": 1
}
