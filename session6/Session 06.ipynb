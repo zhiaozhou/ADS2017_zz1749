{
 "cells": [
  {
   "cell_type": "markdown",
   "metadata": {},
   "source": [
    "# Dimensionality reduction\n",
    "\n",
    "In general a multi-variate regression model (not necessarily linear) could be expressed as looking for a functional dependence \n",
    "$$\n",
    "y=f(x)\n",
    "$$\n",
    "between an output variable $y$ and the multi-dimensional vector of input variables (features, regressors) $x=(x_1,x_2,x_3,....,x_n)$.\n",
    "\n",
    "When the dimensionality $n$ of the feature space (number of regressors) is too high with respect to the number of observations, it may cause multiple issues:\n",
    "\n",
    "- complexity: the model involving multiple regressors becomes difficult to fit and interpret;\n",
    "\n",
    "- multicollinearity: a large set of regressors could encounter substantial correlations, leading to multicollinearity of regressors and high variance in their estimates, making coefficients hard to interpret/rely on;\n",
    "\n",
    "- overfitting: as multiple regressors might contain a lot of relevant but also irrelevant information, the model could pick it up, becoming too specifically adjusted to the training set, which would reduce its generalizeability (performance over the validation/test set);\n",
    "\n",
    "Reducing complexity of the model (number of features or their dimensionality) is usually recommended in such cases. The most streighforward way of doing so is through feature selection. \n",
    "\n",
    "Feature selection aims to reduce dimensionality of $x$ by removing some of its components $x_j$ which turn out to be the least relevant for the model, i.e. have the lowest positive or even negative impact on the model performance over the external validation set. This way feature selection provides a mapping of vectors $x$ into a shorter vector of its subcomponents, e.g.\n",
    "$$\n",
    "(x_1,x_2,x_3,x_4,x_5)\\to (x_1,x_3,x_5).\n",
    "$$\n",
    "\n",
    "But feature selection is often too rigid - we have to make our choices of keeping or getting rid of each variable entirely, though it might be the case that each regressor by itself still contains certain valuable information, but all together the feature space is redundant. As an alternative one can think of expressing the useful information contained in a large inital amount of regressors through some smaller amount of latent variables (different from the initial regressors) able to explain all or almost all the relevant information. This is called dimensionality reduction.\n",
    "\n",
    "In general, dimensionality reduction looks for an arbitrary mapping of the feature space (possibly transforming the features not just removing some) into a new feature space of a smaller dimension:\n",
    "$$\n",
    "x=(x_1,x_2,x_3....,x_n)\\to x'=(x_1',x_2',x_3',....,x_m),\n",
    "$$\n",
    "so that a simpler model $y=f(x')$ could be learned instead.\n",
    "\n",
    "E.g. a mapping\n",
    "$$\n",
    "(x_1,x_2,x_3,x_4,x_5)\\to x'=(x_1+x_2+x_3+x_4+x_5,x_1 x_2 x_3 x_4 x_5)\n",
    "$$\n",
    "could serve as an example of reducing the dimensionality of the feature space from $5$ to $2$.\n",
    "\n",
    "Such reduction often turnes out to be pretty useful as learning a model over a smaller set of features could be easier and such models might be more resilient to overfitting and easier to interpret. Often dimensionality could be substantially reduced without reducing the capacity of the model to fit the output variable much. This is becasue the Pareto rule is perfectly applicable in this scenario - 80% (or even 90, 95, 99%) of the useful information contained in the original regressors could be effectively packed into a much smaller amount of the new regressors (under a suitable transformation), often being 20% (or even 10, 5, 1%) of the original size. This way 80% (or even 90, 95, 99%) of the efficieny could be acheived with 20% (or even 10, 5, 1%) of the effort (complexity)."
   ]
  },
  {
   "cell_type": "markdown",
   "metadata": {},
   "source": [
    "# Principle component analysis\n",
    "\n",
    "A most common linear approach to dimentionality reduction is the principal component analysis. An idea is that given $N$ observations for the $n$ regressors $x_j$\n",
    "\n",
    "$$\n",
    "X=\\{x_i^j, i=1..n, j=1..N\\}\n",
    "$$\n",
    "\n",
    "we try to come up with a linear transformation\n",
    "\n",
    "$$\n",
    "U=X V,\n",
    "$$\n",
    "\n",
    "where $V$ is $nxp$-dimensional transformation matrix and $U$ is a $N x p$ matrix of new factors $u_1,u_2,...,u_p$ (columns of $U$), such that they explain as much of initial information contained in $X$ as possible for the $p$ latent variables - linear combinations of the original ones.\n",
    "\n",
    "## Technique\n",
    "\n",
    "Before applying PCA variables $x_i$ are usually centered ($E[x_i]=0$) and sometimes also normalized ($var[x_i]=1$).\n",
    "\n",
    "Selecting first principle component: look for the column unit basis $N x 1$ vector of weights/loadings $v_1$, such that resulting variable $u_1=X v_1$ has maximal possible variance $var[u_1]$ (captures as much information/distinctions from the complete feature space $X$):\n",
    "$$\n",
    "v_1=argmax_{v_1: v_1^T v_1=1}var[u_1] =argmax_{v_1: v_1^T v_1=1}u_1^T u_1=argmax_{v_1: v_1^T v_1=1}v_1^T X^T X v_1.\n",
    "$$\n",
    "\n",
    "Then after first basis vector $v_1$ and principle component $u_1$ are selected, the second basis vector $v_2$ is selected following the same principle, but with an additional constrain of being orthogonal to $v_1$. \n",
    "\n",
    "Similarly each following $i$-th vector $v_i$ is being defined as\n",
    "$$\n",
    "v_i=argmax_{v_i: v_i^T v_i=1, v_i^T v_j=0, j<i}v_i^T X^T X v_i.\n",
    "$$\n",
    "\n",
    "The problem is easy to solve knowing the eigenvectors of $X^T X$, i.e. such unit vectors $v_i$ ($v_i^T v_i=1$) that\n",
    "\n",
    "$$\n",
    "\\lambda_i v_i=X^T X v_i\n",
    "$$\n",
    "\n",
    "or in the matrix form\n",
    "\n",
    "$$\n",
    "diag(\\lambda)V=X^T X V\n",
    "$$\n",
    "\n",
    "where $\\lambda_i$ are the corresponding eigenvalues (mutually distinctive). First of all its easy to see that such vectors $v_i$ are always mutually orthogonal, as\n",
    "\n",
    "$$\n",
    "v_j^T v_i= v_j^T X^T X v_i/\\lambda_i =(X^T X w_j)^T v_i/\\lambda_i=v_j^T v_i \\lambda_j/\\lambda_i.\n",
    "$$\n",
    "\n",
    "This is why $V^T V=I_n$.\n",
    "\n",
    "Now if we know $n$ unit eigenvectors with distinct eigenvalues such that $\\lambda_1>\\lambda_2> ...>\\lambda_n>0$, they produce an orthogonal basis in the $n$-dimensional space and for any unit vector $w=e_1 v_1+e_2 v_2+... +e_n v_n$ we can see that\n",
    "\n",
    "$$\n",
    "w^T X^T X w=\\lambda_1 e_1^2+\\lambda_2 e_2^2+...+\\lambda_n e_n^2,\n",
    "$$\n",
    "\n",
    "which is maximized for $e_1=1, e_2=e_3=...e_n=0$ (as $\\sum_i e_i^2=1$), i.e. $w=v_1$. \n",
    "\n",
    "Similarly the second, third, etc loading vectors could be found as $v_2,v_3,...$ correspondingly.\n",
    "\n",
    "Also the solution follows from the singular value decomposition of the matrix $X$:\n",
    "\n",
    "$$\n",
    "X=W \\Sigma V^T,\n",
    "$$\n",
    "\n",
    "where $W$ is a $N x n$ matrix of mutually orthogonal unit columns, $V$ is a $n x n$ matrix of mutually orthogonal unit columns and $\\Sigma$ is an $n x n$- diagonal matrix, i.e.\n",
    "\n",
    "$$\n",
    "W^T W=V^T V=I_n\n",
    "$$\n",
    "\n",
    "Then\n",
    "\n",
    "$$\n",
    "X^T X=V\\Sigma W^T W \\Sigma V^T=V\\Sigma^2 V^T\n",
    "$$\n",
    "\n",
    "and its easy to see that $V$ is the matrix of eigenvectors and $\\Sigma$ is the diagonal matrix of square roots of eigenvalues. Then \n",
    "\n",
    "$$\n",
    "U=XV=W\\Sigma V^T V=W\\Sigma.\n",
    "$$\n",
    "\n",
    "## PCA as a dimensionality reduction tool\n",
    "\n",
    "Now once matrixes $V, U, \\Sigma$ are defined as well as the eigenvalues $\\lambda_j$ (being the squares of the diagonal elements of $\\Sigma$), how do we use that for dimensionality reduction? \n",
    "\n",
    "Matrix $V$ performs a transformation of the regressors $x_i$ to the new orthogonal variables $u_i$ being the columns of $U$. And \n",
    "$$\n",
    "Var[u_i]=\\lambda_i\n",
    "$$\n",
    "\n",
    "This is interpreted as each variable $u_i$ containing the fraction $\\lambda_i/\\sum\\limits_j \\lambda_j$ of the entire information (variation) contained in all the regressors. And the choice of regressors $u_i$ is such that $\\lambda_1,\\lambda_2,...$ are sequentially maximized. So if one wants to select as few latent variables as possible in order to cover a given franction $\\alpha$ (often $95\\%$) of information (variation) from it is enough to select first $k$ principle components $u_1,u_2,...u_k$, so that \n",
    "\n",
    "$$\n",
    "\\frac{\\sum\\limits_{i=1}^k\\lambda_i}{\\sum\\limits_{i=1}^n\\lambda_i}\\geq \\alpha.\n",
    "$$\n",
    "\n",
    "## PCA over the features space for dimensionality reduction in the linear regression\n",
    "\n",
    "The leading principle components contain most of the information from the entire original feature space, and might be suitable to represent the feature space reducing its dimensionality. This however does not guarantee (although usually provides a good chance) that those leading components are indeed the ones most relevant for modeling the output variables, so reducing dimensionality of the regression model by selecting the leading principle components does not always lead to the best outcome. \n",
    "\n",
    "In this case, using regular feature selection (e.g. backward step-wise or forward step-wise) could be the best. PCA however will help by ensuring that the features are not interrelated and can be effectively excluded or included one-by-one. This way feature selection after PCA is always more efficient than the feature selection over the original non-transformed feature space. \n",
    "\n",
    "This also makes it more reasible (although still not entirely) to rely on the \"naive\" feature selection based on p-values. While p-values still represent an intrinsic property of the training set, and this way can not guarantee generalizeability, since the standardized principle components are non-correlated/othogonal, a low p-value is a good indicator of the regressor's utility as long as the size/choice of the training data is sufficient to exclude random coincidences.\n",
    "\n",
    "The most significant downside of using PCA for feature selection is that the remaining selected principle components could be pretty hard to interpret as they often look like arbitrary linear combinations of multiple features.\n",
    "\n",
    "\n"
   ]
  },
  {
   "cell_type": "code",
   "execution_count": 2,
   "metadata": {},
   "outputs": [
    {
     "name": "stderr",
     "output_type": "stream",
     "text": [
      "C:\\Users\\sddz0\\Anaconda2\\lib\\site-packages\\sklearn\\cross_validation.py:41: DeprecationWarning: This module was deprecated in version 0.18 in favor of the model_selection module into which all the refactored classes and functions are moved. Also note that the interface of the new CV iterators are different from that of this module. This module will be removed in 0.20.\n",
      "  \"This module will be removed in 0.20.\", DeprecationWarning)\n"
     ]
    }
   ],
   "source": [
    "#import modules we need to use for this session\n",
    "import pandas as pd\n",
    "import numpy as np\n",
    "%matplotlib inline\n",
    "import matplotlib.pyplot as plt\n",
    "from scipy import stats\n",
    "import statsmodels.formula.api as smf\n",
    "#from scipy.stats import t\n",
    "# PCA module\n",
    "from sklearn.decomposition import PCA\n",
    "from sklearn.cross_validation import train_test_split"
   ]
  },
  {
   "cell_type": "markdown",
   "metadata": {},
   "source": [
    "### Example 1: Toy example to understand PCA"
   ]
  },
  {
   "cell_type": "markdown",
   "metadata": {},
   "source": [
    "#### (1) create some data and plot "
   ]
  },
  {
   "cell_type": "code",
   "execution_count": 3,
   "metadata": {},
   "outputs": [
    {
     "data": {
      "image/png": "[encoded data removed]",
      "text/plain": [
       "<matplotlib.figure.Figure at 0x100abc18>"
      ]
     },
     "metadata": {},
     "output_type": "display_data"
    }
   ],
   "source": [
    "np.random.seed(1)\n",
    "X = np.dot(np.random.random(size=(2, 2)), np.random.normal(size=(2, 200))).T\n",
    "plt.plot(X[:, 0], X[:, 1], 'o')\n",
    "plt.axis('equal');"
   ]
  },
  {
   "cell_type": "code",
   "execution_count": 6,
   "metadata": {},
   "outputs": [
    {
     "data": {
      "text/plain": [
       "array([[ -6.25301618e-01,  -1.70063657e-01],\n",
       "       [  9.60695033e-01,   5.90900597e-01],\n",
       "       [ -5.98543385e-01,  -4.02593393e-01],\n",
       "       [ -2.22805938e+00,  -5.32576740e-01],\n",
       "       [ -4.61430060e-01,  -4.98867244e-01],\n",
       "       [ -9.58929028e-01,  -2.69331024e-01],\n",
       "       [ -6.73079909e-01,  -3.38308547e-01],\n",
       "       [  1.30501861e+00,   5.91357846e-01],\n",
       "       [  3.74545597e-01,  -9.85442049e-02],\n",
       "       [ -1.82628627e+00,  -4.06170254e-01],\n",
       "       [  6.68262284e-01,   3.36877396e-01],\n",
       "       [ -5.82646676e-01,  -1.77369217e-01],\n",
       "       [ -4.18128976e-01,  -3.73811389e-01],\n",
       "       [  1.72209371e-01,   2.64668836e-01],\n",
       "       [  3.77116687e-01,   1.88442969e-01],\n",
       "       [ -6.79396230e-01,  -1.31601978e-01],\n",
       "       [  1.03148960e+00,   4.25550018e-01],\n",
       "       [  3.36041799e-01,   3.90982721e-02],\n",
       "       [  7.05745985e-01,   4.88730649e-01],\n",
       "       [  8.39511547e-01,   1.52125872e-01],\n",
       "       [  1.49882898e+00,   4.71380809e-01],\n",
       "       [  2.88356638e-01,   3.31334714e-02],\n",
       "       [ -5.02935011e-01,  -3.68665426e-01],\n",
       "       [  1.47921067e+00,   7.40445724e-01],\n",
       "       [ -4.44382429e-01,  -1.65019364e-01],\n",
       "       [ -5.33464228e-01,  -6.02221911e-02],\n",
       "       [ -6.16229422e-01,  -2.11783922e-01],\n",
       "       [  7.46598965e-02,  -6.14321077e-02],\n",
       "       [ -1.13637011e-01,   7.32877678e-02],\n",
       "       [ -2.00717298e-02,   6.09744586e-02],\n",
       "       [  1.89582967e-01,   1.99769369e-01],\n",
       "       [  9.38466103e-01,   5.41731132e-01],\n",
       "       [ -3.66697989e-01,  -3.64971376e-02],\n",
       "       [ -8.93528486e-01,  -3.72814013e-01],\n",
       "       [ -1.31759571e+00,  -3.57581073e-01],\n",
       "       [ -3.81802782e-01,  -2.01252465e-01],\n",
       "       [ -5.13790216e-01,  -5.05974086e-01],\n",
       "       [  9.03737934e-01,   2.49518260e-01],\n",
       "       [ -4.38875079e-01,  -1.50648130e-01],\n",
       "       [ -5.94170907e-01,  -9.41224109e-02],\n",
       "       [ -3.12943931e-01,  -6.57312966e-04],\n",
       "       [ -3.00229089e-01,  -4.22050272e-01],\n",
       "       [ -5.99239320e-01,  -2.60398180e-01],\n",
       "       [  2.20370036e-01,   2.03914415e-01],\n",
       "       [  5.25164844e-01,   1.87026363e-01],\n",
       "       [  5.56625011e-01,  -1.33745094e-01],\n",
       "       [  1.35428157e+00,   5.47397422e-01],\n",
       "       [ -6.83159806e-01,  -3.94693187e-01],\n",
       "       [ -1.23325109e-01,  -1.04266539e-01],\n",
       "       [ -3.13175458e-01,  -6.98306619e-02],\n",
       "       [ -2.48838277e+00,  -8.44571249e-01],\n",
       "       [  1.24996586e+00,   5.85738115e-01],\n",
       "       [  1.76764431e-01,   1.10730208e-01],\n",
       "       [ -5.07808538e-01,  -3.15746300e-01],\n",
       "       [  1.82738502e+00,   6.20232502e-01],\n",
       "       [  8.10156740e-01,   1.77171194e-01],\n",
       "       [  4.28494398e-01,   1.29892407e-01],\n",
       "       [ -6.81124709e-02,  -1.83414149e-01],\n",
       "       [ -2.38085712e-01,   3.20283053e-02],\n",
       "       [ -5.76511311e-01,  -4.61119558e-01],\n",
       "       [  7.86579791e-01,   2.40420951e-01],\n",
       "       [ -3.94028364e-01,  -1.13238995e-01],\n",
       "       [  3.00281016e-01,   4.05830103e-02],\n",
       "       [  8.34354492e-01,   3.63411695e-01],\n",
       "       [  6.77025394e-01,   8.62180588e-02],\n",
       "       [  8.22858785e-01,   7.95262868e-02],\n",
       "       [  1.11060226e+00,   8.38447209e-02],\n",
       "       [ -1.11056320e+00,  -2.21851614e-01],\n",
       "       [ -3.25581172e-05,   2.52586287e-01],\n",
       "       [  9.01346004e-01,   4.66550032e-01],\n",
       "       [  6.13325282e-01,   2.29429972e-01],\n",
       "       [  1.00280321e+00,   2.67636970e-01],\n",
       "       [ -5.00300647e-01,  -2.65194678e-01],\n",
       "       [ -1.46839080e+00,  -2.62591632e-01],\n",
       "       [ -1.16559210e+00,  -4.35658777e-01],\n",
       "       [  1.23290571e+00,   3.72644940e-01],\n",
       "       [ -8.71374166e-02,  -7.68205362e-02],\n",
       "       [  1.32611731e+00,   4.23305575e-01],\n",
       "       [ -6.55945864e-01,  -2.36422799e-01],\n",
       "       [ -3.98868969e-01,  -1.32296178e-01],\n",
       "       [  1.46537233e-01,   2.88714500e-02],\n",
       "       [  8.34743614e-01,   2.78631269e-01],\n",
       "       [  1.26455201e-01,   1.83894435e-02],\n",
       "       [  2.01707556e-01,   6.38435019e-02],\n",
       "       [ -2.67775720e-01,   4.92011507e-03],\n",
       "       [  2.85085062e-01,   5.36128031e-02],\n",
       "       [ -7.53418549e-01,  -3.37531319e-01],\n",
       "       [  5.29313417e-01,   2.45960831e-02],\n",
       "       [  3.65577719e-01,  -5.62717811e-02],\n",
       "       [  3.62822350e-02,  -1.71587143e-02],\n",
       "       [  1.98139998e-01,   1.48806454e-01],\n",
       "       [ -7.56673772e-01,  -2.05864228e-01],\n",
       "       [  1.15733262e-01,  -2.55010922e-02],\n",
       "       [ -1.81944537e-01,  -8.98933373e-02],\n",
       "       [  1.57198306e-01,   1.26124661e-01],\n",
       "       [  5.83470370e-01,   2.37266716e-01],\n",
       "       [ -9.46770213e-01,  -2.88927090e-01],\n",
       "       [  7.13140353e-01,   1.77219645e-01],\n",
       "       [  1.30157187e+00,   6.24502445e-01],\n",
       "       [ -5.49063710e-01,  -4.44638605e-01],\n",
       "       [ -4.29728257e-01,  -2.50941856e-01],\n",
       "       [ -3.86766308e-01,  -2.66159401e-01],\n",
       "       [ -6.57643258e-01,  -8.45055625e-02],\n",
       "       [  1.23961415e+00,   4.90659512e-01],\n",
       "       [  3.18446596e-01,   4.12165000e-03],\n",
       "       [ -8.98118949e-01,  -2.10137581e-01],\n",
       "       [  3.36881319e-01,   1.87961004e-01],\n",
       "       [ -4.18452911e-01,  -1.81336717e-01],\n",
       "       [  2.36601159e-01,   3.39487039e-01],\n",
       "       [  3.51319728e-01,   9.23282159e-02],\n",
       "       [  1.35323942e+00,   4.19970027e-01],\n",
       "       [ -8.34819518e-01,  -2.00044213e-01],\n",
       "       [  2.32938600e+00,   9.16366922e-01],\n",
       "       [  4.67174434e-02,   2.49148699e-01],\n",
       "       [  4.55373238e-01,   1.97896476e-01],\n",
       "       [ -7.10684919e-01,  -1.56607387e-02],\n",
       "       [ -5.50095165e-02,  -2.19243382e-01],\n",
       "       [ -4.54554511e-01,  -2.62307969e-01],\n",
       "       [ -1.08213611e-01,  -4.11131904e-02],\n",
       "       [ -8.97552407e-01,  -2.41129284e-01],\n",
       "       [  7.34802491e-01,   8.56077609e-02],\n",
       "       [  2.25266501e-01,  -2.49531175e-01],\n",
       "       [ -3.27438240e-01,   1.87561024e-01],\n",
       "       [  1.20422548e+00,   2.89208121e-01],\n",
       "       [  1.70331974e-01,  -2.13212414e-01],\n",
       "       [  1.00007930e+00,   3.60626507e-01],\n",
       "       [ -6.71516563e-01,  -7.20747636e-02],\n",
       "       [  1.19221616e+00,   3.49379904e-01],\n",
       "       [  2.40174205e-01,   1.32451266e-01],\n",
       "       [  5.56592389e-01,   3.39247336e-01],\n",
       "       [ -1.23113909e+00,  -3.01572247e-01],\n",
       "       [  1.52659926e-01,  -3.22243331e-02],\n",
       "       [  1.37611796e+00,   4.38905019e-01],\n",
       "       [ -7.05213114e-01,  -1.86923986e-01],\n",
       "       [ -1.25035415e+00,  -6.15852747e-01],\n",
       "       [ -1.87651011e+00,  -5.87438869e-01],\n",
       "       [ -1.47105690e+00,  -7.57686938e-01],\n",
       "       [ -1.50346447e+00,  -6.39175291e-01],\n",
       "       [ -3.74317472e-01,  -1.24473266e-01],\n",
       "       [  8.78524826e-01,   3.86529047e-01],\n",
       "       [  4.37960653e-02,  -1.33600937e-01],\n",
       "       [  5.45982844e-01,   9.78986853e-02],\n",
       "       [  1.41569127e-01,  -3.31934527e-02],\n",
       "       [  6.35824494e-02,   2.60037422e-03],\n",
       "       [ -8.87046213e-02,  -5.08430872e-02],\n",
       "       [  1.32411808e-01,  -5.25896645e-02],\n",
       "       [  4.29143144e-01,   1.39451520e-01],\n",
       "       [ -5.62450166e-01,  -3.55459800e-01],\n",
       "       [  5.98293829e-01,   3.05358879e-01],\n",
       "       [ -3.52669474e-01,   2.77872905e-01],\n",
       "       [  2.92708138e-01,  -5.88533723e-02],\n",
       "       [  1.49216325e+00,   2.43746801e-01],\n",
       "       [ -3.21136884e-01,  -2.11988784e-01],\n",
       "       [ -4.28741839e-01,  -1.62431474e-01],\n",
       "       [  5.56602182e-02,   4.72280460e-02],\n",
       "       [ -1.86669080e-01,  -5.75236287e-02],\n",
       "       [ -3.15976890e-01,  -1.35666133e-01],\n",
       "       [ -9.52287292e-01,  -2.03431276e-01],\n",
       "       [ -6.17216871e-01,  -1.68607956e-01],\n",
       "       [  2.60724124e-01,   2.83827268e-01],\n",
       "       [ -1.29606872e+00,  -5.87501508e-01],\n",
       "       [  1.30204436e-01,   1.06536600e-01],\n",
       "       [  3.62026915e-02,  -7.14259522e-02],\n",
       "       [  4.51406829e-01,   2.20021746e-01],\n",
       "       [  7.82343617e-01,   1.55836343e-01],\n",
       "       [ -1.91527940e+00,  -8.41226381e-01],\n",
       "       [  1.33470527e+00,   1.77008275e-01],\n",
       "       [ -5.57241554e-01,   9.78217703e-02],\n",
       "       [ -2.54030157e-01,   6.53585666e-03],\n",
       "       [  3.83426415e-02,  -1.41592253e-01],\n",
       "       [  1.66900682e+00,   2.58263884e-01],\n",
       "       [ -4.01201302e-01,  -1.24900651e-01],\n",
       "       [  1.33980298e+00,   5.54699895e-01],\n",
       "       [  3.12160775e-01,   1.70605436e-01],\n",
       "       [  2.09517683e+00,   6.46487345e-01],\n",
       "       [ -6.85653080e-01,  -2.37525375e-01],\n",
       "       [ -9.81232159e-01,  -5.30795733e-01],\n",
       "       [  3.81516151e-01,   2.16067601e-01],\n",
       "       [  8.35386181e-02,   2.57654664e-01],\n",
       "       [  1.56227043e-01,   1.07263711e-02],\n",
       "       [ -8.98591326e-01,  -4.65169769e-01],\n",
       "       [  2.16673778e-01,  -1.35265391e-01],\n",
       "       [  3.99091276e-01,   1.86824524e-01],\n",
       "       [ -3.90120284e-01,  -5.57531130e-02],\n",
       "       [  1.51136791e-01,  -3.50017338e-02],\n",
       "       [ -2.59947279e-02,  -5.30194271e-02],\n",
       "       [ -5.55678088e-01,  -2.82320719e-01],\n",
       "       [ -4.14437203e-01,  -1.61157769e-01],\n",
       "       [ -5.43696094e-01,  -4.31161457e-01],\n",
       "       [  1.42759145e+00,   5.34554140e-01],\n",
       "       [  4.51861867e-01,  -1.43502859e-01],\n",
       "       [  8.07369404e-01,   1.44524192e-01],\n",
       "       [ -4.61251208e-01,  -3.08874028e-01],\n",
       "       [ -1.06359448e-01,   2.40025629e-01],\n",
       "       [ -1.09810334e+00,  -5.66248687e-01],\n",
       "       [  8.38408546e-01,   2.78380007e-01],\n",
       "       [  3.12708310e-01,  -1.06001233e-02],\n",
       "       [  1.95587585e+00,   6.38224114e-01],\n",
       "       [ -1.10830352e+00,  -3.95053658e-01],\n",
       "       [  3.98647206e-01,   2.31865526e-02]])"
      ]
     },
     "execution_count": 6,
     "metadata": {},
     "output_type": "execute_result"
    }
   ],
   "source": [
    "X"
   ]
  },
  {
   "cell_type": "code",
   "execution_count": 5,
   "metadata": {},
   "outputs": [
    {
     "data": {
      "text/plain": [
       "array([ -6.25301618e-01,   9.60695033e-01,  -5.98543385e-01,\n",
       "        -2.22805938e+00,  -4.61430060e-01,  -9.58929028e-01,\n",
       "        -6.73079909e-01,   1.30501861e+00,   3.74545597e-01,\n",
       "        -1.82628627e+00,   6.68262284e-01,  -5.82646676e-01,\n",
       "        -4.18128976e-01,   1.72209371e-01,   3.77116687e-01,\n",
       "        -6.79396230e-01,   1.03148960e+00,   3.36041799e-01,\n",
       "         7.05745985e-01,   8.39511547e-01,   1.49882898e+00,\n",
       "         2.88356638e-01,  -5.02935011e-01,   1.47921067e+00,\n",
       "        -4.44382429e-01,  -5.33464228e-01,  -6.16229422e-01,\n",
       "         7.46598965e-02,  -1.13637011e-01,  -2.00717298e-02,\n",
       "         1.89582967e-01,   9.38466103e-01,  -3.66697989e-01,\n",
       "        -8.93528486e-01,  -1.31759571e+00,  -3.81802782e-01,\n",
       "        -5.13790216e-01,   9.03737934e-01,  -4.38875079e-01,\n",
       "        -5.94170907e-01,  -3.12943931e-01,  -3.00229089e-01,\n",
       "        -5.99239320e-01,   2.20370036e-01,   5.25164844e-01,\n",
       "         5.56625011e-01,   1.35428157e+00,  -6.83159806e-01,\n",
       "        -1.23325109e-01,  -3.13175458e-01,  -2.48838277e+00,\n",
       "         1.24996586e+00,   1.76764431e-01,  -5.07808538e-01,\n",
       "         1.82738502e+00,   8.10156740e-01,   4.28494398e-01,\n",
       "        -6.81124709e-02,  -2.38085712e-01,  -5.76511311e-01,\n",
       "         7.86579791e-01,  -3.94028364e-01,   3.00281016e-01,\n",
       "         8.34354492e-01,   6.77025394e-01,   8.22858785e-01,\n",
       "         1.11060226e+00,  -1.11056320e+00,  -3.25581172e-05,\n",
       "         9.01346004e-01,   6.13325282e-01,   1.00280321e+00,\n",
       "        -5.00300647e-01,  -1.46839080e+00,  -1.16559210e+00,\n",
       "         1.23290571e+00,  -8.71374166e-02,   1.32611731e+00,\n",
       "        -6.55945864e-01,  -3.98868969e-01,   1.46537233e-01,\n",
       "         8.34743614e-01,   1.26455201e-01,   2.01707556e-01,\n",
       "        -2.67775720e-01,   2.85085062e-01,  -7.53418549e-01,\n",
       "         5.29313417e-01,   3.65577719e-01,   3.62822350e-02,\n",
       "         1.98139998e-01,  -7.56673772e-01,   1.15733262e-01,\n",
       "        -1.81944537e-01,   1.57198306e-01,   5.83470370e-01,\n",
       "        -9.46770213e-01,   7.13140353e-01,   1.30157187e+00,\n",
       "        -5.49063710e-01,  -4.29728257e-01,  -3.86766308e-01,\n",
       "        -6.57643258e-01,   1.23961415e+00,   3.18446596e-01,\n",
       "        -8.98118949e-01,   3.36881319e-01,  -4.18452911e-01,\n",
       "         2.36601159e-01,   3.51319728e-01,   1.35323942e+00,\n",
       "        -8.34819518e-01,   2.32938600e+00,   4.67174434e-02,\n",
       "         4.55373238e-01,  -7.10684919e-01,  -5.50095165e-02,\n",
       "        -4.54554511e-01,  -1.08213611e-01,  -8.97552407e-01,\n",
       "         7.34802491e-01,   2.25266501e-01,  -3.27438240e-01,\n",
       "         1.20422548e+00,   1.70331974e-01,   1.00007930e+00,\n",
       "        -6.71516563e-01,   1.19221616e+00,   2.40174205e-01,\n",
       "         5.56592389e-01,  -1.23113909e+00,   1.52659926e-01,\n",
       "         1.37611796e+00,  -7.05213114e-01,  -1.25035415e+00,\n",
       "        -1.87651011e+00,  -1.47105690e+00,  -1.50346447e+00,\n",
       "        -3.74317472e-01,   8.78524826e-01,   4.37960653e-02,\n",
       "         5.45982844e-01,   1.41569127e-01,   6.35824494e-02,\n",
       "        -8.87046213e-02,   1.32411808e-01,   4.29143144e-01,\n",
       "        -5.62450166e-01,   5.98293829e-01,  -3.52669474e-01,\n",
       "         2.92708138e-01,   1.49216325e+00,  -3.21136884e-01,\n",
       "        -4.28741839e-01,   5.56602182e-02,  -1.86669080e-01,\n",
       "        -3.15976890e-01,  -9.52287292e-01,  -6.17216871e-01,\n",
       "         2.60724124e-01,  -1.29606872e+00,   1.30204436e-01,\n",
       "         3.62026915e-02,   4.51406829e-01,   7.82343617e-01,\n",
       "        -1.91527940e+00,   1.33470527e+00,  -5.57241554e-01,\n",
       "        -2.54030157e-01,   3.83426415e-02,   1.66900682e+00,\n",
       "        -4.01201302e-01,   1.33980298e+00,   3.12160775e-01,\n",
       "         2.09517683e+00,  -6.85653080e-01,  -9.81232159e-01,\n",
       "         3.81516151e-01,   8.35386181e-02,   1.56227043e-01,\n",
       "        -8.98591326e-01,   2.16673778e-01,   3.99091276e-01,\n",
       "        -3.90120284e-01,   1.51136791e-01,  -2.59947279e-02,\n",
       "        -5.55678088e-01,  -4.14437203e-01,  -5.43696094e-01,\n",
       "         1.42759145e+00,   4.51861867e-01,   8.07369404e-01,\n",
       "        -4.61251208e-01,  -1.06359448e-01,  -1.09810334e+00,\n",
       "         8.38408546e-01,   3.12708310e-01,   1.95587585e+00,\n",
       "        -1.10830352e+00,   3.98647206e-01])"
      ]
     },
     "execution_count": 5,
     "metadata": {},
     "output_type": "execute_result"
    }
   ],
   "source": [
    "X[:,0]"
   ]
  },
  {
   "cell_type": "markdown",
   "metadata": {},
   "source": [
    "#### (2) principal components\n",
    "(in this particular example ~97.6% of the variance is preserved if we project down to the leading principal component)"
   ]
  },
  {
   "cell_type": "code",
   "execution_count": 63,
   "metadata": {},
   "outputs": [
    {
     "name": "stdout",
     "output_type": "stream",
     "text": [
      "total variance:0.777104349414\n",
      "variance explained via the first and second components:[ 0.7625315  0.0184779]\n",
      "\n",
      "principal components:\n",
      "[[-0.94446029 -0.32862557]\n",
      " [-0.32862557  0.94446029]]\n"
     ]
    }
   ],
   "source": [
    "print(\"total variance:{}\".format(np.sum(np.var(X,0))))\n",
    "pca = PCA(2)\n",
    "pca.fit(X)\n",
    "print(\"variance explained via the first and second components:{}\\n\".format(pca.explained_variance_))\n",
    "print(\"principal components:\\n{}\".format(pca.components_))"
   ]
  },
  {
   "cell_type": "code",
   "execution_count": null,
   "metadata": {
    "collapsed": true
   },
   "outputs": [],
   "source": []
  },
  {
   "cell_type": "markdown",
   "metadata": {},
   "source": [
    "#### (3) let's plot the two principal components"
   ]
  },
  {
   "cell_type": "code",
   "execution_count": 64,
   "metadata": {},
   "outputs": [
    {
     "name": "stdout",
     "output_type": "stream",
     "text": [
      "[-2.47419458 -0.86089761]\n",
      "[-0.1340136   0.38515116]\n"
     ]
    }
   ],
   "source": [
    "for length, vector in zip(pca.explained_variance_, pca.components_):\n",
    "    v = vector * 3 * np.sqrt(length)\n",
    "    print(v)"
   ]
  },
  {
   "cell_type": "code",
   "execution_count": 65,
   "metadata": {},
   "outputs": [
    {
     "data": {
      "image/png": "[encoded data removed]",
      "text/plain": [
       "<matplotlib.figure.Figure at 0x10650588>"
      ]
     },
     "metadata": {},
     "output_type": "display_data"
    }
   ],
   "source": [
    "plt.plot(X[:, 0], X[:, 1], 'o', alpha=0.5)\n",
    "for length, vector in zip(pca.explained_variance_, pca.components_):\n",
    "    v = vector * 3 * np.sqrt(length)\n",
    "    plt.plot([0, v[0]], [0, v[1]], '-k', lw=3)\n",
    "plt.axis('equal');"
   ]
  },
  {
   "cell_type": "markdown",
   "metadata": {},
   "source": [
    "#### (4)let's project the data onto the first principal component"
   ]
  },
  {
   "cell_type": "code",
   "execution_count": 66,
   "metadata": {},
   "outputs": [
    {
     "data": {
      "image/png": "[encoded data removed]",
      "text/plain": [
       "<matplotlib.figure.Figure at 0x107957f0>"
      ]
     },
     "metadata": {},
     "output_type": "display_data"
    }
   ],
   "source": [
    "clf = PCA(0.95) # keep 95% of variance. This is another way to define the hyperparameters.\n",
    "X_trans = clf.fit_transform(X)\n",
    "X_new = clf.inverse_transform(X_trans) # transformed data\n",
    "plt.plot(X[:, 0], X[:, 1], 'o', alpha=0.2)\n",
    "plt.plot(X_new[:, 0], X_new[:, 1], 'ob', alpha=0.8)\n",
    "plt.axis('equal');"
   ]
  },
  {
   "cell_type": "markdown",
   "metadata": {},
   "source": [
    "#### (5) let's project the data onto the second principal component "
   ]
  },
  {
   "cell_type": "code",
   "execution_count": 31,
   "metadata": {},
   "outputs": [
    {
     "data": {
      "image/png": "[encoded data removed]",
      "text/plain": [
       "<matplotlib.figure.Figure at 0x120c34a8>"
      ]
     },
     "metadata": {},
     "output_type": "display_data"
    }
   ],
   "source": [
    "e2=pca.components_[1,:] # this is the 2nd eigenvector\n",
    "X_new2=(np.dot(X,e2)*e2.reshape((2,1))).T  # this is the data projected onto the 2nd eigenvector\n",
    "plt.plot(X[:, 0], X[:, 1], 'o', alpha=0.2)\n",
    "plt.plot(X_new2[:, 0], X_new2[:, 1], 'ob', alpha=0.8)\n",
    "plt.axis('equal');"
   ]
  },
  {
   "cell_type": "markdown",
   "metadata": {},
   "source": [
    "## Example 2. Classic example (flower characteristics) for dimensionality reduction and classification of the data using PCA \n",
    "\n",
    "Iris dataset:\n",
    "https://en.wikipedia.org/wiki/Iris_flower_data_set"
   ]
  },
  {
   "cell_type": "code",
   "execution_count": 69,
   "metadata": {},
   "outputs": [
    {
     "data": {
      "text/html": [
       "<div>\n",
       "<style>\n",
       "    .dataframe thead tr:only-child th {\n",
       "        text-align: right;\n",
       "    }\n",
       "\n",
       "    .dataframe thead th {\n",
       "        text-align: left;\n",
       "    }\n",
       "\n",
       "    .dataframe tbody tr th {\n",
       "        vertical-align: top;\n",
       "    }\n",
       "</style>\n",
       "<table border=\"1\" class=\"dataframe\">\n",
       "  <thead>\n",
       "    <tr style=\"text-align: right;\">\n",
       "      <th></th>\n",
       "      <th>Species</th>\n",
       "      <th>Sepal_lenth</th>\n",
       "      <th>Sepal_width</th>\n",
       "      <th>Petal_length</th>\n",
       "      <th>Petal_width</th>\n",
       "    </tr>\n",
       "  </thead>\n",
       "  <tbody>\n",
       "    <tr>\n",
       "      <th>0</th>\n",
       "      <td>0.0</td>\n",
       "      <td>5.1</td>\n",
       "      <td>3.5</td>\n",
       "      <td>1.4</td>\n",
       "      <td>0.2</td>\n",
       "    </tr>\n",
       "    <tr>\n",
       "      <th>1</th>\n",
       "      <td>0.0</td>\n",
       "      <td>4.9</td>\n",
       "      <td>3.0</td>\n",
       "      <td>1.4</td>\n",
       "      <td>0.2</td>\n",
       "    </tr>\n",
       "    <tr>\n",
       "      <th>2</th>\n",
       "      <td>0.0</td>\n",
       "      <td>4.7</td>\n",
       "      <td>3.2</td>\n",
       "      <td>1.3</td>\n",
       "      <td>0.2</td>\n",
       "    </tr>\n",
       "    <tr>\n",
       "      <th>3</th>\n",
       "      <td>0.0</td>\n",
       "      <td>4.6</td>\n",
       "      <td>3.1</td>\n",
       "      <td>1.5</td>\n",
       "      <td>0.2</td>\n",
       "    </tr>\n",
       "    <tr>\n",
       "      <th>4</th>\n",
       "      <td>0.0</td>\n",
       "      <td>5.0</td>\n",
       "      <td>3.6</td>\n",
       "      <td>1.4</td>\n",
       "      <td>0.2</td>\n",
       "    </tr>\n",
       "  </tbody>\n",
       "</table>\n",
       "</div>"
      ],
      "text/plain": [
       "   Species  Sepal_lenth  Sepal_width  Petal_length  Petal_width\n",
       "0      0.0          5.1          3.5           1.4          0.2\n",
       "1      0.0          4.9          3.0           1.4          0.2\n",
       "2      0.0          4.7          3.2           1.3          0.2\n",
       "3      0.0          4.6          3.1           1.5          0.2\n",
       "4      0.0          5.0          3.6           1.4          0.2"
      ]
     },
     "execution_count": 69,
     "metadata": {},
     "output_type": "execute_result"
    }
   ],
   "source": [
    "import matplotlib.pyplot as plt\n",
    "from mpl_toolkits.mplot3d import Axes3D\n",
    "from sklearn import datasets\n",
    "from sklearn.decomposition import PCA\n",
    "\n",
    "# import some data to play with\n",
    "iris = datasets.load_iris()\n",
    "X = iris.data  # we only take the first two features.\n",
    "Y = iris.target\n",
    "data_i=pd.DataFrame(np.concatenate((Y.reshape(len(Y),1),X),axis=1))\n",
    "data_i.columns=[\"Species\",\"Sepal_lenth\",\"Sepal_width\",\"Petal_length\",\"Petal_width\"]\n",
    "data_i.head()"
   ]
  },
  {
   "cell_type": "markdown",
   "metadata": {},
   "source": [
    "<img src=\"https://upload.wikimedia.org/wikipedia/commons/5/56/Kosaciec_szczecinkowaty_Iris_setosa.jpg\",width=100,height=100>\n",
    "<img src=\"https://upload.wikimedia.org/wikipedia/commons/4/41/Iris_versicolor_3.jpg\",width=100,height=100>\n",
    "<img src=\"https://upload.wikimedia.org/wikipedia/commons/9/9f/Iris_virginica.jpg\",width=100,height=100>\n"
   ]
  },
  {
   "cell_type": "markdown",
   "metadata": {},
   "source": [
    "#### Now what if we want to visulize the data?"
   ]
  },
  {
   "cell_type": "code",
   "execution_count": 70,
   "metadata": {},
   "outputs": [
    {
     "data": {
      "text/html": [
       "<div>\n",
       "<style>\n",
       "    .dataframe thead tr:only-child th {\n",
       "        text-align: right;\n",
       "    }\n",
       "\n",
       "    .dataframe thead th {\n",
       "        text-align: left;\n",
       "    }\n",
       "\n",
       "    .dataframe tbody tr th {\n",
       "        vertical-align: top;\n",
       "    }\n",
       "</style>\n",
       "<table border=\"1\" class=\"dataframe\">\n",
       "  <thead>\n",
       "    <tr style=\"text-align: right;\">\n",
       "      <th></th>\n",
       "      <th>0</th>\n",
       "      <th>1</th>\n",
       "      <th>2</th>\n",
       "      <th>3</th>\n",
       "    </tr>\n",
       "  </thead>\n",
       "  <tbody>\n",
       "    <tr>\n",
       "      <th>0</th>\n",
       "      <td>1.000000</td>\n",
       "      <td>-0.109369</td>\n",
       "      <td>0.871754</td>\n",
       "      <td>0.817954</td>\n",
       "    </tr>\n",
       "    <tr>\n",
       "      <th>1</th>\n",
       "      <td>-0.109369</td>\n",
       "      <td>1.000000</td>\n",
       "      <td>-0.420516</td>\n",
       "      <td>-0.356544</td>\n",
       "    </tr>\n",
       "    <tr>\n",
       "      <th>2</th>\n",
       "      <td>0.871754</td>\n",
       "      <td>-0.420516</td>\n",
       "      <td>1.000000</td>\n",
       "      <td>0.962757</td>\n",
       "    </tr>\n",
       "    <tr>\n",
       "      <th>3</th>\n",
       "      <td>0.817954</td>\n",
       "      <td>-0.356544</td>\n",
       "      <td>0.962757</td>\n",
       "      <td>1.000000</td>\n",
       "    </tr>\n",
       "  </tbody>\n",
       "</table>\n",
       "</div>"
      ],
      "text/plain": [
       "          0         1         2         3\n",
       "0  1.000000 -0.109369  0.871754  0.817954\n",
       "1 -0.109369  1.000000 -0.420516 -0.356544\n",
       "2  0.871754 -0.420516  1.000000  0.962757\n",
       "3  0.817954 -0.356544  0.962757  1.000000"
      ]
     },
     "execution_count": 70,
     "metadata": {},
     "output_type": "execute_result"
    }
   ],
   "source": [
    "#Covariance between X.\n",
    "pd.DataFrame(X).corr()"
   ]
  },
  {
   "cell_type": "code",
   "execution_count": 71,
   "metadata": {},
   "outputs": [
    {
     "name": "stdout",
     "output_type": "stream",
     "text": [
      "[ 0.92461621  0.05301557  0.01718514  0.00518309]\n"
     ]
    },
    {
     "data": {
      "image/png": "[encoded data removed]",
      "text/plain": [
       "<matplotlib.figure.Figure at 0x11fd1c50>"
      ]
     },
     "metadata": {},
     "output_type": "display_data"
    }
   ],
   "source": [
    "n=4 # how many eigenvectors we choose\n",
    "from sklearn.decomposition import PCA\n",
    "pca = PCA(n)\n",
    "Xproj = pca.fit_transform(X)\n",
    "eigenvalues = pca.explained_variance_\n",
    "print pca.explained_variance_ratio_\n",
    "plt.bar(np.arange(n), eigenvalues);\n",
    "plt.xlabel(\"Dimensionality\")\n",
    "plt.ylabel(\"Variance\")\n",
    "plt.show()"
   ]
  },
  {
   "cell_type": "markdown",
   "metadata": {},
   "source": [
    "### A. Reduce the dimensionality from 4 to 2 and plot the new feature space"
   ]
  },
  {
   "cell_type": "code",
   "execution_count": 75,
   "metadata": {},
   "outputs": [
    {
     "data": {
      "image/png": "[encoded data removed]",
      "text/plain": [
       "<matplotlib.figure.Figure at 0x10d3fcc0>"
      ]
     },
     "metadata": {},
     "output_type": "display_data"
    }
   ],
   "source": [
    "plt.figure(2, figsize=(8, 6))\n",
    "plt.clf()\n",
    "# Plot the training points\n",
    "plt.scatter(Xproj[:, 0], Xproj[:, 1], c=Y, cmap=plt.cm.cool)\n",
    "plt.xlabel('First eigenvector')\n",
    "plt.ylabel('Second eigenvector')\n",
    "plt.show()"
   ]
  },
  {
   "cell_type": "markdown",
   "metadata": {},
   "source": [
    "### Reduce the dimensionality from 4 to 3 and plot it. "
   ]
  },
  {
   "cell_type": "code",
   "execution_count": 76,
   "metadata": {},
   "outputs": [
    {
     "data": {
      "image/png": "[encoded data removed]",
      "text/plain": [
       "<matplotlib.figure.Figure at 0x103ca828>"
      ]
     },
     "metadata": {},
     "output_type": "display_data"
    }
   ],
   "source": [
    "fig = plt.figure(1, figsize=(8, 6))\n",
    "ax = Axes3D(fig, elev=-150, azim=110)\n",
    "ax.scatter(Xproj[:, 0], Xproj[:, 1], Xproj[:, 2], c=Y,\n",
    "           cmap=plt.cm.cool)\n",
    "ax.set_title(\"First three PCs\")\n",
    "ax.set_xlabel(\"1st eigenvector\")\n",
    "ax.w_xaxis.set_ticklabels([])\n",
    "ax.set_ylabel(\"2nd eigenvector\")\n",
    "ax.w_yaxis.set_ticklabels([])\n",
    "ax.set_zlabel(\"3rd eigenvector\")\n",
    "ax.w_zaxis.set_ticklabels([])\n",
    "\n",
    "plt.show()"
   ]
  },
  {
   "cell_type": "markdown",
   "metadata": {},
   "source": [
    "## Example 3: Artificial data (Using PCA as feature selection tool)"
   ]
  },
  {
   "cell_type": "code",
   "execution_count": 77,
   "metadata": {
    "collapsed": true
   },
   "outputs": [],
   "source": [
    "data=pd.read_csv(\"/Users/sddz0/ADS/session6/data/data/data_q1.csv\")"
   ]
  },
  {
   "cell_type": "code",
   "execution_count": 78,
   "metadata": {},
   "outputs": [
    {
     "data": {
      "text/html": [
       "<div>\n",
       "<style>\n",
       "    .dataframe thead tr:only-child th {\n",
       "        text-align: right;\n",
       "    }\n",
       "\n",
       "    .dataframe thead th {\n",
       "        text-align: left;\n",
       "    }\n",
       "\n",
       "    .dataframe tbody tr th {\n",
       "        vertical-align: top;\n",
       "    }\n",
       "</style>\n",
       "<table border=\"1\" class=\"dataframe\">\n",
       "  <thead>\n",
       "    <tr style=\"text-align: right;\">\n",
       "      <th></th>\n",
       "      <th>y</th>\n",
       "      <th>0</th>\n",
       "      <th>1</th>\n",
       "      <th>2</th>\n",
       "      <th>3</th>\n",
       "      <th>4</th>\n",
       "      <th>5</th>\n",
       "      <th>6</th>\n",
       "      <th>7</th>\n",
       "      <th>8</th>\n",
       "      <th>...</th>\n",
       "      <th>15</th>\n",
       "      <th>16</th>\n",
       "      <th>17</th>\n",
       "      <th>18</th>\n",
       "      <th>19</th>\n",
       "      <th>20</th>\n",
       "      <th>21</th>\n",
       "      <th>22</th>\n",
       "      <th>23</th>\n",
       "      <th>24</th>\n",
       "    </tr>\n",
       "  </thead>\n",
       "  <tbody>\n",
       "    <tr>\n",
       "      <th>0</th>\n",
       "      <td>3.035437</td>\n",
       "      <td>-18.227424</td>\n",
       "      <td>30.521149</td>\n",
       "      <td>-37.494755</td>\n",
       "      <td>31.108940</td>\n",
       "      <td>-8.917930</td>\n",
       "      <td>13.177162</td>\n",
       "      <td>10.153335</td>\n",
       "      <td>17.521327</td>\n",
       "      <td>14.695400</td>\n",
       "      <td>...</td>\n",
       "      <td>11.332401</td>\n",
       "      <td>-3.530624</td>\n",
       "      <td>14.702212</td>\n",
       "      <td>14.099834</td>\n",
       "      <td>4.037464</td>\n",
       "      <td>12.604090</td>\n",
       "      <td>4.788002</td>\n",
       "      <td>9.592441</td>\n",
       "      <td>7.887213</td>\n",
       "      <td>9.061646</td>\n",
       "    </tr>\n",
       "    <tr>\n",
       "      <th>1</th>\n",
       "      <td>1.479243</td>\n",
       "      <td>31.210052</td>\n",
       "      <td>8.273238</td>\n",
       "      <td>17.545475</td>\n",
       "      <td>8.013616</td>\n",
       "      <td>-3.163515</td>\n",
       "      <td>12.632948</td>\n",
       "      <td>10.384905</td>\n",
       "      <td>7.278064</td>\n",
       "      <td>11.506060</td>\n",
       "      <td>...</td>\n",
       "      <td>5.867968</td>\n",
       "      <td>6.762153</td>\n",
       "      <td>11.128908</td>\n",
       "      <td>6.466586</td>\n",
       "      <td>10.245606</td>\n",
       "      <td>10.736484</td>\n",
       "      <td>5.349025</td>\n",
       "      <td>21.841173</td>\n",
       "      <td>-3.204046</td>\n",
       "      <td>19.017705</td>\n",
       "    </tr>\n",
       "    <tr>\n",
       "      <th>2</th>\n",
       "      <td>-1.193325</td>\n",
       "      <td>-2.427634</td>\n",
       "      <td>1.698858</td>\n",
       "      <td>-1.980364</td>\n",
       "      <td>-9.902694</td>\n",
       "      <td>9.215057</td>\n",
       "      <td>9.984092</td>\n",
       "      <td>7.627307</td>\n",
       "      <td>7.701929</td>\n",
       "      <td>15.254064</td>\n",
       "      <td>...</td>\n",
       "      <td>15.241884</td>\n",
       "      <td>4.876780</td>\n",
       "      <td>13.953317</td>\n",
       "      <td>11.608533</td>\n",
       "      <td>7.515592</td>\n",
       "      <td>3.413471</td>\n",
       "      <td>12.893463</td>\n",
       "      <td>1.633385</td>\n",
       "      <td>21.345764</td>\n",
       "      <td>7.264307</td>\n",
       "    </tr>\n",
       "  </tbody>\n",
       "</table>\n",
       "<p>3 rows × 26 columns</p>\n",
       "</div>"
      ],
      "text/plain": [
       "          y          0          1          2          3         4          5  \\\n",
       "0  3.035437 -18.227424  30.521149 -37.494755  31.108940 -8.917930  13.177162   \n",
       "1  1.479243  31.210052   8.273238  17.545475   8.013616 -3.163515  12.632948   \n",
       "2 -1.193325  -2.427634   1.698858  -1.980364  -9.902694  9.215057   9.984092   \n",
       "\n",
       "           6          7          8    ...             15        16         17  \\\n",
       "0  10.153335  17.521327  14.695400    ...      11.332401 -3.530624  14.702212   \n",
       "1  10.384905   7.278064  11.506060    ...       5.867968  6.762153  11.128908   \n",
       "2   7.627307   7.701929  15.254064    ...      15.241884  4.876780  13.953317   \n",
       "\n",
       "          18         19         20         21         22         23         24  \n",
       "0  14.099834   4.037464  12.604090   4.788002   9.592441   7.887213   9.061646  \n",
       "1   6.466586  10.245606  10.736484   5.349025  21.841173  -3.204046  19.017705  \n",
       "2  11.608533   7.515592   3.413471  12.893463   1.633385  21.345764   7.264307  \n",
       "\n",
       "[3 rows x 26 columns]"
      ]
     },
     "execution_count": 78,
     "metadata": {},
     "output_type": "execute_result"
    }
   ],
   "source": [
    "data.head(3)"
   ]
  },
  {
   "cell_type": "code",
   "execution_count": 79,
   "metadata": {
    "collapsed": true
   },
   "outputs": [],
   "source": [
    "x=data.iloc[:,1:]\n",
    "y=np.asarray(data.y)"
   ]
  },
  {
   "cell_type": "code",
   "execution_count": 80,
   "metadata": {},
   "outputs": [
    {
     "name": "stdout",
     "output_type": "stream",
     "text": [
      "[  5.21154801e+00  -7.71586608e+00  -6.41754995e+00   5.19593674e+00\n",
      "   7.33642207e+00   7.36951614e-03  -6.98303604e-02  -1.44688377e-01\n",
      "   3.00169434e-02  -4.12361635e-02  -1.18981035e-02   6.45369557e-02\n",
      "  -6.78464950e-02  -1.51716838e-01   3.43346746e-02   3.36169411e-02\n",
      "   4.05397263e-02   3.33329948e-02  -1.12002841e-01   4.07332717e-03\n",
      "  -1.32373703e-02  -4.22958382e-02   3.26439504e-03  -1.65213589e-02\n",
      "   4.23871855e-02]\n"
     ]
    }
   ],
   "source": [
    "#Multivariable regression. y~X (No intercept).\n",
    "\n",
    "#(1) sklearn\n",
    "from sklearn.linear_model import LinearRegression\n",
    "ols=LinearRegression(fit_intercept=False)\n",
    "ols.fit(x,y)\n",
    "print ols.coef_"
   ]
  },
  {
   "cell_type": "code",
   "execution_count": 81,
   "metadata": {},
   "outputs": [
    {
     "name": "stderr",
     "output_type": "stream",
     "text": [
      "C:\\Users\\sddz0\\Anaconda2\\lib\\site-packages\\statsmodels\\compat\\pandas.py:56: FutureWarning: The pandas.core.datetools module is deprecated and will be removed in a future version. Please use the pandas.tseries module instead.\n",
      "  from pandas.core import datetools\n"
     ]
    },
    {
     "name": "stdout",
     "output_type": "stream",
     "text": [
      "                            OLS Regression Results                            \n",
      "==============================================================================\n",
      "Dep. Variable:                      y   R-squared:                       0.829\n",
      "Model:                            OLS   Adj. R-squared:                  0.659\n",
      "Method:                 Least Squares   F-statistic:                     4.857\n",
      "Date:                Mon, 30 Oct 2017   Prob (F-statistic):           9.40e-05\n",
      "Time:                        21:15:54   Log-Likelihood:                -56.791\n",
      "No. Observations:                  50   AIC:                             163.6\n",
      "Df Residuals:                      25   BIC:                             211.4\n",
      "Df Model:                          25                                         \n",
      "Covariance Type:            nonrobust                                         \n",
      "==============================================================================\n",
      "                 coef    std err          t      P>|t|      [0.025      0.975]\n",
      "------------------------------------------------------------------------------\n",
      "0              5.2115      2.704      1.927      0.065      -0.358      10.781\n",
      "1             -7.7159      4.042     -1.909      0.068     -16.040       0.608\n",
      "2             -6.4175      3.328     -1.928      0.065     -13.272       0.437\n",
      "3              5.1959      2.702      1.923      0.066      -0.370      10.762\n",
      "4              7.3364      3.861      1.900      0.069      -0.615      15.288\n",
      "5              0.0074      0.031      0.240      0.812      -0.056       0.071\n",
      "6             -0.0698      0.037     -1.864      0.074      -0.147       0.007\n",
      "7             -0.1447      0.039     -3.709      0.001      -0.225      -0.064\n",
      "8              0.0300      0.044      0.676      0.505      -0.061       0.121\n",
      "9             -0.0412      0.039     -1.062      0.298      -0.121       0.039\n",
      "10            -0.0119      0.036     -0.331      0.743      -0.086       0.062\n",
      "11             0.0645      0.038      1.692      0.103      -0.014       0.143\n",
      "12            -0.0678      0.036     -1.892      0.070      -0.142       0.006\n",
      "13            -0.1517      0.050     -3.062      0.005      -0.254      -0.050\n",
      "14             0.0343      0.041      0.842      0.408      -0.050       0.118\n",
      "15             0.0336      0.035      0.964      0.344      -0.038       0.105\n",
      "16             0.0405      0.034      1.177      0.250      -0.030       0.111\n",
      "17             0.0333      0.043      0.784      0.440      -0.054       0.121\n",
      "18            -0.1120      0.053     -2.132      0.043      -0.220      -0.004\n",
      "19             0.0041      0.045      0.091      0.928      -0.088       0.096\n",
      "20            -0.0132      0.037     -0.353      0.727      -0.090       0.064\n",
      "21            -0.0423      0.040     -1.066      0.297      -0.124       0.039\n",
      "22             0.0033      0.036      0.092      0.928      -0.070       0.076\n",
      "23            -0.0165      0.039     -0.419      0.679      -0.098       0.065\n",
      "24             0.0424      0.038      1.116      0.275      -0.036       0.121\n",
      "==============================================================================\n",
      "Omnibus:                        2.693   Durbin-Watson:                   2.478\n",
      "Prob(Omnibus):                  0.260   Jarque-Bera (JB):                2.015\n",
      "Skew:                          -0.083   Prob(JB):                        0.365\n",
      "Kurtosis:                       3.969   Cond. No.                     2.30e+03\n",
      "==============================================================================\n",
      "\n",
      "Warnings:\n",
      "[1] Standard Errors assume that the covariance matrix of the errors is correctly specified.\n",
      "[2] The condition number is large, 2.3e+03. This might indicate that there are\n",
      "strong multicollinearity or other numerical problems.\n"
     ]
    }
   ],
   "source": [
    "#(2) statsmodels for the same y~x. \n",
    "import statsmodels.api as sm\n",
    "res=sm.OLS(y,x).fit()\n",
    "print res.summary()"
   ]
  },
  {
   "cell_type": "markdown",
   "metadata": {},
   "source": [
    "####  The R-squared looks very good?? (Before we go ahead, let's take a quick look at feature selection)"
   ]
  },
  {
   "cell_type": "code",
   "execution_count": 82,
   "metadata": {},
   "outputs": [
    {
     "name": "stdout",
     "output_type": "stream",
     "text": [
      "                            OLS Regression Results                            \n",
      "==============================================================================\n",
      "Dep. Variable:                      y   R-squared:                       0.012\n",
      "Model:                            OLS   Adj. R-squared:                 -0.051\n",
      "Method:                 Least Squares   F-statistic:                    0.1903\n",
      "Date:                Mon, 30 Oct 2017   Prob (F-statistic):              0.902\n",
      "Time:                        21:16:03   Log-Likelihood:                -100.68\n",
      "No. Observations:                  50   AIC:                             207.4\n",
      "Df Residuals:                      47   BIC:                             213.1\n",
      "Df Model:                           3                                         \n",
      "Covariance Type:            nonrobust                                         \n",
      "==============================================================================\n",
      "                 coef    std err          t      P>|t|      [0.025      0.975]\n",
      "------------------------------------------------------------------------------\n",
      "7             -0.0041      0.048     -0.084      0.933      -0.101       0.093\n",
      "13             0.0119      0.038      0.318      0.752      -0.064       0.088\n",
      "18             0.0087      0.048      0.182      0.856      -0.088       0.105\n",
      "==============================================================================\n",
      "Omnibus:                        2.224   Durbin-Watson:                   2.189\n",
      "Prob(Omnibus):                  0.329   Jarque-Bera (JB):                1.815\n",
      "Skew:                           0.466   Prob(JB):                        0.404\n",
      "Kurtosis:                       2.956   Cond. No.                         4.11\n",
      "==============================================================================\n",
      "\n",
      "Warnings:\n",
      "[1] Standard Errors assume that the covariance matrix of the errors is correctly specified.\n"
     ]
    }
   ],
   "source": [
    "### feature selection by p-values.\n",
    "res=sm.OLS(y,x.iloc[:,[7,13,18]]).fit()\n",
    "print res.summary()"
   ]
  },
  {
   "cell_type": "markdown",
   "metadata": {},
   "source": [
    "### Overfitting problem"
   ]
  },
  {
   "cell_type": "code",
   "execution_count": 83,
   "metadata": {},
   "outputs": [
    {
     "name": "stdout",
     "output_type": "stream",
     "text": [
      "IS R-squared for 1000 times is 0.913801725541\n",
      "OS R-squared for 1000 times is -0.917729544468\n"
     ]
    }
   ],
   "source": [
    "# Using cross validation.\n",
    "R_IS=[]\n",
    "R_OS=[]\n",
    "\n",
    "# Why we need this? let's set n=1 and run several times to see.\n",
    "n=1000\n",
    "from sklearn.cross_validation import train_test_split\n",
    "for i in range(n):\n",
    "    X_train, X_test, y_train, y_test = train_test_split(x, y, test_size=0.33)\n",
    "    \n",
    "    res=LinearRegression(fit_intercept=False)\n",
    "    res.fit(X_train,y_train)\n",
    "    R_IS.append(1-((np.asarray(res.predict(X_train))-y_train)**2).sum()/((y_train-np.mean(y_train))**2).sum())                                                                     \n",
    "    R_OS.append(1-((np.asarray(res.predict(X_test))-y_test)**2).sum()/((y_test-np.mean(y_test))**2).sum())\n",
    "print(\"IS R-squared for {} times is {}\".format(n,np.mean(R_IS)))\n",
    "print(\"OS R-squared for {} times is {}\".format(n,np.mean(R_OS)))"
   ]
  },
  {
   "cell_type": "code",
   "execution_count": 84,
   "metadata": {},
   "outputs": [
    {
     "name": "stdout",
     "output_type": "stream",
     "text": [
      "IS R-squared for 1000 times is 0.00790646531355\n",
      "OS R-squared for 1000 times is -0.263681602536\n"
     ]
    }
   ],
   "source": [
    "# Using cross validation after feature selection.\n",
    "R_IS=[]\n",
    "R_OS=[]\n",
    "n=1000\n",
    "from sklearn.cross_validation import train_test_split\n",
    "for i in range(n):\n",
    "    X_train, X_test, y_train, y_test = train_test_split(np.asarray(x.iloc[:,[7,13,18]]), y, test_size=0.33)\n",
    "    res=LinearRegression(fit_intercept=False)\n",
    "    res.fit(X_train,y_train)\n",
    "    R_IS.append(1-((np.asarray(res.predict(X_train))-y_train)**2).sum()/((y_train-np.mean(y_train))**2).sum())                                                                     \n",
    "    R_OS.append(1-((np.asarray(res.predict(X_test))-y_test)**2).sum()/((y_test-np.mean(y_test))**2).sum())\n",
    "print(\"IS R-squared for {} times is {}\".format(n,np.mean(R_IS)))\n",
    "print(\"OS R-squared for {} times is {}\".format(n,np.mean(R_OS)))"
   ]
  },
  {
   "cell_type": "markdown",
   "metadata": {},
   "source": [
    "### PCA"
   ]
  },
  {
   "cell_type": "code",
   "execution_count": 85,
   "metadata": {},
   "outputs": [
    {
     "data": {
      "image/png": "[encoded data removed]",
      "text/plain": [
       "<matplotlib.figure.Figure at 0x12285470>"
      ]
     },
     "metadata": {},
     "output_type": "display_data"
    }
   ],
   "source": [
    "n=25 # how many eigenvectors we choose\n",
    "from sklearn.decomposition import PCA\n",
    "pca = PCA(n)\n",
    "Xproj = pca.fit_transform(x)\n",
    "eigenvalues = pca.explained_variance_ratio_\n",
    "plt.plot(np.arange(n), eigenvalues, 'o')\n",
    "plt.xlabel(\"Dimensionality\")\n",
    "plt.ylabel(\"Explained Variance Ratio\")\n",
    "plt.show()"
   ]
  },
  {
   "cell_type": "code",
   "execution_count": 86,
   "metadata": {
    "collapsed": true
   },
   "outputs": [],
   "source": [
    "#Correlation between variabls in Xproj after transformation.\n",
    "# pd.DataFrame(Xproj).corr()"
   ]
  },
  {
   "cell_type": "code",
   "execution_count": 87,
   "metadata": {},
   "outputs": [
    {
     "name": "stdout",
     "output_type": "stream",
     "text": [
      "                            OLS Regression Results                            \n",
      "==============================================================================\n",
      "Dep. Variable:                      y   R-squared:                       0.867\n",
      "Model:                            OLS   Adj. R-squared:                  0.734\n",
      "Method:                 Least Squares   F-statistic:                     6.519\n",
      "Date:                Mon, 30 Oct 2017   Prob (F-statistic):           6.58e-06\n",
      "Time:                        21:16:41   Log-Likelihood:                -50.548\n",
      "No. Observations:                  50   AIC:                             151.1\n",
      "Df Residuals:                      25   BIC:                             198.9\n",
      "Df Model:                          25                                         \n",
      "Covariance Type:            nonrobust                                         \n",
      "==============================================================================\n",
      "                 coef    std err          t      P>|t|      [0.025      0.975]\n",
      "------------------------------------------------------------------------------\n",
      "0              0.0200      0.004      5.214      0.000       0.012       0.028\n",
      "1              0.0465      0.006      7.738      0.000       0.034       0.059\n",
      "2              0.0036      0.007      0.483      0.633      -0.012       0.019\n",
      "3              0.0414      0.013      3.125      0.004       0.014       0.069\n",
      "4             -0.0059      0.016     -0.380      0.707      -0.038       0.026\n",
      "5             -0.0242      0.017     -1.388      0.177      -0.060       0.012\n",
      "6              0.0239      0.019      1.272      0.215      -0.015       0.063\n",
      "7              0.0125      0.020      0.631      0.534      -0.028       0.054\n",
      "8              0.0367      0.021      1.757      0.091      -0.006       0.080\n",
      "9             -0.0419      0.022     -1.889      0.071      -0.088       0.004\n",
      "10             0.0172      0.024      0.725      0.475      -0.032       0.066\n",
      "11             0.0257      0.024      1.075      0.293      -0.024       0.075\n",
      "12             0.0124      0.025      0.491      0.628      -0.040       0.064\n",
      "13             0.0529      0.027      1.958      0.061      -0.003       0.109\n",
      "14             0.0204      0.030      0.675      0.506      -0.042       0.083\n",
      "15            -0.0875      0.032     -2.728      0.011      -0.154      -0.021\n",
      "16             0.0242      0.035      0.684      0.500      -0.049       0.097\n",
      "17            -0.0325      0.037     -0.886      0.384      -0.108       0.043\n",
      "18            -0.1290      0.041     -3.131      0.004      -0.214      -0.044\n",
      "19             0.0901      0.042      2.153      0.041       0.004       0.176\n",
      "20             0.0798      0.045      1.763      0.090      -0.013       0.173\n",
      "21             0.0076      0.047      0.163      0.872      -0.089       0.104\n",
      "22             0.0521      0.059      0.880      0.387      -0.070       0.174\n",
      "23            -0.1539      0.069     -2.228      0.035      -0.296      -0.012\n",
      "24            51.3584     12.475      4.117      0.000      25.665      77.052\n",
      "==============================================================================\n",
      "Omnibus:                        6.543   Durbin-Watson:                   1.897\n",
      "Prob(Omnibus):                  0.038   Jarque-Bera (JB):                8.341\n",
      "Skew:                           0.335   Prob(JB):                       0.0154\n",
      "Kurtosis:                       4.886   Cond. No.                     3.25e+03\n",
      "==============================================================================\n",
      "\n",
      "Warnings:\n",
      "[1] Standard Errors assume that the covariance matrix of the errors is correctly specified.\n",
      "[2] The condition number is large, 3.25e+03. This might indicate that there are\n",
      "strong multicollinearity or other numerical problems.\n"
     ]
    }
   ],
   "source": [
    "import statsmodels.api as sm\n",
    "res=sm.OLS(y,pd.DataFrame(Xproj)).fit()\n",
    "print res.summary()"
   ]
  },
  {
   "cell_type": "code",
   "execution_count": 88,
   "metadata": {},
   "outputs": [
    {
     "name": "stdout",
     "output_type": "stream",
     "text": [
      "                            OLS Regression Results                            \n",
      "==============================================================================\n",
      "Dep. Variable:                      y   R-squared:                       0.515\n",
      "Model:                            OLS   Adj. R-squared:                  0.484\n",
      "Method:                 Least Squares   F-statistic:                     16.65\n",
      "Date:                Mon, 30 Oct 2017   Prob (F-statistic):           1.66e-07\n",
      "Time:                        21:17:09   Log-Likelihood:                -82.885\n",
      "No. Observations:                  50   AIC:                             171.8\n",
      "Df Residuals:                      47   BIC:                             177.5\n",
      "Df Model:                           3                                         \n",
      "Covariance Type:            nonrobust                                         \n",
      "==============================================================================\n",
      "                 coef    std err          t      P>|t|      [0.025      0.975]\n",
      "------------------------------------------------------------------------------\n",
      "0              0.0200      0.005      3.744      0.000       0.009       0.031\n",
      "1              0.0465      0.008      5.557      0.000       0.030       0.063\n",
      "3              0.0414      0.018      2.244      0.030       0.004       0.079\n",
      "==============================================================================\n",
      "Omnibus:                        0.328   Durbin-Watson:                   2.306\n",
      "Prob(Omnibus):                  0.849   Jarque-Bera (JB):                0.022\n",
      "Skew:                           0.023   Prob(JB):                        0.989\n",
      "Kurtosis:                       3.092   Cond. No.                         3.45\n",
      "==============================================================================\n",
      "\n",
      "Warnings:\n",
      "[1] Standard Errors assume that the covariance matrix of the errors is correctly specified.\n"
     ]
    }
   ],
   "source": [
    "# What about the feature selection this time?\n",
    "import statsmodels.api as sm\n",
    "res=sm.OLS(y,pd.DataFrame(Xproj).iloc[:,[0,1,3]]).fit()\n",
    "print res.summary()"
   ]
  },
  {
   "cell_type": "code",
   "execution_count": 89,
   "metadata": {
    "collapsed": true
   },
   "outputs": [],
   "source": [
    "# Using cross validation.Looks much better compared to first one if you remember.\n",
    "def AdjR2(flag,n=10):\n",
    "  R_IS=[]\n",
    "  R_OS=[]\n",
    "  for i in range(n):\n",
    "    X_train, X_test, y_train, y_test = train_test_split(Xproj[:,flag], y, test_size=0.4)\n",
    "    res=LinearRegression(fit_intercept=False)\n",
    "    res.fit(X_train,y_train)\n",
    "    R_IS.append(1-((np.asarray(res.predict(X_train))-y_train)**2).sum()/((y_train-np.mean(y_train))**2).sum())                                                                     \n",
    "    R_OS.append(1-((np.asarray(res.predict(X_test))-y_test)**2).sum()/((y_test-np.mean(y_test))**2).sum())\n",
    "  R2_IS=np.mean(R_IS)  \n",
    "  R2_OS=np.mean(R_OS)\n",
    "  return R2_IS, R2_OS, res  "
   ]
  },
  {
   "cell_type": "code",
   "execution_count": 90,
   "metadata": {},
   "outputs": [
    {
     "name": "stdout",
     "output_type": "stream",
     "text": [
      "IS R-squared for 1000 times is 0.508955014474\n",
      "OS R-squared for 1000 times is 0.370512533296\n"
     ]
    }
   ],
   "source": [
    "[R2_IS, R2_OS, res]=AdjR2([0, 1, 3],n=1000);\n",
    "print(\"IS R-squared for {} times is {}\".format(1000,R2_IS))\n",
    "print(\"OS R-squared for {} times is {}\".format(1000,R2_OS))"
   ]
  },
  {
   "cell_type": "code",
   "execution_count": 91,
   "metadata": {},
   "outputs": [
    {
     "name": "stdout",
     "output_type": "stream",
     "text": [
      "IS R-squared after feature selection is 0.793011960525\n",
      "OS R-squared after feature selection is 0.474677836972\n"
     ]
    },
    {
     "data": {
      "text/plain": [
       "array([ 1.,  1.,  0.,  1.,  1.,  0.,  0.,  0.,  0.,  0.,  0.,  0.,  0.,\n",
       "        1.,  0.,  1.,  0.,  0.,  1.,  0.,  1.,  0.,  0.,  1.,  1.])"
      ]
     },
     "execution_count": 91,
     "metadata": {},
     "output_type": "execute_result"
    }
   ],
   "source": [
    "# Find the best feature selection (forward step-wise) that maximizes the out-of-sample adjusted R2\n",
    "def FindBestI():\n",
    "    flag = np.zeros(n)    # initially exclude all regressors: 1-include, 0-exclude\n",
    "    r2max = 0             # for storing and compare with best R^2\n",
    "    while True:\n",
    "        flag_mat = np.maximum(np.eye(n),flag) #create the matrix with rows representing the cases of adding each new feature\n",
    "        # see if R2 increases if we add one more feature\n",
    "        r2 = np.apply_along_axis(AdjR2,1,flag_mat==1)[:,0]  # 1: row-wise operation producing the validation R2 for each row (combination of features)\n",
    "        temp = r2.max() #take the best R2\n",
    "        if temp > r2max:\n",
    "            r2max = temp\n",
    "            flag = flag_mat[r2.argmax()]  # select the feature set that improved R2\n",
    "        else:\n",
    "            break                         # if there's nothing to add, break the loop\n",
    "    return flag\n",
    "\n",
    "flag = FindBestI()             # store the best choice of feature selection\n",
    "R2_IS,R2_OS,lm_best = AdjR2(flag==1)  # then run the regression based on such selection\n",
    "print(\"IS R-squared after feature selection is {}\".format(R2_IS))\n",
    "print(\"OS R-squared after feature selection is {}\".format(R2_OS))\n",
    "flag"
   ]
  },
  {
   "cell_type": "markdown",
   "metadata": {},
   "source": [
    "### Real-world example. House price prediction\n",
    "\n",
    "Before we tried to use some parameters of the house (size) to predict its price. However notice that location matters as well. Below we upload a sample (approximately 30% of the total) of more than 2000 individual house sales all around NYC in 2012. Each record together with the parameters of the house also contains important characteristics of the location (zip code) - average income of its residents (accodring to US census), as well as the relative structure of 311 complaints happening in the area."
   ]
  },
  {
   "cell_type": "code",
   "execution_count": 97,
   "metadata": {},
   "outputs": [
    {
     "data": {
      "text/html": [
       "<div>\n",
       "<style>\n",
       "    .dataframe thead tr:only-child th {\n",
       "        text-align: right;\n",
       "    }\n",
       "\n",
       "    .dataframe thead th {\n",
       "        text-align: left;\n",
       "    }\n",
       "\n",
       "    .dataframe tbody tr th {\n",
       "        vertical-align: top;\n",
       "    }\n",
       "</style>\n",
       "<table border=\"1\" class=\"dataframe\">\n",
       "  <thead>\n",
       "    <tr style=\"text-align: right;\">\n",
       "      <th></th>\n",
       "      <th>zip_code</th>\n",
       "      <th>sale_price</th>\n",
       "      <th>gross_sq_feet</th>\n",
       "      <th>mean</th>\n",
       "    </tr>\n",
       "  </thead>\n",
       "  <tbody>\n",
       "    <tr>\n",
       "      <th>0</th>\n",
       "      <td>11356</td>\n",
       "      <td>600000</td>\n",
       "      <td>1624</td>\n",
       "      <td>80098.0</td>\n",
       "    </tr>\n",
       "    <tr>\n",
       "      <th>1</th>\n",
       "      <td>10017</td>\n",
       "      <td>5200000</td>\n",
       "      <td>3840</td>\n",
       "      <td>149723.0</td>\n",
       "    </tr>\n",
       "    <tr>\n",
       "      <th>2</th>\n",
       "      <td>11413</td>\n",
       "      <td>100000</td>\n",
       "      <td>2120</td>\n",
       "      <td>84085.0</td>\n",
       "    </tr>\n",
       "    <tr>\n",
       "      <th>3</th>\n",
       "      <td>11213</td>\n",
       "      <td>775000</td>\n",
       "      <td>3423</td>\n",
       "      <td>46614.0</td>\n",
       "    </tr>\n",
       "    <tr>\n",
       "      <th>4</th>\n",
       "      <td>11207</td>\n",
       "      <td>151000</td>\n",
       "      <td>2136</td>\n",
       "      <td>44634.0</td>\n",
       "    </tr>\n",
       "  </tbody>\n",
       "</table>\n",
       "</div>"
      ],
      "text/plain": [
       "   zip_code  sale_price  gross_sq_feet      mean\n",
       "0     11356      600000           1624   80098.0\n",
       "1     10017     5200000           3840  149723.0\n",
       "2     11413      100000           2120   84085.0\n",
       "3     11213      775000           3423   46614.0\n",
       "4     11207      151000           2136   44634.0"
      ]
     },
     "execution_count": 97,
     "metadata": {},
     "output_type": "execute_result"
    }
   ],
   "source": [
    "data4=pd.read_csv(\"data/data/example4.csv\").iloc[:,2:]\n",
    "data4.loc[:,[\"zip_code\",\"sale_price\",\"gross_sq_feet\",\"mean\"]].head()"
   ]
  },
  {
   "cell_type": "code",
   "execution_count": 98,
   "metadata": {},
   "outputs": [
    {
     "data": {
      "text/html": [
       "<div>\n",
       "<style>\n",
       "    .dataframe thead tr:only-child th {\n",
       "        text-align: right;\n",
       "    }\n",
       "\n",
       "    .dataframe thead th {\n",
       "        text-align: left;\n",
       "    }\n",
       "\n",
       "    .dataframe tbody tr th {\n",
       "        vertical-align: top;\n",
       "    }\n",
       "</style>\n",
       "<table border=\"1\" class=\"dataframe\">\n",
       "  <thead>\n",
       "    <tr style=\"text-align: right;\">\n",
       "      <th></th>\n",
       "      <th>borough</th>\n",
       "      <th>neighborhood</th>\n",
       "      <th>building_class_category</th>\n",
       "      <th>tax_class_present</th>\n",
       "      <th>block</th>\n",
       "      <th>lot</th>\n",
       "      <th>easement</th>\n",
       "      <th>building_class_present</th>\n",
       "      <th>address</th>\n",
       "      <th>apartment_number</th>\n",
       "      <th>...</th>\n",
       "      <th>Unsanitary Pigeon Condition</th>\n",
       "      <th>Urinating in Public</th>\n",
       "      <th>Vacant Lot</th>\n",
       "      <th>Vending</th>\n",
       "      <th>Violation of Park Rules</th>\n",
       "      <th>Water Conservation</th>\n",
       "      <th>Water Quality</th>\n",
       "      <th>Water System</th>\n",
       "      <th>Window Guard</th>\n",
       "      <th>X Ray Machine Equipment</th>\n",
       "    </tr>\n",
       "  </thead>\n",
       "  <tbody>\n",
       "    <tr>\n",
       "      <th>0</th>\n",
       "      <td>4</td>\n",
       "      <td>COLLEGE POINT</td>\n",
       "      <td>01  ONE FAMILY HOMES</td>\n",
       "      <td>1</td>\n",
       "      <td>3937</td>\n",
       "      <td>31</td>\n",
       "      <td>NaN</td>\n",
       "      <td>A9</td>\n",
       "      <td>119-40 6 AVENUE</td>\n",
       "      <td>NaN</td>\n",
       "      <td>...</td>\n",
       "      <td>0.000000</td>\n",
       "      <td>0.000000</td>\n",
       "      <td>0.000000</td>\n",
       "      <td>0.001797</td>\n",
       "      <td>0.001540</td>\n",
       "      <td>0.003850</td>\n",
       "      <td>0.002053</td>\n",
       "      <td>0.049281</td>\n",
       "      <td>0.0</td>\n",
       "      <td>0.0</td>\n",
       "    </tr>\n",
       "    <tr>\n",
       "      <th>1</th>\n",
       "      <td>1</td>\n",
       "      <td>MIDTOWN EAST</td>\n",
       "      <td>01  ONE FAMILY HOMES</td>\n",
       "      <td>1</td>\n",
       "      <td>1322</td>\n",
       "      <td>18</td>\n",
       "      <td>NaN</td>\n",
       "      <td>A4</td>\n",
       "      <td>241 EAST 48TH   STREET</td>\n",
       "      <td>NaN</td>\n",
       "      <td>...</td>\n",
       "      <td>0.000227</td>\n",
       "      <td>0.000227</td>\n",
       "      <td>0.000000</td>\n",
       "      <td>0.010675</td>\n",
       "      <td>0.000454</td>\n",
       "      <td>0.001817</td>\n",
       "      <td>0.000227</td>\n",
       "      <td>0.050874</td>\n",
       "      <td>0.0</td>\n",
       "      <td>0.0</td>\n",
       "    </tr>\n",
       "    <tr>\n",
       "      <th>2</th>\n",
       "      <td>4</td>\n",
       "      <td>SPRINGFIELD GARDENS</td>\n",
       "      <td>01  ONE FAMILY HOMES</td>\n",
       "      <td>1</td>\n",
       "      <td>13029</td>\n",
       "      <td>24</td>\n",
       "      <td>NaN</td>\n",
       "      <td>A1</td>\n",
       "      <td>186-40 139TH AVENUE</td>\n",
       "      <td>NaN</td>\n",
       "      <td>...</td>\n",
       "      <td>0.000000</td>\n",
       "      <td>0.000000</td>\n",
       "      <td>0.004484</td>\n",
       "      <td>0.000000</td>\n",
       "      <td>0.000179</td>\n",
       "      <td>0.007354</td>\n",
       "      <td>0.001256</td>\n",
       "      <td>0.069058</td>\n",
       "      <td>0.0</td>\n",
       "      <td>0.0</td>\n",
       "    </tr>\n",
       "    <tr>\n",
       "      <th>3</th>\n",
       "      <td>3</td>\n",
       "      <td>CROWN HEIGHTS</td>\n",
       "      <td>01  ONE FAMILY HOMES</td>\n",
       "      <td>1</td>\n",
       "      <td>1222</td>\n",
       "      <td>53</td>\n",
       "      <td>NaN</td>\n",
       "      <td>A4</td>\n",
       "      <td>891 ST MARK'S AVENUE</td>\n",
       "      <td>NaN</td>\n",
       "      <td>...</td>\n",
       "      <td>0.000170</td>\n",
       "      <td>0.000170</td>\n",
       "      <td>0.000908</td>\n",
       "      <td>0.000568</td>\n",
       "      <td>0.000170</td>\n",
       "      <td>0.000454</td>\n",
       "      <td>0.000341</td>\n",
       "      <td>0.012433</td>\n",
       "      <td>0.0</td>\n",
       "      <td>0.0</td>\n",
       "    </tr>\n",
       "    <tr>\n",
       "      <th>4</th>\n",
       "      <td>3</td>\n",
       "      <td>CYPRESS HILLS</td>\n",
       "      <td>01  ONE FAMILY HOMES</td>\n",
       "      <td>1</td>\n",
       "      <td>3919</td>\n",
       "      <td>4</td>\n",
       "      <td>NaN</td>\n",
       "      <td>A5</td>\n",
       "      <td>79 HENDRIX</td>\n",
       "      <td>NaN</td>\n",
       "      <td>...</td>\n",
       "      <td>0.000491</td>\n",
       "      <td>0.000197</td>\n",
       "      <td>0.005897</td>\n",
       "      <td>0.000590</td>\n",
       "      <td>0.000393</td>\n",
       "      <td>0.001622</td>\n",
       "      <td>0.000442</td>\n",
       "      <td>0.037445</td>\n",
       "      <td>0.0</td>\n",
       "      <td>0.0</td>\n",
       "    </tr>\n",
       "  </tbody>\n",
       "</table>\n",
       "<p>5 rows × 182 columns</p>\n",
       "</div>"
      ],
      "text/plain": [
       "   borough         neighborhood building_class_category  tax_class_present  \\\n",
       "0        4        COLLEGE POINT    01  ONE FAMILY HOMES                  1   \n",
       "1        1         MIDTOWN EAST    01  ONE FAMILY HOMES                  1   \n",
       "2        4  SPRINGFIELD GARDENS    01  ONE FAMILY HOMES                  1   \n",
       "3        3        CROWN HEIGHTS    01  ONE FAMILY HOMES                  1   \n",
       "4        3        CYPRESS HILLS    01  ONE FAMILY HOMES                  1   \n",
       "\n",
       "   block  lot  easement building_class_present                 address  \\\n",
       "0   3937   31       NaN                     A9         119-40 6 AVENUE   \n",
       "1   1322   18       NaN                     A4  241 EAST 48TH   STREET   \n",
       "2  13029   24       NaN                     A1     186-40 139TH AVENUE   \n",
       "3   1222   53       NaN                     A4    891 ST MARK'S AVENUE   \n",
       "4   3919    4       NaN                     A5              79 HENDRIX   \n",
       "\n",
       "   apartment_number           ...             Unsanitary Pigeon Condition  \\\n",
       "0               NaN           ...                                0.000000   \n",
       "1               NaN           ...                                0.000227   \n",
       "2               NaN           ...                                0.000000   \n",
       "3               NaN           ...                                0.000170   \n",
       "4               NaN           ...                                0.000491   \n",
       "\n",
       "   Urinating in Public  Vacant Lot   Vending  Violation of Park Rules  \\\n",
       "0             0.000000    0.000000  0.001797                 0.001540   \n",
       "1             0.000227    0.000000  0.010675                 0.000454   \n",
       "2             0.000000    0.004484  0.000000                 0.000179   \n",
       "3             0.000170    0.000908  0.000568                 0.000170   \n",
       "4             0.000197    0.005897  0.000590                 0.000393   \n",
       "\n",
       "   Water Conservation Water Quality  Water System Window Guard  \\\n",
       "0            0.003850      0.002053      0.049281          0.0   \n",
       "1            0.001817      0.000227      0.050874          0.0   \n",
       "2            0.007354      0.001256      0.069058          0.0   \n",
       "3            0.000454      0.000341      0.012433          0.0   \n",
       "4            0.001622      0.000442      0.037445          0.0   \n",
       "\n",
       "   X Ray Machine Equipment  \n",
       "0                      0.0  \n",
       "1                      0.0  \n",
       "2                      0.0  \n",
       "3                      0.0  \n",
       "4                      0.0  \n",
       "\n",
       "[5 rows x 182 columns]"
      ]
     },
     "execution_count": 98,
     "metadata": {},
     "output_type": "execute_result"
    }
   ],
   "source": [
    "data4.head()"
   ]
  },
  {
   "cell_type": "code",
   "execution_count": 99,
   "metadata": {},
   "outputs": [
    {
     "data": {
      "text/plain": [
       "Index([u'borough', u'neighborhood', u'building_class_category',\n",
       "       u'tax_class_present', u'block', u'lot', u'easement',\n",
       "       u'building_class_present', u'address', u'apartment_number', u'zip_code',\n",
       "       u'residential_units', u'commmercial_units', u'land_sq_feet',\n",
       "       u'gross_sq_feet', u'year_built', u'build_class_time_sale',\n",
       "       u'sale_price', u'sale_date', u'serialid', u'year', u'mean', u'median'],\n",
       "      dtype='object')"
      ]
     },
     "execution_count": 99,
     "metadata": {},
     "output_type": "execute_result"
    }
   ],
   "source": [
    "data4.columns[0:23]"
   ]
  },
  {
   "cell_type": "markdown",
   "metadata": {},
   "source": [
    "### OLS "
   ]
  },
  {
   "cell_type": "code",
   "execution_count": 100,
   "metadata": {
    "scrolled": true
   },
   "outputs": [
    {
     "name": "stdout",
     "output_type": "stream",
     "text": [
      "                            OLS Regression Results                            \n",
      "==============================================================================\n",
      "Dep. Variable:             sale_price   R-squared:                       0.385\n",
      "Model:                            OLS   Adj. R-squared:                  0.384\n",
      "Method:                 Least Squares   F-statistic:                     494.0\n",
      "Date:                Mon, 30 Oct 2017   Prob (F-statistic):          2.48e-249\n",
      "Time:                        21:18:41   Log-Likelihood:                -36444.\n",
      "No. Observations:                2375   AIC:                         7.290e+04\n",
      "Df Residuals:                    2371   BIC:                         7.292e+04\n",
      "Df Model:                           3                                         \n",
      "Covariance Type:            nonrobust                                         \n",
      "=================================================================================\n",
      "                    coef    std err          t      P>|t|      [0.025      0.975]\n",
      "---------------------------------------------------------------------------------\n",
      "const          1.552e+07   1.63e+06      9.499      0.000    1.23e+07    1.87e+07\n",
      "gross_sq_feet  1051.2642     27.899     37.681      0.000     996.556    1105.973\n",
      "land_sq_feet    -80.2432      7.884    -10.178      0.000     -95.704     -64.783\n",
      "year_built    -8498.8023    843.281    -10.078      0.000   -1.02e+04   -6845.157\n",
      "==============================================================================\n",
      "Omnibus:                     3969.998   Durbin-Watson:                   2.034\n",
      "Prob(Omnibus):                  0.000   Jarque-Bera (JB):          5405120.017\n",
      "Skew:                          10.777   Prob(JB):                         0.00\n",
      "Kurtosis:                     235.713   Cond. No.                     3.75e+05\n",
      "==============================================================================\n",
      "\n",
      "Warnings:\n",
      "[1] Standard Errors assume that the covariance matrix of the errors is correctly specified.\n",
      "[2] The condition number is large, 3.75e+05. This might indicate that there are\n",
      "strong multicollinearity or other numerical problems.\n"
     ]
    }
   ],
   "source": [
    "# Run a linear regression: \"sale_price\"~\"gross_sq_feet\"+\"land_sq_feet\"+\"year_built\"\n",
    "res=sm.OLS(data4.sale_price,sm.add_constant(data4.loc[:,[\"gross_sq_feet\",\"land_sq_feet\",\"year_built\"]]),missing=\"drop\").fit()\n",
    "print res.summary()"
   ]
  },
  {
   "cell_type": "code",
   "execution_count": 101,
   "metadata": {},
   "outputs": [
    {
     "name": "stdout",
     "output_type": "stream",
     "text": [
      "                            OLS Regression Results                            \n",
      "==============================================================================\n",
      "Dep. Variable:             sale_price   R-squared:                       0.505\n",
      "Model:                            OLS   Adj. R-squared:                  0.504\n",
      "Method:                 Least Squares   F-statistic:                     603.6\n",
      "Date:                Mon, 30 Oct 2017   Prob (F-statistic):               0.00\n",
      "Time:                        21:19:52   Log-Likelihood:                -36186.\n",
      "No. Observations:                2375   AIC:                         7.238e+04\n",
      "Df Residuals:                    2370   BIC:                         7.241e+04\n",
      "Df Model:                           4                                         \n",
      "Covariance Type:            nonrobust                                         \n",
      "=================================================================================\n",
      "                    coef    std err          t      P>|t|      [0.025      0.975]\n",
      "---------------------------------------------------------------------------------\n",
      "const          2.108e+07   1.48e+06     14.200      0.000    1.82e+07     2.4e+07\n",
      "gross_sq_feet   882.7750     26.005     33.947      0.000     831.781     933.769\n",
      "land_sq_feet    -72.8449      7.082    -10.286      0.000     -86.732     -58.958\n",
      "year_built    -1.229e+04    773.077    -15.892      0.000   -1.38e+04   -1.08e+04\n",
      "mean             27.4581      1.146     23.963      0.000      25.211      29.705\n",
      "==============================================================================\n",
      "Omnibus:                     4120.822   Durbin-Watson:                   2.074\n",
      "Prob(Omnibus):                  0.000   Jarque-Bera (JB):          7689374.496\n",
      "Skew:                          11.556   Prob(JB):                         0.00\n",
      "Kurtosis:                     280.793   Cond. No.                     5.65e+06\n",
      "==============================================================================\n",
      "\n",
      "Warnings:\n",
      "[1] Standard Errors assume that the covariance matrix of the errors is correctly specified.\n",
      "[2] The condition number is large, 5.65e+06. This might indicate that there are\n",
      "strong multicollinearity or other numerical problems.\n"
     ]
    }
   ],
   "source": [
    "# Add first parameter of the location - average income (\"mean\")\n",
    "res=sm.OLS(data4.sale_price,sm.add_constant(data4.loc[:,[\"gross_sq_feet\",\"land_sq_feet\",\"year_built\",\"mean\"]]),missing=\"drop\").fit()\n",
    "print res.summary()"
   ]
  },
  {
   "cell_type": "code",
   "execution_count": 102,
   "metadata": {},
   "outputs": [
    {
     "data": {
      "text/plain": [
       "array([   882.77498691,    -72.84491796, -12286.02657014,     27.45810469])"
      ]
     },
     "execution_count": 102,
     "metadata": {},
     "output_type": "execute_result"
    }
   ],
   "source": [
    "#If using sklearn.\n",
    "lm=LinearRegression()\n",
    "lm.fit(data4.loc[:,[\"gross_sq_feet\",\"land_sq_feet\",\"year_built\",\"mean\"]],data4.sale_price)\n",
    "lm.coef_"
   ]
  },
  {
   "cell_type": "code",
   "execution_count": 103,
   "metadata": {},
   "outputs": [
    {
     "name": "stdout",
     "output_type": "stream",
     "text": [
      "IS R-squared for 100 times is 0.470328940591\n",
      "OS R-squared for 100 times is 0.327447674361\n"
     ]
    }
   ],
   "source": [
    "# Using cross validation to show average R-squared\n",
    "R_IS=[]\n",
    "R_OS=[]\n",
    "n=100\n",
    "from sklearn.cross_validation import train_test_split\n",
    "for i in range(n):\n",
    "    X_train, X_test, y_train, y_test = train_test_split(data4.loc[:,[\"gross_sq_feet\",\"land_sq_feet\",\"year_built\",\"mean\"]],data4.sale_price,test_size=0.3)\n",
    "    res=LinearRegression(fit_intercept=False)\n",
    "    res.fit(X_train,y_train)\n",
    "    R_IS.append(1-((np.asarray(res.predict(X_train))-y_train)**2).sum()/((y_train-np.mean(y_train))**2).sum())                                                                     \n",
    "    R_OS.append(1-((np.asarray(res.predict(X_test))-y_test)**2).sum()/((y_test-np.mean(y_test))**2).sum())\n",
    "print(\"IS R-squared for {} times is {}\".format(n,np.mean(R_IS)))\n",
    "print(\"OS R-squared for {} times is {}\".format(n,np.mean(R_OS)))"
   ]
  },
  {
   "cell_type": "markdown",
   "metadata": {},
   "source": [
    "### Add all 311 data"
   ]
  },
  {
   "cell_type": "markdown",
   "metadata": {},
   "source": [
    "#### 311 service requests data.\n",
    "https://en.wikipedia.org/wiki/3-1-1\n",
    "\n",
    "3-1-1 is a special telephone number supported in many communities in Canada and the United States. The number provides access to non-emergency municipal services. The number format follows the N11 code for a group of short, special-purpose local numbers as designated in the North American Numbering Plan.\n",
    "The number 3-1-1 is intended in part to divert routine inquiries and non-urgent community concerns from the 9-1-1 number which is reserved for emergency service. A promotional website for 3-1-1 in Akron described the distinction as follows: \"Burning building? Call 9-1-1. Burning Question? Call 3-1-1.\""
   ]
  },
  {
   "cell_type": "code",
   "execution_count": 104,
   "metadata": {},
   "outputs": [
    {
     "data": {
      "text/html": [
       "<div>\n",
       "<style>\n",
       "    .dataframe thead tr:only-child th {\n",
       "        text-align: right;\n",
       "    }\n",
       "\n",
       "    .dataframe thead th {\n",
       "        text-align: left;\n",
       "    }\n",
       "\n",
       "    .dataframe tbody tr th {\n",
       "        vertical-align: top;\n",
       "    }\n",
       "</style>\n",
       "<table border=\"1\" class=\"dataframe\">\n",
       "  <thead>\n",
       "    <tr style=\"text-align: right;\">\n",
       "      <th></th>\n",
       "      <th>Zip</th>\n",
       "      <th>Complain</th>\n",
       "      <th>Count</th>\n",
       "    </tr>\n",
       "  </thead>\n",
       "  <tbody>\n",
       "    <tr>\n",
       "      <th>1</th>\n",
       "      <td>NaN</td>\n",
       "      <td>Adopt-A-Basket</td>\n",
       "      <td>5</td>\n",
       "    </tr>\n",
       "    <tr>\n",
       "      <th>2</th>\n",
       "      <td>10001</td>\n",
       "      <td>Adopt-A-Basket</td>\n",
       "      <td>1</td>\n",
       "    </tr>\n",
       "    <tr>\n",
       "      <th>3</th>\n",
       "      <td>10003</td>\n",
       "      <td>Adopt-A-Basket</td>\n",
       "      <td>1</td>\n",
       "    </tr>\n",
       "    <tr>\n",
       "      <th>4</th>\n",
       "      <td>10009</td>\n",
       "      <td>Adopt-A-Basket</td>\n",
       "      <td>1</td>\n",
       "    </tr>\n",
       "    <tr>\n",
       "      <th>5</th>\n",
       "      <td>10010</td>\n",
       "      <td>Adopt-A-Basket</td>\n",
       "      <td>1</td>\n",
       "    </tr>\n",
       "  </tbody>\n",
       "</table>\n",
       "</div>"
      ],
      "text/plain": [
       "     Zip        Complain  Count\n",
       "1    NaN  Adopt-A-Basket      5\n",
       "2  10001  Adopt-A-Basket      1\n",
       "3  10003  Adopt-A-Basket      1\n",
       "4  10009  Adopt-A-Basket      1\n",
       "5  10010  Adopt-A-Basket      1"
      ]
     },
     "execution_count": 104,
     "metadata": {},
     "output_type": "execute_result"
    }
   ],
   "source": [
    "data311 = pd.read_csv( 'data/data/aggr311.csv' , index_col=0 )\n",
    "data311.head()"
   ]
  },
  {
   "cell_type": "code",
   "execution_count": 105,
   "metadata": {
    "collapsed": true
   },
   "outputs": [],
   "source": [
    "import numbers\n",
    "zips={}\n",
    "zipsinv={}\n",
    "zipnum=0\n",
    "complains={}\n",
    "compinv={}\n",
    "compnum=0\n",
    "X=np.zeros(shape=(1000,200))\n",
    "Z=[0]*1000\n",
    "for i in data311.index:\n",
    "    z=data311.Zip[i];\n",
    "    if not isinstance(z, numbers.Number):\n",
    "      if z.isdigit():\n",
    "        if (int(z)>10000)& (int(z)<20000):\n",
    "           if not (z in zips.keys()):\n",
    "              zips[z]=zipnum\n",
    "              zipsinv[zipnum]=z\n",
    "              zipnum+=1\n",
    "           comp=data311.Complain[i] \n",
    "           if not (comp in complains.keys()):\n",
    "              complains[comp]=compnum\n",
    "              compinv[compnum]=comp\n",
    "              compnum+=1\n",
    "           X[zips[z]][complains[comp]]=data311.Count[i]\n",
    "           Z[zips[z]]=int(z)\n",
    "X=X[0:zipnum,0:compnum]\n",
    "Z=np.array(Z[0:zipnum])"
   ]
  },
  {
   "cell_type": "code",
   "execution_count": 106,
   "metadata": {
    "collapsed": true
   },
   "outputs": [],
   "source": [
    "for z in range(0,zipnum):\n",
    "    X[z,:]=X[z,:]/sum(X[z,:])"
   ]
  },
  {
   "cell_type": "code",
   "execution_count": 107,
   "metadata": {
    "collapsed": true
   },
   "outputs": [],
   "source": [
    "# create borough labels \n",
    "manhattanInd=(Z>10000)&(Z<10300)&(Z!=10026)&(Z!=10027)&(Z!=10029)&(Z!=10030)&(Z!=10037)&(Z!=10038) #Manhattan\n",
    "statenInd=(Z>=10300)&(Z<10400) #Staten Island\n",
    "brooklynInd=(Z>=11000)&(Z<11300) #Brooklyn\n",
    "queensInd=(Z>=11300)&(Z<11500) #Queens\n",
    "bronxInd=(Z>=10400)&(Z<10500) #Bronx\n",
    "D=Z*0 \n",
    "D[manhattanInd]=1\n",
    "D[statenInd]=2\n",
    "D[brooklynInd]=3\n",
    "D[queensInd]=4\n",
    "D[bronxInd]=5"
   ]
  },
  {
   "cell_type": "code",
   "execution_count": 108,
   "metadata": {
    "collapsed": true
   },
   "outputs": [],
   "source": [
    "X=X[D>0,:]\n",
    "Z=Z[D>0]\n",
    "D=D[D>0]"
   ]
  },
  {
   "cell_type": "code",
   "execution_count": 109,
   "metadata": {},
   "outputs": [
    {
     "data": {
      "text/plain": [
       "(210L, 162L)"
      ]
     },
     "execution_count": 109,
     "metadata": {},
     "output_type": "execute_result"
    }
   ],
   "source": [
    "X.shape"
   ]
  },
  {
   "cell_type": "code",
   "execution_count": 110,
   "metadata": {},
   "outputs": [
    {
     "data": {
      "image/png": "[encoded data removed]",
      "text/plain": [
       "<matplotlib.figure.Figure at 0x1085db00>"
      ]
     },
     "metadata": {},
     "output_type": "display_data"
    }
   ],
   "source": [
    "# Plot the biggest 30 eigenvalues.\n",
    "n=30\n",
    "from sklearn.decomposition import PCA\n",
    "pca = PCA(n)\n",
    "Xproj = pca.fit_transform(pd.DataFrame(X))\n",
    "eigenvalues = pca.explained_variance_ratio_\n",
    "plt.plot(np.arange(n), eigenvalues, 'o')\n",
    "plt.xlabel(\"Dimensionality\")\n",
    "plt.ylabel(\"Explained Variance Ratio\")\n",
    "plt.show()"
   ]
  },
  {
   "cell_type": "code",
   "execution_count": 111,
   "metadata": {},
   "outputs": [
    {
     "data": {
      "text/plain": [
       "<matplotlib.legend.Legend at 0x12b244e0>"
      ]
     },
     "execution_count": 111,
     "metadata": {},
     "output_type": "execute_result"
    },
    {
     "data": {
      "image/png": "[encoded data removed]",
      "text/plain": [
       "<matplotlib.figure.Figure at 0x127b3fd0>"
      ]
     },
     "metadata": {},
     "output_type": "display_data"
    },
    {
     "data": {
      "image/png": "[encoded data removed]",
      "text/plain": [
       "<matplotlib.figure.Figure at 0x12954f98>"
      ]
     },
     "metadata": {},
     "output_type": "display_data"
    }
   ],
   "source": [
    "# Visualize zip codes by the 2/3 leading principle components of 311 patterns\n",
    "\n",
    "colors=('gray','red','green','blue','yellow','brown')\n",
    "#3-d plot    \n",
    "fig = plt.figure(figsize=(15,15))\n",
    "ax = fig.add_subplot(111, projection='3d')\n",
    "for d in range(1,6):\n",
    "    ax.scatter(np.array(Xproj[D==d,0]), np.array(Xproj[D==d,1]), np.array(Xproj[D==d,2]),\n",
    "        'o', color=colors[d], alpha=0.8)\n",
    "plt.legend(['Manhattan','Staten Isl','Brooklyn','Queens','Bronx'],bbox_to_anchor=(1, 0.5))\n",
    "#2-d plot\n",
    "fig = plt.figure(figsize=(15,15))\n",
    "for d in range(1,6):\n",
    "    plt.plot(np.array(Xproj[D==d,0]), np.array(Xproj[D==d,1]),\n",
    "        'o', color=colors[d], alpha=0.8, label=d)\n",
    "plt.xlim((-0.2,0.2))   \n",
    "plt.ylim((-0.2,0.2)) \n",
    "plt.legend(['Manhattan','Staten Isl','Brooklyn','Queens','Bronx'],bbox_to_anchor=(1, 0.5))"
   ]
  },
  {
   "cell_type": "code",
   "execution_count": 112,
   "metadata": {
    "collapsed": true
   },
   "outputs": [],
   "source": [
    "list_311=list(data4.loc[:,\"Adopt A Basket\":\"X Ray Machine Equipment\"].columns)\n",
    "data5=data4[[\"sale_price\",\"gross_sq_feet\",\"land_sq_feet\",\"year_built\",\"mean\"]+list_311]"
   ]
  },
  {
   "cell_type": "markdown",
   "metadata": {},
   "source": [
    "# Now add all 311 to the house price regression"
   ]
  },
  {
   "cell_type": "code",
   "execution_count": 113,
   "metadata": {},
   "outputs": [
    {
     "name": "stdout",
     "output_type": "stream",
     "text": [
      "                            OLS Regression Results                            \n",
      "==============================================================================\n",
      "Dep. Variable:             sale_price   R-squared:                       0.894\n",
      "Model:                            OLS   Adj. R-squared:                  0.887\n",
      "Method:                 Least Squares   F-statistic:                     136.4\n",
      "Date:                Mon, 30 Oct 2017   Prob (F-statistic):               0.00\n",
      "Time:                        21:20:02   Log-Likelihood:                -34358.\n",
      "No. Observations:                2375   AIC:                         6.899e+04\n",
      "Df Residuals:                    2236   BIC:                         6.980e+04\n",
      "Df Model:                         138                                         \n",
      "Covariance Type:            nonrobust                                         \n",
      "===========================================================================================================\n",
      "                                              coef    std err          t      P>|t|      [0.025      0.975]\n",
      "-----------------------------------------------------------------------------------------------------------\n",
      "const                                   -4.337e+08   2.72e+07    -15.966      0.000   -4.87e+08    -3.8e+08\n",
      "gross_sq_feet                             271.4989     16.112     16.851      0.000     239.904     303.094\n",
      "land_sq_feet                               25.2842      4.044      6.252      0.000      17.353      33.216\n",
      "year_built                                601.0508    554.809      1.083      0.279    -486.944    1689.046\n",
      "mean                                      -54.2523     13.064     -4.153      0.000     -79.871     -28.633\n",
      "Adopt A Basket                          -1.079e+10   7.34e+08    -14.695      0.000   -1.22e+10   -9.35e+09\n",
      "Air Quality                              5.487e+08   5.86e+07      9.364      0.000    4.34e+08    6.64e+08\n",
      "Animal Abuse                             1.435e+09   1.72e+08      8.366      0.000     1.1e+09    1.77e+09\n",
      "Animal Facility   No Permit             -2.631e+09   8.19e+08     -3.211      0.001   -4.24e+09   -1.02e+09\n",
      "Animal in a Park                        -7.109e+08   6.55e+07    -10.848      0.000   -8.39e+08   -5.82e+08\n",
      "APPLIANCE                               -1.652e+07   1.45e+08     -0.114      0.910   -3.02e+08    2.69e+08\n",
      "Asbestos                                  1.16e+09    1.8e+08      6.452      0.000    8.07e+08    1.51e+09\n",
      "Beach Pool Sauna Complaint              -2.299e+09   4.74e+08     -4.846      0.000   -3.23e+09   -1.37e+09\n",
      "BEST Site Safety                         2.018e+08      2e+08      1.007      0.314   -1.91e+08    5.95e+08\n",
      "Bike Rack Condition                      2.574e+09   6.52e+08      3.948      0.000     1.3e+09    3.85e+09\n",
      "Bike Roller Skate Chronic                3.343e+09   5.78e+08      5.786      0.000    2.21e+09    4.48e+09\n",
      "Blocked Driveway                          4.81e+08   2.93e+07     16.437      0.000    4.24e+08    5.38e+08\n",
      "Boilers                                  3.185e+09   2.71e+08     11.745      0.000    2.65e+09    3.72e+09\n",
      "Bottled Water                           -2.519e+09   4.38e+08     -5.757      0.000   -3.38e+09   -1.66e+09\n",
      "Bridge Condition                         2.125e+09   4.93e+08      4.311      0.000    1.16e+09    3.09e+09\n",
      "Broken Muni Meter                        4.741e+08   2.77e+07     17.133      0.000     4.2e+08    5.28e+08\n",
      "Broken Parking Meter                     -1.88e+09   5.31e+08     -3.540      0.000   -2.92e+09   -8.39e+08\n",
      "Building Condition                       8.549e+09   4.31e+08     19.856      0.000     7.7e+09    9.39e+09\n",
      "Building Use                             4.551e+08   3.16e+07     14.419      0.000    3.93e+08    5.17e+08\n",
      "Bus Stop Shelter Placement              -2.532e+09   2.73e+08     -9.282      0.000   -3.07e+09      -2e+09\n",
      "Calorie Labeling                         5.591e+09   1.01e+09      5.554      0.000    3.62e+09    7.57e+09\n",
      "City Vehicle Placard Complaint           -3.11e+09   3.56e+08     -8.734      0.000   -3.81e+09   -2.41e+09\n",
      "Collection Truck Noise                   1.335e+09   4.03e+08      3.311      0.001    5.44e+08    2.13e+09\n",
      "CONSTRUCTION_x                          -7.078e+08   1.66e+08     -4.276      0.000   -1.03e+09   -3.83e+08\n",
      "Consumer Complaint                       2.705e+08    3.2e+07      8.459      0.000    2.08e+08    3.33e+08\n",
      "Cranes and Derricks                      7.999e+08   4.06e+08      1.972      0.049    4.47e+06     1.6e+09\n",
      "Curb Condition                          -4.786e+08   1.19e+08     -4.008      0.000   -7.13e+08   -2.44e+08\n",
      "Damaged Tree                             5.353e+08   2.81e+07     19.046      0.000     4.8e+08     5.9e+08\n",
      "Dead Tree                                3.501e+08   2.57e+07     13.612      0.000       3e+08       4e+08\n",
      "Derelict Bicycle                         8.623e+08   1.87e+08      4.606      0.000    4.95e+08    1.23e+09\n",
      "Derelict Vehicle                         3.971e+08   3.01e+07     13.203      0.000    3.38e+08    4.56e+08\n",
      "Derelict Vehicles                        5.937e+08   3.28e+07     18.079      0.000    5.29e+08    6.58e+08\n",
      "Dirty Conditions                         3.368e+08   3.19e+07     10.571      0.000    2.74e+08    3.99e+08\n",
      "Disorderly Youth                          1.72e+09   2.27e+08      7.576      0.000    1.27e+09    2.17e+09\n",
      "DOF Parking   Tax Exemption              1.066e+09   2.47e+08      4.323      0.000    5.82e+08    1.55e+09\n",
      "DPR Internal                            -2.074e+09   3.75e+08     -5.529      0.000   -2.81e+09   -1.34e+09\n",
      "Drinking                                 8.555e+08   2.57e+08      3.333      0.001    3.52e+08    1.36e+09\n",
      "Drinking Water                           5.143e+08   6.85e+08      0.751      0.453   -8.29e+08    1.86e+09\n",
      "EAP Inspection   F59                     1.321e+09   2.78e+08      4.750      0.000    7.76e+08    1.87e+09\n",
      "ELECTRIC                                 5.062e+08   2.79e+07     18.151      0.000    4.52e+08    5.61e+08\n",
      "Electrical                               5.541e+08   1.36e+08      4.078      0.000    2.88e+08    8.21e+08\n",
      "Elevator                                 4.817e+08   4.04e+07     11.921      0.000    4.02e+08    5.61e+08\n",
      "Emergency Response Team  ERT              5.06e+08   3.32e+08      1.523      0.128   -1.45e+08    1.16e+09\n",
      "Fire Alarm   Addition                    5.065e+09   9.71e+08      5.215      0.000    3.16e+09    6.97e+09\n",
      "Fire Alarm   Modification               -1.799e+09   5.66e+08     -3.179      0.001   -2.91e+09   -6.89e+08\n",
      "Fire Alarm   New System                  4.032e+09   3.71e+08     10.877      0.000    3.31e+09    4.76e+09\n",
      "Fire Alarm   Reinspection                8.537e+08   3.63e+08      2.352      0.019    1.42e+08    1.57e+09\n",
      "Fire Alarm   Replacement                -1.173e+10   1.13e+09    -10.408      0.000   -1.39e+10   -9.52e+09\n",
      "Fire Safety Director   F58               5.775e+07   7.66e+07      0.754      0.451   -9.25e+07    2.08e+08\n",
      "Food Establishment                       1.343e+09   1.22e+08     11.010      0.000     1.1e+09    1.58e+09\n",
      "Food Poisoning                           9.885e+06   9.91e+07      0.100      0.921   -1.84e+08    2.04e+08\n",
      "For Hire Vehicle Complaint               2.628e+07   7.44e+07      0.353      0.724    -1.2e+08    1.72e+08\n",
      "Found Property                          -1.852e+09   5.68e+08     -3.259      0.001   -2.97e+09   -7.38e+08\n",
      "GENERAL                                 -3.193e+08   9.81e+07     -3.255      0.001   -5.12e+08   -1.27e+08\n",
      "GENERAL CONSTRUCTION                     2.189e+08   2.91e+07      7.518      0.000    1.62e+08    2.76e+08\n",
      "General Construction Plumbing            5.801e+08   4.12e+07     14.077      0.000    4.99e+08    6.61e+08\n",
      "Graffiti                                 4.929e+08   3.55e+07     13.891      0.000    4.23e+08    5.62e+08\n",
      "Harboring Bees Wasps                     3.204e+09   5.31e+08      6.038      0.000    2.16e+09    4.24e+09\n",
      "Hazardous Materials                      6.617e+08   9.49e+07      6.974      0.000    4.76e+08    8.48e+08\n",
      "Hazmat Storage Use                       1.829e+09   3.41e+08      5.371      0.000    1.16e+09     2.5e+09\n",
      "HEATING                                  4.116e+08   2.61e+07     15.771      0.000     3.6e+08    4.63e+08\n",
      "Highway Condition                        7.579e+08   5.63e+07     13.458      0.000    6.47e+08    8.68e+08\n",
      "Highway Sign   Damaged                   6.506e+08   5.58e+08      1.166      0.244   -4.44e+08    1.74e+09\n",
      "Highway Sign   Dangling                 -1.877e+09   9.29e+08     -2.021      0.043    -3.7e+09   -5.58e+07\n",
      "Highway Sign   Missing                  -8.963e+09   7.69e+08    -11.660      0.000   -1.05e+10   -7.46e+09\n",
      "Homeless Encampment                      1.153e+09   1.19e+08      9.669      0.000    9.19e+08    1.39e+09\n",
      "Homeless Person Assistance              -3.715e+09   2.41e+08    -15.445      0.000   -4.19e+09   -3.24e+09\n",
      "Illegal Animal Kept as Pet              -2.856e+09   3.24e+08     -8.807      0.000   -3.49e+09   -2.22e+09\n",
      "Illegal Animal Sold                     -3.722e+09   4.18e+08     -8.897      0.000   -4.54e+09    -2.9e+09\n",
      "Illegal Fireworks                        1.807e+09   4.55e+08      3.968      0.000    9.14e+08     2.7e+09\n",
      "Illegal Parking                          3.986e+08   2.67e+07     14.929      0.000    3.46e+08    4.51e+08\n",
      "Illegal Tree Damage                      5.465e+08   1.07e+08      5.108      0.000    3.37e+08    7.56e+08\n",
      "Indoor Air Quality                       2.295e+08   1.11e+08      2.061      0.039    1.11e+07    4.48e+08\n",
      "Indoor Sewage                           -2.383e+08    1.7e+08     -1.404      0.160   -5.71e+08    9.45e+07\n",
      "Industrial Waste                        -7.692e+08   1.66e+08     -4.631      0.000   -1.09e+09   -4.43e+08\n",
      "Investigations and Discipline  IAD      -7.915e+08   1.73e+08     -4.583      0.000   -1.13e+09   -4.53e+08\n",
      "Lead                                    -7.932e+07   1.38e+08     -0.574      0.566    -3.5e+08    1.92e+08\n",
      "Legal Services Provider Complaint       -8.018e+09   7.81e+08    -10.269      0.000   -9.55e+09   -6.49e+09\n",
      "Lifeguard                                2.684e+09   8.14e+08      3.297      0.001    1.09e+09    4.28e+09\n",
      "Litter Basket   Request                  6.915e+08   9.45e+07      7.315      0.000    5.06e+08    8.77e+08\n",
      "Maintenance or Facility                  6.334e+08   4.09e+07     15.482      0.000    5.53e+08    7.14e+08\n",
      "Miscellaneous Categories                 1.002e+09   2.65e+08      3.785      0.000    4.83e+08    1.52e+09\n",
      "Missed Collection  All Materials         3.808e+08   2.94e+07     12.967      0.000    3.23e+08    4.38e+08\n",
      "Mold                                     1.908e+09   3.85e+08      4.953      0.000    1.15e+09    2.66e+09\n",
      "Municipal Parking Facility               1.283e+09   4.38e+08      2.930      0.003    4.24e+08    2.14e+09\n",
      "Noise                                    6.048e+08   4.03e+07     15.014      0.000    5.26e+08    6.84e+08\n",
      "Noise   Commercial                        3.16e+08   2.55e+07     12.393      0.000    2.66e+08    3.66e+08\n",
      "Noise   Helicopter                         1.1e+09   1.07e+08     10.293      0.000    8.91e+08    1.31e+09\n",
      "Noise   House of Worship                  7.83e+08    7.4e+07     10.585      0.000    6.38e+08    9.28e+08\n",
      "Noise   Park                             4.164e+08   5.94e+07      7.005      0.000       3e+08    5.33e+08\n",
      "Noise   Street Sidewalk                  4.905e+08   3.18e+07     15.442      0.000    4.28e+08    5.53e+08\n",
      "Noise   Vehicle                          3.712e+08   4.56e+07      8.139      0.000    2.82e+08    4.61e+08\n",
      "Non Residential Heat                     1.135e+09   1.65e+08      6.885      0.000    8.12e+08    1.46e+09\n",
      "NONCONST                                 4.736e+08   3.89e+07     12.163      0.000    3.97e+08     5.5e+08\n",
      "Open Flame Permit                       -3.207e+09   4.35e+08     -7.376      0.000   -4.06e+09   -2.35e+09\n",
      "Other Enforcement                        1.216e+09   7.11e+07     17.107      0.000    1.08e+09    1.36e+09\n",
      "Overflowing Litter Baskets               9.861e+08   7.24e+07     13.617      0.000    8.44e+08    1.13e+09\n",
      "Overgrown Tree Branches                  5.048e+08   3.72e+07     13.552      0.000    4.32e+08    5.78e+08\n",
      "PAINT   PLASTER                           6.68e+08    3.5e+07     19.077      0.000    5.99e+08    7.37e+08\n",
      "PAINT PLASTER                            1.246e+09   1.93e+08      6.448      0.000    8.67e+08    1.62e+09\n",
      "Panhandling                              1.177e+09    2.8e+08      4.207      0.000    6.28e+08    1.73e+09\n",
      "Plant                                    4.441e+08   3.45e+07     12.869      0.000    3.76e+08    5.12e+08\n",
      "PLUMBING_x                               5.075e+08   2.88e+07     17.646      0.000    4.51e+08    5.64e+08\n",
      "Poison Ivy                              -5.107e+08   4.09e+08     -1.249      0.212   -1.31e+09    2.91e+08\n",
      "Portable Toilet                         -2.027e+09   2.03e+08     -9.965      0.000   -2.43e+09   -1.63e+09\n",
      "Posting Advertisement                    1.619e+09   3.87e+08      4.185      0.000     8.6e+08    2.38e+09\n",
      "Public Assembly                         -5.885e+09   9.19e+08     -6.402      0.000   -7.69e+09   -4.08e+09\n",
      "Public Assembly   Temporary             -4.318e+07   2.01e+08     -0.215      0.830   -4.37e+08     3.5e+08\n",
      "Public Payphone Complaint                5.464e+08   3.42e+08      1.597      0.110   -1.25e+08    1.22e+09\n",
      "Public Toilet                           -3.161e+09   5.95e+08     -5.313      0.000   -4.33e+09   -1.99e+09\n",
      "Radioactive Material                    -3.491e+09   6.29e+08     -5.547      0.000   -4.73e+09   -2.26e+09\n",
      "Rangehood                                2.601e+09   3.85e+08      6.747      0.000    1.84e+09    3.36e+09\n",
      "Recycling Enforcement                    1.181e+09   2.72e+08      4.339      0.000    6.47e+08    1.72e+09\n",
      "Rodent                                   3.439e+08    2.5e+07     13.741      0.000    2.95e+08    3.93e+08\n",
      "Root Sewer Sidewalk Condition            1.688e+08   4.08e+07      4.139      0.000    8.88e+07    2.49e+08\n",
      "Sanitation Condition                     2.374e+08   2.54e+07      9.350      0.000    1.88e+08    2.87e+08\n",
      "Scaffold Safety                         -8.171e+09    6.9e+08    -11.839      0.000   -9.52e+09   -6.82e+09\n",
      "School Maintenance                      -6.008e+08   1.33e+08     -4.507      0.000   -8.62e+08   -3.39e+08\n",
      "SCRIE                                   -1.016e+09   8.29e+07    -12.260      0.000   -1.18e+09   -8.54e+08\n",
      "Senior Center Complaint                  3.912e+09   2.71e+08     14.426      0.000    3.38e+09    4.44e+09\n",
      "Sewer                                    4.512e+08   3.09e+07     14.584      0.000    3.91e+08    5.12e+08\n",
      "Sidewalk Condition                       2.586e+08   9.04e+07      2.861      0.004    8.14e+07    4.36e+08\n",
      "Smoking                                  -1.05e+09    1.2e+08     -8.771      0.000   -1.28e+09   -8.15e+08\n",
      "Snow                                     2.562e+09   1.37e+08     18.716      0.000    2.29e+09    2.83e+09\n",
      "Special Enforcement                      2.402e+08   4.63e+07      5.188      0.000    1.49e+08    3.31e+08\n",
      "Special Natural Area District  SNAD     -3.708e+09   3.73e+08     -9.948      0.000   -4.44e+09   -2.98e+09\n",
      "Special Projects Inspection Team  SPIT   5.755e+07   7.62e+07      0.755      0.450   -9.18e+07    2.07e+08\n",
      "Sprinkler   Mechanical                   3.317e+09   2.49e+08     13.339      0.000    2.83e+09     3.8e+09\n",
      "Squeegee                                -2.512e+09    5.1e+08     -4.923      0.000   -3.51e+09   -1.51e+09\n",
      "Stalled Sites                            2.367e+09    5.5e+08      4.304      0.000    1.29e+09    3.44e+09\n",
      "Standing Water                          -4.918e+07   5.83e+07     -0.844      0.399   -1.63e+08    6.51e+07\n",
      "Standpipe   Mechanical                   6.442e+08      4e+08      1.609      0.108   -1.41e+08    1.43e+09\n",
      "Street Condition                         4.547e+08   3.34e+07     13.606      0.000    3.89e+08     5.2e+08\n",
      "Street Light Condition                   5.089e+08   2.84e+07     17.906      0.000    4.53e+08    5.65e+08\n",
      "Street Sign   Damaged                    1.848e+08   3.37e+07      5.479      0.000    1.19e+08    2.51e+08\n",
      "Street Sign   Dangling                   1.254e+09   1.52e+08      8.246      0.000    9.56e+08    1.55e+09\n",
      "Street Sign   Missing                    6.397e+08   4.46e+07     14.357      0.000    5.52e+08    7.27e+08\n",
      "STRUCTURAL                                2.27e+09   1.45e+09      1.561      0.119   -5.81e+08    5.12e+09\n",
      "Summer Camp                             -3.609e+09   4.54e+08     -7.954      0.000    -4.5e+09   -2.72e+09\n",
      "Sweeping Missed Inadequate               1.276e+09   1.81e+08      7.033      0.000     9.2e+08    1.63e+09\n",
      "Tattooing                                3.074e+09   5.12e+08      6.004      0.000    2.07e+09    4.08e+09\n",
      "Taxi Complaint                           4.588e+08   3.71e+07     12.359      0.000    3.86e+08    5.32e+08\n",
      "Traffic                                 -2.381e+08   1.03e+08     -2.316      0.021    -4.4e+08   -3.65e+07\n",
      "Traffic Signal Condition                 5.259e+08   3.66e+07     14.366      0.000    4.54e+08    5.98e+08\n",
      "Trans Fat                                3.212e+09   4.59e+08      6.994      0.000    2.31e+09    4.11e+09\n",
      "Transportation Provider Complaint        2.504e+09   8.22e+08      3.046      0.002    8.92e+08    4.12e+09\n",
      "Unleashed Dog                            8.819e+08   2.99e+08      2.952      0.003    2.96e+08    1.47e+09\n",
      "Unsanitary Animal Facility              -2.162e+09    3.5e+08     -6.169      0.000   -2.85e+09   -1.47e+09\n",
      "Unsanitary Animal Pvt Property          -5.437e+08   1.38e+08     -3.948      0.000   -8.14e+08   -2.74e+08\n",
      "Unsanitary Pigeon Condition             -2.921e+09   3.05e+08     -9.582      0.000   -3.52e+09   -2.32e+09\n",
      "Urinating in Public                      1.312e+09   6.72e+08      1.952      0.051   -6.17e+06    2.63e+09\n",
      "Vacant Lot                                8.36e+08   6.94e+07     12.049      0.000       7e+08    9.72e+08\n",
      "Vending                                  3.719e+07   6.72e+07      0.553      0.580   -9.47e+07    1.69e+08\n",
      "Violation of Park Rules                  8.126e+08   1.26e+08      6.459      0.000    5.66e+08    1.06e+09\n",
      "Water Conservation                       4.023e+08   3.61e+07     11.156      0.000    3.32e+08    4.73e+08\n",
      "Water Quality                            4.975e+08   1.98e+08      2.513      0.012    1.09e+08    8.86e+08\n",
      "Water System                             4.165e+08   2.22e+07     18.792      0.000    3.73e+08     4.6e+08\n",
      "Window Guard                            -6.355e+09   6.06e+08    -10.494      0.000   -7.54e+09   -5.17e+09\n",
      "X Ray Machine Equipment                 -3.236e+09   6.51e+08     -4.974      0.000   -4.51e+09   -1.96e+09\n",
      "==============================================================================\n",
      "Omnibus:                     1723.868   Durbin-Watson:                   1.997\n",
      "Prob(Omnibus):                  0.000   Jarque-Bera (JB):          1887652.782\n",
      "Skew:                           2.005   Prob(JB):                         0.00\n",
      "Kurtosis:                     141.055   Cond. No.                     1.03e+16\n",
      "==============================================================================\n",
      "\n",
      "Warnings:\n",
      "[1] Standard Errors assume that the covariance matrix of the errors is correctly specified.\n",
      "[2] The smallest eigenvalue is 1.37e-19. This might indicate that there are\n",
      "strong multicollinearity problems or that the design matrix is singular.\n"
     ]
    }
   ],
   "source": [
    "res=sm.OLS(data4.sale_price,sm.add_constant(data4.loc[:,[\"gross_sq_feet\",\"land_sq_feet\",\"year_built\",\"mean\"]+list_311]),missing=\"drop\").fit()\n",
    "print res.summary()"
   ]
  },
  {
   "cell_type": "markdown",
   "metadata": {},
   "source": [
    "### Over-fitting problem "
   ]
  },
  {
   "cell_type": "code",
   "execution_count": 114,
   "metadata": {},
   "outputs": [
    {
     "name": "stdout",
     "output_type": "stream",
     "text": [
      "IS-R-squared:0.934803821248\n",
      "IS-R-squared:0.934803821248\n",
      "OS-R-squared:-0.384801493925\n"
     ]
    }
   ],
   "source": [
    "#Step one: Split the data to training and testing data: Using \"train_test_split\", and set random_state=324 and test_size=0.3\n",
    "X_train, X_test, y_train, y_test = train_test_split(data5.loc[:,\"gross_sq_feet\":],data5.sale_price,random_state=324,test_size=0.3)\n",
    "\n",
    "#Step two: train the model again using training data.\n",
    "\n",
    "res=sm.OLS(y_train,sm.add_constant(X_train),missing=\"drop\").fit()\n",
    "# print res.rsquared()\n",
    "print(\"IS-R-squared:{}\".format(res.rsquared))\n",
    "\n",
    "res=LinearRegression(fit_intercept=False)\n",
    "res.fit(X_train,y_train)\n",
    "print(\"IS-R-squared:{}\".format(1-((np.asarray(res.predict(X_train))-y_train)**2).sum()/((y_train-np.mean(y_train))**2).sum()))                                                                   \n",
    "\n",
    "#Step three: Get the out of sample prediction, and calculate Out of sample R-squared, and compare it to insample R-squared.\n",
    "print(\"OS-R-squared:{}\".format(1-((np.asarray(res.predict(X_test))-y_test)**2).sum()/((y_test-np.mean(y_test))**2).sum()))"
   ]
  },
  {
   "cell_type": "code",
   "execution_count": 115,
   "metadata": {},
   "outputs": [
    {
     "name": "stdout",
     "output_type": "stream",
     "text": [
      "IS R-squared for 100 times is 0.908036951071\n",
      "OS R-squared for 100 times is -0.130025944302\n"
     ]
    }
   ],
   "source": [
    "#Step four: try 100 times random split the data and get the average OS and IS R-squared\n",
    "R_IS=[]\n",
    "R_OS=[]\n",
    "n=100\n",
    "from sklearn.cross_validation import train_test_split\n",
    "for i in range(n):\n",
    "    X_train, X_test, y_train, y_test = train_test_split(data5.loc[:,\"gross_sq_feet\":],data5.sale_price,test_size=0.3)\n",
    "    res=LinearRegression(fit_intercept=False)\n",
    "    res.fit(X_train,y_train)\n",
    "    R_IS.append(1-((np.asarray(res.predict(X_train))-y_train)**2).sum()/((y_train-np.mean(y_train))**2).sum())                                                                     \n",
    "    R_OS.append(1-((np.asarray(res.predict(X_test))-y_test)**2).sum()/((y_test-np.mean(y_test))**2).sum())\n",
    "print(\"IS R-squared for {} times is {}\".format(n,np.mean(R_IS)))\n",
    "print(\"OS R-squared for {} times is {}\".format(n,np.mean(R_OS)))"
   ]
  },
  {
   "cell_type": "code",
   "execution_count": null,
   "metadata": {
    "collapsed": true
   },
   "outputs": [],
   "source": []
  },
  {
   "cell_type": "markdown",
   "metadata": {},
   "source": [
    "### Let's use PCA on 311 data to fix overfitting "
   ]
  },
  {
   "cell_type": "code",
   "execution_count": 116,
   "metadata": {},
   "outputs": [
    {
     "data": {
      "text/html": [
       "<div>\n",
       "<style>\n",
       "    .dataframe thead tr:only-child th {\n",
       "        text-align: right;\n",
       "    }\n",
       "\n",
       "    .dataframe thead th {\n",
       "        text-align: left;\n",
       "    }\n",
       "\n",
       "    .dataframe tbody tr th {\n",
       "        vertical-align: top;\n",
       "    }\n",
       "</style>\n",
       "<table border=\"1\" class=\"dataframe\">\n",
       "  <thead>\n",
       "    <tr style=\"text-align: right;\">\n",
       "      <th></th>\n",
       "      <th>Adopt A Basket</th>\n",
       "      <th>Air Quality</th>\n",
       "      <th>Animal Abuse</th>\n",
       "      <th>Animal Facility   No Permit</th>\n",
       "      <th>Animal in a Park</th>\n",
       "      <th>APPLIANCE</th>\n",
       "      <th>Asbestos</th>\n",
       "      <th>Beach Pool Sauna Complaint</th>\n",
       "      <th>BEST Site Safety</th>\n",
       "      <th>Bike Rack Condition</th>\n",
       "      <th>...</th>\n",
       "      <th>Unsanitary Pigeon Condition</th>\n",
       "      <th>Urinating in Public</th>\n",
       "      <th>Vacant Lot</th>\n",
       "      <th>Vending</th>\n",
       "      <th>Violation of Park Rules</th>\n",
       "      <th>Water Conservation</th>\n",
       "      <th>Water Quality</th>\n",
       "      <th>Water System</th>\n",
       "      <th>Window Guard</th>\n",
       "      <th>X Ray Machine Equipment</th>\n",
       "    </tr>\n",
       "  </thead>\n",
       "  <tbody>\n",
       "    <tr>\n",
       "      <th>0</th>\n",
       "      <td>0.000000</td>\n",
       "      <td>0.027721</td>\n",
       "      <td>0.0</td>\n",
       "      <td>0.000000</td>\n",
       "      <td>0.000770</td>\n",
       "      <td>0.000257</td>\n",
       "      <td>0.001027</td>\n",
       "      <td>0.001797</td>\n",
       "      <td>0.001540</td>\n",
       "      <td>0.000000</td>\n",
       "      <td>...</td>\n",
       "      <td>0.000000</td>\n",
       "      <td>0.000000</td>\n",
       "      <td>0.000000</td>\n",
       "      <td>0.001797</td>\n",
       "      <td>0.001540</td>\n",
       "      <td>0.003850</td>\n",
       "      <td>0.002053</td>\n",
       "      <td>0.049281</td>\n",
       "      <td>0.0</td>\n",
       "      <td>0.0</td>\n",
       "    </tr>\n",
       "    <tr>\n",
       "      <th>1</th>\n",
       "      <td>0.000000</td>\n",
       "      <td>0.010675</td>\n",
       "      <td>0.0</td>\n",
       "      <td>0.000000</td>\n",
       "      <td>0.000227</td>\n",
       "      <td>0.000227</td>\n",
       "      <td>0.003861</td>\n",
       "      <td>0.000000</td>\n",
       "      <td>0.001363</td>\n",
       "      <td>0.000000</td>\n",
       "      <td>...</td>\n",
       "      <td>0.000227</td>\n",
       "      <td>0.000227</td>\n",
       "      <td>0.000000</td>\n",
       "      <td>0.010675</td>\n",
       "      <td>0.000454</td>\n",
       "      <td>0.001817</td>\n",
       "      <td>0.000227</td>\n",
       "      <td>0.050874</td>\n",
       "      <td>0.0</td>\n",
       "      <td>0.0</td>\n",
       "    </tr>\n",
       "    <tr>\n",
       "      <th>2</th>\n",
       "      <td>0.000000</td>\n",
       "      <td>0.002511</td>\n",
       "      <td>0.0</td>\n",
       "      <td>0.000000</td>\n",
       "      <td>0.001076</td>\n",
       "      <td>0.001973</td>\n",
       "      <td>0.000359</td>\n",
       "      <td>0.000000</td>\n",
       "      <td>0.000359</td>\n",
       "      <td>0.000000</td>\n",
       "      <td>...</td>\n",
       "      <td>0.000000</td>\n",
       "      <td>0.000000</td>\n",
       "      <td>0.004484</td>\n",
       "      <td>0.000000</td>\n",
       "      <td>0.000179</td>\n",
       "      <td>0.007354</td>\n",
       "      <td>0.001256</td>\n",
       "      <td>0.069058</td>\n",
       "      <td>0.0</td>\n",
       "      <td>0.0</td>\n",
       "    </tr>\n",
       "    <tr>\n",
       "      <th>3</th>\n",
       "      <td>0.000000</td>\n",
       "      <td>0.001476</td>\n",
       "      <td>0.0</td>\n",
       "      <td>0.000000</td>\n",
       "      <td>0.000170</td>\n",
       "      <td>0.006756</td>\n",
       "      <td>0.000738</td>\n",
       "      <td>0.000057</td>\n",
       "      <td>0.000227</td>\n",
       "      <td>0.000114</td>\n",
       "      <td>...</td>\n",
       "      <td>0.000170</td>\n",
       "      <td>0.000170</td>\n",
       "      <td>0.000908</td>\n",
       "      <td>0.000568</td>\n",
       "      <td>0.000170</td>\n",
       "      <td>0.000454</td>\n",
       "      <td>0.000341</td>\n",
       "      <td>0.012433</td>\n",
       "      <td>0.0</td>\n",
       "      <td>0.0</td>\n",
       "    </tr>\n",
       "    <tr>\n",
       "      <th>4</th>\n",
       "      <td>0.000049</td>\n",
       "      <td>0.001671</td>\n",
       "      <td>0.0</td>\n",
       "      <td>0.000049</td>\n",
       "      <td>0.000344</td>\n",
       "      <td>0.006143</td>\n",
       "      <td>0.000688</td>\n",
       "      <td>0.000000</td>\n",
       "      <td>0.000541</td>\n",
       "      <td>0.000049</td>\n",
       "      <td>...</td>\n",
       "      <td>0.000491</td>\n",
       "      <td>0.000197</td>\n",
       "      <td>0.005897</td>\n",
       "      <td>0.000590</td>\n",
       "      <td>0.000393</td>\n",
       "      <td>0.001622</td>\n",
       "      <td>0.000442</td>\n",
       "      <td>0.037445</td>\n",
       "      <td>0.0</td>\n",
       "      <td>0.0</td>\n",
       "    </tr>\n",
       "  </tbody>\n",
       "</table>\n",
       "<p>5 rows × 159 columns</p>\n",
       "</div>"
      ],
      "text/plain": [
       "   Adopt A Basket  Air Quality  Animal Abuse  Animal Facility   No Permit  \\\n",
       "0        0.000000     0.027721           0.0                     0.000000   \n",
       "1        0.000000     0.010675           0.0                     0.000000   \n",
       "2        0.000000     0.002511           0.0                     0.000000   \n",
       "3        0.000000     0.001476           0.0                     0.000000   \n",
       "4        0.000049     0.001671           0.0                     0.000049   \n",
       "\n",
       "   Animal in a Park  APPLIANCE  Asbestos  Beach Pool Sauna Complaint  \\\n",
       "0          0.000770   0.000257  0.001027                    0.001797   \n",
       "1          0.000227   0.000227  0.003861                    0.000000   \n",
       "2          0.001076   0.001973  0.000359                    0.000000   \n",
       "3          0.000170   0.006756  0.000738                    0.000057   \n",
       "4          0.000344   0.006143  0.000688                    0.000000   \n",
       "\n",
       "   BEST Site Safety  Bike Rack Condition           ...             \\\n",
       "0          0.001540             0.000000           ...              \n",
       "1          0.001363             0.000000           ...              \n",
       "2          0.000359             0.000000           ...              \n",
       "3          0.000227             0.000114           ...              \n",
       "4          0.000541             0.000049           ...              \n",
       "\n",
       "   Unsanitary Pigeon Condition  Urinating in Public  Vacant Lot   Vending  \\\n",
       "0                     0.000000             0.000000    0.000000  0.001797   \n",
       "1                     0.000227             0.000227    0.000000  0.010675   \n",
       "2                     0.000000             0.000000    0.004484  0.000000   \n",
       "3                     0.000170             0.000170    0.000908  0.000568   \n",
       "4                     0.000491             0.000197    0.005897  0.000590   \n",
       "\n",
       "   Violation of Park Rules  Water Conservation  Water Quality  Water System  \\\n",
       "0                 0.001540            0.003850       0.002053      0.049281   \n",
       "1                 0.000454            0.001817       0.000227      0.050874   \n",
       "2                 0.000179            0.007354       0.001256      0.069058   \n",
       "3                 0.000170            0.000454       0.000341      0.012433   \n",
       "4                 0.000393            0.001622       0.000442      0.037445   \n",
       "\n",
       "   Window Guard  X Ray Machine Equipment  \n",
       "0           0.0                      0.0  \n",
       "1           0.0                      0.0  \n",
       "2           0.0                      0.0  \n",
       "3           0.0                      0.0  \n",
       "4           0.0                      0.0  \n",
       "\n",
       "[5 rows x 159 columns]"
      ]
     },
     "execution_count": 116,
     "metadata": {},
     "output_type": "execute_result"
    }
   ],
   "source": [
    "data6=data5.loc[:,\"Adopt A Basket\":]\n",
    "data6.head()"
   ]
  },
  {
   "cell_type": "code",
   "execution_count": 117,
   "metadata": {},
   "outputs": [
    {
     "data": {
      "image/png": "[encoded data removed]",
      "text/plain": [
       "<matplotlib.figure.Figure at 0x106cc588>"
      ]
     },
     "metadata": {},
     "output_type": "display_data"
    }
   ],
   "source": [
    "# Perform PCA, not restricting the number of components\n",
    "n=159\n",
    "from sklearn.decomposition import PCA\n",
    "pca = PCA(n)\n",
    "Xproj = pca.fit_transform(data6)\n",
    "eigenvalues = pca.explained_variance_ratio_\n",
    "plt.bar(np.arange(n), eigenvalues)\n",
    "plt.xlabel(\"Dimensionality\")\n",
    "plt.ylabel(\"Explained Variance Ratio\")\n",
    "plt.xlim((0,20))\n",
    "plt.show()"
   ]
  },
  {
   "cell_type": "code",
   "execution_count": 118,
   "metadata": {
    "collapsed": true
   },
   "outputs": [],
   "source": [
    "# Transform data6 to the top 6 eigenspace and merge the new data back to \"gross_sq_feet\" and \"mean\" and run the regression again.\n",
    "X=pd.concat((data5[[\"gross_sq_feet\",\"land_sq_feet\",\"year_built\",\"mean\"]],pd.DataFrame(Xproj[:,:])),axis=1)\n",
    "y=data5[\"sale_price\"]"
   ]
  },
  {
   "cell_type": "code",
   "execution_count": 119,
   "metadata": {},
   "outputs": [
    {
     "name": "stdout",
     "output_type": "stream",
     "text": [
      "                            OLS Regression Results                            \n",
      "==============================================================================\n",
      "Dep. Variable:             sale_price   R-squared:                       0.894\n",
      "Model:                            OLS   Adj. R-squared:                  0.887\n",
      "Method:                 Least Squares   F-statistic:                     136.4\n",
      "Date:                Mon, 30 Oct 2017   Prob (F-statistic):               0.00\n",
      "Time:                        21:20:08   Log-Likelihood:                -34358.\n",
      "No. Observations:                2375   AIC:                         6.899e+04\n",
      "Df Residuals:                    2236   BIC:                         6.980e+04\n",
      "Df Model:                         138                                         \n",
      "Covariance Type:            nonrobust                                         \n",
      "=================================================================================\n",
      "                    coef    std err          t      P>|t|      [0.025      0.975]\n",
      "---------------------------------------------------------------------------------\n",
      "const          2.987e+06   1.49e+06      2.007      0.045    6.82e+04     5.9e+06\n",
      "gross_sq_feet   271.4989     16.112     16.851      0.000     239.904     303.094\n",
      "land_sq_feet     25.2842      4.044      6.252      0.000      17.353      33.216\n",
      "year_built      601.0508    554.809      1.083      0.279    -486.944    1689.046\n",
      "mean            -54.2505     13.064     -4.153      0.000     -79.869     -28.632\n",
      "0             -6.125e+06   1.75e+06     -3.507      0.000   -9.55e+06    -2.7e+06\n",
      "1             -3.629e+06   1.09e+06     -3.326      0.001   -5.77e+06   -1.49e+06\n",
      "2              2.558e+07   2.79e+06      9.182      0.000    2.01e+07     3.1e+07\n",
      "3              1.958e+07   2.22e+06      8.805      0.000    1.52e+07    2.39e+07\n",
      "4               3.53e+07   3.52e+06     10.017      0.000    2.84e+07    4.22e+07\n",
      "5              4.011e+06   8.49e+05      4.723      0.000    2.35e+06    5.68e+06\n",
      "6              1.496e+07    1.4e+06     10.675      0.000    1.22e+07    1.77e+07\n",
      "7             -2.935e+06   8.63e+05     -3.401      0.001   -4.63e+06   -1.24e+06\n",
      "8              1.255e+07   1.47e+06      8.530      0.000    9.67e+06    1.54e+07\n",
      "9              -2.65e+06   1.72e+06     -1.540      0.124   -6.02e+06    7.24e+05\n",
      "10             1.143e+06   8.79e+05      1.301      0.194    -5.8e+05    2.87e+06\n",
      "11            -1.164e+07   2.59e+06     -4.487      0.000   -1.67e+07   -6.55e+06\n",
      "12             1.703e+07   1.97e+06      8.639      0.000    1.32e+07    2.09e+07\n",
      "13            -3.833e+07   3.95e+06     -9.697      0.000   -4.61e+07   -3.06e+07\n",
      "14             3.583e+07   3.54e+06     10.134      0.000    2.89e+07    4.28e+07\n",
      "15            -2.887e+07   2.38e+06    -12.147      0.000   -3.35e+07   -2.42e+07\n",
      "16             3.677e+06   1.22e+06      3.016      0.003    1.29e+06    6.07e+06\n",
      "17            -3.936e+07   5.19e+06     -7.585      0.000   -4.95e+07   -2.92e+07\n",
      "18            -4.793e+07   7.93e+06     -6.046      0.000   -6.35e+07   -3.24e+07\n",
      "19             6.837e+06   1.57e+06      4.342      0.000    3.75e+06    9.93e+06\n",
      "20            -3.427e+07   3.91e+06     -8.771      0.000   -4.19e+07   -2.66e+07\n",
      "21            -2.934e+07   3.89e+06     -7.538      0.000    -3.7e+07   -2.17e+07\n",
      "22            -1.188e+07   3.41e+06     -3.483      0.001   -1.86e+07   -5.19e+06\n",
      "23            -1.571e+07   2.13e+06     -7.384      0.000   -1.99e+07   -1.15e+07\n",
      "24            -1.653e+07   3.59e+06     -4.608      0.000   -2.36e+07    -9.5e+06\n",
      "25            -3.852e+07   4.21e+06     -9.150      0.000   -4.68e+07   -3.03e+07\n",
      "26             3.914e+07    5.4e+06      7.245      0.000    2.85e+07    4.97e+07\n",
      "27            -6.463e+07   7.31e+06     -8.839      0.000    -7.9e+07   -5.03e+07\n",
      "28             1.495e+07    3.5e+06      4.271      0.000    8.08e+06    2.18e+07\n",
      "29            -1.281e+07   5.37e+06     -2.387      0.017   -2.33e+07   -2.28e+06\n",
      "30            -1.371e+07   2.97e+06     -4.608      0.000   -1.95e+07   -7.87e+06\n",
      "31             -4.75e+07   9.37e+06     -5.069      0.000   -6.59e+07   -2.91e+07\n",
      "32            -3.405e+07   4.91e+06     -6.942      0.000   -4.37e+07   -2.44e+07\n",
      "33             7.902e+07   8.66e+06      9.127      0.000     6.2e+07     9.6e+07\n",
      "34             5.001e+07   5.37e+06      9.310      0.000    3.95e+07    6.05e+07\n",
      "35            -8.932e+06   3.89e+06     -2.296      0.022   -1.66e+07    -1.3e+06\n",
      "36             1.461e+07   4.04e+06      3.616      0.000    6.69e+06    2.25e+07\n",
      "37             8.227e+07   1.03e+07      8.008      0.000    6.21e+07    1.02e+08\n",
      "38            -1.428e+07   8.67e+06     -1.648      0.100   -3.13e+07    2.72e+06\n",
      "39            -3.861e+07    6.4e+06     -6.032      0.000   -5.12e+07   -2.61e+07\n",
      "40            -6.219e+07   5.99e+06    -10.379      0.000   -7.39e+07   -5.04e+07\n",
      "41            -8.397e+07   1.33e+07     -6.312      0.000    -1.1e+08   -5.79e+07\n",
      "42             8.867e+07   6.77e+06     13.094      0.000    7.54e+07    1.02e+08\n",
      "43             1.115e+08   9.14e+06     12.197      0.000    9.36e+07    1.29e+08\n",
      "44            -8.889e+07   9.26e+06     -9.605      0.000   -1.07e+08   -7.07e+07\n",
      "45             1.354e+08   1.46e+07      9.242      0.000    1.07e+08    1.64e+08\n",
      "46             3.499e+07   1.21e+07      2.894      0.004    1.13e+07    5.87e+07\n",
      "47             -1.16e+06   1.06e+07     -0.110      0.913   -2.19e+07    1.96e+07\n",
      "48            -1.566e+08   2.29e+07     -6.844      0.000   -2.02e+08   -1.12e+08\n",
      "49             1.319e+08   2.44e+07      5.412      0.000    8.41e+07     1.8e+08\n",
      "50            -1.376e+08   2.22e+07     -6.203      0.000   -1.81e+08   -9.41e+07\n",
      "51            -1.117e+08   1.86e+07     -6.014      0.000   -1.48e+08   -7.53e+07\n",
      "52             2.612e+08   3.19e+07      8.192      0.000    1.99e+08    3.24e+08\n",
      "53            -7.891e+07   2.72e+07     -2.903      0.004   -1.32e+08   -2.56e+07\n",
      "54             -1.91e+08   3.42e+07     -5.589      0.000   -2.58e+08   -1.24e+08\n",
      "55            -4.542e+07   1.28e+07     -3.554      0.000   -7.05e+07   -2.04e+07\n",
      "56            -2.504e+07   1.86e+07     -1.346      0.179   -6.15e+07    1.15e+07\n",
      "57             4.004e+07   2.72e+07      1.471      0.141   -1.33e+07    9.34e+07\n",
      "58            -1.938e+08   1.64e+07    -11.781      0.000   -2.26e+08   -1.62e+08\n",
      "59             1.615e+08   2.74e+07      5.898      0.000    1.08e+08    2.15e+08\n",
      "60            -1.952e+08   1.68e+07    -11.605      0.000   -2.28e+08   -1.62e+08\n",
      "61             3.888e+07   2.74e+07      1.421      0.155   -1.48e+07    9.25e+07\n",
      "62            -1.022e+08   2.15e+07     -4.755      0.000   -1.44e+08   -6.01e+07\n",
      "63             1.352e+08   1.77e+07      7.618      0.000       1e+08     1.7e+08\n",
      "64             1.603e+08   1.87e+07      8.554      0.000    1.24e+08    1.97e+08\n",
      "65            -5.233e+06   2.68e+07     -0.195      0.845   -5.78e+07    4.73e+07\n",
      "66             1.132e+08      2e+07      5.656      0.000    7.39e+07    1.52e+08\n",
      "67            -1.053e+08   2.53e+07     -4.162      0.000   -1.55e+08   -5.57e+07\n",
      "68             1.815e+08   2.64e+07      6.881      0.000     1.3e+08    2.33e+08\n",
      "69             3.009e+06   2.68e+07      0.112      0.911   -4.96e+07    5.56e+07\n",
      "70             2.088e+07   2.27e+07      0.920      0.358   -2.36e+07    6.54e+07\n",
      "71             1.742e+08   2.43e+07      7.173      0.000    1.27e+08    2.22e+08\n",
      "72             1.328e+08   2.66e+07      4.994      0.000    8.07e+07    1.85e+08\n",
      "73            -4.168e+08   6.94e+07     -6.009      0.000   -5.53e+08   -2.81e+08\n",
      "74             1.038e+08   2.81e+07      3.695      0.000    4.87e+07    1.59e+08\n",
      "75            -1.782e+08   2.93e+07     -6.081      0.000   -2.36e+08   -1.21e+08\n",
      "76            -4.609e+07   6.23e+07     -0.740      0.459   -1.68e+08    7.61e+07\n",
      "77             4.225e+08   3.47e+07     12.180      0.000    3.54e+08    4.91e+08\n",
      "78              -1.7e+08   3.38e+07     -5.026      0.000   -2.36e+08   -1.04e+08\n",
      "79            -8.629e+08    4.5e+07    -19.194      0.000   -9.51e+08   -7.75e+08\n",
      "80            -3.589e+08   3.53e+07    -10.163      0.000   -4.28e+08    -2.9e+08\n",
      "81            -4.064e+08   4.29e+07     -9.479      0.000    -4.9e+08   -3.22e+08\n",
      "82             1.921e+08   6.18e+07      3.109      0.002    7.09e+07    3.13e+08\n",
      "83             7.501e+08   8.51e+07      8.814      0.000    5.83e+08    9.17e+08\n",
      "84            -4.348e+08   5.19e+07     -8.386      0.000   -5.37e+08   -3.33e+08\n",
      "85             4.889e+08   5.39e+07      9.063      0.000    3.83e+08    5.95e+08\n",
      "86            -1.355e+08   5.93e+07     -2.284      0.022   -2.52e+08   -1.91e+07\n",
      "87             2.444e+08   7.29e+07      3.351      0.001    1.01e+08    3.87e+08\n",
      "88            -2.906e+07   5.46e+07     -0.533      0.594   -1.36e+08    7.79e+07\n",
      "89            -9.015e+08   1.09e+08     -8.235      0.000   -1.12e+09   -6.87e+08\n",
      "90             1.289e+08   9.83e+07      1.311      0.190   -6.39e+07    3.22e+08\n",
      "91             4.516e+08    7.2e+07      6.273      0.000     3.1e+08    5.93e+08\n",
      "92            -2.962e+08   6.88e+07     -4.302      0.000   -4.31e+08   -1.61e+08\n",
      "93             7.905e+07   7.31e+07      1.082      0.279   -6.42e+07    2.22e+08\n",
      "94             -8.45e+08   1.46e+08     -5.790      0.000   -1.13e+09   -5.59e+08\n",
      "95             6.565e+08   8.06e+07      8.142      0.000    4.98e+08    8.15e+08\n",
      "96             1.052e+08   9.61e+07      1.094      0.274   -8.33e+07    2.94e+08\n",
      "97             3.865e+08   1.53e+08      2.528      0.012    8.67e+07    6.86e+08\n",
      "98            -1.487e+08   9.52e+07     -1.562      0.118   -3.35e+08    3.79e+07\n",
      "99            -1.572e+09   1.35e+08    -11.618      0.000   -1.84e+09   -1.31e+09\n",
      "100           -4.906e+08   1.33e+08     -3.683      0.000   -7.52e+08   -2.29e+08\n",
      "101           -4.022e+08   1.07e+08     -3.760      0.000   -6.12e+08   -1.92e+08\n",
      "102           -1.498e+09   1.66e+08     -9.020      0.000   -1.82e+09   -1.17e+09\n",
      "103           -2.974e+09   1.21e+08    -24.566      0.000   -3.21e+09   -2.74e+09\n",
      "104           -1.084e+09   1.25e+08     -8.682      0.000   -1.33e+09   -8.39e+08\n",
      "105            9.415e+08    1.6e+08      5.887      0.000    6.28e+08    1.26e+09\n",
      "106            -8.96e+08   1.44e+08     -6.204      0.000   -1.18e+09   -6.13e+08\n",
      "107               -8e+08   1.48e+08     -5.402      0.000   -1.09e+09    -5.1e+08\n",
      "108            5.089e+07   1.61e+08      0.317      0.752   -2.64e+08    3.66e+08\n",
      "109            1.085e+09   1.87e+08      5.815      0.000    7.19e+08    1.45e+09\n",
      "110            3.184e+09   2.02e+08     15.753      0.000    2.79e+09    3.58e+09\n",
      "111           -2.291e+09   2.12e+08    -10.788      0.000   -2.71e+09   -1.87e+09\n",
      "112           -2.498e+09   2.99e+08     -8.342      0.000   -3.08e+09   -1.91e+09\n",
      "113           -2.541e+09    2.6e+08     -9.779      0.000   -3.05e+09   -2.03e+09\n",
      "114           -2.889e+09   2.53e+08    -11.421      0.000   -3.39e+09   -2.39e+09\n",
      "115           -3.856e+09   3.03e+08    -12.746      0.000   -4.45e+09   -3.26e+09\n",
      "116            3.212e+09   3.05e+08     10.516      0.000    2.61e+09    3.81e+09\n",
      "117           -1.512e+09   4.63e+08     -3.265      0.001   -2.42e+09   -6.04e+08\n",
      "118           -5.185e+08   3.62e+08     -1.431      0.152   -1.23e+09    1.92e+08\n",
      "119            -3.18e+09   3.67e+08     -8.670      0.000    -3.9e+09   -2.46e+09\n",
      "120            5.131e+09   3.94e+08     13.033      0.000    4.36e+09     5.9e+09\n",
      "121            4.397e+09   4.55e+08      9.661      0.000     3.5e+09    5.29e+09\n",
      "122            2.897e+09   7.04e+08      4.112      0.000    1.52e+09    4.28e+09\n",
      "123           -2.636e+09   5.33e+08     -4.943      0.000   -3.68e+09   -1.59e+09\n",
      "124            7.534e+09   5.68e+08     13.261      0.000    6.42e+09    8.65e+09\n",
      "125            1.872e+09   7.26e+08      2.577      0.010    4.48e+08     3.3e+09\n",
      "126            1.094e+10   7.67e+08     14.266      0.000    9.43e+09    1.24e+10\n",
      "127            9.712e+09   9.62e+08     10.095      0.000    7.83e+09    1.16e+10\n",
      "128            -1.73e+09   1.04e+09     -1.669      0.095   -3.76e+09    3.02e+08\n",
      "129           -1.764e+09    1.1e+09     -1.609      0.108   -3.91e+09    3.87e+08\n",
      "130           -5.465e+09   1.37e+09     -3.994      0.000   -8.15e+09   -2.78e+09\n",
      "131            2.329e+10   1.59e+09     14.610      0.000    2.02e+10    2.64e+10\n",
      "132           -1.738e+09   1.68e+09     -1.035      0.301   -5.03e+09    1.55e+09\n",
      "133           -1.605e+08   1.36e+09     -0.118      0.906   -2.83e+09     2.5e+09\n",
      "134            6.908e+09   2.62e+09      2.638      0.008    1.77e+09     1.2e+10\n",
      "135           -7.682e-05   1.28e-05     -6.016      0.000      -0.000   -5.18e-05\n",
      "136           -6.229e-06   4.92e-06     -1.266      0.206   -1.59e-05    3.42e-06\n",
      "137            8.336e-05   5.01e-06     16.637      0.000    7.35e-05    9.32e-05\n",
      "138           -3.907e-05   2.18e-06    -17.885      0.000   -4.34e-05   -3.48e-05\n",
      "139            1.764e-05   9.66e-07     18.252      0.000    1.57e-05    1.95e-05\n",
      "140            4.249e-05   4.37e-06      9.726      0.000    3.39e-05    5.11e-05\n",
      "141           -2.423e-06   3.83e-06     -0.633      0.527   -9.93e-06    5.09e-06\n",
      "142           -3.552e-05   2.94e-06    -12.101      0.000   -4.13e-05   -2.98e-05\n",
      "143           -7.986e-05   7.78e-06    -10.271      0.000   -9.51e-05   -6.46e-05\n",
      "144            -1.93e-05   3.72e-06     -5.189      0.000   -2.66e-05    -1.2e-05\n",
      "145            -2.36e-05   2.01e-06    -11.752      0.000   -2.75e-05   -1.97e-05\n",
      "146           -9.405e-05   7.09e-06    -13.264      0.000      -0.000   -8.01e-05\n",
      "147            1.152e-05   7.35e-07     15.669      0.000    1.01e-05     1.3e-05\n",
      "148              8.4e-06    2.4e-06      3.496      0.000    3.69e-06    1.31e-05\n",
      "149            -4.07e-06   1.94e-06     -2.101      0.036   -7.87e-06   -2.72e-07\n",
      "150           -9.514e-06   7.81e-06     -1.218      0.223   -2.48e-05     5.8e-06\n",
      "151           -7.215e-05   8.54e-06     -8.445      0.000   -8.89e-05   -5.54e-05\n",
      "152            9.494e-05   8.94e-06     10.618      0.000    7.74e-05       0.000\n",
      "153           -8.838e-05      6e-06    -14.736      0.000      -0.000   -7.66e-05\n",
      "154           -6.736e-05   6.01e-06    -11.209      0.000   -7.91e-05   -5.56e-05\n",
      "155            4.009e-05   7.69e-06      5.215      0.000     2.5e-05    5.52e-05\n",
      "156           -1.065e-05    1.1e-06     -9.675      0.000   -1.28e-05    -8.5e-06\n",
      "157           -6.455e-05    4.3e-06    -15.026      0.000    -7.3e-05   -5.61e-05\n",
      "158            5.618e-05   4.17e-06     13.477      0.000     4.8e-05    6.44e-05\n",
      "==============================================================================\n",
      "Omnibus:                     1723.868   Durbin-Watson:                   1.997\n",
      "Prob(Omnibus):                  0.000   Jarque-Bera (JB):          1887652.789\n",
      "Skew:                           2.005   Prob(JB):                         0.00\n",
      "Kurtosis:                     141.055   Cond. No.                     1.03e+16\n",
      "==============================================================================\n",
      "\n",
      "Warnings:\n",
      "[1] Standard Errors assume that the covariance matrix of the errors is correctly specified.\n",
      "[2] The smallest eigenvalue is 1.37e-19. This might indicate that there are\n",
      "strong multicollinearity problems or that the design matrix is singular.\n"
     ]
    }
   ],
   "source": [
    "res1=sm.OLS(y,sm.add_constant(X),missing=\"drop\").fit()\n",
    "print res1.summary()"
   ]
  },
  {
   "cell_type": "code",
   "execution_count": 120,
   "metadata": {},
   "outputs": [
    {
     "data": {
      "text/plain": [
       "(2375L, 134L)"
      ]
     },
     "execution_count": 120,
     "metadata": {},
     "output_type": "execute_result"
    }
   ],
   "source": [
    "Xproj[:,np.array(res1.pvalues[5:])<0.05].shape"
   ]
  },
  {
   "cell_type": "code",
   "execution_count": 121,
   "metadata": {
    "collapsed": true
   },
   "outputs": [],
   "source": [
    "X=pd.concat((data5[[\"gross_sq_feet\",\"land_sq_feet\",\"year_built\",\"mean\"]],pd.DataFrame(Xproj[:,np.array(res1.pvalues[5:])<0.05])),axis=1)\n",
    "y=data5[\"sale_price\"]"
   ]
  },
  {
   "cell_type": "code",
   "execution_count": 122,
   "metadata": {},
   "outputs": [
    {
     "name": "stdout",
     "output_type": "stream",
     "text": [
      "IS R-squared for 100 times is 0.908091225761\n",
      "OS R-squared for 100 times is 0.698809513811\n"
     ]
    }
   ],
   "source": [
    "R_IS=[]\n",
    "R_OS=[]\n",
    "n=100\n",
    "from sklearn.cross_validation import train_test_split\n",
    "for i in range(n):\n",
    "    X_train, X_test, y_train, y_test = train_test_split(X,y,test_size=0.4)\n",
    "    res=LinearRegression(fit_intercept=False)\n",
    "    res.fit(X_train,y_train)\n",
    "    R_IS.append(1-((np.asarray(res.predict(X_train))-y_train)**2).sum()/((y_train-np.mean(y_train))**2).sum())                                                                     \n",
    "    R_OS.append(1-((np.asarray(res.predict(X_test))-y_test)**2).sum()/((y_test-np.mean(y_test))**2).sum())\n",
    "print(\"IS R-squared for {} times is {}\".format(n,np.mean(R_IS)))\n",
    "print(\"OS R-squared for {} times is {}\".format(n,np.mean(R_OS)))"
   ]
  },
  {
   "cell_type": "markdown",
   "metadata": {},
   "source": [
    "## Adjust the feature selection above. \n",
    "### Q1. Experiment with the p-value threshold and choose the one optimizing the validation R2\n",
    "### Q2. Implement backward/forward step-wise feature selection using validation R2 and report the R2 over a separate test set\n",
    "### Q3. Implement cross-validation in Q2 (multiple random choices of training, validation and test samples)"
   ]
  },
  {
   "cell_type": "code",
   "execution_count": null,
   "metadata": {
    "collapsed": true
   },
   "outputs": [],
   "source": []
  }
 ],
 "metadata": {
  "anaconda-cloud": {},
  "kernelspec": {
   "display_name": "Python 2",
   "language": "python",
   "name": "python2"
  },
  "language_info": {
   "codemirror_mode": {
    "name": "ipython",
    "version": 2
   },
   "file_extension": ".py",
   "mimetype": "text/x-python",
   "name": "python",
   "nbconvert_exporter": "python",
   "pygments_lexer": "ipython2",
   "version": "2.7.13"
  }
 },
 "nbformat": 4,
 "nbformat_minor": 1
}
